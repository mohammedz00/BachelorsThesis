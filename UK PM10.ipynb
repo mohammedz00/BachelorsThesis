{
 "cells": [
  {
   "cell_type": "code",
   "execution_count": 1,
   "id": "8a469508",
   "metadata": {},
   "outputs": [],
   "source": [
    "import openaq\n",
    "import pandas as pd\n",
    "api = openaq.OpenAQ()"
   ]
  },
  {
   "cell_type": "code",
   "execution_count": 2,
   "id": "277ce84e",
   "metadata": {},
   "outputs": [
    {
     "name": "stderr",
     "output_type": "stream",
     "text": [
      "C:\\Users\\Zenudeen\\anaconda3\\lib\\site-packages\\openaq\\decorators.py:57: FutureWarning: pandas.io.json.json_normalize is deprecated, use pandas.json_normalize instead\n",
      "  data = pd.io.json.json_normalize(resp)\n"
     ]
    }
   ],
   "source": [
    "UK_cities = api.cities(country = 'GB', limit = 10000, df = True)"
   ]
  },
  {
   "cell_type": "code",
   "execution_count": 3,
   "id": "d4252ce9",
   "metadata": {},
   "outputs": [
    {
     "data": {
      "text/plain": [
       "112"
      ]
     },
     "execution_count": 3,
     "metadata": {},
     "output_type": "execute_result"
    }
   ],
   "source": [
    "UK_cities = UK_cities['city'].tolist()\n",
    "len(UK_cities)"
   ]
  },
  {
   "cell_type": "code",
   "execution_count": 5,
   "id": "09144019",
   "metadata": {},
   "outputs": [],
   "source": [
    "UK_cities1 = UK_cities[0:5]\n",
    "\n",
    "UK1 = api.measurements(city = UK_cities1, parameter = 'pm10', \n",
    "                       date_from = '2018-09-27', date_to = '2020-03-31', limit = 100000, df = True)"
   ]
  },
  {
   "cell_type": "code",
   "execution_count": 7,
   "id": "813a780f",
   "metadata": {},
   "outputs": [],
   "source": [
    "UK_cities2 = UK_cities[5:15]\n",
    "\n",
    "UK2 = api.measurements(city = UK_cities2, parameter = 'pm10', \n",
    "                       date_from = '2018-09-27', date_to = '2020-03-31', limit = 100000, df = True)"
   ]
  },
  {
   "cell_type": "code",
   "execution_count": 8,
   "id": "7f50185f",
   "metadata": {},
   "outputs": [],
   "source": [
    "UK_cities3 = UK_cities[15:30]\n",
    "\n",
    "UK3 = api.measurements(city = UK_cities3, parameter = 'pm10', \n",
    "                       date_from = '2018-09-27', date_to = '2020-03-31', limit = 100000, df = True)"
   ]
  },
  {
   "cell_type": "code",
   "execution_count": 9,
   "id": "c2851ac8",
   "metadata": {},
   "outputs": [],
   "source": [
    "UK_cities4 = UK_cities[30:50]\n",
    "\n",
    "UK4 = api.measurements(city = UK_cities4, parameter = 'pm10', \n",
    "                       date_from = '2018-09-27', date_to = '2020-03-31', limit = 100000, df = True)"
   ]
  },
  {
   "cell_type": "code",
   "execution_count": 12,
   "id": "3bf721f6",
   "metadata": {},
   "outputs": [
    {
     "name": "stderr",
     "output_type": "stream",
     "text": [
      "C:\\Users\\Zenudeen\\anaconda3\\lib\\site-packages\\openaq\\decorators.py:57: FutureWarning: pandas.io.json.json_normalize is deprecated, use pandas.json_normalize instead\n",
      "  data = pd.io.json.json_normalize(resp)\n"
     ]
    }
   ],
   "source": [
    "UK_cities5 = UK_cities[50:70]\n",
    "\n",
    "UK5 = api.measurements(city = UK_cities5, parameter = 'pm10', \n",
    "                       date_from = '2018-09-27', date_to = '2020-03-31', limit = 100000, df = True)"
   ]
  },
  {
   "cell_type": "code",
   "execution_count": 13,
   "id": "b91d4c81",
   "metadata": {},
   "outputs": [],
   "source": [
    "UK_cities6 = UK_cities[70:90]\n",
    "\n",
    "UK6 = api.measurements(city = UK_cities6, parameter = 'pm10', \n",
    "                       date_from = '2018-09-27', date_to = '2020-03-31', limit = 100000, df = True)"
   ]
  },
  {
   "cell_type": "code",
   "execution_count": 14,
   "id": "be348003",
   "metadata": {},
   "outputs": [],
   "source": [
    "UK_cities7 = UK_cities[90:]\n",
    "\n",
    "UK7 = api.measurements(city = UK_cities7, parameter = 'pm10', \n",
    "                       date_from = '2018-09-27', date_to = '2020-03-31', limit = 100000, df = True)"
   ]
  },
  {
   "cell_type": "code",
   "execution_count": 16,
   "id": "c345394a",
   "metadata": {},
   "outputs": [],
   "source": [
    "frames_pm10 = [UK1, UK2, UK3, UK4, UK5, UK6, UK7]\n",
    "UK_PM10 = pd.concat(frames_pm10)\n",
    "UK_PM10.to_csv('UK_PM10.csv', index=False) "
   ]
  }
 ],
 "metadata": {
  "kernelspec": {
   "display_name": "Python 3 (ipykernel)",
   "language": "python",
   "name": "python3"
  },
  "language_info": {
   "codemirror_mode": {
    "name": "ipython",
    "version": 3
   },
   "file_extension": ".py",
   "mimetype": "text/x-python",
   "name": "python",
   "nbconvert_exporter": "python",
   "pygments_lexer": "ipython3",
   "version": "3.9.7"
  }
 },
 "nbformat": 4,
 "nbformat_minor": 5
}
