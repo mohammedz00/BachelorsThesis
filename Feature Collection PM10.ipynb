{
 "cells": [
  {
   "cell_type": "code",
   "execution_count": 1,
   "id": "16299642",
   "metadata": {},
   "outputs": [],
   "source": [
    "import pandas as pd\n",
    "import ee\n",
    "from tqdm import tqdm # Progress bar\n",
    "from datetime import timedelta\n",
    "import datetime"
   ]
  },
  {
   "cell_type": "code",
   "execution_count": 2,
   "id": "2dbaae3c",
   "metadata": {},
   "outputs": [],
   "source": [
    "ee.Initialize() # Run each session"
   ]
  },
  {
   "cell_type": "code",
   "execution_count": 3,
   "id": "4f41d09a",
   "metadata": {},
   "outputs": [],
   "source": [
    "UK_PM10 = pd.read_csv('UK_PM10.csv')"
   ]
  },
  {
   "cell_type": "code",
   "execution_count": 4,
   "id": "0cda16db",
   "metadata": {},
   "outputs": [],
   "source": [
    "######################################## Renaming columns to make clearer #############################################\n",
    "######################################## This has already been done for UK_main #############################################\n",
    "\n",
    "UK_PM10 = UK_PM10.rename(columns={\"date.utc\": \"Date\", \"coordinates.latitude\": \"Lat\", \"coordinates.longitude\":\"Long\", \"value\": \"PM10\"})\n",
    "UK_PM10['Date'] = UK_PM10['Date'].astype(str).str[:10]\n",
    "UK_PM10 = UK_PM10.drop(columns=['unit', 'parameter'], axis =1)\n",
    "UK_PM10 = UK_PM10[['location', 'Date', 'city', 'country', 'PM10', 'Lat','Long']]\n",
    "UK_PM10['PM10'] = UK_PM10.groupby(['Date','location'])['PM10'].transform(lambda x: x.mean())\n",
    "UK_PM10 = UK_PM10.groupby(['Date', 'location']).first().reset_index()"
   ]
  },
  {
   "cell_type": "code",
   "execution_count": 9,
   "id": "20a653ba",
   "metadata": {},
   "outputs": [
    {
     "data": {
      "text/html": [
       "<div>\n",
       "<style scoped>\n",
       "    .dataframe tbody tr th:only-of-type {\n",
       "        vertical-align: middle;\n",
       "    }\n",
       "\n",
       "    .dataframe tbody tr th {\n",
       "        vertical-align: top;\n",
       "    }\n",
       "\n",
       "    .dataframe thead th {\n",
       "        text-align: right;\n",
       "    }\n",
       "</style>\n",
       "<table border=\"1\" class=\"dataframe\">\n",
       "  <thead>\n",
       "    <tr style=\"text-align: right;\">\n",
       "      <th></th>\n",
       "      <th>Date</th>\n",
       "      <th>location</th>\n",
       "      <th>city</th>\n",
       "      <th>country</th>\n",
       "      <th>PM10</th>\n",
       "      <th>Lat</th>\n",
       "      <th>Long</th>\n",
       "    </tr>\n",
       "  </thead>\n",
       "  <tbody>\n",
       "    <tr>\n",
       "      <th>0</th>\n",
       "      <td>2018-09-27</td>\n",
       "      <td>Aberdeen</td>\n",
       "      <td>Aberdeen</td>\n",
       "      <td>GB</td>\n",
       "      <td>6.764706</td>\n",
       "      <td>57.157360</td>\n",
       "      <td>-2.094278</td>\n",
       "    </tr>\n",
       "    <tr>\n",
       "      <th>1</th>\n",
       "      <td>2018-09-27</td>\n",
       "      <td>Armagh Roadside</td>\n",
       "      <td>Armagh</td>\n",
       "      <td>GB</td>\n",
       "      <td>13.941176</td>\n",
       "      <td>54.353728</td>\n",
       "      <td>-6.654558</td>\n",
       "    </tr>\n",
       "    <tr>\n",
       "      <th>2</th>\n",
       "      <td>2018-09-27</td>\n",
       "      <td>Auchencorth Moss</td>\n",
       "      <td>Auchencorth</td>\n",
       "      <td>GB</td>\n",
       "      <td>3.533333</td>\n",
       "      <td>55.792160</td>\n",
       "      <td>-3.242900</td>\n",
       "    </tr>\n",
       "    <tr>\n",
       "      <th>3</th>\n",
       "      <td>2018-09-27</td>\n",
       "      <td>Barnstaple A39</td>\n",
       "      <td>Barnstaple</td>\n",
       "      <td>GB</td>\n",
       "      <td>9.764706</td>\n",
       "      <td>51.074793</td>\n",
       "      <td>-4.041924</td>\n",
       "    </tr>\n",
       "    <tr>\n",
       "      <th>4</th>\n",
       "      <td>2018-09-27</td>\n",
       "      <td>Belfast Centre</td>\n",
       "      <td>Belfast</td>\n",
       "      <td>GB</td>\n",
       "      <td>13.529412</td>\n",
       "      <td>54.599650</td>\n",
       "      <td>-5.928833</td>\n",
       "    </tr>\n",
       "  </tbody>\n",
       "</table>\n",
       "</div>"
      ],
      "text/plain": [
       "         Date          location         city country       PM10        Lat  \\\n",
       "0  2018-09-27          Aberdeen     Aberdeen      GB   6.764706  57.157360   \n",
       "1  2018-09-27   Armagh Roadside       Armagh      GB  13.941176  54.353728   \n",
       "2  2018-09-27  Auchencorth Moss  Auchencorth      GB   3.533333  55.792160   \n",
       "3  2018-09-27    Barnstaple A39   Barnstaple      GB   9.764706  51.074793   \n",
       "4  2018-09-27    Belfast Centre      Belfast      GB  13.529412  54.599650   \n",
       "\n",
       "       Long  \n",
       "0 -2.094278  \n",
       "1 -6.654558  \n",
       "2 -3.242900  \n",
       "3 -4.041924  \n",
       "4 -5.928833  "
      ]
     },
     "execution_count": 9,
     "metadata": {},
     "output_type": "execute_result"
    }
   ],
   "source": [
    "UK_PM10.head()"
   ]
  },
  {
   "cell_type": "code",
   "execution_count": 5,
   "id": "60f324f7",
   "metadata": {},
   "outputs": [],
   "source": [
    "UK_PM10 = UK_PM10[UK_PM10['country'] == 'GB']"
   ]
  },
  {
   "cell_type": "code",
   "execution_count": 6,
   "id": "9d5db706",
   "metadata": {},
   "outputs": [
    {
     "data": {
      "text/html": [
       "<div>\n",
       "<style scoped>\n",
       "    .dataframe tbody tr th:only-of-type {\n",
       "        vertical-align: middle;\n",
       "    }\n",
       "\n",
       "    .dataframe tbody tr th {\n",
       "        vertical-align: top;\n",
       "    }\n",
       "\n",
       "    .dataframe thead th {\n",
       "        text-align: right;\n",
       "    }\n",
       "</style>\n",
       "<table border=\"1\" class=\"dataframe\">\n",
       "  <thead>\n",
       "    <tr style=\"text-align: right;\">\n",
       "      <th></th>\n",
       "      <th>location</th>\n",
       "      <th>Date</th>\n",
       "      <th>city</th>\n",
       "      <th>country</th>\n",
       "      <th>PM10</th>\n",
       "      <th>Lat</th>\n",
       "      <th>Long</th>\n",
       "    </tr>\n",
       "  </thead>\n",
       "  <tbody>\n",
       "    <tr>\n",
       "      <th>0</th>\n",
       "      <td>Aberdeen</td>\n",
       "      <td>2018-09-27</td>\n",
       "      <td>Aberdeen</td>\n",
       "      <td>GB</td>\n",
       "      <td>6.764706</td>\n",
       "      <td>57.157360</td>\n",
       "      <td>-2.094278</td>\n",
       "    </tr>\n",
       "    <tr>\n",
       "      <th>1</th>\n",
       "      <td>Armagh Roadside</td>\n",
       "      <td>2018-09-27</td>\n",
       "      <td>Armagh</td>\n",
       "      <td>GB</td>\n",
       "      <td>13.941176</td>\n",
       "      <td>54.353728</td>\n",
       "      <td>-6.654558</td>\n",
       "    </tr>\n",
       "    <tr>\n",
       "      <th>2</th>\n",
       "      <td>Auchencorth Moss</td>\n",
       "      <td>2018-09-27</td>\n",
       "      <td>Auchencorth</td>\n",
       "      <td>GB</td>\n",
       "      <td>3.533333</td>\n",
       "      <td>55.792160</td>\n",
       "      <td>-3.242900</td>\n",
       "    </tr>\n",
       "    <tr>\n",
       "      <th>3</th>\n",
       "      <td>Barnstaple A39</td>\n",
       "      <td>2018-09-27</td>\n",
       "      <td>Barnstaple</td>\n",
       "      <td>GB</td>\n",
       "      <td>9.764706</td>\n",
       "      <td>51.074793</td>\n",
       "      <td>-4.041924</td>\n",
       "    </tr>\n",
       "    <tr>\n",
       "      <th>4</th>\n",
       "      <td>Belfast Centre</td>\n",
       "      <td>2018-09-27</td>\n",
       "      <td>Belfast</td>\n",
       "      <td>GB</td>\n",
       "      <td>13.529412</td>\n",
       "      <td>54.599650</td>\n",
       "      <td>-5.928833</td>\n",
       "    </tr>\n",
       "  </tbody>\n",
       "</table>\n",
       "</div>"
      ],
      "text/plain": [
       "           location        Date         city country       PM10        Lat  \\\n",
       "0          Aberdeen  2018-09-27     Aberdeen      GB   6.764706  57.157360   \n",
       "1   Armagh Roadside  2018-09-27       Armagh      GB  13.941176  54.353728   \n",
       "2  Auchencorth Moss  2018-09-27  Auchencorth      GB   3.533333  55.792160   \n",
       "3    Barnstaple A39  2018-09-27   Barnstaple      GB   9.764706  51.074793   \n",
       "4    Belfast Centre  2018-09-27      Belfast      GB  13.529412  54.599650   \n",
       "\n",
       "       Long  \n",
       "0 -2.094278  \n",
       "1 -6.654558  \n",
       "2 -3.242900  \n",
       "3 -4.041924  \n",
       "4 -5.928833  "
      ]
     },
     "execution_count": 6,
     "metadata": {},
     "output_type": "execute_result"
    }
   ],
   "source": [
    "# Locations of Interest\n",
    "\n",
    "locations = UK_PM10.groupby('location').first().reset_index()\n",
    "locations.head()"
   ]
  },
  {
   "cell_type": "code",
   "execution_count": 7,
   "id": "c8e15175",
   "metadata": {},
   "outputs": [],
   "source": [
    "############################ A utility function to pull data for a set of locations ######################################\n",
    "def sample(im, prop, lats, lons, scale=100, reducer=ee.Reducer.first(), tileScale=4):\n",
    "    points = []\n",
    "    for lat, lon in zip(lats, lons):\n",
    "        xy = ee.Geometry.Point([lon, lat])\n",
    "        points.append(xy.buffer(scale))\n",
    "    vals = im.reduceRegions(collection=ee.FeatureCollection(points), scale=scale, reducer=reducer, tileScale=tileScale).getInfo()\n",
    "    if prop == '':\n",
    "        return [v['properties'] for v in vals['features']]\n",
    "    return [v['properties'][prop] for v in vals['features']]\n",
    "\n",
    "#############################################################################################################################"
   ]
  },
  {
   "cell_type": "code",
   "execution_count": 8,
   "id": "57f50937",
   "metadata": {},
   "outputs": [
    {
     "name": "stderr",
     "output_type": "stream",
     "text": [
      "100%|████████████████████████████████████████████████████████████████████████████████████| 2/2 [00:04<00:00,  2.18s/it]\n"
     ]
    }
   ],
   "source": [
    "############################ Population Density ############################################################################\n",
    "def add_static_vars(df, scale = 2000):\n",
    "    lights = ee.ImageCollection(\"NOAA/DMSP-OLS/CALIBRATED_LIGHTS_V4\").filter(ee.Filter.date('2010-01-01', '2018-03-08')).first()\n",
    "    pop = ee.ImageCollection(\"CIESIN/GPWv411/GPW_UNWPP-Adjusted_Population_Density\").filter(ee.Filter.date('2010-01-01', '2018-03-08')).first()\n",
    "    ims = [lights, pop]\n",
    "\n",
    "    for im in tqdm(ims):\n",
    "        for i, reducer in enumerate([ee.Reducer.mean(), ee.Reducer.min(), ee.Reducer.max()]):\n",
    "            sampled_values = sample(im, '', df['Lat'].values, df['Long'].values, reducer=reducer)\n",
    "            for k in sampled_values[0].keys():\n",
    "                arr = ['mean', 'min', 'max']\n",
    "                df[k+'_'+ arr[i]] = [sv[k] if k in sv.keys() else None for sv in sampled_values]\n",
    "                if k == arr[i]:\n",
    "                    df = df.rename(columns={k+'_'+ arr[i]:'pop_density2010'+'_'+ arr[i]})\n",
    "    return df\n",
    "\n",
    "locations_w_population = add_static_vars(locations.copy())"
   ]
  },
  {
   "cell_type": "code",
   "execution_count": 17,
   "id": "76ce33c0",
   "metadata": {},
   "outputs": [
    {
     "data": {
      "text/html": [
       "<div>\n",
       "<style scoped>\n",
       "    .dataframe tbody tr th:only-of-type {\n",
       "        vertical-align: middle;\n",
       "    }\n",
       "\n",
       "    .dataframe tbody tr th {\n",
       "        vertical-align: top;\n",
       "    }\n",
       "\n",
       "    .dataframe thead th {\n",
       "        text-align: right;\n",
       "    }\n",
       "</style>\n",
       "<table border=\"1\" class=\"dataframe\">\n",
       "  <thead>\n",
       "    <tr style=\"text-align: right;\">\n",
       "      <th></th>\n",
       "      <th>location</th>\n",
       "      <th>Date</th>\n",
       "      <th>city</th>\n",
       "      <th>country</th>\n",
       "      <th>PM10</th>\n",
       "      <th>Lat</th>\n",
       "      <th>Long</th>\n",
       "      <th>avg_vis_mean</th>\n",
       "      <th>cf_cvg_mean</th>\n",
       "      <th>avg_vis_min</th>\n",
       "      <th>cf_cvg_min</th>\n",
       "      <th>avg_vis_max</th>\n",
       "      <th>cf_cvg_max</th>\n",
       "      <th>pop_density2010_mean</th>\n",
       "      <th>pop_density2010_min</th>\n",
       "      <th>pop_density2010_max</th>\n",
       "    </tr>\n",
       "  </thead>\n",
       "  <tbody>\n",
       "    <tr>\n",
       "      <th>0</th>\n",
       "      <td>Aberdeen</td>\n",
       "      <td>2018-09-27</td>\n",
       "      <td>Aberdeen</td>\n",
       "      <td>GB</td>\n",
       "      <td>6.764706</td>\n",
       "      <td>57.157360</td>\n",
       "      <td>-2.094278</td>\n",
       "      <td>334.982815</td>\n",
       "      <td>13.0</td>\n",
       "      <td>332.663116</td>\n",
       "      <td>13</td>\n",
       "      <td>332.663116</td>\n",
       "      <td>13</td>\n",
       "      <td>8788.521484</td>\n",
       "      <td>8788.521484</td>\n",
       "      <td>8788.521484</td>\n",
       "    </tr>\n",
       "    <tr>\n",
       "      <th>1</th>\n",
       "      <td>Armagh Roadside</td>\n",
       "      <td>2018-09-27</td>\n",
       "      <td>Armagh</td>\n",
       "      <td>GB</td>\n",
       "      <td>13.941176</td>\n",
       "      <td>54.353728</td>\n",
       "      <td>-6.654558</td>\n",
       "      <td>59.158239</td>\n",
       "      <td>12.0</td>\n",
       "      <td>40.966034</td>\n",
       "      <td>12</td>\n",
       "      <td>74.858360</td>\n",
       "      <td>12</td>\n",
       "      <td>1216.198120</td>\n",
       "      <td>1216.198120</td>\n",
       "      <td>1216.198120</td>\n",
       "    </tr>\n",
       "    <tr>\n",
       "      <th>2</th>\n",
       "      <td>Auchencorth Moss</td>\n",
       "      <td>2018-09-27</td>\n",
       "      <td>Auchencorth</td>\n",
       "      <td>GB</td>\n",
       "      <td>3.533333</td>\n",
       "      <td>55.792160</td>\n",
       "      <td>-3.242900</td>\n",
       "      <td>12.667045</td>\n",
       "      <td>48.0</td>\n",
       "      <td>12.667045</td>\n",
       "      <td>48</td>\n",
       "      <td>12.667045</td>\n",
       "      <td>48</td>\n",
       "      <td>7.703879</td>\n",
       "      <td>7.703878</td>\n",
       "      <td>7.703879</td>\n",
       "    </tr>\n",
       "    <tr>\n",
       "      <th>3</th>\n",
       "      <td>Barnstaple A39</td>\n",
       "      <td>2018-09-27</td>\n",
       "      <td>Barnstaple</td>\n",
       "      <td>GB</td>\n",
       "      <td>9.764706</td>\n",
       "      <td>51.074793</td>\n",
       "      <td>-4.041924</td>\n",
       "      <td>37.478218</td>\n",
       "      <td>62.0</td>\n",
       "      <td>37.478218</td>\n",
       "      <td>62</td>\n",
       "      <td>37.478218</td>\n",
       "      <td>62</td>\n",
       "      <td>3878.105249</td>\n",
       "      <td>3026.625244</td>\n",
       "      <td>4439.924805</td>\n",
       "    </tr>\n",
       "    <tr>\n",
       "      <th>4</th>\n",
       "      <td>Belfast Centre</td>\n",
       "      <td>2018-09-27</td>\n",
       "      <td>Belfast</td>\n",
       "      <td>GB</td>\n",
       "      <td>13.529412</td>\n",
       "      <td>54.599650</td>\n",
       "      <td>-5.928833</td>\n",
       "      <td>288.115729</td>\n",
       "      <td>15.0</td>\n",
       "      <td>284.262726</td>\n",
       "      <td>15</td>\n",
       "      <td>289.223877</td>\n",
       "      <td>15</td>\n",
       "      <td>2318.533691</td>\n",
       "      <td>2303.730713</td>\n",
       "      <td>2303.730713</td>\n",
       "    </tr>\n",
       "  </tbody>\n",
       "</table>\n",
       "</div>"
      ],
      "text/plain": [
       "           location        Date         city country       PM10        Lat  \\\n",
       "0          Aberdeen  2018-09-27     Aberdeen      GB   6.764706  57.157360   \n",
       "1   Armagh Roadside  2018-09-27       Armagh      GB  13.941176  54.353728   \n",
       "2  Auchencorth Moss  2018-09-27  Auchencorth      GB   3.533333  55.792160   \n",
       "3    Barnstaple A39  2018-09-27   Barnstaple      GB   9.764706  51.074793   \n",
       "4    Belfast Centre  2018-09-27      Belfast      GB  13.529412  54.599650   \n",
       "\n",
       "       Long  avg_vis_mean  cf_cvg_mean  avg_vis_min  cf_cvg_min  avg_vis_max  \\\n",
       "0 -2.094278    334.982815         13.0   332.663116          13   332.663116   \n",
       "1 -6.654558     59.158239         12.0    40.966034          12    74.858360   \n",
       "2 -3.242900     12.667045         48.0    12.667045          48    12.667045   \n",
       "3 -4.041924     37.478218         62.0    37.478218          62    37.478218   \n",
       "4 -5.928833    288.115729         15.0   284.262726          15   289.223877   \n",
       "\n",
       "   cf_cvg_max  pop_density2010_mean  pop_density2010_min  pop_density2010_max  \n",
       "0          13           8788.521484          8788.521484          8788.521484  \n",
       "1          12           1216.198120          1216.198120          1216.198120  \n",
       "2          48              7.703879             7.703878             7.703879  \n",
       "3          62           3878.105249          3026.625244          4439.924805  \n",
       "4          15           2318.533691          2303.730713          2303.730713  "
      ]
     },
     "execution_count": 17,
     "metadata": {},
     "output_type": "execute_result"
    }
   ],
   "source": [
    "locations_w_population.head()"
   ]
  },
  {
   "cell_type": "code",
   "execution_count": 9,
   "id": "b47bb4a8",
   "metadata": {},
   "outputs": [],
   "source": [
    "locations_w_population = locations_w_population.drop(columns=['Date', 'PM10', 'Lat', 'Long', 'city','country'], axis=1)"
   ]
  },
  {
   "cell_type": "code",
   "execution_count": 10,
   "id": "5f0a3055",
   "metadata": {},
   "outputs": [],
   "source": [
    "world_w_population = pd.merge(UK_PM10, locations_w_population, on='location')"
   ]
  },
  {
   "cell_type": "code",
   "execution_count": 11,
   "id": "917e0322",
   "metadata": {},
   "outputs": [
    {
     "name": "stderr",
     "output_type": "stream",
     "text": [
      "100%|████████████████████████████████████████████████████████████████████████████████████| 1/1 [00:02<00:00,  2.86s/it]\n"
     ]
    }
   ],
   "source": [
    "################################################## Vegetation index ########################################################\n",
    "def add_static_vars2(df, scale = 8000):\n",
    "    vegs = ee.ImageCollection(\"NOAA/CDR/AVHRR/NDVI/V5\").filter(ee.Filter.date('2018-09-27', '2021-04-01')).first()\n",
    "    veg_list = [vegs]\n",
    "\n",
    "    for veg in tqdm(veg_list):\n",
    "        for i, reducer in enumerate([ee.Reducer.mean(), ee.Reducer.min(), ee.Reducer.max()]):\n",
    "            sampled_values = sample(veg, '', df['Lat'].values, df['Long'].values, reducer=reducer, scale=scale)\n",
    "            for k in sampled_values[0].keys():\n",
    "                arr = ['mean', 'min', 'max']\n",
    "                df[k+'_'+str(scale)+'_' + arr[i]] = [sv[k] if k in sv.keys() else None for sv in sampled_values]\n",
    "                if k == arr[i]:\n",
    "                    df = df.rename(columns={k+'_'+str(scale)+'_' + arr[i]:'veg_index'+'_'+str(scale)+'_' + arr[i]})\n",
    "    return df\n",
    "\n",
    "locations_w_veg = add_static_vars2(locations.copy())"
   ]
  },
  {
   "cell_type": "code",
   "execution_count": 12,
   "id": "72701aa5",
   "metadata": {},
   "outputs": [
    {
     "data": {
      "text/html": [
       "<div>\n",
       "<style scoped>\n",
       "    .dataframe tbody tr th:only-of-type {\n",
       "        vertical-align: middle;\n",
       "    }\n",
       "\n",
       "    .dataframe tbody tr th {\n",
       "        vertical-align: top;\n",
       "    }\n",
       "\n",
       "    .dataframe thead th {\n",
       "        text-align: right;\n",
       "    }\n",
       "</style>\n",
       "<table border=\"1\" class=\"dataframe\">\n",
       "  <thead>\n",
       "    <tr style=\"text-align: right;\">\n",
       "      <th></th>\n",
       "      <th>location</th>\n",
       "      <th>NDVI_8000_mean</th>\n",
       "      <th>QA_8000_mean</th>\n",
       "      <th>TIMEOFDAY_8000_mean</th>\n",
       "      <th>NDVI_8000_min</th>\n",
       "      <th>QA_8000_min</th>\n",
       "      <th>TIMEOFDAY_8000_min</th>\n",
       "      <th>NDVI_8000_max</th>\n",
       "      <th>QA_8000_max</th>\n",
       "      <th>TIMEOFDAY_8000_max</th>\n",
       "    </tr>\n",
       "  </thead>\n",
       "  <tbody>\n",
       "    <tr>\n",
       "      <th>0</th>\n",
       "      <td>Aberdeen</td>\n",
       "      <td>1220.846695</td>\n",
       "      <td>-310.897349</td>\n",
       "      <td>1556.695652</td>\n",
       "      <td>-288</td>\n",
       "      <td>-32632</td>\n",
       "      <td>1428</td>\n",
       "      <td>3437</td>\n",
       "      <td>16768</td>\n",
       "      <td>1596</td>\n",
       "    </tr>\n",
       "    <tr>\n",
       "      <th>1</th>\n",
       "      <td>Armagh Roadside</td>\n",
       "      <td>-120.392099</td>\n",
       "      <td>16514.000000</td>\n",
       "      <td>1574.598391</td>\n",
       "      <td>-513</td>\n",
       "      <td>16514</td>\n",
       "      <td>1595</td>\n",
       "      <td>222</td>\n",
       "      <td>16514</td>\n",
       "      <td>1595</td>\n",
       "    </tr>\n",
       "    <tr>\n",
       "      <th>2</th>\n",
       "      <td>Auchencorth Moss</td>\n",
       "      <td>318.642001</td>\n",
       "      <td>16514.000000</td>\n",
       "      <td>1513.441860</td>\n",
       "      <td>0</td>\n",
       "      <td>16514</td>\n",
       "      <td>1428</td>\n",
       "      <td>981</td>\n",
       "      <td>16514</td>\n",
       "      <td>1595</td>\n",
       "    </tr>\n",
       "  </tbody>\n",
       "</table>\n",
       "</div>"
      ],
      "text/plain": [
       "           location  NDVI_8000_mean  QA_8000_mean  TIMEOFDAY_8000_mean  \\\n",
       "0          Aberdeen     1220.846695   -310.897349          1556.695652   \n",
       "1   Armagh Roadside     -120.392099  16514.000000          1574.598391   \n",
       "2  Auchencorth Moss      318.642001  16514.000000          1513.441860   \n",
       "\n",
       "   NDVI_8000_min  QA_8000_min  TIMEOFDAY_8000_min  NDVI_8000_max  QA_8000_max  \\\n",
       "0           -288       -32632                1428           3437        16768   \n",
       "1           -513        16514                1595            222        16514   \n",
       "2              0        16514                1428            981        16514   \n",
       "\n",
       "   TIMEOFDAY_8000_max  \n",
       "0                1596  \n",
       "1                1595  \n",
       "2                1595  "
      ]
     },
     "execution_count": 12,
     "metadata": {},
     "output_type": "execute_result"
    }
   ],
   "source": [
    "locations_w_veg = locations_w_veg.drop(['Date', 'PM10', 'Lat', 'Long', 'city','country'], axis = 1)\n",
    "locations_w_veg.head(3)"
   ]
  },
  {
   "cell_type": "code",
   "execution_count": 13,
   "id": "15abd9e8",
   "metadata": {},
   "outputs": [],
   "source": [
    "world_w_veg = pd.merge(UK_PM10, locations_w_veg, on='location')"
   ]
  },
  {
   "cell_type": "code",
   "execution_count": 14,
   "id": "f083395d",
   "metadata": {},
   "outputs": [
    {
     "data": {
      "text/html": [
       "<div>\n",
       "<style scoped>\n",
       "    .dataframe tbody tr th:only-of-type {\n",
       "        vertical-align: middle;\n",
       "    }\n",
       "\n",
       "    .dataframe tbody tr th {\n",
       "        vertical-align: top;\n",
       "    }\n",
       "\n",
       "    .dataframe thead th {\n",
       "        text-align: right;\n",
       "    }\n",
       "</style>\n",
       "<table border=\"1\" class=\"dataframe\">\n",
       "  <thead>\n",
       "    <tr style=\"text-align: right;\">\n",
       "      <th></th>\n",
       "      <th>Date</th>\n",
       "      <th>location</th>\n",
       "      <th>city</th>\n",
       "      <th>country</th>\n",
       "      <th>PM10</th>\n",
       "      <th>Lat</th>\n",
       "      <th>Long</th>\n",
       "      <th>NDVI_8000_mean</th>\n",
       "      <th>QA_8000_mean</th>\n",
       "      <th>TIMEOFDAY_8000_mean</th>\n",
       "      <th>NDVI_8000_min</th>\n",
       "      <th>QA_8000_min</th>\n",
       "      <th>TIMEOFDAY_8000_min</th>\n",
       "      <th>NDVI_8000_max</th>\n",
       "      <th>QA_8000_max</th>\n",
       "      <th>TIMEOFDAY_8000_max</th>\n",
       "    </tr>\n",
       "  </thead>\n",
       "  <tbody>\n",
       "    <tr>\n",
       "      <th>0</th>\n",
       "      <td>2018-09-27</td>\n",
       "      <td>Aberdeen</td>\n",
       "      <td>Aberdeen</td>\n",
       "      <td>GB</td>\n",
       "      <td>6.764706</td>\n",
       "      <td>57.15736</td>\n",
       "      <td>-2.094278</td>\n",
       "      <td>1220.846695</td>\n",
       "      <td>-310.897349</td>\n",
       "      <td>1556.695652</td>\n",
       "      <td>-288</td>\n",
       "      <td>-32632</td>\n",
       "      <td>1428</td>\n",
       "      <td>3437</td>\n",
       "      <td>16768</td>\n",
       "      <td>1596</td>\n",
       "    </tr>\n",
       "    <tr>\n",
       "      <th>1</th>\n",
       "      <td>2018-09-28</td>\n",
       "      <td>Aberdeen</td>\n",
       "      <td>Aberdeen</td>\n",
       "      <td>GB</td>\n",
       "      <td>8.190476</td>\n",
       "      <td>57.15736</td>\n",
       "      <td>-2.094278</td>\n",
       "      <td>1220.846695</td>\n",
       "      <td>-310.897349</td>\n",
       "      <td>1556.695652</td>\n",
       "      <td>-288</td>\n",
       "      <td>-32632</td>\n",
       "      <td>1428</td>\n",
       "      <td>3437</td>\n",
       "      <td>16768</td>\n",
       "      <td>1596</td>\n",
       "    </tr>\n",
       "    <tr>\n",
       "      <th>2</th>\n",
       "      <td>2018-09-29</td>\n",
       "      <td>Aberdeen</td>\n",
       "      <td>Aberdeen</td>\n",
       "      <td>GB</td>\n",
       "      <td>7.388889</td>\n",
       "      <td>57.15736</td>\n",
       "      <td>-2.094278</td>\n",
       "      <td>1220.846695</td>\n",
       "      <td>-310.897349</td>\n",
       "      <td>1556.695652</td>\n",
       "      <td>-288</td>\n",
       "      <td>-32632</td>\n",
       "      <td>1428</td>\n",
       "      <td>3437</td>\n",
       "      <td>16768</td>\n",
       "      <td>1596</td>\n",
       "    </tr>\n",
       "  </tbody>\n",
       "</table>\n",
       "</div>"
      ],
      "text/plain": [
       "         Date  location      city country      PM10       Lat      Long  \\\n",
       "0  2018-09-27  Aberdeen  Aberdeen      GB  6.764706  57.15736 -2.094278   \n",
       "1  2018-09-28  Aberdeen  Aberdeen      GB  8.190476  57.15736 -2.094278   \n",
       "2  2018-09-29  Aberdeen  Aberdeen      GB  7.388889  57.15736 -2.094278   \n",
       "\n",
       "   NDVI_8000_mean  QA_8000_mean  TIMEOFDAY_8000_mean  NDVI_8000_min  \\\n",
       "0     1220.846695   -310.897349          1556.695652           -288   \n",
       "1     1220.846695   -310.897349          1556.695652           -288   \n",
       "2     1220.846695   -310.897349          1556.695652           -288   \n",
       "\n",
       "   QA_8000_min  TIMEOFDAY_8000_min  NDVI_8000_max  QA_8000_max  \\\n",
       "0       -32632                1428           3437        16768   \n",
       "1       -32632                1428           3437        16768   \n",
       "2       -32632                1428           3437        16768   \n",
       "\n",
       "   TIMEOFDAY_8000_max  \n",
       "0                1596  \n",
       "1                1596  \n",
       "2                1596  "
      ]
     },
     "execution_count": 14,
     "metadata": {},
     "output_type": "execute_result"
    }
   ],
   "source": [
    "world_w_veg.head(3)"
   ]
  },
  {
   "cell_type": "code",
   "execution_count": 15,
   "id": "5e62e699",
   "metadata": {},
   "outputs": [
    {
     "name": "stderr",
     "output_type": "stream",
     "text": [
      "100%|████████████████████████████████████████████████████████████████████████████████████| 1/1 [00:01<00:00,  1.54s/it]\n"
     ]
    }
   ],
   "source": [
    "################################################ Elevation ###################################################################\n",
    "\n",
    "def add_static_vars3(df, scale = 2000):\n",
    "    elevations = ee.Image('USGS/GMTED2010').select('be75')\n",
    "    elevation_list = [elevations]\n",
    "\n",
    "    for elevation in tqdm(elevation_list):\n",
    "        for i, reducer in enumerate([ee.Reducer.mean(), ee.Reducer.min(), ee.Reducer.max()]):\n",
    "            sampled_values = sample(elevation, '', df['Lat'].values, df['Long'].values, reducer=reducer, scale=scale)\n",
    "            for k in sampled_values[0].keys():\n",
    "                arr = ['mean', 'min', 'max']\n",
    "                df[k+'_'+str(scale)+'_' + arr[i]] = [sv[k] if k in sv.keys() else None for sv in sampled_values]\n",
    "                if k == arr[i]:\n",
    "                    df = df.rename(columns={k+'_'+str(scale)+'_' + arr[i]:'elevation'+'_'+str(scale)+'_' + arr[i]})\n",
    "    return df\n",
    "\n",
    "locations_w_elevation = add_static_vars3(locations.copy())"
   ]
  },
  {
   "cell_type": "code",
   "execution_count": 16,
   "id": "11363528",
   "metadata": {},
   "outputs": [
    {
     "data": {
      "text/html": [
       "<div>\n",
       "<style scoped>\n",
       "    .dataframe tbody tr th:only-of-type {\n",
       "        vertical-align: middle;\n",
       "    }\n",
       "\n",
       "    .dataframe tbody tr th {\n",
       "        vertical-align: top;\n",
       "    }\n",
       "\n",
       "    .dataframe thead th {\n",
       "        text-align: right;\n",
       "    }\n",
       "</style>\n",
       "<table border=\"1\" class=\"dataframe\">\n",
       "  <thead>\n",
       "    <tr style=\"text-align: right;\">\n",
       "      <th></th>\n",
       "      <th>location</th>\n",
       "      <th>elevation_2000_mean</th>\n",
       "      <th>elevation_2000_min</th>\n",
       "      <th>elevation_2000_max</th>\n",
       "    </tr>\n",
       "  </thead>\n",
       "  <tbody>\n",
       "    <tr>\n",
       "      <th>0</th>\n",
       "      <td>Aberdeen</td>\n",
       "      <td>21.609085</td>\n",
       "      <td>5</td>\n",
       "      <td>31</td>\n",
       "    </tr>\n",
       "    <tr>\n",
       "      <th>1</th>\n",
       "      <td>Armagh Roadside</td>\n",
       "      <td>51.233138</td>\n",
       "      <td>41</td>\n",
       "      <td>72</td>\n",
       "    </tr>\n",
       "    <tr>\n",
       "      <th>2</th>\n",
       "      <td>Auchencorth Moss</td>\n",
       "      <td>255.626686</td>\n",
       "      <td>230</td>\n",
       "      <td>273</td>\n",
       "    </tr>\n",
       "  </tbody>\n",
       "</table>\n",
       "</div>"
      ],
      "text/plain": [
       "           location  elevation_2000_mean  elevation_2000_min  \\\n",
       "0          Aberdeen            21.609085                   5   \n",
       "1   Armagh Roadside            51.233138                  41   \n",
       "2  Auchencorth Moss           255.626686                 230   \n",
       "\n",
       "   elevation_2000_max  \n",
       "0                  31  \n",
       "1                  72  \n",
       "2                 273  "
      ]
     },
     "execution_count": 16,
     "metadata": {},
     "output_type": "execute_result"
    }
   ],
   "source": [
    "locations_w_elevation = locations_w_elevation.drop(['Date', 'PM10', 'Lat', 'Long', 'city','country'],axis = 1)\n",
    "locations_w_elevation.head(3)"
   ]
  },
  {
   "cell_type": "code",
   "execution_count": 17,
   "id": "eb73358b",
   "metadata": {},
   "outputs": [
    {
     "data": {
      "text/html": [
       "<div>\n",
       "<style scoped>\n",
       "    .dataframe tbody tr th:only-of-type {\n",
       "        vertical-align: middle;\n",
       "    }\n",
       "\n",
       "    .dataframe tbody tr th {\n",
       "        vertical-align: top;\n",
       "    }\n",
       "\n",
       "    .dataframe thead th {\n",
       "        text-align: right;\n",
       "    }\n",
       "</style>\n",
       "<table border=\"1\" class=\"dataframe\">\n",
       "  <thead>\n",
       "    <tr style=\"text-align: right;\">\n",
       "      <th></th>\n",
       "      <th>Date</th>\n",
       "      <th>location</th>\n",
       "      <th>city</th>\n",
       "      <th>country</th>\n",
       "      <th>PM10</th>\n",
       "      <th>Lat</th>\n",
       "      <th>Long</th>\n",
       "      <th>elevation_2000_mean</th>\n",
       "      <th>elevation_2000_min</th>\n",
       "      <th>elevation_2000_max</th>\n",
       "    </tr>\n",
       "  </thead>\n",
       "  <tbody>\n",
       "    <tr>\n",
       "      <th>0</th>\n",
       "      <td>2018-09-27</td>\n",
       "      <td>Aberdeen</td>\n",
       "      <td>Aberdeen</td>\n",
       "      <td>GB</td>\n",
       "      <td>6.764706</td>\n",
       "      <td>57.15736</td>\n",
       "      <td>-2.094278</td>\n",
       "      <td>21.609085</td>\n",
       "      <td>5</td>\n",
       "      <td>31</td>\n",
       "    </tr>\n",
       "    <tr>\n",
       "      <th>1</th>\n",
       "      <td>2018-09-28</td>\n",
       "      <td>Aberdeen</td>\n",
       "      <td>Aberdeen</td>\n",
       "      <td>GB</td>\n",
       "      <td>8.190476</td>\n",
       "      <td>57.15736</td>\n",
       "      <td>-2.094278</td>\n",
       "      <td>21.609085</td>\n",
       "      <td>5</td>\n",
       "      <td>31</td>\n",
       "    </tr>\n",
       "    <tr>\n",
       "      <th>2</th>\n",
       "      <td>2018-09-29</td>\n",
       "      <td>Aberdeen</td>\n",
       "      <td>Aberdeen</td>\n",
       "      <td>GB</td>\n",
       "      <td>7.388889</td>\n",
       "      <td>57.15736</td>\n",
       "      <td>-2.094278</td>\n",
       "      <td>21.609085</td>\n",
       "      <td>5</td>\n",
       "      <td>31</td>\n",
       "    </tr>\n",
       "  </tbody>\n",
       "</table>\n",
       "</div>"
      ],
      "text/plain": [
       "         Date  location      city country      PM10       Lat      Long  \\\n",
       "0  2018-09-27  Aberdeen  Aberdeen      GB  6.764706  57.15736 -2.094278   \n",
       "1  2018-09-28  Aberdeen  Aberdeen      GB  8.190476  57.15736 -2.094278   \n",
       "2  2018-09-29  Aberdeen  Aberdeen      GB  7.388889  57.15736 -2.094278   \n",
       "\n",
       "   elevation_2000_mean  elevation_2000_min  elevation_2000_max  \n",
       "0            21.609085                   5                  31  \n",
       "1            21.609085                   5                  31  \n",
       "2            21.609085                   5                  31  "
      ]
     },
     "execution_count": 17,
     "metadata": {},
     "output_type": "execute_result"
    }
   ],
   "source": [
    "world_w_elevation = pd.merge(UK_PM10, locations_w_elevation, on='location')\n",
    "world_w_elevation.head(3)\n",
    "\n",
    "##############################################################################################################################"
   ]
  },
  {
   "cell_type": "code",
   "execution_count": 32,
   "id": "cd9fdd52",
   "metadata": {},
   "outputs": [],
   "source": [
    "############################################## Sentinel 5 Data ###############################################################\n",
    "\n",
    "\n",
    "\n",
    "\n",
    "# Image Collections\n",
    "gfs = ee.ImageCollection(\"NOAA/GFS0P25\") # Weather data\n",
    "\n",
    "S5p_collections = {} # Sentinel 5p data, which comes in multiple collections\n",
    "for COL in ['L3_NO2', 'L3_O3', 'L3_CO', 'L3_AER_AI']: # \n",
    "    S5p_collections[COL] = ee.ImageCollection('COPERNICUS/S5P/OFFL/'+COL).map(lambda image: image.addBands\\\n",
    "                                                                              (image.metadata('system:time_start')))\n",
    "# Properties for each image we want to keep\n",
    "s5p_props = {\n",
    "    'L3_NO2':['NO2_column_number_density', 'tropospheric_NO2_column_number_density', 'stratospheric_NO2_column_number_density',\\\n",
    "              'NO2_slant_column_number_density', 'tropopause_pressure'],\n",
    "    'L3_O3':['O3_column_number_density'],\n",
    "    'L3_CO':['CO_column_number_density', 'H2O_column_number_density', 'cloud_height'],\n",
    "    'L3_AER_AI':['absorbing_aerosol_index']\n",
    "}\n",
    "\n",
    "def add_timeseries(df, dates, reducer=ee.Reducer.first()):\n",
    "    # Prepare dataframe with date x city\n",
    "    date_col = []\n",
    "    location_col = []\n",
    "    for d in dates:\n",
    "        for c in df.location.unique():\n",
    "            date_col.append(d)\n",
    "            location_col.append(c)\n",
    "\n",
    "    data = pd.DataFrame({\n",
    "        'Date':date_col,\n",
    "        'location':location_col\n",
    "    })\n",
    "    data = pd.merge(data, df[['location', 'Lat', 'Long']], how='left', on='location')\n",
    "    \n",
    "    for d in tqdm(dates):\n",
    "        # Weather is easy - a single image from the right date\n",
    "        weather_image = gfs.filter(ee.Filter.date(str(d.date()), str((d+timedelta(days=1)).date()))).first() # Filter to get the relevant image\n",
    "        # For the sentinel data, we get images from each collection and merge them\n",
    "        s5p_images = []\n",
    "        for COL in ['L3_NO2', 'L3_O3', 'L3_CO', 'L3_AER_AI']:\n",
    "            collection = S5p_collections[COL].filter(ee.Filter.date(str((d-timedelta(days=5)).date()), str(d.date())))\n",
    "            image = collection.qualityMosaic('system:time_start') # The most recent image\n",
    "            image = image.select(s5p_props[COL])\n",
    "            s5p_images.append(image)\n",
    "        s5p_image = ee.ImageCollection(s5p_images).toBands() # Merge into one image\n",
    "    \n",
    "        # Sample the weather data\n",
    "        samples = sample(weather_image, '', df['Lat'].values, df['Long'].values, reducer=reducer)\n",
    "        for prop in samples[0].keys():\n",
    "            data.loc[data.Date==d, prop] = [p[prop] for p in samples]\n",
    "            \n",
    "        # Sample the sentinel data\n",
    "        samples = sample(s5p_image, '', df['Lat'].values, df['Long'].values)\n",
    "        for prop in samples[0].keys():\n",
    "            data.loc[data.Date==d, prop] = [p[prop] for p in samples]\n",
    "            \n",
    "    return data"
   ]
  },
  {
   "cell_type": "code",
   "execution_count": 54,
   "id": "2a4fbd3f",
   "metadata": {},
   "outputs": [],
   "source": [
    "dates_2018 = pd.date_range('2018-09-27','2018-12-31' , freq='1D')\n",
    "dates_2019 = pd.date_range('2019-01-01','2019-12-31' , freq='1D')\n",
    "dates_2020 = pd.date_range('2020-01-01','2020-03-31' , freq='1D')"
   ]
  },
  {
   "cell_type": "code",
   "execution_count": 53,
   "id": "413b8b24",
   "metadata": {},
   "outputs": [
    {
     "data": {
      "text/html": [
       "<div>\n",
       "<style scoped>\n",
       "    .dataframe tbody tr th:only-of-type {\n",
       "        vertical-align: middle;\n",
       "    }\n",
       "\n",
       "    .dataframe tbody tr th {\n",
       "        vertical-align: top;\n",
       "    }\n",
       "\n",
       "    .dataframe thead th {\n",
       "        text-align: right;\n",
       "    }\n",
       "</style>\n",
       "<table border=\"1\" class=\"dataframe\">\n",
       "  <thead>\n",
       "    <tr style=\"text-align: right;\">\n",
       "      <th></th>\n",
       "      <th>Date</th>\n",
       "      <th>location</th>\n",
       "      <th>city</th>\n",
       "      <th>country</th>\n",
       "      <th>PM10</th>\n",
       "      <th>Lat</th>\n",
       "      <th>Long</th>\n",
       "    </tr>\n",
       "  </thead>\n",
       "  <tbody>\n",
       "    <tr>\n",
       "      <th>17950</th>\n",
       "      <td>2019-12-31</td>\n",
       "      <td>York Fishergate</td>\n",
       "      <td>York</td>\n",
       "      <td>GB</td>\n",
       "      <td>22.583333</td>\n",
       "      <td>53.951889</td>\n",
       "      <td>-1.075861</td>\n",
       "    </tr>\n",
       "    <tr>\n",
       "      <th>17951</th>\n",
       "      <td>2020-01-01</td>\n",
       "      <td>Aberdeen</td>\n",
       "      <td>Aberdeen</td>\n",
       "      <td>GB</td>\n",
       "      <td>10.500000</td>\n",
       "      <td>57.157360</td>\n",
       "      <td>-2.094278</td>\n",
       "    </tr>\n",
       "    <tr>\n",
       "      <th>17952</th>\n",
       "      <td>2020-01-01</td>\n",
       "      <td>Armagh Roadside</td>\n",
       "      <td>Armagh</td>\n",
       "      <td>GB</td>\n",
       "      <td>46.260870</td>\n",
       "      <td>54.353728</td>\n",
       "      <td>-6.654558</td>\n",
       "    </tr>\n",
       "    <tr>\n",
       "      <th>17953</th>\n",
       "      <td>2020-01-01</td>\n",
       "      <td>Auchencorth Moss</td>\n",
       "      <td>Auchencorth</td>\n",
       "      <td>GB</td>\n",
       "      <td>8.041667</td>\n",
       "      <td>55.792160</td>\n",
       "      <td>-3.242900</td>\n",
       "    </tr>\n",
       "    <tr>\n",
       "      <th>17954</th>\n",
       "      <td>2020-01-01</td>\n",
       "      <td>Barnstaple A39</td>\n",
       "      <td>Barnstaple</td>\n",
       "      <td>GB</td>\n",
       "      <td>24.875000</td>\n",
       "      <td>51.074793</td>\n",
       "      <td>-4.041924</td>\n",
       "    </tr>\n",
       "    <tr>\n",
       "      <th>...</th>\n",
       "      <td>...</td>\n",
       "      <td>...</td>\n",
       "      <td>...</td>\n",
       "      <td>...</td>\n",
       "      <td>...</td>\n",
       "      <td>...</td>\n",
       "      <td>...</td>\n",
       "    </tr>\n",
       "    <tr>\n",
       "      <th>24575</th>\n",
       "      <td>2020-03-31</td>\n",
       "      <td>Warrington</td>\n",
       "      <td>Warrington</td>\n",
       "      <td>GB</td>\n",
       "      <td>11.000000</td>\n",
       "      <td>53.389280</td>\n",
       "      <td>-2.615358</td>\n",
       "    </tr>\n",
       "    <tr>\n",
       "      <th>24576</th>\n",
       "      <td>2020-03-31</td>\n",
       "      <td>Wigan Centre</td>\n",
       "      <td>Wigan</td>\n",
       "      <td>GB</td>\n",
       "      <td>9.000000</td>\n",
       "      <td>53.549140</td>\n",
       "      <td>-2.638139</td>\n",
       "    </tr>\n",
       "    <tr>\n",
       "      <th>24577</th>\n",
       "      <td>2020-03-31</td>\n",
       "      <td>Wirral Tranmere</td>\n",
       "      <td>Liverpool</td>\n",
       "      <td>GB</td>\n",
       "      <td>9.000000</td>\n",
       "      <td>53.372870</td>\n",
       "      <td>-3.022722</td>\n",
       "    </tr>\n",
       "    <tr>\n",
       "      <th>24578</th>\n",
       "      <td>2020-03-31</td>\n",
       "      <td>Wrexham</td>\n",
       "      <td>Wrexham</td>\n",
       "      <td>GB</td>\n",
       "      <td>11.000000</td>\n",
       "      <td>53.042220</td>\n",
       "      <td>-3.002778</td>\n",
       "    </tr>\n",
       "    <tr>\n",
       "      <th>24579</th>\n",
       "      <td>2020-03-31</td>\n",
       "      <td>York Fishergate</td>\n",
       "      <td>York</td>\n",
       "      <td>GB</td>\n",
       "      <td>16.000000</td>\n",
       "      <td>53.951889</td>\n",
       "      <td>-1.075861</td>\n",
       "    </tr>\n",
       "  </tbody>\n",
       "</table>\n",
       "<p>6630 rows × 7 columns</p>\n",
       "</div>"
      ],
      "text/plain": [
       "             Date          location         city country       PM10  \\\n",
       "17950  2019-12-31   York Fishergate         York      GB  22.583333   \n",
       "17951  2020-01-01          Aberdeen     Aberdeen      GB  10.500000   \n",
       "17952  2020-01-01   Armagh Roadside       Armagh      GB  46.260870   \n",
       "17953  2020-01-01  Auchencorth Moss  Auchencorth      GB   8.041667   \n",
       "17954  2020-01-01    Barnstaple A39   Barnstaple      GB  24.875000   \n",
       "...           ...               ...          ...     ...        ...   \n",
       "24575  2020-03-31        Warrington   Warrington      GB  11.000000   \n",
       "24576  2020-03-31      Wigan Centre        Wigan      GB   9.000000   \n",
       "24577  2020-03-31   Wirral Tranmere    Liverpool      GB   9.000000   \n",
       "24578  2020-03-31           Wrexham      Wrexham      GB  11.000000   \n",
       "24579  2020-03-31   York Fishergate         York      GB  16.000000   \n",
       "\n",
       "             Lat      Long  \n",
       "17950  53.951889 -1.075861  \n",
       "17951  57.157360 -2.094278  \n",
       "17952  54.353728 -6.654558  \n",
       "17953  55.792160 -3.242900  \n",
       "17954  51.074793 -4.041924  \n",
       "...          ...       ...  \n",
       "24575  53.389280 -2.615358  \n",
       "24576  53.549140 -2.638139  \n",
       "24577  53.372870 -3.022722  \n",
       "24578  53.042220 -3.002778  \n",
       "24579  53.951889 -1.075861  \n",
       "\n",
       "[6630 rows x 7 columns]"
      ]
     },
     "execution_count": 53,
     "metadata": {},
     "output_type": "execute_result"
    }
   ],
   "source": [
    "UK_PM10.iloc[17950:]"
   ]
  },
  {
   "cell_type": "code",
   "execution_count": 55,
   "id": "e67dc8b7",
   "metadata": {},
   "outputs": [],
   "source": [
    "# 2018 - index 0 to 1106\n",
    "UK1_PM10 = UK_PM10.iloc[:1106]\n",
    "\n",
    "# 2019 - index 1106 to 17951\n",
    "UK2_PM10 = UK_PM10.iloc[1106:5106]\n",
    "UK3_PM10 = UK_PM10.iloc[5106:9106]\n",
    "UK4_PM10 = UK_PM10.iloc[9106:13106]\n",
    "UK5_PM10 = UK_PM10.iloc[13106:17106]\n",
    "UK6_PM10 = UK_PM10.iloc[17106:17951]\n",
    "\n",
    "# 2020\n",
    "UK7_PM10 = UK_PM10.iloc[17951:21951]\n",
    "UK8_PM10 = UK_PM10.iloc[21951:]"
   ]
  },
  {
   "cell_type": "code",
   "execution_count": 56,
   "id": "4ec2e3a1",
   "metadata": {},
   "outputs": [
    {
     "name": "stderr",
     "output_type": "stream",
     "text": [
      "100%|██████████████████████████████████████████████████████████████████████████████████| 96/96 [06:14<00:00,  3.90s/it]\n"
     ]
    }
   ],
   "source": [
    "ts1_PM10 = add_timeseries(UK1_PM10, dates_2018)\n",
    "ts1_PM10.to_csv('ts1_PM10_train.csv')"
   ]
  },
  {
   "cell_type": "code",
   "execution_count": 57,
   "id": "fad8ac28",
   "metadata": {},
   "outputs": [
    {
     "name": "stderr",
     "output_type": "stream",
     "text": [
      "100%|████████████████████████████████████████████████████████████████████████████████| 365/365 [59:06<00:00,  9.72s/it]\n"
     ]
    }
   ],
   "source": [
    "ts2_PM10 = add_timeseries(UK2_PM10, dates_2019)\n",
    "ts2_PM10.to_csv('ts2_PM10_train.csv')"
   ]
  },
  {
   "cell_type": "code",
   "execution_count": 58,
   "id": "9c8dcb25",
   "metadata": {},
   "outputs": [
    {
     "name": "stderr",
     "output_type": "stream",
     "text": [
      "100%|████████████████████████████████████████████████████████████████████████████████| 365/365 [57:40<00:00,  9.48s/it]\n"
     ]
    }
   ],
   "source": [
    "ts3_PM10 = add_timeseries(UK3_PM10, dates_2019)\n",
    "ts3_PM10.to_csv('ts3_PM10_train.csv')"
   ]
  },
  {
   "cell_type": "code",
   "execution_count": 59,
   "id": "ed929491",
   "metadata": {},
   "outputs": [
    {
     "name": "stderr",
     "output_type": "stream",
     "text": [
      "100%|████████████████████████████████████████████████████████████████████████████████| 365/365 [52:28<00:00,  8.63s/it]\n"
     ]
    }
   ],
   "source": [
    "ts4_PM10 = add_timeseries(UK4_PM10, dates_2019)\n",
    "ts4_PM10.to_csv('ts4_PM10_train.csv')"
   ]
  },
  {
   "cell_type": "code",
   "execution_count": 60,
   "id": "5b714298",
   "metadata": {},
   "outputs": [
    {
     "name": "stderr",
     "output_type": "stream",
     "text": [
      "100%|████████████████████████████████████████████████████████████████████████████████| 365/365 [52:09<00:00,  8.57s/it]\n"
     ]
    }
   ],
   "source": [
    "ts5_PM10 = add_timeseries(UK5_PM10, dates_2019)\n",
    "ts5_PM10.to_csv('ts5_PM10_train.csv')"
   ]
  },
  {
   "cell_type": "code",
   "execution_count": 61,
   "id": "6a8f47fe",
   "metadata": {},
   "outputs": [
    {
     "name": "stderr",
     "output_type": "stream",
     "text": [
      "100%|████████████████████████████████████████████████████████████████████████████████| 365/365 [20:33<00:00,  3.38s/it]\n"
     ]
    }
   ],
   "source": [
    "ts6_PM10 = add_timeseries(UK6_PM10, dates_2019)\n",
    "ts6_PM10.to_csv('ts6_PM10_train.csv')"
   ]
  },
  {
   "cell_type": "code",
   "execution_count": 62,
   "id": "e298389a",
   "metadata": {},
   "outputs": [
    {
     "name": "stderr",
     "output_type": "stream",
     "text": [
      "100%|██████████████████████████████████████████████████████████████████████████████████| 91/91 [13:47<00:00,  9.10s/it]\n"
     ]
    }
   ],
   "source": [
    "ts7_PM10 = add_timeseries(UK7_PM10, dates_2020)\n",
    "ts7_PM10.to_csv('ts7_PM10_train.csv')"
   ]
  },
  {
   "cell_type": "code",
   "execution_count": 63,
   "id": "1ef9a5de",
   "metadata": {},
   "outputs": [
    {
     "name": "stderr",
     "output_type": "stream",
     "text": [
      "100%|██████████████████████████████████████████████████████████████████████████████████| 91/91 [09:57<00:00,  6.57s/it]\n"
     ]
    }
   ],
   "source": [
    "ts8_PM10 = add_timeseries(UK8_PM10, dates_2020)\n",
    "ts8_PM10.to_csv('ts8_PM10_train.csv')"
   ]
  },
  {
   "cell_type": "code",
   "execution_count": 56,
   "id": "da7ac4d5",
   "metadata": {},
   "outputs": [
    {
     "data": {
      "text/plain": [
       "(2016, 20)"
      ]
     },
     "execution_count": 56,
     "metadata": {},
     "output_type": "execute_result"
    }
   ],
   "source": [
    "ts1_PM10 = pd.read_csv('ts1_PM10_train.csv')\n",
    "ts1_PM10_groupby = ts1_PM10.groupby(['location', 'Date'], as_index=False).mean(lambda x: set(x))\n",
    "ts1_PM10_groupby = ts1_PM10_groupby.drop('Unnamed: 0',axis = 1)\n",
    "ts1_PM10_groupby.to_csv('ts1_PM10_train_groupby.csv')\n",
    "ts1_PM10_groupby.shape"
   ]
  },
  {
   "cell_type": "code",
   "execution_count": 57,
   "id": "0ac6142c",
   "metadata": {},
   "outputs": [
    {
     "data": {
      "text/plain": [
       "(13140, 20)"
      ]
     },
     "execution_count": 57,
     "metadata": {},
     "output_type": "execute_result"
    }
   ],
   "source": [
    "ts2_PM10 = pd.read_csv('ts2_PM10_train.csv')\n",
    "ts2_PM10_groupby = ts2_PM10.groupby(['location', 'Date'], as_index=False).mean(lambda x: set(x))\n",
    "ts2_PM10_groupby = ts2_PM10_groupby.drop('Unnamed: 0',axis = 1)\n",
    "ts2_PM10_groupby.to_csv('ts2_PM10_train_groupby.csv')\n",
    "ts2_PM10_groupby.shape"
   ]
  },
  {
   "cell_type": "code",
   "execution_count": 58,
   "id": "f3d515f6",
   "metadata": {},
   "outputs": [
    {
     "data": {
      "text/plain": [
       "(25550, 20)"
      ]
     },
     "execution_count": 58,
     "metadata": {},
     "output_type": "execute_result"
    }
   ],
   "source": [
    "ts3_PM10 = pd.read_csv('ts3_PM10_train.csv')\n",
    "ts3_PM10_groupby = ts3_PM10.groupby(['location', 'Date'], as_index=False).mean(lambda x: set(x))\n",
    "ts3_PM10_groupby = ts3_PM10_groupby.drop('Unnamed: 0',axis = 1)\n",
    "ts3_PM10_groupby.to_csv('ts3_PM10_train_groupby.csv')\n",
    "ts3_PM10_groupby.shape"
   ]
  },
  {
   "cell_type": "code",
   "execution_count": 59,
   "id": "c561a460",
   "metadata": {},
   "outputs": [
    {
     "data": {
      "text/plain": [
       "(27010, 20)"
      ]
     },
     "execution_count": 59,
     "metadata": {},
     "output_type": "execute_result"
    }
   ],
   "source": [
    "ts4_PM10 = pd.read_csv('ts4_PM10_train.csv')\n",
    "ts4_PM10_groupby = ts4_PM10.groupby(['location', 'Date'], as_index=False).mean(lambda x: set(x))\n",
    "ts4_PM10_groupby = ts4_PM10_groupby.drop('Unnamed: 0',axis = 1)\n",
    "ts4_PM10_groupby.to_csv('ts4_PM10_train_groupby.csv')\n",
    "ts4_PM10_groupby.shape"
   ]
  },
  {
   "cell_type": "code",
   "execution_count": 60,
   "id": "61294af8",
   "metadata": {},
   "outputs": [
    {
     "data": {
      "text/plain": [
       "(27010, 20)"
      ]
     },
     "execution_count": 60,
     "metadata": {},
     "output_type": "execute_result"
    }
   ],
   "source": [
    "ts5_PM10 = pd.read_csv('ts5_PM10_train.csv')\n",
    "ts5_PM10_groupby = ts5_PM10.groupby(['location', 'Date'], as_index=False).mean(lambda x: set(x))\n",
    "ts5_PM10_groupby = ts5_PM10_groupby.drop('Unnamed: 0',axis = 1)\n",
    "ts5_PM10_groupby.to_csv('ts5_PM10_train_groupby.csv')\n",
    "ts5_PM10_groupby.shape"
   ]
  },
  {
   "cell_type": "code",
   "execution_count": 61,
   "id": "ae183c8f",
   "metadata": {},
   "outputs": [
    {
     "data": {
      "text/plain": [
       "(26645, 20)"
      ]
     },
     "execution_count": 61,
     "metadata": {},
     "output_type": "execute_result"
    }
   ],
   "source": [
    "ts6_PM10 = pd.read_csv('ts6_PM10_train.csv')\n",
    "ts6_PM10_groupby = ts6_PM10.groupby(['location', 'Date'], as_index=False).mean(lambda x: set(x))\n",
    "ts6_PM10_groupby = ts6_PM10_groupby.drop('Unnamed: 0',axis = 1)\n",
    "ts6_PM10_groupby.to_csv('ts6_PM10_train_groupby.csv')\n",
    "ts6_PM10_groupby.shape"
   ]
  },
  {
   "cell_type": "code",
   "execution_count": 62,
   "id": "675b4dc5",
   "metadata": {},
   "outputs": [
    {
     "data": {
      "text/plain": [
       "(7007, 20)"
      ]
     },
     "execution_count": 62,
     "metadata": {},
     "output_type": "execute_result"
    }
   ],
   "source": [
    "ts7_PM10 = pd.read_csv('ts7_PM10_train.csv')\n",
    "ts7_PM10_groupby = ts7_PM10.groupby(['location', 'Date'], as_index=False).mean(lambda x: set(x))\n",
    "ts7_PM10_groupby = ts7_PM10_groupby.drop('Unnamed: 0',axis = 1)\n",
    "ts7_PM10_groupby.to_csv('ts7_PM10_train_groupby.csv')\n",
    "ts7_PM10_groupby.shape"
   ]
  },
  {
   "cell_type": "code",
   "execution_count": 63,
   "id": "15908bd9",
   "metadata": {},
   "outputs": [
    {
     "data": {
      "text/plain": [
       "(7007, 20)"
      ]
     },
     "execution_count": 63,
     "metadata": {},
     "output_type": "execute_result"
    }
   ],
   "source": [
    "ts8_PM10 = pd.read_csv('ts8_PM10_train.csv')\n",
    "ts8_PM10_groupby = ts8_PM10.groupby(['location', 'Date'], as_index=False).mean(lambda x: set(x))\n",
    "ts8_PM10_groupby = ts8_PM10_groupby.drop('Unnamed: 0',axis = 1)\n",
    "ts8_PM10_groupby.to_csv('ts8_PM10_train_groupby.csv')\n",
    "ts8_PM10_groupby.shape"
   ]
  },
  {
   "cell_type": "code",
   "execution_count": 64,
   "id": "3df66cfa",
   "metadata": {},
   "outputs": [],
   "source": [
    "group = [ts1_PM10_groupby,ts2_PM10_groupby,ts3_PM10_groupby,ts4_PM10_groupby,ts5_PM10_groupby,ts6_PM10_groupby,ts7_PM10_groupby,ts8_PM10_groupby]\n",
    "group_timeseries = pd.concat(group)\n",
    "group_timeseries.to_csv('ts_PM10_groupby_all.csv', index=False)"
   ]
  },
  {
   "cell_type": "code",
   "execution_count": 65,
   "id": "3f1bcede",
   "metadata": {},
   "outputs": [
    {
     "data": {
      "text/html": [
       "<div>\n",
       "<style scoped>\n",
       "    .dataframe tbody tr th:only-of-type {\n",
       "        vertical-align: middle;\n",
       "    }\n",
       "\n",
       "    .dataframe tbody tr th {\n",
       "        vertical-align: top;\n",
       "    }\n",
       "\n",
       "    .dataframe thead th {\n",
       "        text-align: right;\n",
       "    }\n",
       "</style>\n",
       "<table border=\"1\" class=\"dataframe\">\n",
       "  <thead>\n",
       "    <tr style=\"text-align: right;\">\n",
       "      <th></th>\n",
       "      <th>location</th>\n",
       "      <th>Date</th>\n",
       "      <th>Lat</th>\n",
       "      <th>Long</th>\n",
       "      <th>precipitable_water_entire_atmosphere</th>\n",
       "      <th>relative_humidity_2m_above_ground</th>\n",
       "      <th>specific_humidity_2m_above_ground</th>\n",
       "      <th>temperature_2m_above_ground</th>\n",
       "      <th>u_component_of_wind_10m_above_ground</th>\n",
       "      <th>v_component_of_wind_10m_above_ground</th>\n",
       "      <th>0_NO2_column_number_density</th>\n",
       "      <th>0_NO2_slant_column_number_density</th>\n",
       "      <th>0_stratospheric_NO2_column_number_density</th>\n",
       "      <th>0_tropopause_pressure</th>\n",
       "      <th>0_tropospheric_NO2_column_number_density</th>\n",
       "      <th>1_O3_column_number_density</th>\n",
       "      <th>2_CO_column_number_density</th>\n",
       "      <th>2_H2O_column_number_density</th>\n",
       "      <th>2_cloud_height</th>\n",
       "      <th>3_absorbing_aerosol_index</th>\n",
       "    </tr>\n",
       "  </thead>\n",
       "  <tbody>\n",
       "    <tr>\n",
       "      <th>0</th>\n",
       "      <td>Aberdeen</td>\n",
       "      <td>2018-09-27</td>\n",
       "      <td>57.157360</td>\n",
       "      <td>-2.094278</td>\n",
       "      <td>23.255320</td>\n",
       "      <td>89.427661</td>\n",
       "      <td>0.008697</td>\n",
       "      <td>13.653708</td>\n",
       "      <td>3.786878</td>\n",
       "      <td>3.440247</td>\n",
       "      <td>0.000057</td>\n",
       "      <td>0.000138</td>\n",
       "      <td>0.000039</td>\n",
       "      <td>12898.770623</td>\n",
       "      <td>0.000015</td>\n",
       "      <td>0.113651</td>\n",
       "      <td>0.028194</td>\n",
       "      <td>1337.110130</td>\n",
       "      <td>324.160284</td>\n",
       "      <td>-1.390420</td>\n",
       "    </tr>\n",
       "    <tr>\n",
       "      <th>1</th>\n",
       "      <td>Aberdeen</td>\n",
       "      <td>2018-09-28</td>\n",
       "      <td>57.157360</td>\n",
       "      <td>-2.094278</td>\n",
       "      <td>8.919149</td>\n",
       "      <td>85.722955</td>\n",
       "      <td>0.005021</td>\n",
       "      <td>6.282986</td>\n",
       "      <td>1.911551</td>\n",
       "      <td>-0.805813</td>\n",
       "      <td>0.000064</td>\n",
       "      <td>0.000137</td>\n",
       "      <td>0.000040</td>\n",
       "      <td>14478.561874</td>\n",
       "      <td>0.000015</td>\n",
       "      <td>0.122597</td>\n",
       "      <td>0.027934</td>\n",
       "      <td>1330.971686</td>\n",
       "      <td>309.657850</td>\n",
       "      <td>-1.537680</td>\n",
       "    </tr>\n",
       "    <tr>\n",
       "      <th>2</th>\n",
       "      <td>Aberdeen</td>\n",
       "      <td>2018-09-29</td>\n",
       "      <td>57.157360</td>\n",
       "      <td>-2.094278</td>\n",
       "      <td>15.993617</td>\n",
       "      <td>84.827661</td>\n",
       "      <td>0.005108</td>\n",
       "      <td>6.751541</td>\n",
       "      <td>2.340752</td>\n",
       "      <td>1.596252</td>\n",
       "      <td>0.000073</td>\n",
       "      <td>0.000188</td>\n",
       "      <td>0.000041</td>\n",
       "      <td>13524.785691</td>\n",
       "      <td>0.000019</td>\n",
       "      <td>0.132621</td>\n",
       "      <td>0.032483</td>\n",
       "      <td>537.321218</td>\n",
       "      <td>34.176636</td>\n",
       "      <td>-0.453005</td>\n",
       "    </tr>\n",
       "    <tr>\n",
       "      <th>3</th>\n",
       "      <td>Aberdeen</td>\n",
       "      <td>2018-09-30</td>\n",
       "      <td>57.157360</td>\n",
       "      <td>-2.094278</td>\n",
       "      <td>10.525532</td>\n",
       "      <td>86.162767</td>\n",
       "      <td>0.005997</td>\n",
       "      <td>8.624053</td>\n",
       "      <td>4.391677</td>\n",
       "      <td>-0.440455</td>\n",
       "      <td>0.000060</td>\n",
       "      <td>0.000198</td>\n",
       "      <td>0.000045</td>\n",
       "      <td>13389.998598</td>\n",
       "      <td>0.000021</td>\n",
       "      <td>0.124832</td>\n",
       "      <td>0.030707</td>\n",
       "      <td>501.726865</td>\n",
       "      <td>465.395359</td>\n",
       "      <td>-0.640018</td>\n",
       "    </tr>\n",
       "    <tr>\n",
       "      <th>4</th>\n",
       "      <td>Aberdeen</td>\n",
       "      <td>2018-10-01</td>\n",
       "      <td>57.157360</td>\n",
       "      <td>-2.094278</td>\n",
       "      <td>9.844311</td>\n",
       "      <td>86.417022</td>\n",
       "      <td>0.004921</td>\n",
       "      <td>5.851817</td>\n",
       "      <td>3.032515</td>\n",
       "      <td>-1.645190</td>\n",
       "      <td>0.000063</td>\n",
       "      <td>0.000188</td>\n",
       "      <td>0.000048</td>\n",
       "      <td>20685.284353</td>\n",
       "      <td>0.000018</td>\n",
       "      <td>0.146016</td>\n",
       "      <td>0.030200</td>\n",
       "      <td>647.773253</td>\n",
       "      <td>738.735490</td>\n",
       "      <td>-0.868015</td>\n",
       "    </tr>\n",
       "    <tr>\n",
       "      <th>...</th>\n",
       "      <td>...</td>\n",
       "      <td>...</td>\n",
       "      <td>...</td>\n",
       "      <td>...</td>\n",
       "      <td>...</td>\n",
       "      <td>...</td>\n",
       "      <td>...</td>\n",
       "      <td>...</td>\n",
       "      <td>...</td>\n",
       "      <td>...</td>\n",
       "      <td>...</td>\n",
       "      <td>...</td>\n",
       "      <td>...</td>\n",
       "      <td>...</td>\n",
       "      <td>...</td>\n",
       "      <td>...</td>\n",
       "      <td>...</td>\n",
       "      <td>...</td>\n",
       "      <td>...</td>\n",
       "      <td>...</td>\n",
       "    </tr>\n",
       "    <tr>\n",
       "      <th>7002</th>\n",
       "      <td>York Fishergate</td>\n",
       "      <td>2020-03-27</td>\n",
       "      <td>53.951889</td>\n",
       "      <td>-1.075861</td>\n",
       "      <td>7.505556</td>\n",
       "      <td>80.300001</td>\n",
       "      <td>0.003905</td>\n",
       "      <td>3.595739</td>\n",
       "      <td>-1.800300</td>\n",
       "      <td>-1.595661</td>\n",
       "      <td>0.000122</td>\n",
       "      <td>0.000232</td>\n",
       "      <td>0.000042</td>\n",
       "      <td>16588.585195</td>\n",
       "      <td>0.000076</td>\n",
       "      <td>0.156670</td>\n",
       "      <td>0.039273</td>\n",
       "      <td>533.693178</td>\n",
       "      <td>435.087312</td>\n",
       "      <td>-1.030407</td>\n",
       "    </tr>\n",
       "    <tr>\n",
       "      <th>7003</th>\n",
       "      <td>York Fishergate</td>\n",
       "      <td>2020-03-28</td>\n",
       "      <td>53.951889</td>\n",
       "      <td>-1.075861</td>\n",
       "      <td>9.391667</td>\n",
       "      <td>79.602779</td>\n",
       "      <td>0.004016</td>\n",
       "      <td>4.181032</td>\n",
       "      <td>-2.311500</td>\n",
       "      <td>-3.736741</td>\n",
       "      <td>0.000093</td>\n",
       "      <td>0.000197</td>\n",
       "      <td>0.000041</td>\n",
       "      <td>16782.219951</td>\n",
       "      <td>0.000051</td>\n",
       "      <td>0.161038</td>\n",
       "      <td>0.039598</td>\n",
       "      <td>645.047130</td>\n",
       "      <td>379.933920</td>\n",
       "      <td>-1.372574</td>\n",
       "    </tr>\n",
       "    <tr>\n",
       "      <th>7004</th>\n",
       "      <td>York Fishergate</td>\n",
       "      <td>2020-03-29</td>\n",
       "      <td>53.951889</td>\n",
       "      <td>-1.075861</td>\n",
       "      <td>5.772222</td>\n",
       "      <td>70.813890</td>\n",
       "      <td>0.003082</td>\n",
       "      <td>2.306375</td>\n",
       "      <td>-2.491352</td>\n",
       "      <td>-4.997044</td>\n",
       "      <td>0.000064</td>\n",
       "      <td>0.000141</td>\n",
       "      <td>0.000041</td>\n",
       "      <td>17581.644063</td>\n",
       "      <td>0.000042</td>\n",
       "      <td>0.171794</td>\n",
       "      <td>0.038786</td>\n",
       "      <td>486.002414</td>\n",
       "      <td>1115.962200</td>\n",
       "      <td>-1.264324</td>\n",
       "    </tr>\n",
       "    <tr>\n",
       "      <th>7005</th>\n",
       "      <td>York Fishergate</td>\n",
       "      <td>2020-03-30</td>\n",
       "      <td>53.951889</td>\n",
       "      <td>-1.075861</td>\n",
       "      <td>9.119445</td>\n",
       "      <td>75.413890</td>\n",
       "      <td>0.003118</td>\n",
       "      <td>1.585222</td>\n",
       "      <td>0.495904</td>\n",
       "      <td>-2.529340</td>\n",
       "      <td>0.000065</td>\n",
       "      <td>0.000133</td>\n",
       "      <td>0.000042</td>\n",
       "      <td>18408.356228</td>\n",
       "      <td>0.000031</td>\n",
       "      <td>0.173615</td>\n",
       "      <td>0.039768</td>\n",
       "      <td>381.810120</td>\n",
       "      <td>1802.998179</td>\n",
       "      <td>-1.625593</td>\n",
       "    </tr>\n",
       "    <tr>\n",
       "      <th>7006</th>\n",
       "      <td>York Fishergate</td>\n",
       "      <td>2020-03-31</td>\n",
       "      <td>53.951889</td>\n",
       "      <td>-1.075861</td>\n",
       "      <td>10.055556</td>\n",
       "      <td>87.244446</td>\n",
       "      <td>0.004249</td>\n",
       "      <td>3.787453</td>\n",
       "      <td>-1.251862</td>\n",
       "      <td>-2.909643</td>\n",
       "      <td>0.000085</td>\n",
       "      <td>0.000134</td>\n",
       "      <td>0.000038</td>\n",
       "      <td>18227.006068</td>\n",
       "      <td>0.000030</td>\n",
       "      <td>0.166010</td>\n",
       "      <td>0.037500</td>\n",
       "      <td>536.384892</td>\n",
       "      <td>2458.549553</td>\n",
       "      <td>-1.531584</td>\n",
       "    </tr>\n",
       "  </tbody>\n",
       "</table>\n",
       "<p>135385 rows × 20 columns</p>\n",
       "</div>"
      ],
      "text/plain": [
       "             location        Date        Lat      Long  \\\n",
       "0            Aberdeen  2018-09-27  57.157360 -2.094278   \n",
       "1            Aberdeen  2018-09-28  57.157360 -2.094278   \n",
       "2            Aberdeen  2018-09-29  57.157360 -2.094278   \n",
       "3            Aberdeen  2018-09-30  57.157360 -2.094278   \n",
       "4            Aberdeen  2018-10-01  57.157360 -2.094278   \n",
       "...               ...         ...        ...       ...   \n",
       "7002  York Fishergate  2020-03-27  53.951889 -1.075861   \n",
       "7003  York Fishergate  2020-03-28  53.951889 -1.075861   \n",
       "7004  York Fishergate  2020-03-29  53.951889 -1.075861   \n",
       "7005  York Fishergate  2020-03-30  53.951889 -1.075861   \n",
       "7006  York Fishergate  2020-03-31  53.951889 -1.075861   \n",
       "\n",
       "      precipitable_water_entire_atmosphere  relative_humidity_2m_above_ground  \\\n",
       "0                                23.255320                          89.427661   \n",
       "1                                 8.919149                          85.722955   \n",
       "2                                15.993617                          84.827661   \n",
       "3                                10.525532                          86.162767   \n",
       "4                                 9.844311                          86.417022   \n",
       "...                                    ...                                ...   \n",
       "7002                              7.505556                          80.300001   \n",
       "7003                              9.391667                          79.602779   \n",
       "7004                              5.772222                          70.813890   \n",
       "7005                              9.119445                          75.413890   \n",
       "7006                             10.055556                          87.244446   \n",
       "\n",
       "      specific_humidity_2m_above_ground  temperature_2m_above_ground  \\\n",
       "0                              0.008697                    13.653708   \n",
       "1                              0.005021                     6.282986   \n",
       "2                              0.005108                     6.751541   \n",
       "3                              0.005997                     8.624053   \n",
       "4                              0.004921                     5.851817   \n",
       "...                                 ...                          ...   \n",
       "7002                           0.003905                     3.595739   \n",
       "7003                           0.004016                     4.181032   \n",
       "7004                           0.003082                     2.306375   \n",
       "7005                           0.003118                     1.585222   \n",
       "7006                           0.004249                     3.787453   \n",
       "\n",
       "      u_component_of_wind_10m_above_ground  \\\n",
       "0                                 3.786878   \n",
       "1                                 1.911551   \n",
       "2                                 2.340752   \n",
       "3                                 4.391677   \n",
       "4                                 3.032515   \n",
       "...                                    ...   \n",
       "7002                             -1.800300   \n",
       "7003                             -2.311500   \n",
       "7004                             -2.491352   \n",
       "7005                              0.495904   \n",
       "7006                             -1.251862   \n",
       "\n",
       "      v_component_of_wind_10m_above_ground  0_NO2_column_number_density  \\\n",
       "0                                 3.440247                     0.000057   \n",
       "1                                -0.805813                     0.000064   \n",
       "2                                 1.596252                     0.000073   \n",
       "3                                -0.440455                     0.000060   \n",
       "4                                -1.645190                     0.000063   \n",
       "...                                    ...                          ...   \n",
       "7002                             -1.595661                     0.000122   \n",
       "7003                             -3.736741                     0.000093   \n",
       "7004                             -4.997044                     0.000064   \n",
       "7005                             -2.529340                     0.000065   \n",
       "7006                             -2.909643                     0.000085   \n",
       "\n",
       "      0_NO2_slant_column_number_density  \\\n",
       "0                              0.000138   \n",
       "1                              0.000137   \n",
       "2                              0.000188   \n",
       "3                              0.000198   \n",
       "4                              0.000188   \n",
       "...                                 ...   \n",
       "7002                           0.000232   \n",
       "7003                           0.000197   \n",
       "7004                           0.000141   \n",
       "7005                           0.000133   \n",
       "7006                           0.000134   \n",
       "\n",
       "      0_stratospheric_NO2_column_number_density  0_tropopause_pressure  \\\n",
       "0                                      0.000039           12898.770623   \n",
       "1                                      0.000040           14478.561874   \n",
       "2                                      0.000041           13524.785691   \n",
       "3                                      0.000045           13389.998598   \n",
       "4                                      0.000048           20685.284353   \n",
       "...                                         ...                    ...   \n",
       "7002                                   0.000042           16588.585195   \n",
       "7003                                   0.000041           16782.219951   \n",
       "7004                                   0.000041           17581.644063   \n",
       "7005                                   0.000042           18408.356228   \n",
       "7006                                   0.000038           18227.006068   \n",
       "\n",
       "      0_tropospheric_NO2_column_number_density  1_O3_column_number_density  \\\n",
       "0                                     0.000015                    0.113651   \n",
       "1                                     0.000015                    0.122597   \n",
       "2                                     0.000019                    0.132621   \n",
       "3                                     0.000021                    0.124832   \n",
       "4                                     0.000018                    0.146016   \n",
       "...                                        ...                         ...   \n",
       "7002                                  0.000076                    0.156670   \n",
       "7003                                  0.000051                    0.161038   \n",
       "7004                                  0.000042                    0.171794   \n",
       "7005                                  0.000031                    0.173615   \n",
       "7006                                  0.000030                    0.166010   \n",
       "\n",
       "      2_CO_column_number_density  2_H2O_column_number_density  2_cloud_height  \\\n",
       "0                       0.028194                  1337.110130      324.160284   \n",
       "1                       0.027934                  1330.971686      309.657850   \n",
       "2                       0.032483                   537.321218       34.176636   \n",
       "3                       0.030707                   501.726865      465.395359   \n",
       "4                       0.030200                   647.773253      738.735490   \n",
       "...                          ...                          ...             ...   \n",
       "7002                    0.039273                   533.693178      435.087312   \n",
       "7003                    0.039598                   645.047130      379.933920   \n",
       "7004                    0.038786                   486.002414     1115.962200   \n",
       "7005                    0.039768                   381.810120     1802.998179   \n",
       "7006                    0.037500                   536.384892     2458.549553   \n",
       "\n",
       "      3_absorbing_aerosol_index  \n",
       "0                     -1.390420  \n",
       "1                     -1.537680  \n",
       "2                     -0.453005  \n",
       "3                     -0.640018  \n",
       "4                     -0.868015  \n",
       "...                         ...  \n",
       "7002                  -1.030407  \n",
       "7003                  -1.372574  \n",
       "7004                  -1.264324  \n",
       "7005                  -1.625593  \n",
       "7006                  -1.531584  \n",
       "\n",
       "[135385 rows x 20 columns]"
      ]
     },
     "execution_count": 65,
     "metadata": {},
     "output_type": "execute_result"
    }
   ],
   "source": [
    "group_timeseries"
   ]
  },
  {
   "cell_type": "code",
   "execution_count": 66,
   "id": "8627e8d0",
   "metadata": {},
   "outputs": [],
   "source": [
    "group_timeseries = pd.read_csv('ts_PM10_groupby_all.csv')"
   ]
  },
  {
   "cell_type": "code",
   "execution_count": 67,
   "id": "d2487d7f",
   "metadata": {},
   "outputs": [
    {
     "data": {
      "text/plain": [
       "Index(['location', 'Date', 'Lat', 'Long',\n",
       "       'precipitable_water_entire_atmosphere',\n",
       "       'relative_humidity_2m_above_ground',\n",
       "       'specific_humidity_2m_above_ground', 'temperature_2m_above_ground',\n",
       "       'u_component_of_wind_10m_above_ground',\n",
       "       'v_component_of_wind_10m_above_ground', '0_NO2_column_number_density',\n",
       "       '0_NO2_slant_column_number_density',\n",
       "       '0_stratospheric_NO2_column_number_density', '0_tropopause_pressure',\n",
       "       '0_tropospheric_NO2_column_number_density',\n",
       "       '1_O3_column_number_density', '2_CO_column_number_density',\n",
       "       '2_H2O_column_number_density', '2_cloud_height',\n",
       "       '3_absorbing_aerosol_index'],\n",
       "      dtype='object')"
      ]
     },
     "execution_count": 67,
     "metadata": {},
     "output_type": "execute_result"
    }
   ],
   "source": [
    "group_timeseries.columns"
   ]
  },
  {
   "cell_type": "code",
   "execution_count": 35,
   "id": "9122d2dc",
   "metadata": {},
   "outputs": [],
   "source": [
    "# Vegetation & Elevation\n",
    "\n",
    "veg_elev = pd.merge(world_w_veg, world_w_elevation, on = ['location', 'Date', 'Lat', 'Long'])"
   ]
  },
  {
   "cell_type": "code",
   "execution_count": 37,
   "id": "8bcb2e3f",
   "metadata": {},
   "outputs": [
    {
     "data": {
      "text/plain": [
       "Index(['Date', 'location', 'city', 'country', 'PM10', 'Lat', 'Long',\n",
       "       'NDVI_8000_mean', 'QA_8000_mean', 'TIMEOFDAY_8000_mean',\n",
       "       'NDVI_8000_min', 'QA_8000_min', 'TIMEOFDAY_8000_min', 'NDVI_8000_max',\n",
       "       'QA_8000_max', 'TIMEOFDAY_8000_max', 'elevation_2000_mean',\n",
       "       'elevation_2000_min', 'elevation_2000_max'],\n",
       "      dtype='object')"
      ]
     },
     "execution_count": 37,
     "metadata": {},
     "output_type": "execute_result"
    }
   ],
   "source": [
    "veg_elev = veg_elev.drop(['city_y', 'country_y', 'PM10_y'], axis = 1)\n",
    "veg_elev = veg_elev.rename(columns = {'city_x':'city', 'country_x':'country', 'PM10_x':'PM10'})\n",
    "\n",
    "veg_elev.columns"
   ]
  },
  {
   "cell_type": "code",
   "execution_count": 38,
   "id": "ba013818",
   "metadata": {},
   "outputs": [],
   "source": [
    "# Vegetation, Population & Elevation\n",
    "\n",
    "veg_elev_pop = pd.merge(veg_elev, world_w_population, on = ['location', 'Date'])"
   ]
  },
  {
   "cell_type": "code",
   "execution_count": 40,
   "id": "4a4140cd",
   "metadata": {},
   "outputs": [
    {
     "data": {
      "text/plain": [
       "Index(['Date', 'location', 'city', 'country', 'PM10', 'Lat', 'Long',\n",
       "       'NDVI_8000_mean', 'QA_8000_mean', 'TIMEOFDAY_8000_mean',\n",
       "       'NDVI_8000_min', 'QA_8000_min', 'TIMEOFDAY_8000_min', 'NDVI_8000_max',\n",
       "       'QA_8000_max', 'TIMEOFDAY_8000_max', 'elevation_2000_mean',\n",
       "       'elevation_2000_min', 'elevation_2000_max', 'avg_vis_mean',\n",
       "       'cf_cvg_mean', 'avg_vis_min', 'cf_cvg_min', 'avg_vis_max', 'cf_cvg_max',\n",
       "       'pop_density2010_mean', 'pop_density2010_min', 'pop_density2010_max'],\n",
       "      dtype='object')"
      ]
     },
     "execution_count": 40,
     "metadata": {},
     "output_type": "execute_result"
    }
   ],
   "source": [
    "veg_elev_pop = veg_elev_pop.drop(['city_y', 'country_y', 'PM10_y', 'Lat_y', 'Long_y'], axis = 1)\n",
    "veg_elev_pop = veg_elev_pop.rename(columns = {'city_x':'city', 'country_x':'country', 'PM10_x':'PM10', 'Lat_x':'Lat', 'Long_x':'Long'})\n",
    "\n",
    "veg_elev_pop.columns"
   ]
  },
  {
   "cell_type": "code",
   "execution_count": 72,
   "id": "58afdc5b",
   "metadata": {},
   "outputs": [],
   "source": [
    "# Vegetation, Population, Sentinel & Elevation\n",
    "\n",
    "veg_elev_pop_sat = pd.merge(veg_elev_pop, group_timeseries, on = ['location', 'Date'])"
   ]
  },
  {
   "cell_type": "code",
   "execution_count": 73,
   "id": "c368d483",
   "metadata": {},
   "outputs": [],
   "source": [
    "veg_elev_pop_sat = veg_elev_pop_sat.drop(['Lat_y', 'Long_y'], axis = 1)\n",
    "veg_elev_pop_sat = veg_elev_pop_sat.rename(columns = {'Lat_x':'Lat', 'Long_x':'Long'})"
   ]
  },
  {
   "cell_type": "code",
   "execution_count": 74,
   "id": "d04916b8",
   "metadata": {},
   "outputs": [
    {
     "data": {
      "text/plain": [
       "Index(['Date', 'location', 'city', 'country', 'PM10', 'Lat', 'Long',\n",
       "       'NDVI_8000_mean', 'QA_8000_mean', 'TIMEOFDAY_8000_mean',\n",
       "       'NDVI_8000_min', 'QA_8000_min', 'TIMEOFDAY_8000_min', 'NDVI_8000_max',\n",
       "       'QA_8000_max', 'TIMEOFDAY_8000_max', 'elevation_2000_mean',\n",
       "       'elevation_2000_min', 'elevation_2000_max', 'avg_vis_mean',\n",
       "       'cf_cvg_mean', 'avg_vis_min', 'cf_cvg_min', 'avg_vis_max', 'cf_cvg_max',\n",
       "       'pop_density2010_mean', 'pop_density2010_min', 'pop_density2010_max',\n",
       "       'precipitable_water_entire_atmosphere',\n",
       "       'relative_humidity_2m_above_ground',\n",
       "       'specific_humidity_2m_above_ground', 'temperature_2m_above_ground',\n",
       "       'u_component_of_wind_10m_above_ground',\n",
       "       'v_component_of_wind_10m_above_ground', '0_NO2_column_number_density',\n",
       "       '0_NO2_slant_column_number_density',\n",
       "       '0_stratospheric_NO2_column_number_density', '0_tropopause_pressure',\n",
       "       '0_tropospheric_NO2_column_number_density',\n",
       "       '1_O3_column_number_density', '2_CO_column_number_density',\n",
       "       '2_H2O_column_number_density', '2_cloud_height',\n",
       "       '3_absorbing_aerosol_index'],\n",
       "      dtype='object')"
      ]
     },
     "execution_count": 74,
     "metadata": {},
     "output_type": "execute_result"
    }
   ],
   "source": [
    "veg_elev_pop_sat.columns"
   ]
  },
  {
   "cell_type": "code",
   "execution_count": 75,
   "id": "7840e6fd",
   "metadata": {},
   "outputs": [
    {
     "data": {
      "text/plain": [
       "(91925, 44)"
      ]
     },
     "execution_count": 75,
     "metadata": {},
     "output_type": "execute_result"
    }
   ],
   "source": [
    "veg_elev_pop_sat.shape"
   ]
  },
  {
   "cell_type": "code",
   "execution_count": 77,
   "id": "66eb34ef",
   "metadata": {},
   "outputs": [],
   "source": [
    "data_PM10_all = veg_elev_pop_sat.groupby(['location', 'Date'], as_index=False).mean(lambda x: set(x))"
   ]
  },
  {
   "cell_type": "code",
   "execution_count": 78,
   "id": "c256b47f",
   "metadata": {},
   "outputs": [
    {
     "data": {
      "text/plain": [
       "Index(['location', 'Date', 'PM10', 'Lat', 'Long', 'NDVI_8000_mean',\n",
       "       'QA_8000_mean', 'TIMEOFDAY_8000_mean', 'NDVI_8000_min', 'QA_8000_min',\n",
       "       'TIMEOFDAY_8000_min', 'NDVI_8000_max', 'QA_8000_max',\n",
       "       'TIMEOFDAY_8000_max', 'elevation_2000_mean', 'elevation_2000_min',\n",
       "       'elevation_2000_max', 'avg_vis_mean', 'cf_cvg_mean', 'avg_vis_min',\n",
       "       'cf_cvg_min', 'avg_vis_max', 'cf_cvg_max', 'pop_density2010_mean',\n",
       "       'pop_density2010_min', 'pop_density2010_max',\n",
       "       'precipitable_water_entire_atmosphere',\n",
       "       'relative_humidity_2m_above_ground',\n",
       "       'specific_humidity_2m_above_ground', 'temperature_2m_above_ground',\n",
       "       'u_component_of_wind_10m_above_ground',\n",
       "       'v_component_of_wind_10m_above_ground', '0_NO2_column_number_density',\n",
       "       '0_NO2_slant_column_number_density',\n",
       "       '0_stratospheric_NO2_column_number_density', '0_tropopause_pressure',\n",
       "       '0_tropospheric_NO2_column_number_density',\n",
       "       '1_O3_column_number_density', '2_CO_column_number_density',\n",
       "       '2_H2O_column_number_density', '2_cloud_height',\n",
       "       '3_absorbing_aerosol_index'],\n",
       "      dtype='object')"
      ]
     },
     "execution_count": 78,
     "metadata": {},
     "output_type": "execute_result"
    }
   ],
   "source": [
    "data_PM10_all.columns"
   ]
  },
  {
   "cell_type": "code",
   "execution_count": 79,
   "id": "4041b8c4",
   "metadata": {},
   "outputs": [
    {
     "data": {
      "text/plain": [
       "(24580, 42)"
      ]
     },
     "execution_count": 79,
     "metadata": {},
     "output_type": "execute_result"
    }
   ],
   "source": [
    "data_PM10_all.shape"
   ]
  },
  {
   "cell_type": "code",
   "execution_count": 82,
   "id": "37fa307d",
   "metadata": {},
   "outputs": [],
   "source": [
    "data_PM10_all.to_csv('data_PM10_all_train.csv')"
   ]
  },
  {
   "cell_type": "code",
   "execution_count": null,
   "id": "b61b8971",
   "metadata": {},
   "outputs": [],
   "source": []
  }
 ],
 "metadata": {
  "kernelspec": {
   "display_name": "Python 3 (ipykernel)",
   "language": "python",
   "name": "python3"
  },
  "language_info": {
   "codemirror_mode": {
    "name": "ipython",
    "version": 3
   },
   "file_extension": ".py",
   "mimetype": "text/x-python",
   "name": "python",
   "nbconvert_exporter": "python",
   "pygments_lexer": "ipython3",
   "version": "3.9.7"
  }
 },
 "nbformat": 4,
 "nbformat_minor": 5
}
