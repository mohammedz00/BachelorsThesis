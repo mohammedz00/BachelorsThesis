{
 "cells": [
  {
   "cell_type": "code",
   "execution_count": null,
   "metadata": {},
   "outputs": [],
   "source": [
    "import pandas as pd\n",
    "import openaq\n",
    "api = openaq.OpenAQ()\n",
    "\n",
    "UK_cities = api.cities(country = 'GB', limit = 10000, df = True)\n",
    "UK_ground_data = api.measurements(city = UK_cities, parameter = 'pm25', \n",
    "    date_from = '2018-09-27', date_to = '2020-03-31', limit = 100000, df = True)\n",
    "UK_ground_data_PM10 = api.measurements(city = UK_cities, parameter = 'pm10', \n",
    "    date_from = '2018-09-27', date_to = '2020-03-31', limit = 100000, df = True)"
   ]
  },
  {
   "cell_type": "code",
   "execution_count": 1,
   "metadata": {},
   "outputs": [],
   "source": [
    "import matplotlib.pyplot as plt\n",
    "import seaborn as sns\n",
    "import openaq\n",
    "\n",
    "sns.set(style=\"ticks\", font_scale=1.)\n",
    "\n",
    "api = openaq.OpenAQ()\n",
    "import pandas as pd\n"
   ]
  },
  {
   "cell_type": "code",
   "execution_count": 2,
   "metadata": {},
   "outputs": [
    {
     "name": "stderr",
     "output_type": "stream",
     "text": [
      "C:\\Users\\Zenudeen\\anaconda3\\lib\\site-packages\\openaq\\decorators.py:57: FutureWarning: pandas.io.json.json_normalize is deprecated, use pandas.json_normalize instead\n",
      "  data = pd.io.json.json_normalize(resp)\n"
     ]
    }
   ],
   "source": [
    "UK_cities = api.cities(country = 'GB', limit = 10000, df = True)"
   ]
  },
  {
   "cell_type": "code",
   "execution_count": 3,
   "metadata": {},
   "outputs": [
    {
     "data": {
      "text/html": [
       "<div>\n",
       "<style scoped>\n",
       "    .dataframe tbody tr th:only-of-type {\n",
       "        vertical-align: middle;\n",
       "    }\n",
       "\n",
       "    .dataframe tbody tr th {\n",
       "        vertical-align: top;\n",
       "    }\n",
       "\n",
       "    .dataframe thead th {\n",
       "        text-align: right;\n",
       "    }\n",
       "</style>\n",
       "<table border=\"1\" class=\"dataframe\">\n",
       "  <thead>\n",
       "    <tr style=\"text-align: right;\">\n",
       "      <th></th>\n",
       "      <th>country</th>\n",
       "      <th>name</th>\n",
       "      <th>city</th>\n",
       "      <th>count</th>\n",
       "      <th>locations</th>\n",
       "    </tr>\n",
       "  </thead>\n",
       "  <tbody>\n",
       "    <tr>\n",
       "      <th>0</th>\n",
       "      <td>GB</td>\n",
       "      <td>Aberdeen</td>\n",
       "      <td>Aberdeen</td>\n",
       "      <td>600266</td>\n",
       "      <td>3</td>\n",
       "    </tr>\n",
       "    <tr>\n",
       "      <th>1</th>\n",
       "      <td>GB</td>\n",
       "      <td>Adur</td>\n",
       "      <td>Adur</td>\n",
       "      <td>29061</td>\n",
       "      <td>1</td>\n",
       "    </tr>\n",
       "    <tr>\n",
       "      <th>2</th>\n",
       "      <td>GB</td>\n",
       "      <td>Armagh</td>\n",
       "      <td>Armagh</td>\n",
       "      <td>212490</td>\n",
       "      <td>1</td>\n",
       "    </tr>\n",
       "    <tr>\n",
       "      <th>3</th>\n",
       "      <td>GB</td>\n",
       "      <td>Aston Hill</td>\n",
       "      <td>Aston Hill</td>\n",
       "      <td>216454</td>\n",
       "      <td>1</td>\n",
       "    </tr>\n",
       "    <tr>\n",
       "      <th>4</th>\n",
       "      <td>GB</td>\n",
       "      <td>Auchencorth</td>\n",
       "      <td>Auchencorth</td>\n",
       "      <td>332619</td>\n",
       "      <td>1</td>\n",
       "    </tr>\n",
       "    <tr>\n",
       "      <th>...</th>\n",
       "      <td>...</td>\n",
       "      <td>...</td>\n",
       "      <td>...</td>\n",
       "      <td>...</td>\n",
       "      <td>...</td>\n",
       "    </tr>\n",
       "    <tr>\n",
       "      <th>152</th>\n",
       "      <td>GB</td>\n",
       "      <td>Wrexham</td>\n",
       "      <td>Wrexham</td>\n",
       "      <td>336623</td>\n",
       "      <td>1</td>\n",
       "    </tr>\n",
       "    <tr>\n",
       "      <th>153</th>\n",
       "      <td>GB</td>\n",
       "      <td>Yarner Wood</td>\n",
       "      <td>Yarner Wood</td>\n",
       "      <td>222497</td>\n",
       "      <td>1</td>\n",
       "    </tr>\n",
       "    <tr>\n",
       "      <th>154</th>\n",
       "      <td>GB</td>\n",
       "      <td>York</td>\n",
       "      <td>York</td>\n",
       "      <td>631258</td>\n",
       "      <td>2</td>\n",
       "    </tr>\n",
       "    <tr>\n",
       "      <th>155</th>\n",
       "      <td>GB</td>\n",
       "      <td>Yorkshire</td>\n",
       "      <td>Yorkshire</td>\n",
       "      <td>213285</td>\n",
       "      <td>1</td>\n",
       "    </tr>\n",
       "    <tr>\n",
       "      <th>156</th>\n",
       "      <td>GB</td>\n",
       "      <td>Yorkshire &amp; Humberside</td>\n",
       "      <td>Yorkshire &amp; Humberside</td>\n",
       "      <td>182620</td>\n",
       "      <td>1</td>\n",
       "    </tr>\n",
       "  </tbody>\n",
       "</table>\n",
       "<p>157 rows × 5 columns</p>\n",
       "</div>"
      ],
      "text/plain": [
       "    country                    name                    city   count  locations\n",
       "0        GB                Aberdeen                Aberdeen  600266          3\n",
       "1        GB                    Adur                    Adur   29061          1\n",
       "2        GB                  Armagh                  Armagh  212490          1\n",
       "3        GB              Aston Hill              Aston Hill  216454          1\n",
       "4        GB             Auchencorth             Auchencorth  332619          1\n",
       "..      ...                     ...                     ...     ...        ...\n",
       "152      GB                 Wrexham                 Wrexham  336623          1\n",
       "153      GB             Yarner Wood             Yarner Wood  222497          1\n",
       "154      GB                    York                    York  631258          2\n",
       "155      GB               Yorkshire               Yorkshire  213285          1\n",
       "156      GB  Yorkshire & Humberside  Yorkshire & Humberside  182620          1\n",
       "\n",
       "[157 rows x 5 columns]"
      ]
     },
     "execution_count": 3,
     "metadata": {},
     "output_type": "execute_result"
    }
   ],
   "source": []
  },
  {
   "cell_type": "code",
   "execution_count": 2,
   "metadata": {},
   "outputs": [],
   "source": [
    "UK1 = api.measurements(city = UK_cities1, parameter = 'pm25', \n",
    "                       date_from = '2018-09-27', date_to = '2020-03-31', limit = 100000, df = True)"
   ]
  },
  {
   "cell_type": "code",
   "execution_count": 51,
   "metadata": {},
   "outputs": [],
   "source": [
    "UK_cities1 = UK_cities[0:1]\n",
    "UK_cities2 = UK_cities[10:20]\n",
    "UK_cities3 = UK_cities[20:30]\n",
    "UK_cities4 = UK_cities[30:40]\n",
    "UK_cities5 = UK_cities[40:50]\n",
    "UK_cities6 = UK_cities[50:60]\n",
    "UK_cities7 = UK_cities[60:70]\n",
    "UK_cities8 = UK_cities[70:80]\n",
    "UK_cities9 = UK_cities[80:90]\n",
    "UK_cities10 = UK_cities[90:100]\n",
    "UK_cities11 = UK_cities[100:]"
   ]
  },
  {
   "cell_type": "code",
   "execution_count": 1,
   "metadata": {},
   "outputs": [],
   "source": [
    "# UK1 = api.measurements(city = UK_cities1, parameter = 'pm25', \n",
    "#                        date_from = '2018-11-22', date_to = '2021-05-07', limit = 100000, df = True)"
   ]
  },
  {
   "cell_type": "code",
   "execution_count": 9,
   "metadata": {},
   "outputs": [
    {
     "name": "stderr",
     "output_type": "stream",
     "text": [
      "C:\\Users\\zenud\\anaconda3\\lib\\site-packages\\openaq\\decorators.py:57: FutureWarning: pandas.io.json.json_normalize is deprecated, use pandas.json_normalize instead\n",
      "  data = pd.io.json.json_normalize(resp)\n"
     ]
    },
    {
     "name": "stdout",
     "output_type": "stream",
     "text": [
      "146\n",
      "95\n"
     ]
    },
    {
     "data": {
      "text/plain": [
       "11"
      ]
     },
     "execution_count": 9,
     "metadata": {},
     "output_type": "execute_result"
    }
   ],
   "source": [
    "# Get the list of cities\n",
    "UK_cities = api.cities(country = 'GB', limit = 10000, df = True)\n",
    "UK_cities = UK_cities['city'].tolist()"
   ]
  },
  {
   "cell_type": "code",
   "execution_count": 92,
   "metadata": {},
   "outputs": [
    {
     "name": "stderr",
     "output_type": "stream",
     "text": [
      "C:\\Users\\zenud\\anaconda3\\lib\\site-packages\\openaq\\decorators.py:57: FutureWarning: pandas.io.json.json_normalize is deprecated, use pandas.json_normalize instead\n",
      "  data = pd.io.json.json_normalize(resp)\n"
     ]
    }
   ],
   "source": [
    "# Get PM2.5 from Columnbia\n",
    "# Repeat the same for other countries which have many cities\n",
    "UK_cities1 = UK_cities[0:2]\n",
    "\n",
    "\n",
    "UK1 = api.measurements(city = UK_cities1, parameter = 'pm25', \n",
    "                       date_from = '2018-11-22', date_to = '2021-05-07', limit = 100000, df = True)\n",
    "\n",
    "\n",
    "# frames = [CO1, CO2]\n",
    "# Colombia = pd.concat(frames)\n",
    "# Colombia.to_csv('Colombia.csv', index=False) "
   ]
  },
  {
   "cell_type": "code",
   "execution_count": 87,
   "metadata": {},
   "outputs": [],
   "source": [
    "UK_cities2 = UK_cities[2:8]\n",
    "UK2 = api.measurements(city = UK_cities2, parameter = 'pm25', \n",
    "                       date_from = '2018-11-22', date_to = '2021-05-07', limit = 100000, df = True)"
   ]
  },
  {
   "cell_type": "code",
   "execution_count": 94,
   "metadata": {},
   "outputs": [],
   "source": [
    "UK_cities3 = UK_cities[8:13]\n",
    "UK3 = api.measurements(city = UK_cities3, parameter = 'pm25', \n",
    "                       date_from = '2018-11-22', date_to = '2021-05-07', limit = 100000, df = True)"
   ]
  },
  {
   "cell_type": "code",
   "execution_count": 97,
   "metadata": {},
   "outputs": [],
   "source": [
    "UK_cities4 = UK_cities[13:17]\n",
    "UK4 = api.measurements(city = UK_cities4, parameter = 'pm25', \n",
    "                       date_from = '2018-11-22', date_to = '2021-05-07', limit = 100000, df = True)"
   ]
  },
  {
   "cell_type": "code",
   "execution_count": 98,
   "metadata": {},
   "outputs": [],
   "source": [
    "UK_cities5 = UK_cities[17:21]\n",
    "UK5 = api.measurements(city = UK_cities5, parameter = 'pm25', \n",
    "                       date_from = '2018-11-22', date_to = '2021-05-07', limit = 100000, df = True)"
   ]
  },
  {
   "cell_type": "code",
   "execution_count": 100,
   "metadata": {},
   "outputs": [],
   "source": [
    "UK_cities6 = UK_cities[21:24]\n",
    "UK6 = api.measurements(city = UK_cities6, parameter = 'pm25', \n",
    "                       date_from = '2018-11-22', date_to = '2021-05-07', limit = 100000, df = True)"
   ]
  },
  {
   "cell_type": "code",
   "execution_count": 103,
   "metadata": {},
   "outputs": [],
   "source": [
    "UK_cities7 = UK_cities[24:27]\n",
    "UK7 = api.measurements(city = UK_cities7, parameter = 'pm25', \n",
    "                       date_from = '2018-11-22', date_to = '2021-05-07', limit = 100000, df = True)"
   ]
  },
  {
   "cell_type": "code",
   "execution_count": 106,
   "metadata": {},
   "outputs": [],
   "source": [
    "UK_cities8 = UK_cities[27:28]\n",
    "UK8 = api.measurements(city = UK_cities8, parameter = 'pm25', \n",
    "                       date_from = '2018-11-22', date_to = '2021-05-07', limit = 100000, df = True)"
   ]
  },
  {
   "cell_type": "code",
   "execution_count": 107,
   "metadata": {},
   "outputs": [],
   "source": [
    "UK_cities9 = UK_cities[31:34]\n",
    "UK9 = api.measurements(city = UK_cities9, parameter = 'pm25', \n",
    "                       date_from = '2018-11-22', date_to = '2021-05-07', limit = 100000, df = True)"
   ]
  },
  {
   "cell_type": "code",
   "execution_count": 109,
   "metadata": {},
   "outputs": [],
   "source": [
    "UK_cities10 = UK_cities[34:37]\n",
    "UK10 = api.measurements(city = UK_cities10, parameter = 'pm25', \n",
    "                       date_from = '2018-11-22', date_to = '2021-05-07', limit = 100000, df = True)"
   ]
  },
  {
   "cell_type": "code",
   "execution_count": 111,
   "metadata": {},
   "outputs": [],
   "source": [
    "UK_cities11 = UK_cities[37:41]\n",
    "UK11 = api.measurements(city = UK_cities11, parameter = 'pm25', \n",
    "                       date_from = '2018-11-22', date_to = '2021-05-07', limit = 100000, df = True)"
   ]
  },
  {
   "cell_type": "code",
   "execution_count": 113,
   "metadata": {},
   "outputs": [],
   "source": [
    "UK_cities12 = UK_cities[41:45]\n",
    "UK12 = api.measurements(city = UK_cities12, parameter = 'pm25', \n",
    "                       date_from = '2018-11-22', date_to = '2021-05-07', limit = 100000, df = True)"
   ]
  },
  {
   "cell_type": "code",
   "execution_count": 115,
   "metadata": {},
   "outputs": [],
   "source": [
    "UK_cities13 = UK_cities[45:49]\n",
    "UK13 = api.measurements(city = UK_cities13, parameter = 'pm25', \n",
    "                       date_from = '2018-11-22', date_to = '2021-05-07', limit = 100000, df = True)"
   ]
  },
  {
   "cell_type": "code",
   "execution_count": 117,
   "metadata": {},
   "outputs": [],
   "source": [
    "UK_cities14 = UK_cities[49:52]\n",
    "UK14 = api.measurements(city = UK_cities14, parameter = 'pm25', \n",
    "                       date_from = '2018-11-22', date_to = '2021-05-07', limit = 100000, df = True)"
   ]
  },
  {
   "cell_type": "code",
   "execution_count": 122,
   "metadata": {},
   "outputs": [],
   "source": [
    "UK_cities15 = UK_cities[52:54]\n",
    "UK15 = api.measurements(city = UK_cities15, parameter = 'pm25', \n",
    "                       date_from = '2018-11-22', date_to = '2021-05-07', limit = 100000, df = True)"
   ]
  },
  {
   "cell_type": "code",
   "execution_count": 123,
   "metadata": {},
   "outputs": [],
   "source": [
    "UK_cities16 = UK_cities[54:57]\n",
    "UK16 = api.measurements(city = UK_cities16, parameter = 'pm25', \n",
    "                       date_from = '2018-11-22', date_to = '2021-05-07', limit = 100000, df = True)"
   ]
  },
  {
   "cell_type": "code",
   "execution_count": 127,
   "metadata": {},
   "outputs": [],
   "source": [
    "UK_cities17 = UK_cities[57:58]\n",
    "UK17 = api.measurements(city = UK_cities17, parameter = 'pm25', \n",
    "                       date_from = '2018-11-22', date_to = '2021-05-07', limit = 100000, df = True)"
   ]
  },
  {
   "cell_type": "code",
   "execution_count": 133,
   "metadata": {},
   "outputs": [],
   "source": [
    "UK_cities18 = UK_cities[58:59]\n",
    "UK18 = api.measurements(city = UK_cities18, parameter = 'pm25', \n",
    "                       date_from = '2018-11-22', date_to = '2021-05-07', limit = 100000, df = True)"
   ]
  },
  {
   "cell_type": "code",
   "execution_count": 135,
   "metadata": {},
   "outputs": [
    {
     "name": "stderr",
     "output_type": "stream",
     "text": [
      "C:\\Users\\zenud\\anaconda3\\lib\\site-packages\\openaq\\decorators.py:57: FutureWarning: pandas.io.json.json_normalize is deprecated, use pandas.json_normalize instead\n",
      "  data = pd.io.json.json_normalize(resp)\n"
     ]
    }
   ],
   "source": [
    "UK_cities19 = UK_cities[59:62]\n",
    "UK19 = api.measurements(city = UK_cities19, parameter = 'pm25', \n",
    "                       date_from = '2018-11-22', date_to = '2021-05-07', limit = 100000, df = True)"
   ]
  },
  {
   "cell_type": "code",
   "execution_count": 137,
   "metadata": {},
   "outputs": [],
   "source": [
    "UK_cities20 = UK_cities[62:65]\n",
    "UK20 = api.measurements(city = UK_cities20, parameter = 'pm25', \n",
    "                       date_from = '2018-11-22', date_to = '2021-05-07', limit = 100000, df = True)"
   ]
  },
  {
   "cell_type": "code",
   "execution_count": 140,
   "metadata": {},
   "outputs": [],
   "source": [
    "UK_cities21 = UK_cities[65:67]\n",
    "UK21 = api.measurements(city = UK_cities21, parameter = 'pm25', \n",
    "                       date_from = '2018-11-22', date_to = '2021-05-07', limit = 100000, df = True)"
   ]
  },
  {
   "cell_type": "code",
   "execution_count": 141,
   "metadata": {},
   "outputs": [],
   "source": [
    "UK_cities22 = UK_cities[67:70]\n",
    "UK22 = api.measurements(city = UK_cities22, parameter = 'pm25', \n",
    "                       date_from = '2018-11-22', date_to = '2021-05-07', limit = 100000, df = True)"
   ]
  },
  {
   "cell_type": "code",
   "execution_count": 143,
   "metadata": {},
   "outputs": [],
   "source": [
    "UK_cities23 = UK_cities[70:72]\n",
    "UK23 = api.measurements(city = UK_cities23, parameter = 'pm25', \n",
    "                       date_from = '2018-11-22', date_to = '2021-05-07', limit = 100000, df = True)"
   ]
  },
  {
   "cell_type": "code",
   "execution_count": 144,
   "metadata": {},
   "outputs": [],
   "source": [
    "UK_cities24 = UK_cities[72:75]\n",
    "UK24 = api.measurements(city = UK_cities24, parameter = 'pm25', \n",
    "                       date_from = '2018-11-22', date_to = '2021-05-07', limit = 100000, df = True)"
   ]
  },
  {
   "cell_type": "code",
   "execution_count": 146,
   "metadata": {},
   "outputs": [],
   "source": [
    "UK_cities25 = UK_cities[75:77]\n",
    "UK25 = api.measurements(city = UK_cities25, parameter = 'pm25', \n",
    "                       date_from = '2018-11-22', date_to = '2021-05-07', limit = 100000, df = True)"
   ]
  },
  {
   "cell_type": "code",
   "execution_count": 147,
   "metadata": {},
   "outputs": [],
   "source": [
    "UK_cities26 = UK_cities[77:80]\n",
    "UK26 = api.measurements(city = UK_cities26, parameter = 'pm25', \n",
    "                       date_from = '2018-11-22', date_to = '2021-05-07', limit = 100000, df = True)"
   ]
  },
  {
   "cell_type": "code",
   "execution_count": 149,
   "metadata": {},
   "outputs": [],
   "source": [
    "UK_cities27 = UK_cities[80:83]\n",
    "UK27 = api.measurements(city = UK_cities27, parameter = 'pm25', \n",
    "                       date_from = '2018-11-22', date_to = '2021-05-07', limit = 100000, df = True)"
   ]
  },
  {
   "cell_type": "code",
   "execution_count": 150,
   "metadata": {},
   "outputs": [],
   "source": [
    "UK_cities28 = UK_cities[83:87]\n",
    "UK28 = api.measurements(city = UK_cities28, parameter = 'pm25', \n",
    "                       date_from = '2018-11-22', date_to = '2021-05-07', limit = 100000, df = True)"
   ]
  },
  {
   "cell_type": "code",
   "execution_count": 152,
   "metadata": {},
   "outputs": [],
   "source": [
    "UK_cities29 = UK_cities[87:90]\n",
    "UK29 = api.measurements(city = UK_cities29, parameter = 'pm25', \n",
    "                       date_from = '2018-11-22', date_to = '2021-05-07', limit = 100000, df = True)"
   ]
  },
  {
   "cell_type": "code",
   "execution_count": 154,
   "metadata": {},
   "outputs": [],
   "source": [
    "UK_cities30 = UK_cities[90:93]\n",
    "UK30 = api.measurements(city = UK_cities30, parameter = 'pm25', \n",
    "                       date_from = '2018-11-22', date_to = '2021-05-07', limit = 100000, df = True)"
   ]
  },
  {
   "cell_type": "code",
   "execution_count": 155,
   "metadata": {},
   "outputs": [],
   "source": [
    "UK_cities31 = UK_cities[93:96]\n",
    "UK31 = api.measurements(city = UK_cities31, parameter = 'pm25', \n",
    "                       date_from = '2018-11-22', date_to = '2021-05-07', limit = 100000, df = True)"
   ]
  },
  {
   "cell_type": "code",
   "execution_count": 156,
   "metadata": {},
   "outputs": [],
   "source": [
    "UK_cities32 = UK_cities[96:100]\n",
    "UK32 = api.measurements(city = UK_cities32, parameter = 'pm25', \n",
    "                       date_from = '2018-11-22', date_to = '2021-05-07', limit = 100000, df = True)"
   ]
  },
  {
   "cell_type": "code",
   "execution_count": 157,
   "metadata": {},
   "outputs": [],
   "source": [
    "UK_cities33 = UK_cities[100:104]\n",
    "UK33 = api.measurements(city = UK_cities33, parameter = 'pm25', \n",
    "                       date_from = '2018-11-22', date_to = '2021-05-07', limit = 100000, df = True)"
   ]
  },
  {
   "cell_type": "code",
   "execution_count": 158,
   "metadata": {},
   "outputs": [],
   "source": [
    "UK_cities34 = UK_cities[104:108]\n",
    "UK34 = api.measurements(city = UK_cities34, parameter = 'pm25', \n",
    "                       date_from = '2018-11-22', date_to = '2021-05-07', limit = 100000, df = True)"
   ]
  },
  {
   "cell_type": "code",
   "execution_count": 159,
   "metadata": {},
   "outputs": [],
   "source": [
    "UK_cities35 = UK_cities[108:]\n",
    "UK35 = api.measurements(city = UK_cities35, parameter = 'pm25', \n",
    "                       date_from = '2018-11-22', date_to = '2021-05-07', limit = 100000, df = True)"
   ]
  },
  {
   "cell_type": "code",
   "execution_count": 3,
   "metadata": {},
   "outputs": [],
   "source": [
    "import pandas as pd"
   ]
  },
  {
   "cell_type": "code",
   "execution_count": 162,
   "metadata": {},
   "outputs": [],
   "source": [
    "frames = [UK1, UK2,UK3,UK4,UK5,UK6,UK7,UK8,UK9,UK10,UK11,UK12,UK13,UK14,UK15,UK16,UK17,UK18,UK19,UK20,UK21,UK22,UK23,UK24,UK25,\n",
    "          UK26,UK27,UK28,UK29,UK30,UK31,UK32,UK33,UK34,UK35]\n",
    "UNITED_KINGDOM = pd.concat(frames)\n",
    "UNITED_KINGDOM.to_csv('UNITEDKINGDOM.csv', index=False) "
   ]
  },
  {
   "cell_type": "code",
   "execution_count": 3,
   "metadata": {},
   "outputs": [
    {
     "ename": "FileNotFoundError",
     "evalue": "[Errno 2] No such file or directory: 'UNITEDKINGDOM.csv'",
     "output_type": "error",
     "traceback": [
      "\u001b[1;31m---------------------------------------------------------------------------\u001b[0m",
      "\u001b[1;31mFileNotFoundError\u001b[0m                         Traceback (most recent call last)",
      "\u001b[1;32m~\\AppData\\Local\\Temp/ipykernel_3096/1312952802.py\u001b[0m in \u001b[0;36m<module>\u001b[1;34m\u001b[0m\n\u001b[1;32m----> 1\u001b[1;33m \u001b[0mthe_uk\u001b[0m \u001b[1;33m=\u001b[0m \u001b[0mpd\u001b[0m\u001b[1;33m.\u001b[0m\u001b[0mread_csv\u001b[0m\u001b[1;33m(\u001b[0m\u001b[1;34m'UNITEDKINGDOM.csv'\u001b[0m\u001b[1;33m)\u001b[0m\u001b[1;33m\u001b[0m\u001b[1;33m\u001b[0m\u001b[0m\n\u001b[0m",
      "\u001b[1;32m~\\anaconda3\\lib\\site-packages\\pandas\\util\\_decorators.py\u001b[0m in \u001b[0;36mwrapper\u001b[1;34m(*args, **kwargs)\u001b[0m\n\u001b[0;32m    309\u001b[0m                     \u001b[0mstacklevel\u001b[0m\u001b[1;33m=\u001b[0m\u001b[0mstacklevel\u001b[0m\u001b[1;33m,\u001b[0m\u001b[1;33m\u001b[0m\u001b[1;33m\u001b[0m\u001b[0m\n\u001b[0;32m    310\u001b[0m                 )\n\u001b[1;32m--> 311\u001b[1;33m             \u001b[1;32mreturn\u001b[0m \u001b[0mfunc\u001b[0m\u001b[1;33m(\u001b[0m\u001b[1;33m*\u001b[0m\u001b[0margs\u001b[0m\u001b[1;33m,\u001b[0m \u001b[1;33m**\u001b[0m\u001b[0mkwargs\u001b[0m\u001b[1;33m)\u001b[0m\u001b[1;33m\u001b[0m\u001b[1;33m\u001b[0m\u001b[0m\n\u001b[0m\u001b[0;32m    312\u001b[0m \u001b[1;33m\u001b[0m\u001b[0m\n\u001b[0;32m    313\u001b[0m         \u001b[1;32mreturn\u001b[0m \u001b[0mwrapper\u001b[0m\u001b[1;33m\u001b[0m\u001b[1;33m\u001b[0m\u001b[0m\n",
      "\u001b[1;32m~\\anaconda3\\lib\\site-packages\\pandas\\io\\parsers\\readers.py\u001b[0m in \u001b[0;36mread_csv\u001b[1;34m(filepath_or_buffer, sep, delimiter, header, names, index_col, usecols, squeeze, prefix, mangle_dupe_cols, dtype, engine, converters, true_values, false_values, skipinitialspace, skiprows, skipfooter, nrows, na_values, keep_default_na, na_filter, verbose, skip_blank_lines, parse_dates, infer_datetime_format, keep_date_col, date_parser, dayfirst, cache_dates, iterator, chunksize, compression, thousands, decimal, lineterminator, quotechar, quoting, doublequote, escapechar, comment, encoding, encoding_errors, dialect, error_bad_lines, warn_bad_lines, on_bad_lines, delim_whitespace, low_memory, memory_map, float_precision, storage_options)\u001b[0m\n\u001b[0;32m    584\u001b[0m     \u001b[0mkwds\u001b[0m\u001b[1;33m.\u001b[0m\u001b[0mupdate\u001b[0m\u001b[1;33m(\u001b[0m\u001b[0mkwds_defaults\u001b[0m\u001b[1;33m)\u001b[0m\u001b[1;33m\u001b[0m\u001b[1;33m\u001b[0m\u001b[0m\n\u001b[0;32m    585\u001b[0m \u001b[1;33m\u001b[0m\u001b[0m\n\u001b[1;32m--> 586\u001b[1;33m     \u001b[1;32mreturn\u001b[0m \u001b[0m_read\u001b[0m\u001b[1;33m(\u001b[0m\u001b[0mfilepath_or_buffer\u001b[0m\u001b[1;33m,\u001b[0m \u001b[0mkwds\u001b[0m\u001b[1;33m)\u001b[0m\u001b[1;33m\u001b[0m\u001b[1;33m\u001b[0m\u001b[0m\n\u001b[0m\u001b[0;32m    587\u001b[0m \u001b[1;33m\u001b[0m\u001b[0m\n\u001b[0;32m    588\u001b[0m \u001b[1;33m\u001b[0m\u001b[0m\n",
      "\u001b[1;32m~\\anaconda3\\lib\\site-packages\\pandas\\io\\parsers\\readers.py\u001b[0m in \u001b[0;36m_read\u001b[1;34m(filepath_or_buffer, kwds)\u001b[0m\n\u001b[0;32m    480\u001b[0m \u001b[1;33m\u001b[0m\u001b[0m\n\u001b[0;32m    481\u001b[0m     \u001b[1;31m# Create the parser.\u001b[0m\u001b[1;33m\u001b[0m\u001b[1;33m\u001b[0m\u001b[0m\n\u001b[1;32m--> 482\u001b[1;33m     \u001b[0mparser\u001b[0m \u001b[1;33m=\u001b[0m \u001b[0mTextFileReader\u001b[0m\u001b[1;33m(\u001b[0m\u001b[0mfilepath_or_buffer\u001b[0m\u001b[1;33m,\u001b[0m \u001b[1;33m**\u001b[0m\u001b[0mkwds\u001b[0m\u001b[1;33m)\u001b[0m\u001b[1;33m\u001b[0m\u001b[1;33m\u001b[0m\u001b[0m\n\u001b[0m\u001b[0;32m    483\u001b[0m \u001b[1;33m\u001b[0m\u001b[0m\n\u001b[0;32m    484\u001b[0m     \u001b[1;32mif\u001b[0m \u001b[0mchunksize\u001b[0m \u001b[1;32mor\u001b[0m \u001b[0miterator\u001b[0m\u001b[1;33m:\u001b[0m\u001b[1;33m\u001b[0m\u001b[1;33m\u001b[0m\u001b[0m\n",
      "\u001b[1;32m~\\anaconda3\\lib\\site-packages\\pandas\\io\\parsers\\readers.py\u001b[0m in \u001b[0;36m__init__\u001b[1;34m(self, f, engine, **kwds)\u001b[0m\n\u001b[0;32m    809\u001b[0m             \u001b[0mself\u001b[0m\u001b[1;33m.\u001b[0m\u001b[0moptions\u001b[0m\u001b[1;33m[\u001b[0m\u001b[1;34m\"has_index_names\"\u001b[0m\u001b[1;33m]\u001b[0m \u001b[1;33m=\u001b[0m \u001b[0mkwds\u001b[0m\u001b[1;33m[\u001b[0m\u001b[1;34m\"has_index_names\"\u001b[0m\u001b[1;33m]\u001b[0m\u001b[1;33m\u001b[0m\u001b[1;33m\u001b[0m\u001b[0m\n\u001b[0;32m    810\u001b[0m \u001b[1;33m\u001b[0m\u001b[0m\n\u001b[1;32m--> 811\u001b[1;33m         \u001b[0mself\u001b[0m\u001b[1;33m.\u001b[0m\u001b[0m_engine\u001b[0m \u001b[1;33m=\u001b[0m \u001b[0mself\u001b[0m\u001b[1;33m.\u001b[0m\u001b[0m_make_engine\u001b[0m\u001b[1;33m(\u001b[0m\u001b[0mself\u001b[0m\u001b[1;33m.\u001b[0m\u001b[0mengine\u001b[0m\u001b[1;33m)\u001b[0m\u001b[1;33m\u001b[0m\u001b[1;33m\u001b[0m\u001b[0m\n\u001b[0m\u001b[0;32m    812\u001b[0m \u001b[1;33m\u001b[0m\u001b[0m\n\u001b[0;32m    813\u001b[0m     \u001b[1;32mdef\u001b[0m \u001b[0mclose\u001b[0m\u001b[1;33m(\u001b[0m\u001b[0mself\u001b[0m\u001b[1;33m)\u001b[0m\u001b[1;33m:\u001b[0m\u001b[1;33m\u001b[0m\u001b[1;33m\u001b[0m\u001b[0m\n",
      "\u001b[1;32m~\\anaconda3\\lib\\site-packages\\pandas\\io\\parsers\\readers.py\u001b[0m in \u001b[0;36m_make_engine\u001b[1;34m(self, engine)\u001b[0m\n\u001b[0;32m   1038\u001b[0m             )\n\u001b[0;32m   1039\u001b[0m         \u001b[1;31m# error: Too many arguments for \"ParserBase\"\u001b[0m\u001b[1;33m\u001b[0m\u001b[1;33m\u001b[0m\u001b[0m\n\u001b[1;32m-> 1040\u001b[1;33m         \u001b[1;32mreturn\u001b[0m \u001b[0mmapping\u001b[0m\u001b[1;33m[\u001b[0m\u001b[0mengine\u001b[0m\u001b[1;33m]\u001b[0m\u001b[1;33m(\u001b[0m\u001b[0mself\u001b[0m\u001b[1;33m.\u001b[0m\u001b[0mf\u001b[0m\u001b[1;33m,\u001b[0m \u001b[1;33m**\u001b[0m\u001b[0mself\u001b[0m\u001b[1;33m.\u001b[0m\u001b[0moptions\u001b[0m\u001b[1;33m)\u001b[0m  \u001b[1;31m# type: ignore[call-arg]\u001b[0m\u001b[1;33m\u001b[0m\u001b[1;33m\u001b[0m\u001b[0m\n\u001b[0m\u001b[0;32m   1041\u001b[0m \u001b[1;33m\u001b[0m\u001b[0m\n\u001b[0;32m   1042\u001b[0m     \u001b[1;32mdef\u001b[0m \u001b[0m_failover_to_python\u001b[0m\u001b[1;33m(\u001b[0m\u001b[0mself\u001b[0m\u001b[1;33m)\u001b[0m\u001b[1;33m:\u001b[0m\u001b[1;33m\u001b[0m\u001b[1;33m\u001b[0m\u001b[0m\n",
      "\u001b[1;32m~\\anaconda3\\lib\\site-packages\\pandas\\io\\parsers\\c_parser_wrapper.py\u001b[0m in \u001b[0;36m__init__\u001b[1;34m(self, src, **kwds)\u001b[0m\n\u001b[0;32m     49\u001b[0m \u001b[1;33m\u001b[0m\u001b[0m\n\u001b[0;32m     50\u001b[0m         \u001b[1;31m# open handles\u001b[0m\u001b[1;33m\u001b[0m\u001b[1;33m\u001b[0m\u001b[0m\n\u001b[1;32m---> 51\u001b[1;33m         \u001b[0mself\u001b[0m\u001b[1;33m.\u001b[0m\u001b[0m_open_handles\u001b[0m\u001b[1;33m(\u001b[0m\u001b[0msrc\u001b[0m\u001b[1;33m,\u001b[0m \u001b[0mkwds\u001b[0m\u001b[1;33m)\u001b[0m\u001b[1;33m\u001b[0m\u001b[1;33m\u001b[0m\u001b[0m\n\u001b[0m\u001b[0;32m     52\u001b[0m         \u001b[1;32massert\u001b[0m \u001b[0mself\u001b[0m\u001b[1;33m.\u001b[0m\u001b[0mhandles\u001b[0m \u001b[1;32mis\u001b[0m \u001b[1;32mnot\u001b[0m \u001b[1;32mNone\u001b[0m\u001b[1;33m\u001b[0m\u001b[1;33m\u001b[0m\u001b[0m\n\u001b[0;32m     53\u001b[0m \u001b[1;33m\u001b[0m\u001b[0m\n",
      "\u001b[1;32m~\\anaconda3\\lib\\site-packages\\pandas\\io\\parsers\\base_parser.py\u001b[0m in \u001b[0;36m_open_handles\u001b[1;34m(self, src, kwds)\u001b[0m\n\u001b[0;32m    220\u001b[0m         \u001b[0mLet\u001b[0m \u001b[0mthe\u001b[0m \u001b[0mreaders\u001b[0m \u001b[0mopen\u001b[0m \u001b[0mIOHandles\u001b[0m \u001b[0mafter\u001b[0m \u001b[0mthey\u001b[0m \u001b[0mare\u001b[0m \u001b[0mdone\u001b[0m \u001b[1;32mwith\u001b[0m \u001b[0mtheir\u001b[0m \u001b[0mpotential\u001b[0m \u001b[0mraises\u001b[0m\u001b[1;33m.\u001b[0m\u001b[1;33m\u001b[0m\u001b[1;33m\u001b[0m\u001b[0m\n\u001b[0;32m    221\u001b[0m         \"\"\"\n\u001b[1;32m--> 222\u001b[1;33m         self.handles = get_handle(\n\u001b[0m\u001b[0;32m    223\u001b[0m             \u001b[0msrc\u001b[0m\u001b[1;33m,\u001b[0m\u001b[1;33m\u001b[0m\u001b[1;33m\u001b[0m\u001b[0m\n\u001b[0;32m    224\u001b[0m             \u001b[1;34m\"r\"\u001b[0m\u001b[1;33m,\u001b[0m\u001b[1;33m\u001b[0m\u001b[1;33m\u001b[0m\u001b[0m\n",
      "\u001b[1;32m~\\anaconda3\\lib\\site-packages\\pandas\\io\\common.py\u001b[0m in \u001b[0;36mget_handle\u001b[1;34m(path_or_buf, mode, encoding, compression, memory_map, is_text, errors, storage_options)\u001b[0m\n\u001b[0;32m    700\u001b[0m         \u001b[1;32mif\u001b[0m \u001b[0mioargs\u001b[0m\u001b[1;33m.\u001b[0m\u001b[0mencoding\u001b[0m \u001b[1;32mand\u001b[0m \u001b[1;34m\"b\"\u001b[0m \u001b[1;32mnot\u001b[0m \u001b[1;32min\u001b[0m \u001b[0mioargs\u001b[0m\u001b[1;33m.\u001b[0m\u001b[0mmode\u001b[0m\u001b[1;33m:\u001b[0m\u001b[1;33m\u001b[0m\u001b[1;33m\u001b[0m\u001b[0m\n\u001b[0;32m    701\u001b[0m             \u001b[1;31m# Encoding\u001b[0m\u001b[1;33m\u001b[0m\u001b[1;33m\u001b[0m\u001b[0m\n\u001b[1;32m--> 702\u001b[1;33m             handle = open(\n\u001b[0m\u001b[0;32m    703\u001b[0m                 \u001b[0mhandle\u001b[0m\u001b[1;33m,\u001b[0m\u001b[1;33m\u001b[0m\u001b[1;33m\u001b[0m\u001b[0m\n\u001b[0;32m    704\u001b[0m                 \u001b[0mioargs\u001b[0m\u001b[1;33m.\u001b[0m\u001b[0mmode\u001b[0m\u001b[1;33m,\u001b[0m\u001b[1;33m\u001b[0m\u001b[1;33m\u001b[0m\u001b[0m\n",
      "\u001b[1;31mFileNotFoundError\u001b[0m: [Errno 2] No such file or directory: 'UNITEDKINGDOM.csv'"
     ]
    }
   ],
   "source": [
    "the_uk = pd.read_csv('UNITEDKINGDOM.csv')"
   ]
  },
  {
   "cell_type": "code",
   "execution_count": 2,
   "metadata": {},
   "outputs": [],
   "source": [
    "import pandas as pd"
   ]
  },
  {
   "cell_type": "code",
   "execution_count": null,
   "metadata": {},
   "outputs": [],
   "source": []
  },
  {
   "cell_type": "code",
   "execution_count": null,
   "metadata": {},
   "outputs": [],
   "source": []
  },
  {
   "cell_type": "code",
   "execution_count": 22,
   "metadata": {},
   "outputs": [
    {
     "data": {
      "text/plain": [
       "Index(['location', 'parameter', 'value', 'unit', 'country', 'city', 'date.utc',\n",
       "       'coordinates.latitude', 'coordinates.longitude'],\n",
       "      dtype='object')"
      ]
     },
     "execution_count": 22,
     "metadata": {},
     "output_type": "execute_result"
    }
   ],
   "source": [
    "the_uk.columns"
   ]
  },
  {
   "cell_type": "code",
   "execution_count": 166,
   "metadata": {},
   "outputs": [
    {
     "data": {
      "text/html": [
       "<div>\n",
       "<style scoped>\n",
       "    .dataframe tbody tr th:only-of-type {\n",
       "        vertical-align: middle;\n",
       "    }\n",
       "\n",
       "    .dataframe tbody tr th {\n",
       "        vertical-align: top;\n",
       "    }\n",
       "\n",
       "    .dataframe thead th {\n",
       "        text-align: right;\n",
       "    }\n",
       "</style>\n",
       "<table border=\"1\" class=\"dataframe\">\n",
       "  <thead>\n",
       "    <tr style=\"text-align: right;\">\n",
       "      <th></th>\n",
       "      <th></th>\n",
       "      <th>value</th>\n",
       "      <th>coordinates.latitude</th>\n",
       "      <th>coordinates.longitude</th>\n",
       "    </tr>\n",
       "    <tr>\n",
       "      <th>location</th>\n",
       "      <th>date.utc</th>\n",
       "      <th></th>\n",
       "      <th></th>\n",
       "      <th></th>\n",
       "    </tr>\n",
       "  </thead>\n",
       "  <tbody>\n",
       "    <tr>\n",
       "      <th rowspan=\"5\" valign=\"top\">Aberdeen</th>\n",
       "      <th>2018-11-22 00:00:00+00:00</th>\n",
       "      <td>12.0</td>\n",
       "      <td>57.157360</td>\n",
       "      <td>-2.094278</td>\n",
       "    </tr>\n",
       "    <tr>\n",
       "      <th>2018-11-22 02:00:00+00:00</th>\n",
       "      <td>13.0</td>\n",
       "      <td>57.157360</td>\n",
       "      <td>-2.094278</td>\n",
       "    </tr>\n",
       "    <tr>\n",
       "      <th>2018-11-22 03:00:00+00:00</th>\n",
       "      <td>13.0</td>\n",
       "      <td>57.157360</td>\n",
       "      <td>-2.094278</td>\n",
       "    </tr>\n",
       "    <tr>\n",
       "      <th>2018-11-22 04:00:00+00:00</th>\n",
       "      <td>13.0</td>\n",
       "      <td>57.157360</td>\n",
       "      <td>-2.094278</td>\n",
       "    </tr>\n",
       "    <tr>\n",
       "      <th>2018-11-22 05:00:00+00:00</th>\n",
       "      <td>13.0</td>\n",
       "      <td>57.157360</td>\n",
       "      <td>-2.094278</td>\n",
       "    </tr>\n",
       "    <tr>\n",
       "      <th>...</th>\n",
       "      <th>...</th>\n",
       "      <td>...</td>\n",
       "      <td>...</td>\n",
       "      <td>...</td>\n",
       "    </tr>\n",
       "    <tr>\n",
       "      <th rowspan=\"5\" valign=\"top\">York Fishergate</th>\n",
       "      <th>2021-05-06 20:00:00+00:00</th>\n",
       "      <td>1.0</td>\n",
       "      <td>53.951889</td>\n",
       "      <td>-1.075861</td>\n",
       "    </tr>\n",
       "    <tr>\n",
       "      <th>2021-05-06 21:00:00+00:00</th>\n",
       "      <td>1.0</td>\n",
       "      <td>53.951889</td>\n",
       "      <td>-1.075861</td>\n",
       "    </tr>\n",
       "    <tr>\n",
       "      <th>2021-05-06 22:00:00+00:00</th>\n",
       "      <td>1.0</td>\n",
       "      <td>53.951889</td>\n",
       "      <td>-1.075861</td>\n",
       "    </tr>\n",
       "    <tr>\n",
       "      <th>2021-05-06 23:00:00+00:00</th>\n",
       "      <td>1.0</td>\n",
       "      <td>53.951889</td>\n",
       "      <td>-1.075861</td>\n",
       "    </tr>\n",
       "    <tr>\n",
       "      <th>2021-05-07 00:00:00+00:00</th>\n",
       "      <td>1.0</td>\n",
       "      <td>53.951889</td>\n",
       "      <td>-1.075861</td>\n",
       "    </tr>\n",
       "  </tbody>\n",
       "</table>\n",
       "<p>1309442 rows × 3 columns</p>\n",
       "</div>"
      ],
      "text/plain": [
       "                                           value  coordinates.latitude  \\\n",
       "location        date.utc                                                 \n",
       "Aberdeen        2018-11-22 00:00:00+00:00   12.0             57.157360   \n",
       "                2018-11-22 02:00:00+00:00   13.0             57.157360   \n",
       "                2018-11-22 03:00:00+00:00   13.0             57.157360   \n",
       "                2018-11-22 04:00:00+00:00   13.0             57.157360   \n",
       "                2018-11-22 05:00:00+00:00   13.0             57.157360   \n",
       "...                                          ...                   ...   \n",
       "York Fishergate 2021-05-06 20:00:00+00:00    1.0             53.951889   \n",
       "                2021-05-06 21:00:00+00:00    1.0             53.951889   \n",
       "                2021-05-06 22:00:00+00:00    1.0             53.951889   \n",
       "                2021-05-06 23:00:00+00:00    1.0             53.951889   \n",
       "                2021-05-07 00:00:00+00:00    1.0             53.951889   \n",
       "\n",
       "                                           coordinates.longitude  \n",
       "location        date.utc                                          \n",
       "Aberdeen        2018-11-22 00:00:00+00:00              -2.094278  \n",
       "                2018-11-22 02:00:00+00:00              -2.094278  \n",
       "                2018-11-22 03:00:00+00:00              -2.094278  \n",
       "                2018-11-22 04:00:00+00:00              -2.094278  \n",
       "                2018-11-22 05:00:00+00:00              -2.094278  \n",
       "...                                                          ...  \n",
       "York Fishergate 2021-05-06 20:00:00+00:00              -1.075861  \n",
       "                2021-05-06 21:00:00+00:00              -1.075861  \n",
       "                2021-05-06 22:00:00+00:00              -1.075861  \n",
       "                2021-05-06 23:00:00+00:00              -1.075861  \n",
       "                2021-05-07 00:00:00+00:00              -1.075861  \n",
       "\n",
       "[1309442 rows x 3 columns]"
      ]
     },
     "execution_count": 166,
     "metadata": {},
     "output_type": "execute_result"
    }
   ],
   "source": [
    "the_uk.groupby(['location', 'date.utc']).mean()"
   ]
  },
  {
   "cell_type": "code",
   "execution_count": 23,
   "metadata": {},
   "outputs": [
    {
     "data": {
      "text/html": [
       "<div>\n",
       "<style scoped>\n",
       "    .dataframe tbody tr th:only-of-type {\n",
       "        vertical-align: middle;\n",
       "    }\n",
       "\n",
       "    .dataframe tbody tr th {\n",
       "        vertical-align: top;\n",
       "    }\n",
       "\n",
       "    .dataframe thead th {\n",
       "        text-align: right;\n",
       "    }\n",
       "</style>\n",
       "<table border=\"1\" class=\"dataframe\">\n",
       "  <thead>\n",
       "    <tr style=\"text-align: right;\">\n",
       "      <th></th>\n",
       "      <th>location</th>\n",
       "      <th>parameter</th>\n",
       "      <th>value</th>\n",
       "      <th>unit</th>\n",
       "      <th>country</th>\n",
       "      <th>city</th>\n",
       "      <th>date.utc</th>\n",
       "      <th>coordinates.latitude</th>\n",
       "      <th>coordinates.longitude</th>\n",
       "    </tr>\n",
       "  </thead>\n",
       "  <tbody>\n",
       "    <tr>\n",
       "      <th>0</th>\n",
       "      <td>Aberdeen</td>\n",
       "      <td>pm25</td>\n",
       "      <td>3.0</td>\n",
       "      <td>b'\\xc2\\xb5g/m\\xc2\\xb3'</td>\n",
       "      <td>GB</td>\n",
       "      <td>Aberdeen</td>\n",
       "      <td>2021-05-07 00:00:00+00:00</td>\n",
       "      <td>57.157360</td>\n",
       "      <td>-2.094278</td>\n",
       "    </tr>\n",
       "    <tr>\n",
       "      <th>1</th>\n",
       "      <td>Aberdeen-Division St</td>\n",
       "      <td>pm25</td>\n",
       "      <td>2.4</td>\n",
       "      <td>b'\\xc2\\xb5g/m\\xc2\\xb3'</td>\n",
       "      <td>US</td>\n",
       "      <td>Aberdeen</td>\n",
       "      <td>2021-05-07 00:00:00+00:00</td>\n",
       "      <td>46.977200</td>\n",
       "      <td>-123.831700</td>\n",
       "    </tr>\n",
       "    <tr>\n",
       "      <th>2</th>\n",
       "      <td>Taholah-Quinault Tri</td>\n",
       "      <td>pm25</td>\n",
       "      <td>3.2</td>\n",
       "      <td>b'\\xc2\\xb5g/m\\xc2\\xb3'</td>\n",
       "      <td>US</td>\n",
       "      <td>Aberdeen</td>\n",
       "      <td>2021-05-07 00:00:00+00:00</td>\n",
       "      <td>47.339802</td>\n",
       "      <td>-124.291801</td>\n",
       "    </tr>\n",
       "    <tr>\n",
       "      <th>3</th>\n",
       "      <td>Aberdeen</td>\n",
       "      <td>pm25</td>\n",
       "      <td>3.0</td>\n",
       "      <td>b'\\xc2\\xb5g/m\\xc2\\xb3'</td>\n",
       "      <td>GB</td>\n",
       "      <td>Aberdeen</td>\n",
       "      <td>2021-05-06 23:00:00+00:00</td>\n",
       "      <td>57.157360</td>\n",
       "      <td>-2.094278</td>\n",
       "    </tr>\n",
       "    <tr>\n",
       "      <th>4</th>\n",
       "      <td>Aberdeen</td>\n",
       "      <td>pm25</td>\n",
       "      <td>3.0</td>\n",
       "      <td>b'\\xc2\\xb5g/m\\xc2\\xb3'</td>\n",
       "      <td>GB</td>\n",
       "      <td>Aberdeen</td>\n",
       "      <td>2021-05-06 22:00:00+00:00</td>\n",
       "      <td>57.157360</td>\n",
       "      <td>-2.094278</td>\n",
       "    </tr>\n",
       "    <tr>\n",
       "      <th>...</th>\n",
       "      <td>...</td>\n",
       "      <td>...</td>\n",
       "      <td>...</td>\n",
       "      <td>...</td>\n",
       "      <td>...</td>\n",
       "      <td>...</td>\n",
       "      <td>...</td>\n",
       "      <td>...</td>\n",
       "      <td>...</td>\n",
       "    </tr>\n",
       "    <tr>\n",
       "      <th>1313508</th>\n",
       "      <td>York Fishergate</td>\n",
       "      <td>pm25</td>\n",
       "      <td>18.0</td>\n",
       "      <td>b'\\xc2\\xb5g/m\\xc2\\xb3'</td>\n",
       "      <td>GB</td>\n",
       "      <td>York</td>\n",
       "      <td>2018-11-22 02:00:00+00:00</td>\n",
       "      <td>53.951889</td>\n",
       "      <td>-1.075861</td>\n",
       "    </tr>\n",
       "    <tr>\n",
       "      <th>1313509</th>\n",
       "      <td>York Bootham</td>\n",
       "      <td>pm25</td>\n",
       "      <td>20.0</td>\n",
       "      <td>b'\\xc2\\xb5g/m\\xc2\\xb3'</td>\n",
       "      <td>GB</td>\n",
       "      <td>York</td>\n",
       "      <td>2018-11-22 02:00:00+00:00</td>\n",
       "      <td>53.967513</td>\n",
       "      <td>-1.086514</td>\n",
       "    </tr>\n",
       "    <tr>\n",
       "      <th>1313510</th>\n",
       "      <td>York Fishergate</td>\n",
       "      <td>pm25</td>\n",
       "      <td>17.0</td>\n",
       "      <td>b'\\xc2\\xb5g/m\\xc2\\xb3'</td>\n",
       "      <td>GB</td>\n",
       "      <td>York</td>\n",
       "      <td>2018-11-22 01:00:00+00:00</td>\n",
       "      <td>53.951889</td>\n",
       "      <td>-1.075861</td>\n",
       "    </tr>\n",
       "    <tr>\n",
       "      <th>1313511</th>\n",
       "      <td>York Bootham</td>\n",
       "      <td>pm25</td>\n",
       "      <td>19.0</td>\n",
       "      <td>b'\\xc2\\xb5g/m\\xc2\\xb3'</td>\n",
       "      <td>GB</td>\n",
       "      <td>York</td>\n",
       "      <td>2018-11-22 00:00:00+00:00</td>\n",
       "      <td>53.967513</td>\n",
       "      <td>-1.086514</td>\n",
       "    </tr>\n",
       "    <tr>\n",
       "      <th>1313512</th>\n",
       "      <td>York Fishergate</td>\n",
       "      <td>pm25</td>\n",
       "      <td>16.0</td>\n",
       "      <td>b'\\xc2\\xb5g/m\\xc2\\xb3'</td>\n",
       "      <td>GB</td>\n",
       "      <td>York</td>\n",
       "      <td>2018-11-22 00:00:00+00:00</td>\n",
       "      <td>53.951889</td>\n",
       "      <td>-1.075861</td>\n",
       "    </tr>\n",
       "  </tbody>\n",
       "</table>\n",
       "<p>1313513 rows × 9 columns</p>\n",
       "</div>"
      ],
      "text/plain": [
       "                     location parameter  value                    unit  \\\n",
       "0                    Aberdeen      pm25    3.0  b'\\xc2\\xb5g/m\\xc2\\xb3'   \n",
       "1        Aberdeen-Division St      pm25    2.4  b'\\xc2\\xb5g/m\\xc2\\xb3'   \n",
       "2        Taholah-Quinault Tri      pm25    3.2  b'\\xc2\\xb5g/m\\xc2\\xb3'   \n",
       "3                    Aberdeen      pm25    3.0  b'\\xc2\\xb5g/m\\xc2\\xb3'   \n",
       "4                    Aberdeen      pm25    3.0  b'\\xc2\\xb5g/m\\xc2\\xb3'   \n",
       "...                       ...       ...    ...                     ...   \n",
       "1313508       York Fishergate      pm25   18.0  b'\\xc2\\xb5g/m\\xc2\\xb3'   \n",
       "1313509          York Bootham      pm25   20.0  b'\\xc2\\xb5g/m\\xc2\\xb3'   \n",
       "1313510       York Fishergate      pm25   17.0  b'\\xc2\\xb5g/m\\xc2\\xb3'   \n",
       "1313511          York Bootham      pm25   19.0  b'\\xc2\\xb5g/m\\xc2\\xb3'   \n",
       "1313512       York Fishergate      pm25   16.0  b'\\xc2\\xb5g/m\\xc2\\xb3'   \n",
       "\n",
       "        country      city                   date.utc  coordinates.latitude  \\\n",
       "0            GB  Aberdeen  2021-05-07 00:00:00+00:00             57.157360   \n",
       "1            US  Aberdeen  2021-05-07 00:00:00+00:00             46.977200   \n",
       "2            US  Aberdeen  2021-05-07 00:00:00+00:00             47.339802   \n",
       "3            GB  Aberdeen  2021-05-06 23:00:00+00:00             57.157360   \n",
       "4            GB  Aberdeen  2021-05-06 22:00:00+00:00             57.157360   \n",
       "...         ...       ...                        ...                   ...   \n",
       "1313508      GB      York  2018-11-22 02:00:00+00:00             53.951889   \n",
       "1313509      GB      York  2018-11-22 02:00:00+00:00             53.967513   \n",
       "1313510      GB      York  2018-11-22 01:00:00+00:00             53.951889   \n",
       "1313511      GB      York  2018-11-22 00:00:00+00:00             53.967513   \n",
       "1313512      GB      York  2018-11-22 00:00:00+00:00             53.951889   \n",
       "\n",
       "         coordinates.longitude  \n",
       "0                    -2.094278  \n",
       "1                  -123.831700  \n",
       "2                  -124.291801  \n",
       "3                    -2.094278  \n",
       "4                    -2.094278  \n",
       "...                        ...  \n",
       "1313508              -1.075861  \n",
       "1313509              -1.086514  \n",
       "1313510              -1.075861  \n",
       "1313511              -1.086514  \n",
       "1313512              -1.075861  \n",
       "\n",
       "[1313513 rows x 9 columns]"
      ]
     },
     "execution_count": 23,
     "metadata": {},
     "output_type": "execute_result"
    }
   ],
   "source": [
    "the_uk"
   ]
  },
  {
   "cell_type": "code",
   "execution_count": 14,
   "metadata": {},
   "outputs": [
    {
     "data": {
      "text/plain": [
       "array(['Aberdeen', 'Auchencorth', 'Barnstaple', 'Belfast', 'Blackpool',\n",
       "       'Birmingham', 'Bournemouth', 'Brighton', 'Bristol', 'Carlisle',\n",
       "       'Cardiff', 'Chatham', 'Central Scotland', 'Chepstow', 'Derry',\n",
       "       'Eastbourne', 'Edinburgh', 'Glasgow', 'Grangemouth', 'Hull',\n",
       "       'Leamington Spa', 'Inverness', 'Leeds', 'Leicester', 'Lincoln',\n",
       "       'Liverpool', 'London', 'Lough Navar', 'Manchester',\n",
       "       'Middlesbrough', 'Narberth', 'Newport', 'Newcastle', 'Norwich',\n",
       "       'Nottingham', 'Oxford', 'Plymouth', 'Portsmouth', 'Preston',\n",
       "       'Port Talbot', 'Reading', 'Rochester', 'Saltash', 'Sheffield',\n",
       "       'Sandy', 'South East', 'South West', 'Southampton',\n",
       "       'Stockton-on-Tees', 'Stockbridge', 'Stanford-le-Hope',\n",
       "       'Stoke-on-Trent', 'Swansea', 'Sunderland', 'West Midlands',\n",
       "       'Warrington', 'Wrexham', 'Wigan', 'York'], dtype=object)"
      ]
     },
     "execution_count": 14,
     "metadata": {},
     "output_type": "execute_result"
    }
   ],
   "source": [
    "the_uk['city'].unique()"
   ]
  },
  {
   "cell_type": "code",
   "execution_count": 15,
   "metadata": {},
   "outputs": [
    {
     "data": {
      "text/plain": [
       "London              91691\n",
       "Aberdeen            47139\n",
       "Rochester           39877\n",
       "Glasgow             37308\n",
       "Leamington Spa      37152\n",
       "Manchester          37022\n",
       "York                35557\n",
       "Leeds               35116\n",
       "Stockton-on-Tees    34749\n",
       "Liverpool           31874\n",
       "Reading             29441\n",
       "Portsmouth          27209\n",
       "Newport             19227\n",
       "Preston             19020\n",
       "Lough Navar         18992\n",
       "Auchencorth         18956\n",
       "Leicester           18890\n",
       "Central Scotland    18886\n",
       "Stockbridge         18755\n",
       "Norwich             18719\n",
       "Narberth            18682\n",
       "South East          18640\n",
       "Hull                18633\n",
       "Nottingham          18555\n",
       "Stoke-on-Trent      18530\n",
       "West Midlands       18510\n",
       "Southampton         18503\n",
       "Oxford              18458\n",
       "Edinburgh           18382\n",
       "Belfast             18226\n",
       "Wigan               18174\n",
       "Bournemouth         18154\n",
       "Sheffield           18025\n",
       "Barnstaple          18025\n",
       "Chepstow            17999\n",
       "Newcastle           17959\n",
       "Grangemouth         17892\n",
       "Carlisle            17867\n",
       "Port Talbot         17758\n",
       "Sunderland          17701\n",
       "Inverness           17639\n",
       "Warrington          17578\n",
       "Birmingham          17542\n",
       "Plymouth            17539\n",
       "Cardiff             17465\n",
       "Lincoln             17459\n",
       "Derry               17458\n",
       "Blackpool           17395\n",
       "Chatham             17324\n",
       "Eastbourne          17272\n",
       "South West          17165\n",
       "Swansea             17149\n",
       "Saltash             16913\n",
       "Wrexham             16678\n",
       "Bristol             16622\n",
       "Stanford-le-Hope    16537\n",
       "Middlesbrough       16489\n",
       "Sandy               13113\n",
       "Brighton             7923\n",
       "Name: city, dtype: int64"
      ]
     },
     "execution_count": 15,
     "metadata": {},
     "output_type": "execute_result"
    }
   ],
   "source": [
    "the_uk['city'].value_counts()"
   ]
  },
  {
   "cell_type": "code",
   "execution_count": 57,
   "metadata": {},
   "outputs": [
    {
     "data": {
      "text/plain": [
       "(1313513, 9)"
      ]
     },
     "execution_count": 57,
     "metadata": {},
     "output_type": "execute_result"
    }
   ],
   "source": [
    "the_uk.shape"
   ]
  },
  {
   "cell_type": "code",
   "execution_count": 58,
   "metadata": {},
   "outputs": [
    {
     "data": {
      "text/html": [
       "<div>\n",
       "<style scoped>\n",
       "    .dataframe tbody tr th:only-of-type {\n",
       "        vertical-align: middle;\n",
       "    }\n",
       "\n",
       "    .dataframe tbody tr th {\n",
       "        vertical-align: top;\n",
       "    }\n",
       "\n",
       "    .dataframe thead th {\n",
       "        text-align: right;\n",
       "    }\n",
       "</style>\n",
       "<table border=\"1\" class=\"dataframe\">\n",
       "  <thead>\n",
       "    <tr style=\"text-align: right;\">\n",
       "      <th></th>\n",
       "      <th>location</th>\n",
       "      <th>parameter</th>\n",
       "      <th>value</th>\n",
       "      <th>unit</th>\n",
       "      <th>country</th>\n",
       "      <th>city</th>\n",
       "      <th>date.utc</th>\n",
       "      <th>coordinates.latitude</th>\n",
       "      <th>coordinates.longitude</th>\n",
       "    </tr>\n",
       "  </thead>\n",
       "  <tbody>\n",
       "    <tr>\n",
       "      <th>0</th>\n",
       "      <td>True</td>\n",
       "      <td>True</td>\n",
       "      <td>True</td>\n",
       "      <td>True</td>\n",
       "      <td>True</td>\n",
       "      <td>True</td>\n",
       "      <td>True</td>\n",
       "      <td>True</td>\n",
       "      <td>True</td>\n",
       "    </tr>\n",
       "    <tr>\n",
       "      <th>1</th>\n",
       "      <td>True</td>\n",
       "      <td>True</td>\n",
       "      <td>True</td>\n",
       "      <td>True</td>\n",
       "      <td>True</td>\n",
       "      <td>True</td>\n",
       "      <td>True</td>\n",
       "      <td>True</td>\n",
       "      <td>True</td>\n",
       "    </tr>\n",
       "    <tr>\n",
       "      <th>2</th>\n",
       "      <td>True</td>\n",
       "      <td>True</td>\n",
       "      <td>True</td>\n",
       "      <td>True</td>\n",
       "      <td>True</td>\n",
       "      <td>True</td>\n",
       "      <td>True</td>\n",
       "      <td>True</td>\n",
       "      <td>True</td>\n",
       "    </tr>\n",
       "    <tr>\n",
       "      <th>3</th>\n",
       "      <td>True</td>\n",
       "      <td>True</td>\n",
       "      <td>True</td>\n",
       "      <td>True</td>\n",
       "      <td>True</td>\n",
       "      <td>True</td>\n",
       "      <td>True</td>\n",
       "      <td>True</td>\n",
       "      <td>True</td>\n",
       "    </tr>\n",
       "    <tr>\n",
       "      <th>4</th>\n",
       "      <td>True</td>\n",
       "      <td>True</td>\n",
       "      <td>True</td>\n",
       "      <td>True</td>\n",
       "      <td>True</td>\n",
       "      <td>True</td>\n",
       "      <td>True</td>\n",
       "      <td>True</td>\n",
       "      <td>True</td>\n",
       "    </tr>\n",
       "    <tr>\n",
       "      <th>...</th>\n",
       "      <td>...</td>\n",
       "      <td>...</td>\n",
       "      <td>...</td>\n",
       "      <td>...</td>\n",
       "      <td>...</td>\n",
       "      <td>...</td>\n",
       "      <td>...</td>\n",
       "      <td>...</td>\n",
       "      <td>...</td>\n",
       "    </tr>\n",
       "    <tr>\n",
       "      <th>1313508</th>\n",
       "      <td>True</td>\n",
       "      <td>True</td>\n",
       "      <td>True</td>\n",
       "      <td>True</td>\n",
       "      <td>True</td>\n",
       "      <td>True</td>\n",
       "      <td>True</td>\n",
       "      <td>True</td>\n",
       "      <td>True</td>\n",
       "    </tr>\n",
       "    <tr>\n",
       "      <th>1313509</th>\n",
       "      <td>True</td>\n",
       "      <td>True</td>\n",
       "      <td>True</td>\n",
       "      <td>True</td>\n",
       "      <td>True</td>\n",
       "      <td>True</td>\n",
       "      <td>True</td>\n",
       "      <td>True</td>\n",
       "      <td>True</td>\n",
       "    </tr>\n",
       "    <tr>\n",
       "      <th>1313510</th>\n",
       "      <td>True</td>\n",
       "      <td>True</td>\n",
       "      <td>True</td>\n",
       "      <td>True</td>\n",
       "      <td>True</td>\n",
       "      <td>True</td>\n",
       "      <td>True</td>\n",
       "      <td>True</td>\n",
       "      <td>True</td>\n",
       "    </tr>\n",
       "    <tr>\n",
       "      <th>1313511</th>\n",
       "      <td>True</td>\n",
       "      <td>True</td>\n",
       "      <td>True</td>\n",
       "      <td>True</td>\n",
       "      <td>True</td>\n",
       "      <td>True</td>\n",
       "      <td>True</td>\n",
       "      <td>True</td>\n",
       "      <td>True</td>\n",
       "    </tr>\n",
       "    <tr>\n",
       "      <th>1313512</th>\n",
       "      <td>True</td>\n",
       "      <td>True</td>\n",
       "      <td>True</td>\n",
       "      <td>True</td>\n",
       "      <td>True</td>\n",
       "      <td>True</td>\n",
       "      <td>True</td>\n",
       "      <td>True</td>\n",
       "      <td>True</td>\n",
       "    </tr>\n",
       "  </tbody>\n",
       "</table>\n",
       "<p>1313513 rows × 9 columns</p>\n",
       "</div>"
      ],
      "text/plain": [
       "         location  parameter  value  unit  country  city  date.utc  \\\n",
       "0            True       True   True  True     True  True      True   \n",
       "1            True       True   True  True     True  True      True   \n",
       "2            True       True   True  True     True  True      True   \n",
       "3            True       True   True  True     True  True      True   \n",
       "4            True       True   True  True     True  True      True   \n",
       "...           ...        ...    ...   ...      ...   ...       ...   \n",
       "1313508      True       True   True  True     True  True      True   \n",
       "1313509      True       True   True  True     True  True      True   \n",
       "1313510      True       True   True  True     True  True      True   \n",
       "1313511      True       True   True  True     True  True      True   \n",
       "1313512      True       True   True  True     True  True      True   \n",
       "\n",
       "         coordinates.latitude  coordinates.longitude  \n",
       "0                        True                   True  \n",
       "1                        True                   True  \n",
       "2                        True                   True  \n",
       "3                        True                   True  \n",
       "4                        True                   True  \n",
       "...                       ...                    ...  \n",
       "1313508                  True                   True  \n",
       "1313509                  True                   True  \n",
       "1313510                  True                   True  \n",
       "1313511                  True                   True  \n",
       "1313512                  True                   True  \n",
       "\n",
       "[1313513 rows x 9 columns]"
      ]
     },
     "execution_count": 58,
     "metadata": {},
     "output_type": "execute_result"
    }
   ],
   "source": [
    "the_uk == the_uk[the_uk['city'] != 'Lemington Spa']"
   ]
  },
  {
   "cell_type": "code",
   "execution_count": 62,
   "metadata": {
    "scrolled": true
   },
   "outputs": [
    {
     "data": {
      "text/plain": [
       "London              91691\n",
       "Aberdeen            47139\n",
       "Rochester           39877\n",
       "Glasgow             37308\n",
       "Leamington Spa      37152\n",
       "Manchester          37022\n",
       "York                35557\n",
       "Leeds               35116\n",
       "Stockton-on-Tees    34749\n",
       "Liverpool           31874\n",
       "Reading             29441\n",
       "Portsmouth          27209\n",
       "Newport             19227\n",
       "Preston             19020\n",
       "Lough Navar         18992\n",
       "Auchencorth         18956\n",
       "Leicester           18890\n",
       "Central Scotland    18886\n",
       "Stockbridge         18755\n",
       "Norwich             18719\n",
       "Narberth            18682\n",
       "South East          18640\n",
       "Hull                18633\n",
       "Nottingham          18555\n",
       "Stoke-on-Trent      18530\n",
       "West Midlands       18510\n",
       "Southampton         18503\n",
       "Oxford              18458\n",
       "Edinburgh           18382\n",
       "Belfast             18226\n",
       "Wigan               18174\n",
       "Bournemouth         18154\n",
       "Sheffield           18025\n",
       "Barnstaple          18025\n",
       "Chepstow            17999\n",
       "Newcastle           17959\n",
       "Grangemouth         17892\n",
       "Carlisle            17867\n",
       "Port Talbot         17758\n",
       "Sunderland          17701\n",
       "Inverness           17639\n",
       "Warrington          17578\n",
       "Birmingham          17542\n",
       "Plymouth            17539\n",
       "Cardiff             17465\n",
       "Lincoln             17459\n",
       "Derry               17458\n",
       "Blackpool           17395\n",
       "Chatham             17324\n",
       "Eastbourne          17272\n",
       "South West          17165\n",
       "Swansea             17149\n",
       "Saltash             16913\n",
       "Wrexham             16678\n",
       "Bristol             16622\n",
       "Stanford-le-Hope    16537\n",
       "Middlesbrough       16489\n",
       "Sandy               13113\n",
       "Brighton             7923\n",
       "Name: city, dtype: int64"
      ]
     },
     "execution_count": 62,
     "metadata": {},
     "output_type": "execute_result"
    }
   ],
   "source": [
    "the_uk['city'].value_counts()"
   ]
  },
  {
   "cell_type": "code",
   "execution_count": 30,
   "metadata": {},
   "outputs": [],
   "source": [
    "the_uk_group = the_uk.groupby(['city']).mean()"
   ]
  },
  {
   "cell_type": "code",
   "execution_count": 33,
   "metadata": {},
   "outputs": [
    {
     "data": {
      "text/plain": [
       "(59, 3)"
      ]
     },
     "execution_count": 33,
     "metadata": {},
     "output_type": "execute_result"
    }
   ],
   "source": [
    "the_uk_group.shape"
   ]
  },
  {
   "cell_type": "code",
   "execution_count": 126,
   "metadata": {},
   "outputs": [],
   "source": [
    "london = the_uk[the_uk['city'] == 'London']"
   ]
  },
  {
   "cell_type": "code",
   "execution_count": 127,
   "metadata": {},
   "outputs": [],
   "source": [
    "london.to_csv('london.csv')"
   ]
  },
  {
   "cell_type": "code",
   "execution_count": 134,
   "metadata": {},
   "outputs": [],
   "source": [
    "london = pd.read_csv('london.csv')"
   ]
  },
  {
   "cell_type": "code",
   "execution_count": 140,
   "metadata": {},
   "outputs": [
    {
     "data": {
      "text/html": [
       "<div>\n",
       "<style scoped>\n",
       "    .dataframe tbody tr th:only-of-type {\n",
       "        vertical-align: middle;\n",
       "    }\n",
       "\n",
       "    .dataframe tbody tr th {\n",
       "        vertical-align: top;\n",
       "    }\n",
       "\n",
       "    .dataframe thead th {\n",
       "        text-align: right;\n",
       "    }\n",
       "</style>\n",
       "<table border=\"1\" class=\"dataframe\">\n",
       "  <thead>\n",
       "    <tr style=\"text-align: right;\">\n",
       "      <th></th>\n",
       "      <th></th>\n",
       "      <th>Unnamed: 0</th>\n",
       "      <th>value</th>\n",
       "      <th>coordinates.latitude</th>\n",
       "      <th>coordinates.longitude</th>\n",
       "    </tr>\n",
       "    <tr>\n",
       "      <th>date.utc</th>\n",
       "      <th>city</th>\n",
       "      <th></th>\n",
       "      <th></th>\n",
       "      <th></th>\n",
       "      <th></th>\n",
       "    </tr>\n",
       "  </thead>\n",
       "  <tbody>\n",
       "    <tr>\n",
       "      <th>2019-09-22 00:00:00+00:00</th>\n",
       "      <th>London</th>\n",
       "      <td>646285.0</td>\n",
       "      <td>12.142857</td>\n",
       "      <td>51.489479</td>\n",
       "      <td>0.012620</td>\n",
       "    </tr>\n",
       "    <tr>\n",
       "      <th>2019-09-22 01:00:00+00:00</th>\n",
       "      <th>London</th>\n",
       "      <td>646277.5</td>\n",
       "      <td>12.125000</td>\n",
       "      <td>51.489393</td>\n",
       "      <td>-0.044159</td>\n",
       "    </tr>\n",
       "    <tr>\n",
       "      <th>2019-09-22 02:00:00+00:00</th>\n",
       "      <th>London</th>\n",
       "      <td>646269.5</td>\n",
       "      <td>12.250000</td>\n",
       "      <td>51.489393</td>\n",
       "      <td>-0.044159</td>\n",
       "    </tr>\n",
       "    <tr>\n",
       "      <th>2019-09-22 03:00:00+00:00</th>\n",
       "      <th>London</th>\n",
       "      <td>646261.5</td>\n",
       "      <td>12.750000</td>\n",
       "      <td>51.489393</td>\n",
       "      <td>-0.044159</td>\n",
       "    </tr>\n",
       "    <tr>\n",
       "      <th>2019-09-22 04:00:00+00:00</th>\n",
       "      <th>London</th>\n",
       "      <td>646253.5</td>\n",
       "      <td>13.000000</td>\n",
       "      <td>51.489393</td>\n",
       "      <td>-0.044159</td>\n",
       "    </tr>\n",
       "    <tr>\n",
       "      <th>...</th>\n",
       "      <th>...</th>\n",
       "      <td>...</td>\n",
       "      <td>...</td>\n",
       "      <td>...</td>\n",
       "      <td>...</td>\n",
       "    </tr>\n",
       "    <tr>\n",
       "      <th>2021-05-06 20:00:00+00:00</th>\n",
       "      <th>London</th>\n",
       "      <td>554633.0</td>\n",
       "      <td>4.644444</td>\n",
       "      <td>51.488405</td>\n",
       "      <td>-0.045869</td>\n",
       "    </tr>\n",
       "    <tr>\n",
       "      <th>2021-05-06 21:00:00+00:00</th>\n",
       "      <th>London</th>\n",
       "      <td>554624.5</td>\n",
       "      <td>4.875000</td>\n",
       "      <td>51.489393</td>\n",
       "      <td>-0.044159</td>\n",
       "    </tr>\n",
       "    <tr>\n",
       "      <th>2021-05-06 22:00:00+00:00</th>\n",
       "      <th>London</th>\n",
       "      <td>554616.5</td>\n",
       "      <td>4.875000</td>\n",
       "      <td>51.489393</td>\n",
       "      <td>-0.044159</td>\n",
       "    </tr>\n",
       "    <tr>\n",
       "      <th>2021-05-06 23:00:00+00:00</th>\n",
       "      <th>London</th>\n",
       "      <td>554609.0</td>\n",
       "      <td>5.142857</td>\n",
       "      <td>51.489479</td>\n",
       "      <td>0.012620</td>\n",
       "    </tr>\n",
       "    <tr>\n",
       "      <th>2021-05-07 00:00:00+00:00</th>\n",
       "      <th>London</th>\n",
       "      <td>554601.5</td>\n",
       "      <td>4.950000</td>\n",
       "      <td>51.488356</td>\n",
       "      <td>0.003599</td>\n",
       "    </tr>\n",
       "  </tbody>\n",
       "</table>\n",
       "<p>12775 rows × 4 columns</p>\n",
       "</div>"
      ],
      "text/plain": [
       "                                  Unnamed: 0      value  coordinates.latitude  \\\n",
       "date.utc                  city                                                  \n",
       "2019-09-22 00:00:00+00:00 London    646285.0  12.142857             51.489479   \n",
       "2019-09-22 01:00:00+00:00 London    646277.5  12.125000             51.489393   \n",
       "2019-09-22 02:00:00+00:00 London    646269.5  12.250000             51.489393   \n",
       "2019-09-22 03:00:00+00:00 London    646261.5  12.750000             51.489393   \n",
       "2019-09-22 04:00:00+00:00 London    646253.5  13.000000             51.489393   \n",
       "...                                      ...        ...                   ...   \n",
       "2021-05-06 20:00:00+00:00 London    554633.0   4.644444             51.488405   \n",
       "2021-05-06 21:00:00+00:00 London    554624.5   4.875000             51.489393   \n",
       "2021-05-06 22:00:00+00:00 London    554616.5   4.875000             51.489393   \n",
       "2021-05-06 23:00:00+00:00 London    554609.0   5.142857             51.489479   \n",
       "2021-05-07 00:00:00+00:00 London    554601.5   4.950000             51.488356   \n",
       "\n",
       "                                  coordinates.longitude  \n",
       "date.utc                  city                           \n",
       "2019-09-22 00:00:00+00:00 London               0.012620  \n",
       "2019-09-22 01:00:00+00:00 London              -0.044159  \n",
       "2019-09-22 02:00:00+00:00 London              -0.044159  \n",
       "2019-09-22 03:00:00+00:00 London              -0.044159  \n",
       "2019-09-22 04:00:00+00:00 London              -0.044159  \n",
       "...                                                 ...  \n",
       "2021-05-06 20:00:00+00:00 London              -0.045869  \n",
       "2021-05-06 21:00:00+00:00 London              -0.044159  \n",
       "2021-05-06 22:00:00+00:00 London              -0.044159  \n",
       "2021-05-06 23:00:00+00:00 London               0.012620  \n",
       "2021-05-07 00:00:00+00:00 London               0.003599  \n",
       "\n",
       "[12775 rows x 4 columns]"
      ]
     },
     "execution_count": 140,
     "metadata": {},
     "output_type": "execute_result"
    }
   ],
   "source": [
    "london.groupby(['date.utc','city']).mean()"
   ]
  },
  {
   "cell_type": "code",
   "execution_count": 135,
   "metadata": {},
   "outputs": [
    {
     "data": {
      "text/plain": [
       "(91691, 10)"
      ]
     },
     "execution_count": 135,
     "metadata": {},
     "output_type": "execute_result"
    }
   ],
   "source": [
    "london.shape"
   ]
  },
  {
   "cell_type": "code",
   "execution_count": 162,
   "metadata": {},
   "outputs": [
    {
     "data": {
      "text/plain": [
       "Southend-on-Sea                 12199\n",
       "London N. Kensington            11943\n",
       "London Westminster              11694\n",
       "London Teddington Bushy Park    11503\n",
       "London Bexley                   11177\n",
       "London Marylebone Road          11084\n",
       "London Eltham                   11052\n",
       "London Harlington               10919\n",
       "Southwark A2 Old Kent Road        120\n",
       "Name: location, dtype: int64"
      ]
     },
     "execution_count": 162,
     "metadata": {},
     "output_type": "execute_result"
    }
   ],
   "source": [
    "london['location'].value_counts()"
   ]
  },
  {
   "cell_type": "code",
   "execution_count": 166,
   "metadata": {},
   "outputs": [],
   "source": [
    "london = london[london['location'] == 'Southend-on-Sea']"
   ]
  },
  {
   "cell_type": "code",
   "execution_count": 168,
   "metadata": {},
   "outputs": [
    {
     "data": {
      "text/plain": [
       "(12199, 10)"
      ]
     },
     "execution_count": 168,
     "metadata": {},
     "output_type": "execute_result"
    }
   ],
   "source": [
    "london.shape"
   ]
  },
  {
   "cell_type": "code",
   "execution_count": 42,
   "metadata": {},
   "outputs": [
    {
     "data": {
      "text/html": [
       "<div>\n",
       "<style scoped>\n",
       "    .dataframe tbody tr th:only-of-type {\n",
       "        vertical-align: middle;\n",
       "    }\n",
       "\n",
       "    .dataframe tbody tr th {\n",
       "        vertical-align: top;\n",
       "    }\n",
       "\n",
       "    .dataframe thead th {\n",
       "        text-align: right;\n",
       "    }\n",
       "</style>\n",
       "<table border=\"1\" class=\"dataframe\">\n",
       "  <thead>\n",
       "    <tr style=\"text-align: right;\">\n",
       "      <th></th>\n",
       "      <th></th>\n",
       "      <th>value</th>\n",
       "      <th>coordinates.latitude</th>\n",
       "      <th>coordinates.longitude</th>\n",
       "    </tr>\n",
       "    <tr>\n",
       "      <th>city</th>\n",
       "      <th>date.utc</th>\n",
       "      <th></th>\n",
       "      <th></th>\n",
       "      <th></th>\n",
       "    </tr>\n",
       "  </thead>\n",
       "  <tbody>\n",
       "    <tr>\n",
       "      <th rowspan=\"11\" valign=\"top\">London</th>\n",
       "      <th>2019-09-22 00:00:00+00:00</th>\n",
       "      <td>12.142857</td>\n",
       "      <td>51.489479</td>\n",
       "      <td>0.012620</td>\n",
       "    </tr>\n",
       "    <tr>\n",
       "      <th>2019-09-22 01:00:00+00:00</th>\n",
       "      <td>12.125000</td>\n",
       "      <td>51.489393</td>\n",
       "      <td>-0.044159</td>\n",
       "    </tr>\n",
       "    <tr>\n",
       "      <th>2019-09-22 02:00:00+00:00</th>\n",
       "      <td>12.250000</td>\n",
       "      <td>51.489393</td>\n",
       "      <td>-0.044159</td>\n",
       "    </tr>\n",
       "    <tr>\n",
       "      <th>2019-09-22 03:00:00+00:00</th>\n",
       "      <td>12.750000</td>\n",
       "      <td>51.489393</td>\n",
       "      <td>-0.044159</td>\n",
       "    </tr>\n",
       "    <tr>\n",
       "      <th>2019-09-22 04:00:00+00:00</th>\n",
       "      <td>13.000000</td>\n",
       "      <td>51.489393</td>\n",
       "      <td>-0.044159</td>\n",
       "    </tr>\n",
       "    <tr>\n",
       "      <th>...</th>\n",
       "      <td>...</td>\n",
       "      <td>...</td>\n",
       "      <td>...</td>\n",
       "    </tr>\n",
       "    <tr>\n",
       "      <th>2021-05-06 20:00:00+00:00</th>\n",
       "      <td>4.644444</td>\n",
       "      <td>51.488405</td>\n",
       "      <td>-0.045869</td>\n",
       "    </tr>\n",
       "    <tr>\n",
       "      <th>2021-05-06 21:00:00+00:00</th>\n",
       "      <td>4.875000</td>\n",
       "      <td>51.489393</td>\n",
       "      <td>-0.044159</td>\n",
       "    </tr>\n",
       "    <tr>\n",
       "      <th>2021-05-06 22:00:00+00:00</th>\n",
       "      <td>4.875000</td>\n",
       "      <td>51.489393</td>\n",
       "      <td>-0.044159</td>\n",
       "    </tr>\n",
       "    <tr>\n",
       "      <th>2021-05-06 23:00:00+00:00</th>\n",
       "      <td>5.142857</td>\n",
       "      <td>51.489479</td>\n",
       "      <td>0.012620</td>\n",
       "    </tr>\n",
       "    <tr>\n",
       "      <th>2021-05-07 00:00:00+00:00</th>\n",
       "      <td>4.950000</td>\n",
       "      <td>51.488356</td>\n",
       "      <td>0.003599</td>\n",
       "    </tr>\n",
       "  </tbody>\n",
       "</table>\n",
       "<p>12775 rows × 3 columns</p>\n",
       "</div>"
      ],
      "text/plain": [
       "                                      value  coordinates.latitude  \\\n",
       "city   date.utc                                                     \n",
       "London 2019-09-22 00:00:00+00:00  12.142857             51.489479   \n",
       "       2019-09-22 01:00:00+00:00  12.125000             51.489393   \n",
       "       2019-09-22 02:00:00+00:00  12.250000             51.489393   \n",
       "       2019-09-22 03:00:00+00:00  12.750000             51.489393   \n",
       "       2019-09-22 04:00:00+00:00  13.000000             51.489393   \n",
       "...                                     ...                   ...   \n",
       "       2021-05-06 20:00:00+00:00   4.644444             51.488405   \n",
       "       2021-05-06 21:00:00+00:00   4.875000             51.489393   \n",
       "       2021-05-06 22:00:00+00:00   4.875000             51.489393   \n",
       "       2021-05-06 23:00:00+00:00   5.142857             51.489479   \n",
       "       2021-05-07 00:00:00+00:00   4.950000             51.488356   \n",
       "\n",
       "                                  coordinates.longitude  \n",
       "city   date.utc                                          \n",
       "London 2019-09-22 00:00:00+00:00               0.012620  \n",
       "       2019-09-22 01:00:00+00:00              -0.044159  \n",
       "       2019-09-22 02:00:00+00:00              -0.044159  \n",
       "       2019-09-22 03:00:00+00:00              -0.044159  \n",
       "       2019-09-22 04:00:00+00:00              -0.044159  \n",
       "...                                                 ...  \n",
       "       2021-05-06 20:00:00+00:00              -0.045869  \n",
       "       2021-05-06 21:00:00+00:00              -0.044159  \n",
       "       2021-05-06 22:00:00+00:00              -0.044159  \n",
       "       2021-05-06 23:00:00+00:00               0.012620  \n",
       "       2021-05-07 00:00:00+00:00               0.003599  \n",
       "\n",
       "[12775 rows x 3 columns]"
      ]
     },
     "execution_count": 42,
     "metadata": {},
     "output_type": "execute_result"
    }
   ],
   "source": [
    "london.groupby(['city','date.utc']).mean()"
   ]
  },
  {
   "cell_type": "code",
   "execution_count": 141,
   "metadata": {},
   "outputs": [],
   "source": [
    "aberdeen = the_uk[the_uk['city'] == 'Aberdeen']"
   ]
  },
  {
   "cell_type": "code",
   "execution_count": 143,
   "metadata": {},
   "outputs": [],
   "source": [
    "glasgow = the_uk[the_uk['city'] == 'Glasgow']"
   ]
  },
  {
   "cell_type": "code",
   "execution_count": 147,
   "metadata": {},
   "outputs": [
    {
     "data": {
      "text/plain": [
       "Glasgow Townhead       18931\n",
       "Glasgow High Street    18377\n",
       "Name: location, dtype: int64"
      ]
     },
     "execution_count": 147,
     "metadata": {},
     "output_type": "execute_result"
    }
   ],
   "source": [
    "glasgow['location'].value_counts()"
   ]
  },
  {
   "cell_type": "code",
   "execution_count": 148,
   "metadata": {},
   "outputs": [
    {
     "data": {
      "text/plain": [
       "Index(['location', 'parameter', 'value', 'unit', 'country', 'city', 'date.utc',\n",
       "       'coordinates.latitude', 'coordinates.longitude'],\n",
       "      dtype='object')"
      ]
     },
     "execution_count": 148,
     "metadata": {},
     "output_type": "execute_result"
    }
   ],
   "source": [
    "glasgow.columns"
   ]
  },
  {
   "cell_type": "code",
   "execution_count": 150,
   "metadata": {},
   "outputs": [
    {
     "data": {
      "text/html": [
       "<div>\n",
       "<style scoped>\n",
       "    .dataframe tbody tr th:only-of-type {\n",
       "        vertical-align: middle;\n",
       "    }\n",
       "\n",
       "    .dataframe tbody tr th {\n",
       "        vertical-align: top;\n",
       "    }\n",
       "\n",
       "    .dataframe thead th {\n",
       "        text-align: right;\n",
       "    }\n",
       "</style>\n",
       "<table border=\"1\" class=\"dataframe\">\n",
       "  <thead>\n",
       "    <tr style=\"text-align: right;\">\n",
       "      <th></th>\n",
       "      <th>value</th>\n",
       "      <th>coordinates.latitude</th>\n",
       "      <th>coordinates.longitude</th>\n",
       "    </tr>\n",
       "    <tr>\n",
       "      <th>date.utc</th>\n",
       "      <th></th>\n",
       "      <th></th>\n",
       "      <th></th>\n",
       "    </tr>\n",
       "  </thead>\n",
       "  <tbody>\n",
       "    <tr>\n",
       "      <th>2018-11-22 00:00:00+00:00</th>\n",
       "      <td>7.0</td>\n",
       "      <td>55.863359</td>\n",
       "      <td>-4.240922</td>\n",
       "    </tr>\n",
       "    <tr>\n",
       "      <th>2018-11-22 01:00:00+00:00</th>\n",
       "      <td>8.0</td>\n",
       "      <td>55.865782</td>\n",
       "      <td>-4.243631</td>\n",
       "    </tr>\n",
       "    <tr>\n",
       "      <th>2018-11-22 02:00:00+00:00</th>\n",
       "      <td>8.0</td>\n",
       "      <td>55.863359</td>\n",
       "      <td>-4.240922</td>\n",
       "    </tr>\n",
       "    <tr>\n",
       "      <th>2018-11-22 03:00:00+00:00</th>\n",
       "      <td>8.5</td>\n",
       "      <td>55.863359</td>\n",
       "      <td>-4.240922</td>\n",
       "    </tr>\n",
       "    <tr>\n",
       "      <th>2018-11-22 04:00:00+00:00</th>\n",
       "      <td>9.0</td>\n",
       "      <td>55.863359</td>\n",
       "      <td>-4.240922</td>\n",
       "    </tr>\n",
       "    <tr>\n",
       "      <th>...</th>\n",
       "      <td>...</td>\n",
       "      <td>...</td>\n",
       "      <td>...</td>\n",
       "    </tr>\n",
       "    <tr>\n",
       "      <th>2021-05-06 20:00:00+00:00</th>\n",
       "      <td>2.0</td>\n",
       "      <td>55.863359</td>\n",
       "      <td>-4.240922</td>\n",
       "    </tr>\n",
       "    <tr>\n",
       "      <th>2021-05-06 21:00:00+00:00</th>\n",
       "      <td>2.5</td>\n",
       "      <td>55.863359</td>\n",
       "      <td>-4.240922</td>\n",
       "    </tr>\n",
       "    <tr>\n",
       "      <th>2021-05-06 22:00:00+00:00</th>\n",
       "      <td>2.0</td>\n",
       "      <td>55.863359</td>\n",
       "      <td>-4.240922</td>\n",
       "    </tr>\n",
       "    <tr>\n",
       "      <th>2021-05-06 23:00:00+00:00</th>\n",
       "      <td>2.0</td>\n",
       "      <td>55.863359</td>\n",
       "      <td>-4.240922</td>\n",
       "    </tr>\n",
       "    <tr>\n",
       "      <th>2021-05-07 00:00:00+00:00</th>\n",
       "      <td>2.0</td>\n",
       "      <td>55.863359</td>\n",
       "      <td>-4.240922</td>\n",
       "    </tr>\n",
       "  </tbody>\n",
       "</table>\n",
       "<p>19203 rows × 3 columns</p>\n",
       "</div>"
      ],
      "text/plain": [
       "                           value  coordinates.latitude  coordinates.longitude\n",
       "date.utc                                                                     \n",
       "2018-11-22 00:00:00+00:00    7.0             55.863359              -4.240922\n",
       "2018-11-22 01:00:00+00:00    8.0             55.865782              -4.243631\n",
       "2018-11-22 02:00:00+00:00    8.0             55.863359              -4.240922\n",
       "2018-11-22 03:00:00+00:00    8.5             55.863359              -4.240922\n",
       "2018-11-22 04:00:00+00:00    9.0             55.863359              -4.240922\n",
       "...                          ...                   ...                    ...\n",
       "2021-05-06 20:00:00+00:00    2.0             55.863359              -4.240922\n",
       "2021-05-06 21:00:00+00:00    2.5             55.863359              -4.240922\n",
       "2021-05-06 22:00:00+00:00    2.0             55.863359              -4.240922\n",
       "2021-05-06 23:00:00+00:00    2.0             55.863359              -4.240922\n",
       "2021-05-07 00:00:00+00:00    2.0             55.863359              -4.240922\n",
       "\n",
       "[19203 rows x 3 columns]"
      ]
     },
     "execution_count": 150,
     "metadata": {},
     "output_type": "execute_result"
    }
   ],
   "source": [
    "glasgow.groupby(['date.utc']).mean()"
   ]
  },
  {
   "cell_type": "code",
   "execution_count": 76,
   "metadata": {},
   "outputs": [
    {
     "data": {
      "text/plain": [
       "Index(['location', 'parameter', 'value', 'unit', 'country', 'city', 'date.utc',\n",
       "       'coordinates.latitude', 'coordinates.longitude'],\n",
       "      dtype='object')"
      ]
     },
     "execution_count": 76,
     "metadata": {},
     "output_type": "execute_result"
    }
   ],
   "source": [
    "the_uk.columns"
   ]
  },
  {
   "cell_type": "code",
   "execution_count": 118,
   "metadata": {},
   "outputs": [],
   "source": [
    "the_uk = the_uk[the_uk['country'] == 'GB']"
   ]
  },
  {
   "cell_type": "code",
   "execution_count": 81,
   "metadata": {},
   "outputs": [
    {
     "data": {
      "text/plain": [
       "(1211422, 9)"
      ]
     },
     "execution_count": 81,
     "metadata": {},
     "output_type": "execute_result"
    }
   ],
   "source": [
    "the_uk.shape"
   ]
  },
  {
   "cell_type": "code",
   "execution_count": 107,
   "metadata": {},
   "outputs": [],
   "source": [
    "the_uk = the_uk[the_uk['city'] != 'Leamington Spa']"
   ]
  },
  {
   "cell_type": "code",
   "execution_count": 108,
   "metadata": {},
   "outputs": [],
   "source": [
    "the_uk = the_uk[the_uk['city'] != 'Stockton-on-Tees']"
   ]
  },
  {
   "cell_type": "code",
   "execution_count": 109,
   "metadata": {},
   "outputs": [],
   "source": [
    "the_uk = the_uk[the_uk['city'] != 'Stanford-le-Hope']"
   ]
  },
  {
   "cell_type": "code",
   "execution_count": 110,
   "metadata": {},
   "outputs": [],
   "source": [
    "the_uk = the_uk[the_uk['city'] != 'Saltash']"
   ]
  },
  {
   "cell_type": "code",
   "execution_count": 111,
   "metadata": {},
   "outputs": [],
   "source": [
    "the_uk = the_uk[the_uk['city'] != 'South East']"
   ]
  },
  {
   "cell_type": "code",
   "execution_count": 112,
   "metadata": {},
   "outputs": [],
   "source": [
    "the_uk = the_uk[the_uk['city'] != 'Chepstow']"
   ]
  },
  {
   "cell_type": "code",
   "execution_count": 113,
   "metadata": {},
   "outputs": [],
   "source": [
    "the_uk = the_uk[the_uk['city'] != 'Narberth']"
   ]
  },
  {
   "cell_type": "code",
   "execution_count": 114,
   "metadata": {},
   "outputs": [],
   "source": [
    "the_uk = the_uk[the_uk['city'] != 'Grangemouth']"
   ]
  },
  {
   "cell_type": "code",
   "execution_count": 115,
   "metadata": {},
   "outputs": [],
   "source": [
    "the_uk = the_uk[the_uk['city'] != 'West Midlands']"
   ]
  },
  {
   "cell_type": "code",
   "execution_count": 116,
   "metadata": {},
   "outputs": [],
   "source": [
    "the_uk = the_uk[the_uk['city'] != 'Central Scotland']"
   ]
  },
  {
   "cell_type": "code",
   "execution_count": 120,
   "metadata": {},
   "outputs": [],
   "source": [
    "the_uk = the_uk[the_uk['city'] != 'Stockbridge']"
   ]
  },
  {
   "cell_type": "code",
   "execution_count": 123,
   "metadata": {},
   "outputs": [],
   "source": [
    "the_uk = the_uk[the_uk['city'] != 'Chatham']"
   ]
  },
  {
   "cell_type": "code",
   "execution_count": 151,
   "metadata": {},
   "outputs": [],
   "source": [
    "the_uk = the_uk[the_uk['city'] != 'South West']"
   ]
  },
  {
   "cell_type": "code",
   "execution_count": 152,
   "metadata": {},
   "outputs": [],
   "source": [
    "the_uk = the_uk[the_uk['city'] != 'London']"
   ]
  },
  {
   "cell_type": "code",
   "execution_count": 153,
   "metadata": {},
   "outputs": [],
   "source": [
    "the_uk = the_uk[the_uk['city'] != 'Glasgow']"
   ]
  },
  {
   "cell_type": "code",
   "execution_count": 154,
   "metadata": {},
   "outputs": [],
   "source": [
    "the_uk = the_uk[the_uk['city'] != 'Manchester']"
   ]
  },
  {
   "cell_type": "code",
   "execution_count": 155,
   "metadata": {},
   "outputs": [],
   "source": [
    "the_uk = the_uk[the_uk['city'] != 'York']"
   ]
  },
  {
   "cell_type": "code",
   "execution_count": 156,
   "metadata": {},
   "outputs": [],
   "source": [
    "the_uk = the_uk[the_uk['city'] != 'Leeds']"
   ]
  },
  {
   "cell_type": "code",
   "execution_count": 157,
   "metadata": {},
   "outputs": [],
   "source": [
    "the_uk = the_uk[the_uk['city'] != 'Liverpool']"
   ]
  },
  {
   "cell_type": "code",
   "execution_count": 161,
   "metadata": {},
   "outputs": [
    {
     "data": {
      "text/plain": [
       "39"
      ]
     },
     "execution_count": 161,
     "metadata": {},
     "output_type": "execute_result"
    }
   ],
   "source": [
    "the_uk['city'].nunique()"
   ]
  },
  {
   "cell_type": "code",
   "execution_count": null,
   "metadata": {},
   "outputs": [],
   "source": [
    "['Lemington Spa','Stockton-on-Tees', 'Stanford-le-Hope', 'Saltash', 'South East', 'Barnstaple', 'Chepstow', 'Narberth', 'Grangemouth', 'West Midlands', 'Central Scotland']"
   ]
  },
  {
   "cell_type": "code",
   "execution_count": 169,
   "metadata": {},
   "outputs": [
    {
     "data": {
      "text/plain": [
       "Newport           19227\n",
       "Preston           19020\n",
       "Lough Navar       18992\n",
       "Auchencorth       18956\n",
       "Leicester         18890\n",
       "Aberdeen          18751\n",
       "Norwich           18719\n",
       "Hull              18633\n",
       "Nottingham        18555\n",
       "Stoke-on-Trent    18530\n",
       "Southampton       18503\n",
       "Oxford            18458\n",
       "Edinburgh         18382\n",
       "Belfast           18226\n",
       "Wigan             18174\n",
       "Bournemouth       18154\n",
       "Barnstaple        18025\n",
       "Sheffield         18025\n",
       "Newcastle         17959\n",
       "Rochester         17907\n",
       "Carlisle          17867\n",
       "Port Talbot       17758\n",
       "Sunderland        17701\n",
       "Inverness         17639\n",
       "Warrington        17578\n",
       "Birmingham        17542\n",
       "Plymouth          17539\n",
       "Cardiff           17465\n",
       "Derry             17458\n",
       "Blackpool         17395\n",
       "Eastbourne        17272\n",
       "Swansea           17149\n",
       "Wrexham           16678\n",
       "Bristol           16622\n",
       "Middlesbrough     16489\n",
       "Reading           13157\n",
       "Sandy             13113\n",
       "Portsmouth         9219\n",
       "Brighton           7923\n",
       "Name: city, dtype: int64"
      ]
     },
     "execution_count": 169,
     "metadata": {},
     "output_type": "execute_result"
    }
   ],
   "source": [
    "the_uk['city'].value_counts()"
   ]
  },
  {
   "cell_type": "code",
   "execution_count": 102,
   "metadata": {},
   "outputs": [
    {
     "data": {
      "text/html": [
       "<div>\n",
       "<style scoped>\n",
       "    .dataframe tbody tr th:only-of-type {\n",
       "        vertical-align: middle;\n",
       "    }\n",
       "\n",
       "    .dataframe tbody tr th {\n",
       "        vertical-align: top;\n",
       "    }\n",
       "\n",
       "    .dataframe thead th {\n",
       "        text-align: right;\n",
       "    }\n",
       "</style>\n",
       "<table border=\"1\" class=\"dataframe\">\n",
       "  <thead>\n",
       "    <tr style=\"text-align: right;\">\n",
       "      <th></th>\n",
       "      <th>location</th>\n",
       "      <th>parameter</th>\n",
       "      <th>value</th>\n",
       "      <th>unit</th>\n",
       "      <th>country</th>\n",
       "      <th>city</th>\n",
       "      <th>date.utc</th>\n",
       "      <th>coordinates.latitude</th>\n",
       "      <th>coordinates.longitude</th>\n",
       "    </tr>\n",
       "  </thead>\n",
       "  <tbody>\n",
       "    <tr>\n",
       "      <th>0</th>\n",
       "      <td>Aberdeen</td>\n",
       "      <td>pm25</td>\n",
       "      <td>3.0</td>\n",
       "      <td>b'\\xc2\\xb5g/m\\xc2\\xb3'</td>\n",
       "      <td>GB</td>\n",
       "      <td>Aberdeen</td>\n",
       "      <td>2021-05-07 00:00:00+00:00</td>\n",
       "      <td>57.157360</td>\n",
       "      <td>-2.094278</td>\n",
       "    </tr>\n",
       "    <tr>\n",
       "      <th>3</th>\n",
       "      <td>Aberdeen</td>\n",
       "      <td>pm25</td>\n",
       "      <td>3.0</td>\n",
       "      <td>b'\\xc2\\xb5g/m\\xc2\\xb3'</td>\n",
       "      <td>GB</td>\n",
       "      <td>Aberdeen</td>\n",
       "      <td>2021-05-06 23:00:00+00:00</td>\n",
       "      <td>57.157360</td>\n",
       "      <td>-2.094278</td>\n",
       "    </tr>\n",
       "    <tr>\n",
       "      <th>4</th>\n",
       "      <td>Aberdeen</td>\n",
       "      <td>pm25</td>\n",
       "      <td>3.0</td>\n",
       "      <td>b'\\xc2\\xb5g/m\\xc2\\xb3'</td>\n",
       "      <td>GB</td>\n",
       "      <td>Aberdeen</td>\n",
       "      <td>2021-05-06 22:00:00+00:00</td>\n",
       "      <td>57.157360</td>\n",
       "      <td>-2.094278</td>\n",
       "    </tr>\n",
       "    <tr>\n",
       "      <th>9</th>\n",
       "      <td>Aberdeen</td>\n",
       "      <td>pm25</td>\n",
       "      <td>3.0</td>\n",
       "      <td>b'\\xc2\\xb5g/m\\xc2\\xb3'</td>\n",
       "      <td>GB</td>\n",
       "      <td>Aberdeen</td>\n",
       "      <td>2021-05-06 21:00:00+00:00</td>\n",
       "      <td>57.157360</td>\n",
       "      <td>-2.094278</td>\n",
       "    </tr>\n",
       "    <tr>\n",
       "      <th>10</th>\n",
       "      <td>Aberdeen</td>\n",
       "      <td>pm25</td>\n",
       "      <td>3.0</td>\n",
       "      <td>b'\\xc2\\xb5g/m\\xc2\\xb3'</td>\n",
       "      <td>GB</td>\n",
       "      <td>Aberdeen</td>\n",
       "      <td>2021-05-06 20:00:00+00:00</td>\n",
       "      <td>57.157360</td>\n",
       "      <td>-2.094278</td>\n",
       "    </tr>\n",
       "    <tr>\n",
       "      <th>...</th>\n",
       "      <td>...</td>\n",
       "      <td>...</td>\n",
       "      <td>...</td>\n",
       "      <td>...</td>\n",
       "      <td>...</td>\n",
       "      <td>...</td>\n",
       "      <td>...</td>\n",
       "      <td>...</td>\n",
       "      <td>...</td>\n",
       "    </tr>\n",
       "    <tr>\n",
       "      <th>1313508</th>\n",
       "      <td>York Fishergate</td>\n",
       "      <td>pm25</td>\n",
       "      <td>18.0</td>\n",
       "      <td>b'\\xc2\\xb5g/m\\xc2\\xb3'</td>\n",
       "      <td>GB</td>\n",
       "      <td>York</td>\n",
       "      <td>2018-11-22 02:00:00+00:00</td>\n",
       "      <td>53.951889</td>\n",
       "      <td>-1.075861</td>\n",
       "    </tr>\n",
       "    <tr>\n",
       "      <th>1313509</th>\n",
       "      <td>York Bootham</td>\n",
       "      <td>pm25</td>\n",
       "      <td>20.0</td>\n",
       "      <td>b'\\xc2\\xb5g/m\\xc2\\xb3'</td>\n",
       "      <td>GB</td>\n",
       "      <td>York</td>\n",
       "      <td>2018-11-22 02:00:00+00:00</td>\n",
       "      <td>53.967513</td>\n",
       "      <td>-1.086514</td>\n",
       "    </tr>\n",
       "    <tr>\n",
       "      <th>1313510</th>\n",
       "      <td>York Fishergate</td>\n",
       "      <td>pm25</td>\n",
       "      <td>17.0</td>\n",
       "      <td>b'\\xc2\\xb5g/m\\xc2\\xb3'</td>\n",
       "      <td>GB</td>\n",
       "      <td>York</td>\n",
       "      <td>2018-11-22 01:00:00+00:00</td>\n",
       "      <td>53.951889</td>\n",
       "      <td>-1.075861</td>\n",
       "    </tr>\n",
       "    <tr>\n",
       "      <th>1313511</th>\n",
       "      <td>York Bootham</td>\n",
       "      <td>pm25</td>\n",
       "      <td>19.0</td>\n",
       "      <td>b'\\xc2\\xb5g/m\\xc2\\xb3'</td>\n",
       "      <td>GB</td>\n",
       "      <td>York</td>\n",
       "      <td>2018-11-22 00:00:00+00:00</td>\n",
       "      <td>53.967513</td>\n",
       "      <td>-1.086514</td>\n",
       "    </tr>\n",
       "    <tr>\n",
       "      <th>1313512</th>\n",
       "      <td>York Fishergate</td>\n",
       "      <td>pm25</td>\n",
       "      <td>16.0</td>\n",
       "      <td>b'\\xc2\\xb5g/m\\xc2\\xb3'</td>\n",
       "      <td>GB</td>\n",
       "      <td>York</td>\n",
       "      <td>2018-11-22 00:00:00+00:00</td>\n",
       "      <td>53.951889</td>\n",
       "      <td>-1.075861</td>\n",
       "    </tr>\n",
       "  </tbody>\n",
       "</table>\n",
       "<p>977437 rows × 9 columns</p>\n",
       "</div>"
      ],
      "text/plain": [
       "                location parameter  value                    unit country  \\\n",
       "0               Aberdeen      pm25    3.0  b'\\xc2\\xb5g/m\\xc2\\xb3'      GB   \n",
       "3               Aberdeen      pm25    3.0  b'\\xc2\\xb5g/m\\xc2\\xb3'      GB   \n",
       "4               Aberdeen      pm25    3.0  b'\\xc2\\xb5g/m\\xc2\\xb3'      GB   \n",
       "9               Aberdeen      pm25    3.0  b'\\xc2\\xb5g/m\\xc2\\xb3'      GB   \n",
       "10              Aberdeen      pm25    3.0  b'\\xc2\\xb5g/m\\xc2\\xb3'      GB   \n",
       "...                  ...       ...    ...                     ...     ...   \n",
       "1313508  York Fishergate      pm25   18.0  b'\\xc2\\xb5g/m\\xc2\\xb3'      GB   \n",
       "1313509     York Bootham      pm25   20.0  b'\\xc2\\xb5g/m\\xc2\\xb3'      GB   \n",
       "1313510  York Fishergate      pm25   17.0  b'\\xc2\\xb5g/m\\xc2\\xb3'      GB   \n",
       "1313511     York Bootham      pm25   19.0  b'\\xc2\\xb5g/m\\xc2\\xb3'      GB   \n",
       "1313512  York Fishergate      pm25   16.0  b'\\xc2\\xb5g/m\\xc2\\xb3'      GB   \n",
       "\n",
       "             city                   date.utc  coordinates.latitude  \\\n",
       "0        Aberdeen  2021-05-07 00:00:00+00:00             57.157360   \n",
       "3        Aberdeen  2021-05-06 23:00:00+00:00             57.157360   \n",
       "4        Aberdeen  2021-05-06 22:00:00+00:00             57.157360   \n",
       "9        Aberdeen  2021-05-06 21:00:00+00:00             57.157360   \n",
       "10       Aberdeen  2021-05-06 20:00:00+00:00             57.157360   \n",
       "...           ...                        ...                   ...   \n",
       "1313508      York  2018-11-22 02:00:00+00:00             53.951889   \n",
       "1313509      York  2018-11-22 02:00:00+00:00             53.967513   \n",
       "1313510      York  2018-11-22 01:00:00+00:00             53.951889   \n",
       "1313511      York  2018-11-22 00:00:00+00:00             53.967513   \n",
       "1313512      York  2018-11-22 00:00:00+00:00             53.951889   \n",
       "\n",
       "         coordinates.longitude  \n",
       "0                    -2.094278  \n",
       "3                    -2.094278  \n",
       "4                    -2.094278  \n",
       "9                    -2.094278  \n",
       "10                   -2.094278  \n",
       "...                        ...  \n",
       "1313508              -1.075861  \n",
       "1313509              -1.086514  \n",
       "1313510              -1.075861  \n",
       "1313511              -1.086514  \n",
       "1313512              -1.075861  \n",
       "\n",
       "[977437 rows x 9 columns]"
      ]
     },
     "execution_count": 102,
     "metadata": {},
     "output_type": "execute_result"
    }
   ],
   "source": [
    "the_uk"
   ]
  },
  {
   "cell_type": "code",
   "execution_count": 104,
   "metadata": {},
   "outputs": [],
   "source": [
    "the_uk = the_uk.groupby(['city', 'date.utc']).mean()"
   ]
  },
  {
   "cell_type": "code",
   "execution_count": 105,
   "metadata": {},
   "outputs": [
    {
     "data": {
      "text/html": [
       "<div>\n",
       "<style scoped>\n",
       "    .dataframe tbody tr th:only-of-type {\n",
       "        vertical-align: middle;\n",
       "    }\n",
       "\n",
       "    .dataframe tbody tr th {\n",
       "        vertical-align: top;\n",
       "    }\n",
       "\n",
       "    .dataframe thead th {\n",
       "        text-align: right;\n",
       "    }\n",
       "</style>\n",
       "<table border=\"1\" class=\"dataframe\">\n",
       "  <thead>\n",
       "    <tr style=\"text-align: right;\">\n",
       "      <th></th>\n",
       "      <th></th>\n",
       "      <th>value</th>\n",
       "      <th>coordinates.latitude</th>\n",
       "      <th>coordinates.longitude</th>\n",
       "    </tr>\n",
       "    <tr>\n",
       "      <th>city</th>\n",
       "      <th>date.utc</th>\n",
       "      <th></th>\n",
       "      <th></th>\n",
       "      <th></th>\n",
       "    </tr>\n",
       "  </thead>\n",
       "  <tbody>\n",
       "    <tr>\n",
       "      <th rowspan=\"5\" valign=\"top\">Aberdeen</th>\n",
       "      <th>2018-11-22 00:00:00+00:00</th>\n",
       "      <td>12.0</td>\n",
       "      <td>57.157360</td>\n",
       "      <td>-2.094278</td>\n",
       "    </tr>\n",
       "    <tr>\n",
       "      <th>2018-11-22 02:00:00+00:00</th>\n",
       "      <td>13.0</td>\n",
       "      <td>57.157360</td>\n",
       "      <td>-2.094278</td>\n",
       "    </tr>\n",
       "    <tr>\n",
       "      <th>2018-11-22 03:00:00+00:00</th>\n",
       "      <td>13.0</td>\n",
       "      <td>57.157360</td>\n",
       "      <td>-2.094278</td>\n",
       "    </tr>\n",
       "    <tr>\n",
       "      <th>2018-11-22 04:00:00+00:00</th>\n",
       "      <td>13.0</td>\n",
       "      <td>57.157360</td>\n",
       "      <td>-2.094278</td>\n",
       "    </tr>\n",
       "    <tr>\n",
       "      <th>2018-11-22 05:00:00+00:00</th>\n",
       "      <td>13.0</td>\n",
       "      <td>57.157360</td>\n",
       "      <td>-2.094278</td>\n",
       "    </tr>\n",
       "    <tr>\n",
       "      <th>...</th>\n",
       "      <th>...</th>\n",
       "      <td>...</td>\n",
       "      <td>...</td>\n",
       "      <td>...</td>\n",
       "    </tr>\n",
       "    <tr>\n",
       "      <th rowspan=\"5\" valign=\"top\">York</th>\n",
       "      <th>2021-05-06 20:00:00+00:00</th>\n",
       "      <td>3.0</td>\n",
       "      <td>53.959701</td>\n",
       "      <td>-1.081187</td>\n",
       "    </tr>\n",
       "    <tr>\n",
       "      <th>2021-05-06 21:00:00+00:00</th>\n",
       "      <td>3.0</td>\n",
       "      <td>53.959701</td>\n",
       "      <td>-1.081187</td>\n",
       "    </tr>\n",
       "    <tr>\n",
       "      <th>2021-05-06 22:00:00+00:00</th>\n",
       "      <td>3.0</td>\n",
       "      <td>53.959701</td>\n",
       "      <td>-1.081187</td>\n",
       "    </tr>\n",
       "    <tr>\n",
       "      <th>2021-05-06 23:00:00+00:00</th>\n",
       "      <td>3.0</td>\n",
       "      <td>53.959701</td>\n",
       "      <td>-1.081187</td>\n",
       "    </tr>\n",
       "    <tr>\n",
       "      <th>2021-05-07 00:00:00+00:00</th>\n",
       "      <td>3.0</td>\n",
       "      <td>53.959701</td>\n",
       "      <td>-1.081187</td>\n",
       "    </tr>\n",
       "  </tbody>\n",
       "</table>\n",
       "<p>815972 rows × 3 columns</p>\n",
       "</div>"
      ],
      "text/plain": [
       "                                    value  coordinates.latitude  \\\n",
       "city     date.utc                                                 \n",
       "Aberdeen 2018-11-22 00:00:00+00:00   12.0             57.157360   \n",
       "         2018-11-22 02:00:00+00:00   13.0             57.157360   \n",
       "         2018-11-22 03:00:00+00:00   13.0             57.157360   \n",
       "         2018-11-22 04:00:00+00:00   13.0             57.157360   \n",
       "         2018-11-22 05:00:00+00:00   13.0             57.157360   \n",
       "...                                   ...                   ...   \n",
       "York     2021-05-06 20:00:00+00:00    3.0             53.959701   \n",
       "         2021-05-06 21:00:00+00:00    3.0             53.959701   \n",
       "         2021-05-06 22:00:00+00:00    3.0             53.959701   \n",
       "         2021-05-06 23:00:00+00:00    3.0             53.959701   \n",
       "         2021-05-07 00:00:00+00:00    3.0             53.959701   \n",
       "\n",
       "                                    coordinates.longitude  \n",
       "city     date.utc                                          \n",
       "Aberdeen 2018-11-22 00:00:00+00:00              -2.094278  \n",
       "         2018-11-22 02:00:00+00:00              -2.094278  \n",
       "         2018-11-22 03:00:00+00:00              -2.094278  \n",
       "         2018-11-22 04:00:00+00:00              -2.094278  \n",
       "         2018-11-22 05:00:00+00:00              -2.094278  \n",
       "...                                                   ...  \n",
       "York     2021-05-06 20:00:00+00:00              -1.081187  \n",
       "         2021-05-06 21:00:00+00:00              -1.081187  \n",
       "         2021-05-06 22:00:00+00:00              -1.081187  \n",
       "         2021-05-06 23:00:00+00:00              -1.081187  \n",
       "         2021-05-07 00:00:00+00:00              -1.081187  \n",
       "\n",
       "[815972 rows x 3 columns]"
      ]
     },
     "execution_count": 105,
     "metadata": {},
     "output_type": "execute_result"
    }
   ],
   "source": [
    "the_uk"
   ]
  },
  {
   "cell_type": "code",
   "execution_count": 75,
   "metadata": {},
   "outputs": [
    {
     "data": {
      "text/plain": [
       "['Lemington Spa',\n",
       " 'Stockton-on-Tees',\n",
       " 'Stanford-le-Hope',\n",
       " 'Saltash',\n",
       " 'South East',\n",
       " 'Barnstaple',\n",
       " 'Chepstow',\n",
       " 'Narberth',\n",
       " 'Grangemouth',\n",
       " 'West Midlands',\n",
       " 'Central Scotland']"
      ]
     },
     "execution_count": 75,
     "metadata": {},
     "output_type": "execute_result"
    }
   ],
   "source": [
    "['Lemington Spa','Stockton-on-Tees', 'Stanford-le-Hope', 'Saltash', 'South East', 'Barnstaple', 'Chepstow', 'Narberth', 'Grangemouth', 'West Midlands', 'Central Scotland']"
   ]
  },
  {
   "cell_type": "code",
   "execution_count": 70,
   "metadata": {},
   "outputs": [
    {
     "ename": "KeyError",
     "evalue": "'city'",
     "output_type": "error",
     "traceback": [
      "\u001b[1;31m---------------------------------------------------------------------------\u001b[0m",
      "\u001b[1;31mKeyError\u001b[0m                                  Traceback (most recent call last)",
      "\u001b[1;32m~\\anaconda3\\lib\\site-packages\\pandas\\core\\indexes\\base.py\u001b[0m in \u001b[0;36mget_loc\u001b[1;34m(self, key, method, tolerance)\u001b[0m\n\u001b[0;32m   2645\u001b[0m             \u001b[1;32mtry\u001b[0m\u001b[1;33m:\u001b[0m\u001b[1;33m\u001b[0m\u001b[1;33m\u001b[0m\u001b[0m\n\u001b[1;32m-> 2646\u001b[1;33m                 \u001b[1;32mreturn\u001b[0m \u001b[0mself\u001b[0m\u001b[1;33m.\u001b[0m\u001b[0m_engine\u001b[0m\u001b[1;33m.\u001b[0m\u001b[0mget_loc\u001b[0m\u001b[1;33m(\u001b[0m\u001b[0mkey\u001b[0m\u001b[1;33m)\u001b[0m\u001b[1;33m\u001b[0m\u001b[1;33m\u001b[0m\u001b[0m\n\u001b[0m\u001b[0;32m   2647\u001b[0m             \u001b[1;32mexcept\u001b[0m \u001b[0mKeyError\u001b[0m\u001b[1;33m:\u001b[0m\u001b[1;33m\u001b[0m\u001b[1;33m\u001b[0m\u001b[0m\n",
      "\u001b[1;32mpandas\\_libs\\index.pyx\u001b[0m in \u001b[0;36mpandas._libs.index.IndexEngine.get_loc\u001b[1;34m()\u001b[0m\n",
      "\u001b[1;32mpandas\\_libs\\index.pyx\u001b[0m in \u001b[0;36mpandas._libs.index.IndexEngine.get_loc\u001b[1;34m()\u001b[0m\n",
      "\u001b[1;32mpandas\\_libs\\hashtable_class_helper.pxi\u001b[0m in \u001b[0;36mpandas._libs.hashtable.PyObjectHashTable.get_item\u001b[1;34m()\u001b[0m\n",
      "\u001b[1;32mpandas\\_libs\\hashtable_class_helper.pxi\u001b[0m in \u001b[0;36mpandas._libs.hashtable.PyObjectHashTable.get_item\u001b[1;34m()\u001b[0m\n",
      "\u001b[1;31mKeyError\u001b[0m: 'city'",
      "\nDuring handling of the above exception, another exception occurred:\n",
      "\u001b[1;31mKeyError\u001b[0m                                  Traceback (most recent call last)",
      "\u001b[1;32m<ipython-input-70-34cf10cd0e7f>\u001b[0m in \u001b[0;36m<module>\u001b[1;34m\u001b[0m\n\u001b[1;32m----> 1\u001b[1;33m \u001b[0mthe_uk\u001b[0m \u001b[1;33m=\u001b[0m \u001b[0mthe_uk\u001b[0m\u001b[1;33m[\u001b[0m\u001b[0mthe_uk\u001b[0m\u001b[1;33m[\u001b[0m\u001b[1;34m'city'\u001b[0m\u001b[1;33m]\u001b[0m \u001b[1;33m!=\u001b[0m \u001b[1;33m[\u001b[0m\u001b[1;34m'Lemington Spa'\u001b[0m\u001b[1;33m]\u001b[0m\u001b[1;33m]\u001b[0m\u001b[1;33m\u001b[0m\u001b[1;33m\u001b[0m\u001b[0m\n\u001b[0m",
      "\u001b[1;32m~\\anaconda3\\lib\\site-packages\\pandas\\core\\frame.py\u001b[0m in \u001b[0;36m__getitem__\u001b[1;34m(self, key)\u001b[0m\n\u001b[0;32m   2798\u001b[0m             \u001b[1;32mif\u001b[0m \u001b[0mself\u001b[0m\u001b[1;33m.\u001b[0m\u001b[0mcolumns\u001b[0m\u001b[1;33m.\u001b[0m\u001b[0mnlevels\u001b[0m \u001b[1;33m>\u001b[0m \u001b[1;36m1\u001b[0m\u001b[1;33m:\u001b[0m\u001b[1;33m\u001b[0m\u001b[1;33m\u001b[0m\u001b[0m\n\u001b[0;32m   2799\u001b[0m                 \u001b[1;32mreturn\u001b[0m \u001b[0mself\u001b[0m\u001b[1;33m.\u001b[0m\u001b[0m_getitem_multilevel\u001b[0m\u001b[1;33m(\u001b[0m\u001b[0mkey\u001b[0m\u001b[1;33m)\u001b[0m\u001b[1;33m\u001b[0m\u001b[1;33m\u001b[0m\u001b[0m\n\u001b[1;32m-> 2800\u001b[1;33m             \u001b[0mindexer\u001b[0m \u001b[1;33m=\u001b[0m \u001b[0mself\u001b[0m\u001b[1;33m.\u001b[0m\u001b[0mcolumns\u001b[0m\u001b[1;33m.\u001b[0m\u001b[0mget_loc\u001b[0m\u001b[1;33m(\u001b[0m\u001b[0mkey\u001b[0m\u001b[1;33m)\u001b[0m\u001b[1;33m\u001b[0m\u001b[1;33m\u001b[0m\u001b[0m\n\u001b[0m\u001b[0;32m   2801\u001b[0m             \u001b[1;32mif\u001b[0m \u001b[0mis_integer\u001b[0m\u001b[1;33m(\u001b[0m\u001b[0mindexer\u001b[0m\u001b[1;33m)\u001b[0m\u001b[1;33m:\u001b[0m\u001b[1;33m\u001b[0m\u001b[1;33m\u001b[0m\u001b[0m\n\u001b[0;32m   2802\u001b[0m                 \u001b[0mindexer\u001b[0m \u001b[1;33m=\u001b[0m \u001b[1;33m[\u001b[0m\u001b[0mindexer\u001b[0m\u001b[1;33m]\u001b[0m\u001b[1;33m\u001b[0m\u001b[1;33m\u001b[0m\u001b[0m\n",
      "\u001b[1;32m~\\anaconda3\\lib\\site-packages\\pandas\\core\\indexes\\base.py\u001b[0m in \u001b[0;36mget_loc\u001b[1;34m(self, key, method, tolerance)\u001b[0m\n\u001b[0;32m   2646\u001b[0m                 \u001b[1;32mreturn\u001b[0m \u001b[0mself\u001b[0m\u001b[1;33m.\u001b[0m\u001b[0m_engine\u001b[0m\u001b[1;33m.\u001b[0m\u001b[0mget_loc\u001b[0m\u001b[1;33m(\u001b[0m\u001b[0mkey\u001b[0m\u001b[1;33m)\u001b[0m\u001b[1;33m\u001b[0m\u001b[1;33m\u001b[0m\u001b[0m\n\u001b[0;32m   2647\u001b[0m             \u001b[1;32mexcept\u001b[0m \u001b[0mKeyError\u001b[0m\u001b[1;33m:\u001b[0m\u001b[1;33m\u001b[0m\u001b[1;33m\u001b[0m\u001b[0m\n\u001b[1;32m-> 2648\u001b[1;33m                 \u001b[1;32mreturn\u001b[0m \u001b[0mself\u001b[0m\u001b[1;33m.\u001b[0m\u001b[0m_engine\u001b[0m\u001b[1;33m.\u001b[0m\u001b[0mget_loc\u001b[0m\u001b[1;33m(\u001b[0m\u001b[0mself\u001b[0m\u001b[1;33m.\u001b[0m\u001b[0m_maybe_cast_indexer\u001b[0m\u001b[1;33m(\u001b[0m\u001b[0mkey\u001b[0m\u001b[1;33m)\u001b[0m\u001b[1;33m)\u001b[0m\u001b[1;33m\u001b[0m\u001b[1;33m\u001b[0m\u001b[0m\n\u001b[0m\u001b[0;32m   2649\u001b[0m         \u001b[0mindexer\u001b[0m \u001b[1;33m=\u001b[0m \u001b[0mself\u001b[0m\u001b[1;33m.\u001b[0m\u001b[0mget_indexer\u001b[0m\u001b[1;33m(\u001b[0m\u001b[1;33m[\u001b[0m\u001b[0mkey\u001b[0m\u001b[1;33m]\u001b[0m\u001b[1;33m,\u001b[0m \u001b[0mmethod\u001b[0m\u001b[1;33m=\u001b[0m\u001b[0mmethod\u001b[0m\u001b[1;33m,\u001b[0m \u001b[0mtolerance\u001b[0m\u001b[1;33m=\u001b[0m\u001b[0mtolerance\u001b[0m\u001b[1;33m)\u001b[0m\u001b[1;33m\u001b[0m\u001b[1;33m\u001b[0m\u001b[0m\n\u001b[0;32m   2650\u001b[0m         \u001b[1;32mif\u001b[0m \u001b[0mindexer\u001b[0m\u001b[1;33m.\u001b[0m\u001b[0mndim\u001b[0m \u001b[1;33m>\u001b[0m \u001b[1;36m1\u001b[0m \u001b[1;32mor\u001b[0m \u001b[0mindexer\u001b[0m\u001b[1;33m.\u001b[0m\u001b[0msize\u001b[0m \u001b[1;33m>\u001b[0m \u001b[1;36m1\u001b[0m\u001b[1;33m:\u001b[0m\u001b[1;33m\u001b[0m\u001b[1;33m\u001b[0m\u001b[0m\n",
      "\u001b[1;32mpandas\\_libs\\index.pyx\u001b[0m in \u001b[0;36mpandas._libs.index.IndexEngine.get_loc\u001b[1;34m()\u001b[0m\n",
      "\u001b[1;32mpandas\\_libs\\index.pyx\u001b[0m in \u001b[0;36mpandas._libs.index.IndexEngine.get_loc\u001b[1;34m()\u001b[0m\n",
      "\u001b[1;32mpandas\\_libs\\hashtable_class_helper.pxi\u001b[0m in \u001b[0;36mpandas._libs.hashtable.PyObjectHashTable.get_item\u001b[1;34m()\u001b[0m\n",
      "\u001b[1;32mpandas\\_libs\\hashtable_class_helper.pxi\u001b[0m in \u001b[0;36mpandas._libs.hashtable.PyObjectHashTable.get_item\u001b[1;34m()\u001b[0m\n",
      "\u001b[1;31mKeyError\u001b[0m: 'city'"
     ]
    }
   ],
   "source": [
    "the_uk = the_uk[the_uk['city'] != ['Lemington Spa']]"
   ]
  },
  {
   "cell_type": "code",
   "execution_count": 73,
   "metadata": {},
   "outputs": [
    {
     "data": {
      "text/html": [
       "<div>\n",
       "<style scoped>\n",
       "    .dataframe tbody tr th:only-of-type {\n",
       "        vertical-align: middle;\n",
       "    }\n",
       "\n",
       "    .dataframe tbody tr th {\n",
       "        vertical-align: top;\n",
       "    }\n",
       "\n",
       "    .dataframe thead th {\n",
       "        text-align: right;\n",
       "    }\n",
       "</style>\n",
       "<table border=\"1\" class=\"dataframe\">\n",
       "  <thead>\n",
       "    <tr style=\"text-align: right;\">\n",
       "      <th></th>\n",
       "      <th></th>\n",
       "      <th>value</th>\n",
       "      <th>coordinates.latitude</th>\n",
       "      <th>coordinates.longitude</th>\n",
       "    </tr>\n",
       "    <tr>\n",
       "      <th>city</th>\n",
       "      <th>date.utc</th>\n",
       "      <th></th>\n",
       "      <th></th>\n",
       "      <th></th>\n",
       "    </tr>\n",
       "  </thead>\n",
       "  <tbody>\n",
       "    <tr>\n",
       "      <th rowspan=\"5\" valign=\"top\">Aberdeen</th>\n",
       "      <th>2018-11-22 00:00:00+00:00</th>\n",
       "      <td>10.733333</td>\n",
       "      <td>50.491454</td>\n",
       "      <td>-83.405926</td>\n",
       "    </tr>\n",
       "    <tr>\n",
       "      <th>2018-11-22 01:00:00+00:00</th>\n",
       "      <td>9.600000</td>\n",
       "      <td>47.158501</td>\n",
       "      <td>-124.061751</td>\n",
       "    </tr>\n",
       "    <tr>\n",
       "      <th>2018-11-22 02:00:00+00:00</th>\n",
       "      <td>11.966667</td>\n",
       "      <td>50.491454</td>\n",
       "      <td>-83.405926</td>\n",
       "    </tr>\n",
       "    <tr>\n",
       "      <th>2018-11-22 03:00:00+00:00</th>\n",
       "      <td>12.533333</td>\n",
       "      <td>50.491454</td>\n",
       "      <td>-83.405926</td>\n",
       "    </tr>\n",
       "    <tr>\n",
       "      <th>2018-11-22 04:00:00+00:00</th>\n",
       "      <td>12.633333</td>\n",
       "      <td>50.491454</td>\n",
       "      <td>-83.405926</td>\n",
       "    </tr>\n",
       "    <tr>\n",
       "      <th>...</th>\n",
       "      <th>...</th>\n",
       "      <td>...</td>\n",
       "      <td>...</td>\n",
       "      <td>...</td>\n",
       "    </tr>\n",
       "    <tr>\n",
       "      <th rowspan=\"5\" valign=\"top\">York</th>\n",
       "      <th>2021-05-06 20:00:00+00:00</th>\n",
       "      <td>3.000000</td>\n",
       "      <td>53.959701</td>\n",
       "      <td>-1.081187</td>\n",
       "    </tr>\n",
       "    <tr>\n",
       "      <th>2021-05-06 21:00:00+00:00</th>\n",
       "      <td>3.000000</td>\n",
       "      <td>53.959701</td>\n",
       "      <td>-1.081187</td>\n",
       "    </tr>\n",
       "    <tr>\n",
       "      <th>2021-05-06 22:00:00+00:00</th>\n",
       "      <td>3.000000</td>\n",
       "      <td>53.959701</td>\n",
       "      <td>-1.081187</td>\n",
       "    </tr>\n",
       "    <tr>\n",
       "      <th>2021-05-06 23:00:00+00:00</th>\n",
       "      <td>3.000000</td>\n",
       "      <td>53.959701</td>\n",
       "      <td>-1.081187</td>\n",
       "    </tr>\n",
       "    <tr>\n",
       "      <th>2021-05-07 00:00:00+00:00</th>\n",
       "      <td>3.000000</td>\n",
       "      <td>53.959701</td>\n",
       "      <td>-1.081187</td>\n",
       "    </tr>\n",
       "  </tbody>\n",
       "</table>\n",
       "<p>1049391 rows × 3 columns</p>\n",
       "</div>"
      ],
      "text/plain": [
       "                                        value  coordinates.latitude  \\\n",
       "city     date.utc                                                     \n",
       "Aberdeen 2018-11-22 00:00:00+00:00  10.733333             50.491454   \n",
       "         2018-11-22 01:00:00+00:00   9.600000             47.158501   \n",
       "         2018-11-22 02:00:00+00:00  11.966667             50.491454   \n",
       "         2018-11-22 03:00:00+00:00  12.533333             50.491454   \n",
       "         2018-11-22 04:00:00+00:00  12.633333             50.491454   \n",
       "...                                       ...                   ...   \n",
       "York     2021-05-06 20:00:00+00:00   3.000000             53.959701   \n",
       "         2021-05-06 21:00:00+00:00   3.000000             53.959701   \n",
       "         2021-05-06 22:00:00+00:00   3.000000             53.959701   \n",
       "         2021-05-06 23:00:00+00:00   3.000000             53.959701   \n",
       "         2021-05-07 00:00:00+00:00   3.000000             53.959701   \n",
       "\n",
       "                                    coordinates.longitude  \n",
       "city     date.utc                                          \n",
       "Aberdeen 2018-11-22 00:00:00+00:00             -83.405926  \n",
       "         2018-11-22 01:00:00+00:00            -124.061751  \n",
       "         2018-11-22 02:00:00+00:00             -83.405926  \n",
       "         2018-11-22 03:00:00+00:00             -83.405926  \n",
       "         2018-11-22 04:00:00+00:00             -83.405926  \n",
       "...                                                   ...  \n",
       "York     2021-05-06 20:00:00+00:00              -1.081187  \n",
       "         2021-05-06 21:00:00+00:00              -1.081187  \n",
       "         2021-05-06 22:00:00+00:00              -1.081187  \n",
       "         2021-05-06 23:00:00+00:00              -1.081187  \n",
       "         2021-05-07 00:00:00+00:00              -1.081187  \n",
       "\n",
       "[1049391 rows x 3 columns]"
      ]
     },
     "execution_count": 73,
     "metadata": {},
     "output_type": "execute_result"
    }
   ],
   "source": [
    "the_uk"
   ]
  },
  {
   "cell_type": "code",
   "execution_count": 170,
   "metadata": {},
   "outputs": [],
   "source": [
    "Newport = the_uk[the_uk['city'] == 'Newport']"
   ]
  },
  {
   "cell_type": "code",
   "execution_count": 172,
   "metadata": {},
   "outputs": [
    {
     "data": {
      "text/plain": [
       "2019-05-27 20:00:00+00:00    1\n",
       "2020-08-12 16:00:00+00:00    1\n",
       "2020-10-13 12:00:00+00:00    1\n",
       "2019-03-13 07:00:00+00:00    1\n",
       "2019-07-16 04:00:00+00:00    1\n",
       "                            ..\n",
       "2019-06-25 12:00:00+00:00    1\n",
       "2019-06-23 21:00:00+00:00    1\n",
       "2020-03-18 10:00:00+00:00    1\n",
       "2020-12-01 04:00:00+00:00    1\n",
       "2018-11-24 07:00:00+00:00    1\n",
       "Name: date.utc, Length: 19227, dtype: int64"
      ]
     },
     "execution_count": 172,
     "metadata": {},
     "output_type": "execute_result"
    }
   ],
   "source": [
    "Newport['date.utc'].value_counts()"
   ]
  },
  {
   "cell_type": "code",
   "execution_count": 173,
   "metadata": {},
   "outputs": [
    {
     "data": {
      "text/html": [
       "<div>\n",
       "<style scoped>\n",
       "    .dataframe tbody tr th:only-of-type {\n",
       "        vertical-align: middle;\n",
       "    }\n",
       "\n",
       "    .dataframe tbody tr th {\n",
       "        vertical-align: top;\n",
       "    }\n",
       "\n",
       "    .dataframe thead th {\n",
       "        text-align: right;\n",
       "    }\n",
       "</style>\n",
       "<table border=\"1\" class=\"dataframe\">\n",
       "  <thead>\n",
       "    <tr style=\"text-align: right;\">\n",
       "      <th></th>\n",
       "      <th>location</th>\n",
       "      <th>parameter</th>\n",
       "      <th>value</th>\n",
       "      <th>unit</th>\n",
       "      <th>country</th>\n",
       "      <th>city</th>\n",
       "      <th>date.utc</th>\n",
       "      <th>coordinates.latitude</th>\n",
       "      <th>coordinates.longitude</th>\n",
       "    </tr>\n",
       "  </thead>\n",
       "  <tbody>\n",
       "    <tr>\n",
       "      <th>737474</th>\n",
       "      <td>Newport</td>\n",
       "      <td>pm25</td>\n",
       "      <td>3.0</td>\n",
       "      <td>b'\\xc2\\xb5g/m\\xc2\\xb3'</td>\n",
       "      <td>GB</td>\n",
       "      <td>Newport</td>\n",
       "      <td>2021-05-07 00:00:00+00:00</td>\n",
       "      <td>51.601203</td>\n",
       "      <td>-2.977281</td>\n",
       "    </tr>\n",
       "    <tr>\n",
       "      <th>737477</th>\n",
       "      <td>Newport</td>\n",
       "      <td>pm25</td>\n",
       "      <td>3.0</td>\n",
       "      <td>b'\\xc2\\xb5g/m\\xc2\\xb3'</td>\n",
       "      <td>GB</td>\n",
       "      <td>Newport</td>\n",
       "      <td>2021-05-06 23:00:00+00:00</td>\n",
       "      <td>51.601203</td>\n",
       "      <td>-2.977281</td>\n",
       "    </tr>\n",
       "    <tr>\n",
       "      <th>737479</th>\n",
       "      <td>Newport</td>\n",
       "      <td>pm25</td>\n",
       "      <td>3.0</td>\n",
       "      <td>b'\\xc2\\xb5g/m\\xc2\\xb3'</td>\n",
       "      <td>GB</td>\n",
       "      <td>Newport</td>\n",
       "      <td>2021-05-06 22:00:00+00:00</td>\n",
       "      <td>51.601203</td>\n",
       "      <td>-2.977281</td>\n",
       "    </tr>\n",
       "    <tr>\n",
       "      <th>737481</th>\n",
       "      <td>Newport</td>\n",
       "      <td>pm25</td>\n",
       "      <td>3.0</td>\n",
       "      <td>b'\\xc2\\xb5g/m\\xc2\\xb3'</td>\n",
       "      <td>GB</td>\n",
       "      <td>Newport</td>\n",
       "      <td>2021-05-06 21:00:00+00:00</td>\n",
       "      <td>51.601203</td>\n",
       "      <td>-2.977281</td>\n",
       "    </tr>\n",
       "    <tr>\n",
       "      <th>737483</th>\n",
       "      <td>Newport</td>\n",
       "      <td>pm25</td>\n",
       "      <td>3.0</td>\n",
       "      <td>b'\\xc2\\xb5g/m\\xc2\\xb3'</td>\n",
       "      <td>GB</td>\n",
       "      <td>Newport</td>\n",
       "      <td>2021-05-06 20:00:00+00:00</td>\n",
       "      <td>51.601203</td>\n",
       "      <td>-2.977281</td>\n",
       "    </tr>\n",
       "    <tr>\n",
       "      <th>...</th>\n",
       "      <td>...</td>\n",
       "      <td>...</td>\n",
       "      <td>...</td>\n",
       "      <td>...</td>\n",
       "      <td>...</td>\n",
       "      <td>...</td>\n",
       "      <td>...</td>\n",
       "      <td>...</td>\n",
       "      <td>...</td>\n",
       "    </tr>\n",
       "    <tr>\n",
       "      <th>774650</th>\n",
       "      <td>Newport</td>\n",
       "      <td>pm25</td>\n",
       "      <td>16.0</td>\n",
       "      <td>b'\\xc2\\xb5g/m\\xc2\\xb3'</td>\n",
       "      <td>GB</td>\n",
       "      <td>Newport</td>\n",
       "      <td>2018-11-22 04:00:00+00:00</td>\n",
       "      <td>51.601203</td>\n",
       "      <td>-2.977281</td>\n",
       "    </tr>\n",
       "    <tr>\n",
       "      <th>774652</th>\n",
       "      <td>Newport</td>\n",
       "      <td>pm25</td>\n",
       "      <td>16.0</td>\n",
       "      <td>b'\\xc2\\xb5g/m\\xc2\\xb3'</td>\n",
       "      <td>GB</td>\n",
       "      <td>Newport</td>\n",
       "      <td>2018-11-22 03:00:00+00:00</td>\n",
       "      <td>51.601203</td>\n",
       "      <td>-2.977281</td>\n",
       "    </tr>\n",
       "    <tr>\n",
       "      <th>774655</th>\n",
       "      <td>Newport</td>\n",
       "      <td>pm25</td>\n",
       "      <td>16.0</td>\n",
       "      <td>b'\\xc2\\xb5g/m\\xc2\\xb3'</td>\n",
       "      <td>GB</td>\n",
       "      <td>Newport</td>\n",
       "      <td>2018-11-22 02:00:00+00:00</td>\n",
       "      <td>51.601203</td>\n",
       "      <td>-2.977281</td>\n",
       "    </tr>\n",
       "    <tr>\n",
       "      <th>774657</th>\n",
       "      <td>Newport</td>\n",
       "      <td>pm25</td>\n",
       "      <td>16.0</td>\n",
       "      <td>b'\\xc2\\xb5g/m\\xc2\\xb3'</td>\n",
       "      <td>GB</td>\n",
       "      <td>Newport</td>\n",
       "      <td>2018-11-22 01:00:00+00:00</td>\n",
       "      <td>51.601203</td>\n",
       "      <td>-2.977281</td>\n",
       "    </tr>\n",
       "    <tr>\n",
       "      <th>774658</th>\n",
       "      <td>Newport</td>\n",
       "      <td>pm25</td>\n",
       "      <td>16.0</td>\n",
       "      <td>b'\\xc2\\xb5g/m\\xc2\\xb3'</td>\n",
       "      <td>GB</td>\n",
       "      <td>Newport</td>\n",
       "      <td>2018-11-22 00:00:00+00:00</td>\n",
       "      <td>51.601203</td>\n",
       "      <td>-2.977281</td>\n",
       "    </tr>\n",
       "  </tbody>\n",
       "</table>\n",
       "<p>19227 rows × 9 columns</p>\n",
       "</div>"
      ],
      "text/plain": [
       "       location parameter  value                    unit country     city  \\\n",
       "737474  Newport      pm25    3.0  b'\\xc2\\xb5g/m\\xc2\\xb3'      GB  Newport   \n",
       "737477  Newport      pm25    3.0  b'\\xc2\\xb5g/m\\xc2\\xb3'      GB  Newport   \n",
       "737479  Newport      pm25    3.0  b'\\xc2\\xb5g/m\\xc2\\xb3'      GB  Newport   \n",
       "737481  Newport      pm25    3.0  b'\\xc2\\xb5g/m\\xc2\\xb3'      GB  Newport   \n",
       "737483  Newport      pm25    3.0  b'\\xc2\\xb5g/m\\xc2\\xb3'      GB  Newport   \n",
       "...         ...       ...    ...                     ...     ...      ...   \n",
       "774650  Newport      pm25   16.0  b'\\xc2\\xb5g/m\\xc2\\xb3'      GB  Newport   \n",
       "774652  Newport      pm25   16.0  b'\\xc2\\xb5g/m\\xc2\\xb3'      GB  Newport   \n",
       "774655  Newport      pm25   16.0  b'\\xc2\\xb5g/m\\xc2\\xb3'      GB  Newport   \n",
       "774657  Newport      pm25   16.0  b'\\xc2\\xb5g/m\\xc2\\xb3'      GB  Newport   \n",
       "774658  Newport      pm25   16.0  b'\\xc2\\xb5g/m\\xc2\\xb3'      GB  Newport   \n",
       "\n",
       "                         date.utc  coordinates.latitude  coordinates.longitude  \n",
       "737474  2021-05-07 00:00:00+00:00             51.601203              -2.977281  \n",
       "737477  2021-05-06 23:00:00+00:00             51.601203              -2.977281  \n",
       "737479  2021-05-06 22:00:00+00:00             51.601203              -2.977281  \n",
       "737481  2021-05-06 21:00:00+00:00             51.601203              -2.977281  \n",
       "737483  2021-05-06 20:00:00+00:00             51.601203              -2.977281  \n",
       "...                           ...                   ...                    ...  \n",
       "774650  2018-11-22 04:00:00+00:00             51.601203              -2.977281  \n",
       "774652  2018-11-22 03:00:00+00:00             51.601203              -2.977281  \n",
       "774655  2018-11-22 02:00:00+00:00             51.601203              -2.977281  \n",
       "774657  2018-11-22 01:00:00+00:00             51.601203              -2.977281  \n",
       "774658  2018-11-22 00:00:00+00:00             51.601203              -2.977281  \n",
       "\n",
       "[19227 rows x 9 columns]"
      ]
     },
     "execution_count": 173,
     "metadata": {},
     "output_type": "execute_result"
    }
   ],
   "source": [
    "Newport"
   ]
  },
  {
   "cell_type": "code",
   "execution_count": 174,
   "metadata": {},
   "outputs": [],
   "source": [
    "world = pd.read_csv('UNITEDKINGDOM.csv')"
   ]
  },
  {
   "cell_type": "code",
   "execution_count": 175,
   "metadata": {},
   "outputs": [],
   "source": [
    "world = world.rename(columns={\"date.utc\": \"Date\", \"coordinates.latitude\": \"Lat\", \"coordinates.longitude\":\"Long\", \"value\": \"PM25\"})\n",
    "world['Date'] = world['Date'].astype(str).str[:10]\n",
    "world = world.drop(columns=['unit', 'parameter'], axis =1)\n",
    "world = world[['location', 'Date', 'city', 'country', 'PM25', 'Lat','Long']]\n",
    "world['PM25'] = world.groupby(['Date','location'])['PM25'].transform(lambda x: x.mean())\n",
    "world = world.groupby(['Date', 'location']).first().reset_index()"
   ]
  },
  {
   "cell_type": "code",
   "execution_count": 176,
   "metadata": {},
   "outputs": [
    {
     "data": {
      "text/plain": [
       "(62392, 7)"
      ]
     },
     "execution_count": 176,
     "metadata": {},
     "output_type": "execute_result"
    }
   ],
   "source": [
    "world.shape"
   ]
  },
  {
   "cell_type": "code",
   "execution_count": 178,
   "metadata": {},
   "outputs": [],
   "source": [
    "world.to_csv('UnitedKingdom1.csv')"
   ]
  },
  {
   "cell_type": "code",
   "execution_count": null,
   "metadata": {},
   "outputs": [],
   "source": []
  }
 ],
 "metadata": {
  "kernelspec": {
   "display_name": "Python 3 (ipykernel)",
   "language": "python",
   "name": "python3"
  },
  "language_info": {
   "codemirror_mode": {
    "name": "ipython",
    "version": 3
   },
   "file_extension": ".py",
   "mimetype": "text/x-python",
   "name": "python",
   "nbconvert_exporter": "python",
   "pygments_lexer": "ipython3",
   "version": "3.9.7"
  }
 },
 "nbformat": 4,
 "nbformat_minor": 4
}
