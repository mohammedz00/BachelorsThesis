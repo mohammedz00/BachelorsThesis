{
 "cells": [
  {
   "cell_type": "code",
   "execution_count": 2,
   "id": "94861583",
   "metadata": {},
   "outputs": [
    {
     "name": "stdout",
     "output_type": "stream",
     "text": [
      "Requirement already satisfied: ee in c:\\users\\zenudeen\\anaconda3\\lib\\site-packages (0.2)\n",
      "Requirement already satisfied: blessings in c:\\users\\zenudeen\\anaconda3\\lib\\site-packages (from ee) (1.7)\n",
      "Requirement already satisfied: six in c:\\users\\zenudeen\\anaconda3\\lib\\site-packages (from blessings->ee) (1.16.0)\n"
     ]
    }
   ],
   "source": [
    "!pip install ee"
   ]
  },
  {
   "cell_type": "code",
   "execution_count": 3,
   "id": "5226c9a2",
   "metadata": {},
   "outputs": [
    {
     "name": "stdout",
     "output_type": "stream",
     "text": [
      "Collecting windows-curses\n",
      "  Downloading windows_curses-2.3.0-cp39-cp39-win_amd64.whl (88 kB)\n",
      "Installing collected packages: windows-curses\n",
      "Successfully installed windows-curses-2.3.0\n"
     ]
    }
   ],
   "source": [
    "!pip install windows-curses"
   ]
  },
  {
   "cell_type": "code",
   "execution_count": 4,
   "id": "b6515f85",
   "metadata": {},
   "outputs": [
    {
     "name": "stdout",
     "output_type": "stream",
     "text": [
      "Collecting google-api-python-client\n",
      "  Downloading google_api_python_client-2.33.0-py2.py3-none-any.whl (7.9 MB)\n",
      "Collecting google-auth-httplib2>=0.1.0\n",
      "  Downloading google_auth_httplib2-0.1.0-py2.py3-none-any.whl (9.3 kB)\n",
      "Collecting google-auth<3.0.0dev,>=1.16.0\n",
      "  Downloading google_auth-2.3.3-py2.py3-none-any.whl (155 kB)\n",
      "Collecting uritemplate<5,>=3.0.0\n",
      "  Downloading uritemplate-4.1.1-py2.py3-none-any.whl (10 kB)\n",
      "Collecting httplib2<1dev,>=0.15.0\n",
      "  Downloading httplib2-0.20.2-py3-none-any.whl (96 kB)\n",
      "Collecting google-api-core<3.0.0dev,>=1.21.0\n",
      "  Downloading google_api_core-2.3.0-py2.py3-none-any.whl (109 kB)\n",
      "Collecting googleapis-common-protos<2.0dev,>=1.52.0\n",
      "  Downloading googleapis_common_protos-1.54.0-py2.py3-none-any.whl (207 kB)\n",
      "Requirement already satisfied: requests<3.0.0dev,>=2.18.0 in c:\\users\\zenudeen\\anaconda3\\lib\\site-packages (from google-api-core<3.0.0dev,>=1.21.0->google-api-python-client) (2.26.0)\n",
      "Requirement already satisfied: setuptools>=40.3.0 in c:\\users\\zenudeen\\anaconda3\\lib\\site-packages (from google-api-core<3.0.0dev,>=1.21.0->google-api-python-client) (58.0.4)\n",
      "Collecting protobuf>=3.12.0\n",
      "  Downloading protobuf-3.19.1-cp39-cp39-win_amd64.whl (895 kB)\n",
      "Collecting cachetools<5.0,>=2.0.0\n",
      "  Downloading cachetools-4.2.4-py3-none-any.whl (10 kB)\n",
      "Requirement already satisfied: six>=1.9.0 in c:\\users\\zenudeen\\anaconda3\\lib\\site-packages (from google-auth<3.0.0dev,>=1.16.0->google-api-python-client) (1.16.0)\n",
      "Collecting rsa<5,>=3.1.4\n",
      "  Downloading rsa-4.8-py3-none-any.whl (39 kB)\n",
      "Collecting pyasn1-modules>=0.2.1\n",
      "  Downloading pyasn1_modules-0.2.8-py2.py3-none-any.whl (155 kB)\n",
      "Requirement already satisfied: pyparsing!=3.0.0,!=3.0.1,!=3.0.2,!=3.0.3,<4,>=2.4.2 in c:\\users\\zenudeen\\anaconda3\\lib\\site-packages (from httplib2<1dev,>=0.15.0->google-api-python-client) (3.0.4)\n",
      "Collecting pyasn1<0.5.0,>=0.4.6\n",
      "  Downloading pyasn1-0.4.8-py2.py3-none-any.whl (77 kB)\n",
      "Requirement already satisfied: urllib3<1.27,>=1.21.1 in c:\\users\\zenudeen\\anaconda3\\lib\\site-packages (from requests<3.0.0dev,>=2.18.0->google-api-core<3.0.0dev,>=1.21.0->google-api-python-client) (1.26.7)\n",
      "Requirement already satisfied: certifi>=2017.4.17 in c:\\users\\zenudeen\\anaconda3\\lib\\site-packages (from requests<3.0.0dev,>=2.18.0->google-api-core<3.0.0dev,>=1.21.0->google-api-python-client) (2021.10.8)\n",
      "Requirement already satisfied: idna<4,>=2.5 in c:\\users\\zenudeen\\anaconda3\\lib\\site-packages (from requests<3.0.0dev,>=2.18.0->google-api-core<3.0.0dev,>=1.21.0->google-api-python-client) (3.2)\n",
      "Requirement already satisfied: charset-normalizer~=2.0.0 in c:\\users\\zenudeen\\anaconda3\\lib\\site-packages (from requests<3.0.0dev,>=2.18.0->google-api-core<3.0.0dev,>=1.21.0->google-api-python-client) (2.0.4)\n",
      "Installing collected packages: pyasn1, rsa, pyasn1-modules, protobuf, cachetools, httplib2, googleapis-common-protos, google-auth, uritemplate, google-auth-httplib2, google-api-core, google-api-python-client\n",
      "Successfully installed cachetools-4.2.4 google-api-core-2.3.0 google-api-python-client-2.33.0 google-auth-2.3.3 google-auth-httplib2-0.1.0 googleapis-common-protos-1.54.0 httplib2-0.20.2 protobuf-3.19.1 pyasn1-0.4.8 pyasn1-modules-0.2.8 rsa-4.8 uritemplate-4.1.1\n"
     ]
    }
   ],
   "source": [
    "!pip install google-api-python-client"
   ]
  },
  {
   "cell_type": "code",
   "execution_count": 5,
   "id": "4c807fea",
   "metadata": {},
   "outputs": [
    {
     "name": "stdout",
     "output_type": "stream",
     "text": [
      "Collecting earthengine-api\n",
      "  Downloading earthengine-api-0.1.292.tar.gz (231 kB)\n",
      "Requirement already satisfied: future in c:\\users\\zenudeen\\anaconda3\\lib\\site-packages (from earthengine-api) (0.18.2)\n",
      "Collecting google-cloud-storage\n",
      "  Downloading google_cloud_storage-1.43.0-py2.py3-none-any.whl (106 kB)\n",
      "Collecting google-api-python-client<2,>=1.12.1\n",
      "  Downloading google_api_python_client-1.12.8-py2.py3-none-any.whl (61 kB)\n",
      "Requirement already satisfied: google-auth>=1.4.1 in c:\\users\\zenudeen\\anaconda3\\lib\\site-packages (from earthengine-api) (2.3.3)\n",
      "Requirement already satisfied: google-auth-httplib2>=0.0.3 in c:\\users\\zenudeen\\anaconda3\\lib\\site-packages (from earthengine-api) (0.1.0)\n",
      "Requirement already satisfied: httplib2<1dev,>=0.9.2 in c:\\users\\zenudeen\\anaconda3\\lib\\site-packages (from earthengine-api) (0.20.2)\n",
      "Collecting httplib2shim\n",
      "  Downloading httplib2shim-0.0.3.tar.gz (17 kB)\n",
      "Requirement already satisfied: six in c:\\users\\zenudeen\\anaconda3\\lib\\site-packages (from earthengine-api) (1.16.0)\n",
      "Collecting uritemplate<4dev,>=3.0.0\n",
      "  Downloading uritemplate-3.0.1-py2.py3-none-any.whl (15 kB)\n",
      "Collecting google-api-core<2dev,>=1.21.0\n",
      "  Downloading google_api_core-1.31.4-py2.py3-none-any.whl (93 kB)\n",
      "Requirement already satisfied: setuptools>=40.3.0 in c:\\users\\zenudeen\\anaconda3\\lib\\site-packages (from google-api-core<2dev,>=1.21.0->google-api-python-client<2,>=1.12.1->earthengine-api) (58.0.4)\n",
      "Requirement already satisfied: googleapis-common-protos<2.0dev,>=1.6.0 in c:\\users\\zenudeen\\anaconda3\\lib\\site-packages (from google-api-core<2dev,>=1.21.0->google-api-python-client<2,>=1.12.1->earthengine-api) (1.54.0)\n",
      "Requirement already satisfied: pytz in c:\\users\\zenudeen\\anaconda3\\lib\\site-packages (from google-api-core<2dev,>=1.21.0->google-api-python-client<2,>=1.12.1->earthengine-api) (2021.3)\n",
      "Collecting google-auth>=1.4.1\n",
      "  Downloading google_auth-1.35.0-py2.py3-none-any.whl (152 kB)\n",
      "Requirement already satisfied: requests<3.0.0dev,>=2.18.0 in c:\\users\\zenudeen\\anaconda3\\lib\\site-packages (from google-api-core<2dev,>=1.21.0->google-api-python-client<2,>=1.12.1->earthengine-api) (2.26.0)\n",
      "Requirement already satisfied: packaging>=14.3 in c:\\users\\zenudeen\\anaconda3\\lib\\site-packages (from google-api-core<2dev,>=1.21.0->google-api-python-client<2,>=1.12.1->earthengine-api) (21.0)\n",
      "Requirement already satisfied: protobuf>=3.12.0 in c:\\users\\zenudeen\\anaconda3\\lib\\site-packages (from google-api-core<2dev,>=1.21.0->google-api-python-client<2,>=1.12.1->earthengine-api) (3.19.1)\n",
      "Requirement already satisfied: rsa<5,>=3.1.4 in c:\\users\\zenudeen\\anaconda3\\lib\\site-packages (from google-auth>=1.4.1->earthengine-api) (4.8)\n",
      "Requirement already satisfied: pyasn1-modules>=0.2.1 in c:\\users\\zenudeen\\anaconda3\\lib\\site-packages (from google-auth>=1.4.1->earthengine-api) (0.2.8)\n",
      "Requirement already satisfied: cachetools<5.0,>=2.0.0 in c:\\users\\zenudeen\\anaconda3\\lib\\site-packages (from google-auth>=1.4.1->earthengine-api) (4.2.4)\n",
      "Requirement already satisfied: pyparsing!=3.0.0,!=3.0.1,!=3.0.2,!=3.0.3,<4,>=2.4.2 in c:\\users\\zenudeen\\anaconda3\\lib\\site-packages (from httplib2<1dev,>=0.9.2->earthengine-api) (3.0.4)\n",
      "Requirement already satisfied: pyasn1<0.5.0,>=0.4.6 in c:\\users\\zenudeen\\anaconda3\\lib\\site-packages (from pyasn1-modules>=0.2.1->google-auth>=1.4.1->earthengine-api) (0.4.8)\n",
      "Requirement already satisfied: idna<4,>=2.5 in c:\\users\\zenudeen\\anaconda3\\lib\\site-packages (from requests<3.0.0dev,>=2.18.0->google-api-core<2dev,>=1.21.0->google-api-python-client<2,>=1.12.1->earthengine-api) (3.2)\n",
      "Requirement already satisfied: charset-normalizer~=2.0.0 in c:\\users\\zenudeen\\anaconda3\\lib\\site-packages (from requests<3.0.0dev,>=2.18.0->google-api-core<2dev,>=1.21.0->google-api-python-client<2,>=1.12.1->earthengine-api) (2.0.4)\n",
      "Requirement already satisfied: urllib3<1.27,>=1.21.1 in c:\\users\\zenudeen\\anaconda3\\lib\\site-packages (from requests<3.0.0dev,>=2.18.0->google-api-core<2dev,>=1.21.0->google-api-python-client<2,>=1.12.1->earthengine-api) (1.26.7)\n",
      "Requirement already satisfied: certifi>=2017.4.17 in c:\\users\\zenudeen\\anaconda3\\lib\\site-packages (from requests<3.0.0dev,>=2.18.0->google-api-core<2dev,>=1.21.0->google-api-python-client<2,>=1.12.1->earthengine-api) (2021.10.8)\n",
      "Collecting google-cloud-core<3.0dev,>=1.6.0\n",
      "  Downloading google_cloud_core-2.2.1-py2.py3-none-any.whl (29 kB)\n",
      "Collecting google-resumable-media<3.0dev,>=1.3.0\n",
      "  Downloading google_resumable_media-2.1.0-py2.py3-none-any.whl (75 kB)\n",
      "Collecting google-crc32c<2.0dev,>=1.0\n",
      "  Downloading google_crc32c-1.3.0-cp39-cp39-win_amd64.whl (27 kB)\n",
      "Building wheels for collected packages: earthengine-api, httplib2shim\n",
      "  Building wheel for earthengine-api (setup.py): started\n",
      "  Building wheel for earthengine-api (setup.py): finished with status 'done'\n",
      "  Created wheel for earthengine-api: filename=earthengine_api-0.1.292-py3-none-any.whl size=261944 sha256=614f01f03d7c5fb81fa2b0a094b07bb2265c518ba20a2c71bacde004ca8a1914\n",
      "  Stored in directory: c:\\users\\zenudeen\\appdata\\local\\pip\\cache\\wheels\\2d\\5f\\6f\\afe0075e5a5ff44ff1c20b514f8c6fabf510a3356685b043d3\n",
      "  Building wheel for httplib2shim (setup.py): started\n",
      "  Building wheel for httplib2shim (setup.py): finished with status 'done'\n",
      "  Created wheel for httplib2shim: filename=httplib2shim-0.0.3-py2.py3-none-any.whl size=18058 sha256=44359013b75d28cd9addf79ba53101751dd7ffe5979a4105e4f336c0e155206b\n",
      "  Stored in directory: c:\\users\\zenudeen\\appdata\\local\\pip\\cache\\wheels\\cc\\e7\\8f\\8a433809ef32e27c1f24d80effef7dde1212f72fec13df73aa\n",
      "Successfully built earthengine-api httplib2shim\n",
      "Installing collected packages: google-auth, google-crc32c, google-api-core, uritemplate, google-resumable-media, google-cloud-core, httplib2shim, google-cloud-storage, google-api-python-client, earthengine-api\n",
      "  Attempting uninstall: google-auth\n",
      "    Found existing installation: google-auth 2.3.3\n",
      "    Uninstalling google-auth-2.3.3:\n",
      "      Successfully uninstalled google-auth-2.3.3\n",
      "  Attempting uninstall: google-api-core\n",
      "    Found existing installation: google-api-core 2.3.0\n",
      "    Uninstalling google-api-core-2.3.0:\n",
      "      Successfully uninstalled google-api-core-2.3.0\n",
      "  Attempting uninstall: uritemplate\n",
      "    Found existing installation: uritemplate 4.1.1\n",
      "    Uninstalling uritemplate-4.1.1:\n",
      "      Successfully uninstalled uritemplate-4.1.1\n",
      "  Attempting uninstall: google-api-python-client\n",
      "    Found existing installation: google-api-python-client 2.33.0\n",
      "    Uninstalling google-api-python-client-2.33.0:\n",
      "      Successfully uninstalled google-api-python-client-2.33.0\n",
      "Successfully installed earthengine-api-0.1.292 google-api-core-1.31.4 google-api-python-client-1.12.8 google-auth-1.35.0 google-cloud-core-2.2.1 google-cloud-storage-1.43.0 google-crc32c-1.3.0 google-resumable-media-2.1.0 httplib2shim-0.0.3 uritemplate-3.0.1\n"
     ]
    }
   ],
   "source": [
    "!pip install earthengine-api"
   ]
  },
  {
   "cell_type": "code",
   "execution_count": 10,
   "id": "cbae6760",
   "metadata": {},
   "outputs": [],
   "source": [
    "# Imports\n",
    "\n",
    "import pandas as pd\n",
    "import ee\n",
    "from tqdm import tqdm # Progress bar\n",
    "from datetime import timedelta\n",
    "import datetime"
   ]
  },
  {
   "cell_type": "code",
   "execution_count": 2,
   "id": "63749d40",
   "metadata": {},
   "outputs": [
    {
     "data": {
      "text/html": [
       "<p>To authorize access needed by Earth Engine, open the following\n",
       "        URL in a web browser and follow the instructions:</p>\n",
       "        <p><a href=https://accounts.google.com/o/oauth2/auth?client_id=517222506229-vsmmajv00ul0bs7p89v5m89qs8eb9359.apps.googleusercontent.com&scope=https%3A%2F%2Fwww.googleapis.com%2Fauth%2Fearthengine+https%3A%2F%2Fwww.googleapis.com%2Fauth%2Fdevstorage.full_control&redirect_uri=urn%3Aietf%3Awg%3Aoauth%3A2.0%3Aoob&response_type=code&code_challenge=142j_mn0k1sybQE0Kd3m-GhxOmuOlFo-zR-bUYSKGTs&code_challenge_method=S256>https://accounts.google.com/o/oauth2/auth?client_id=517222506229-vsmmajv00ul0bs7p89v5m89qs8eb9359.apps.googleusercontent.com&scope=https%3A%2F%2Fwww.googleapis.com%2Fauth%2Fearthengine+https%3A%2F%2Fwww.googleapis.com%2Fauth%2Fdevstorage.full_control&redirect_uri=urn%3Aietf%3Awg%3Aoauth%3A2.0%3Aoob&response_type=code&code_challenge=142j_mn0k1sybQE0Kd3m-GhxOmuOlFo-zR-bUYSKGTs&code_challenge_method=S256</a></p>\n",
       "        <p>The authorization workflow will generate a code, which you\n",
       "        should paste in the box below</p>\n",
       "        "
      ],
      "text/plain": [
       "<IPython.core.display.HTML object>"
      ]
     },
     "metadata": {},
     "output_type": "display_data"
    },
    {
     "name": "stdout",
     "output_type": "stream",
     "text": [
      "Enter verification code: 4/1AX4XfWhAT2G5Aa09-FRrG_QBz_BEPWudrQL7EXD86mU0wtzTPRGDIctrSLQ\n",
      "\n",
      "Successfully saved authorization token.\n"
     ]
    }
   ],
   "source": [
    "ee.Authenticate()  # Run once to link your Google Earth Engine account"
   ]
  },
  {
   "cell_type": "code",
   "execution_count": 11,
   "id": "88e2345f",
   "metadata": {},
   "outputs": [],
   "source": [
    "ee.Initialize() # Run each session"
   ]
  },
  {
   "cell_type": "code",
   "execution_count": 12,
   "id": "26d8cfcb",
   "metadata": {},
   "outputs": [],
   "source": [
    "world = pd.read_csv('UNITEDKINGDOMPM25.csv')"
   ]
  },
  {
   "cell_type": "code",
   "execution_count": 13,
   "id": "ecd79de9",
   "metadata": {},
   "outputs": [
    {
     "name": "stdout",
     "output_type": "stream",
     "text": [
      "Already done\n"
     ]
    }
   ],
   "source": [
    "# Renaming columns to make clearer\n",
    "\n",
    "try:\n",
    "    world = world.rename(columns={\"date.utc\": \"Date\", \"coordinates.latitude\": \"Lat\", \"coordinates.longitude\":\"Long\", \"value\": \"PM25\"})\n",
    "    world['Date'] = world['Date'].astype(str).str[:10]\n",
    "    world = world.drop(columns=['unit', 'parameter'], axis =1)\n",
    "    world = world[['location', 'Date', 'city', 'country', 'PM25', 'Lat','Long']]\n",
    "    world['PM25'] = world.groupby(['Date','location'])['PM25'].transform(lambda x: x.mean())\n",
    "    world = world.groupby(['Date', 'location']).first().reset_index()\n",
    "except:\n",
    "    print('Already done')"
   ]
  },
  {
   "cell_type": "code",
   "execution_count": 14,
   "id": "91ecc2e1",
   "metadata": {},
   "outputs": [
    {
     "data": {
      "text/html": [
       "<div>\n",
       "<style scoped>\n",
       "    .dataframe tbody tr th:only-of-type {\n",
       "        vertical-align: middle;\n",
       "    }\n",
       "\n",
       "    .dataframe tbody tr th {\n",
       "        vertical-align: top;\n",
       "    }\n",
       "\n",
       "    .dataframe thead th {\n",
       "        text-align: right;\n",
       "    }\n",
       "</style>\n",
       "<table border=\"1\" class=\"dataframe\">\n",
       "  <thead>\n",
       "    <tr style=\"text-align: right;\">\n",
       "      <th></th>\n",
       "      <th>Unnamed: 0</th>\n",
       "      <th>Date</th>\n",
       "      <th>location</th>\n",
       "      <th>city</th>\n",
       "      <th>country</th>\n",
       "      <th>PM25</th>\n",
       "      <th>Lat</th>\n",
       "      <th>Long</th>\n",
       "    </tr>\n",
       "  </thead>\n",
       "  <tbody>\n",
       "    <tr>\n",
       "      <th>0</th>\n",
       "      <td>0</td>\n",
       "      <td>2018-11-22</td>\n",
       "      <td>Aberdeen</td>\n",
       "      <td>Aberdeen</td>\n",
       "      <td>GB</td>\n",
       "      <td>11.739130</td>\n",
       "      <td>57.157360</td>\n",
       "      <td>-2.094278</td>\n",
       "    </tr>\n",
       "    <tr>\n",
       "      <th>1</th>\n",
       "      <td>1</td>\n",
       "      <td>2018-11-22</td>\n",
       "      <td>Aberdeen-Division St</td>\n",
       "      <td>Aberdeen</td>\n",
       "      <td>US</td>\n",
       "      <td>7.627273</td>\n",
       "      <td>46.977200</td>\n",
       "      <td>-123.831700</td>\n",
       "    </tr>\n",
       "    <tr>\n",
       "      <th>2</th>\n",
       "      <td>2</td>\n",
       "      <td>2018-11-22</td>\n",
       "      <td>Auchencorth Moss</td>\n",
       "      <td>Auchencorth</td>\n",
       "      <td>GB</td>\n",
       "      <td>10.125000</td>\n",
       "      <td>55.792160</td>\n",
       "      <td>-3.242900</td>\n",
       "    </tr>\n",
       "    <tr>\n",
       "      <th>3</th>\n",
       "      <td>3</td>\n",
       "      <td>2018-11-22</td>\n",
       "      <td>Barnstaple A39</td>\n",
       "      <td>Barnstaple</td>\n",
       "      <td>GB</td>\n",
       "      <td>16.333333</td>\n",
       "      <td>51.074793</td>\n",
       "      <td>-4.041924</td>\n",
       "    </tr>\n",
       "    <tr>\n",
       "      <th>4</th>\n",
       "      <td>4</td>\n",
       "      <td>2018-11-22</td>\n",
       "      <td>Belfast Centre</td>\n",
       "      <td>Belfast</td>\n",
       "      <td>GB</td>\n",
       "      <td>14.958333</td>\n",
       "      <td>54.599650</td>\n",
       "      <td>-5.928833</td>\n",
       "    </tr>\n",
       "  </tbody>\n",
       "</table>\n",
       "</div>"
      ],
      "text/plain": [
       "   Unnamed: 0        Date              location         city country  \\\n",
       "0           0  2018-11-22              Aberdeen     Aberdeen      GB   \n",
       "1           1  2018-11-22  Aberdeen-Division St     Aberdeen      US   \n",
       "2           2  2018-11-22      Auchencorth Moss  Auchencorth      GB   \n",
       "3           3  2018-11-22        Barnstaple A39   Barnstaple      GB   \n",
       "4           4  2018-11-22        Belfast Centre      Belfast      GB   \n",
       "\n",
       "        PM25        Lat        Long  \n",
       "0  11.739130  57.157360   -2.094278  \n",
       "1   7.627273  46.977200 -123.831700  \n",
       "2  10.125000  55.792160   -3.242900  \n",
       "3  16.333333  51.074793   -4.041924  \n",
       "4  14.958333  54.599650   -5.928833  "
      ]
     },
     "execution_count": 14,
     "metadata": {},
     "output_type": "execute_result"
    }
   ],
   "source": [
    "world.head()"
   ]
  },
  {
   "cell_type": "code",
   "execution_count": 6,
   "id": "abe05681",
   "metadata": {},
   "outputs": [],
   "source": [
    "# A utility function to pull data for a set of locations\n",
    "def sample(im, prop, lats, lons, scale=100, reducer=ee.Reducer.first(), tileScale=4):\n",
    "    points = []\n",
    "    for lat, lon in zip(lats, lons):\n",
    "        xy = ee.Geometry.Point([lon, lat])\n",
    "        points.append(xy.buffer(scale))\n",
    "    vals = im.reduceRegions(collection=ee.FeatureCollection(points), scale=scale, reducer=reducer, tileScale=tileScale).getInfo()\n",
    "    if prop == '':\n",
    "        return [v['properties'] for v in vals['features']]\n",
    "    return [v['properties'][prop] for v in vals['features']]"
   ]
  },
  {
   "cell_type": "code",
   "execution_count": 7,
   "id": "0130a574",
   "metadata": {},
   "outputs": [],
   "source": [
    "#population data\n",
    "def add_static_vars(df, scale = 2000):\n",
    "    lights = ee.ImageCollection(\"NOAA/DMSP-OLS/CALIBRATED_LIGHTS_V4\").filter(ee.Filter.date('2010-01-01', '2018-03-08')).first()\n",
    "    pop = ee.ImageCollection(\"CIESIN/GPWv411/GPW_UNWPP-Adjusted_Population_Density\").filter(ee.Filter.date('2010-01-01', '2018-03-08')).first()\n",
    "    ims = [lights, pop]\n",
    "\n",
    "    for im in tqdm(ims):\n",
    "        for i, reducer in enumerate([ee.Reducer.mean(), ee.Reducer.min(), ee.Reducer.max()]):\n",
    "            sampled_values = sample(im, '', df['Lat'].values, df['Long'].values, reducer=reducer)\n",
    "            for k in sampled_values[0].keys():\n",
    "                arr = ['mean', 'min', 'max']\n",
    "                df[k+'_'+ arr[i]] = [sv[k] if k in sv.keys() else None for sv in sampled_values]\n",
    "                if k == arr[i]:\n",
    "                    df = df.rename(columns={k+'_'+ arr[i]:'pop_density2010'+'_'+ arr[i]})\n",
    "    return df"
   ]
  },
  {
   "cell_type": "code",
   "execution_count": 8,
   "id": "1e2f1f57",
   "metadata": {},
   "outputs": [
    {
     "data": {
      "text/html": [
       "<div>\n",
       "<style scoped>\n",
       "    .dataframe tbody tr th:only-of-type {\n",
       "        vertical-align: middle;\n",
       "    }\n",
       "\n",
       "    .dataframe tbody tr th {\n",
       "        vertical-align: top;\n",
       "    }\n",
       "\n",
       "    .dataframe thead th {\n",
       "        text-align: right;\n",
       "    }\n",
       "</style>\n",
       "<table border=\"1\" class=\"dataframe\">\n",
       "  <thead>\n",
       "    <tr style=\"text-align: right;\">\n",
       "      <th></th>\n",
       "      <th>location</th>\n",
       "      <th>Unnamed: 0</th>\n",
       "      <th>Date</th>\n",
       "      <th>city</th>\n",
       "      <th>country</th>\n",
       "      <th>PM25</th>\n",
       "      <th>Lat</th>\n",
       "      <th>Long</th>\n",
       "    </tr>\n",
       "  </thead>\n",
       "  <tbody>\n",
       "    <tr>\n",
       "      <th>0</th>\n",
       "      <td>Aberdeen</td>\n",
       "      <td>0</td>\n",
       "      <td>2018-11-22</td>\n",
       "      <td>Aberdeen</td>\n",
       "      <td>GB</td>\n",
       "      <td>11.739130</td>\n",
       "      <td>57.157360</td>\n",
       "      <td>-2.094278</td>\n",
       "    </tr>\n",
       "    <tr>\n",
       "      <th>1</th>\n",
       "      <td>Aberdeen-Division St</td>\n",
       "      <td>1</td>\n",
       "      <td>2018-11-22</td>\n",
       "      <td>Aberdeen</td>\n",
       "      <td>US</td>\n",
       "      <td>7.627273</td>\n",
       "      <td>46.977200</td>\n",
       "      <td>-123.831700</td>\n",
       "    </tr>\n",
       "    <tr>\n",
       "      <th>2</th>\n",
       "      <td>Auchencorth Moss</td>\n",
       "      <td>2</td>\n",
       "      <td>2018-11-22</td>\n",
       "      <td>Auchencorth</td>\n",
       "      <td>GB</td>\n",
       "      <td>10.125000</td>\n",
       "      <td>55.792160</td>\n",
       "      <td>-3.242900</td>\n",
       "    </tr>\n",
       "    <tr>\n",
       "      <th>3</th>\n",
       "      <td>Barnstaple A39</td>\n",
       "      <td>3</td>\n",
       "      <td>2018-11-22</td>\n",
       "      <td>Barnstaple</td>\n",
       "      <td>GB</td>\n",
       "      <td>16.333333</td>\n",
       "      <td>51.074793</td>\n",
       "      <td>-4.041924</td>\n",
       "    </tr>\n",
       "    <tr>\n",
       "      <th>4</th>\n",
       "      <td>Belfast Centre</td>\n",
       "      <td>4</td>\n",
       "      <td>2018-11-22</td>\n",
       "      <td>Belfast</td>\n",
       "      <td>GB</td>\n",
       "      <td>14.958333</td>\n",
       "      <td>54.599650</td>\n",
       "      <td>-5.928833</td>\n",
       "    </tr>\n",
       "    <tr>\n",
       "      <th>...</th>\n",
       "      <td>...</td>\n",
       "      <td>...</td>\n",
       "      <td>...</td>\n",
       "      <td>...</td>\n",
       "      <td>...</td>\n",
       "      <td>...</td>\n",
       "      <td>...</td>\n",
       "      <td>...</td>\n",
       "    </tr>\n",
       "    <tr>\n",
       "      <th>75</th>\n",
       "      <td>Wirral Tranmere</td>\n",
       "      <td>56</td>\n",
       "      <td>2018-11-22</td>\n",
       "      <td>Liverpool</td>\n",
       "      <td>GB</td>\n",
       "      <td>22.625000</td>\n",
       "      <td>53.372870</td>\n",
       "      <td>-3.022722</td>\n",
       "    </tr>\n",
       "    <tr>\n",
       "      <th>76</th>\n",
       "      <td>Worthing A27 Roadside</td>\n",
       "      <td>57</td>\n",
       "      <td>2018-11-22</td>\n",
       "      <td>South East</td>\n",
       "      <td>GB</td>\n",
       "      <td>24.000000</td>\n",
       "      <td>50.832947</td>\n",
       "      <td>-0.379916</td>\n",
       "    </tr>\n",
       "    <tr>\n",
       "      <th>77</th>\n",
       "      <td>Wrexham</td>\n",
       "      <td>58</td>\n",
       "      <td>2018-11-22</td>\n",
       "      <td>Wrexham</td>\n",
       "      <td>GB</td>\n",
       "      <td>25.521739</td>\n",
       "      <td>53.042220</td>\n",
       "      <td>-3.002778</td>\n",
       "    </tr>\n",
       "    <tr>\n",
       "      <th>78</th>\n",
       "      <td>York Bootham</td>\n",
       "      <td>59</td>\n",
       "      <td>2018-11-22</td>\n",
       "      <td>York</td>\n",
       "      <td>GB</td>\n",
       "      <td>24.434783</td>\n",
       "      <td>53.967513</td>\n",
       "      <td>-1.086514</td>\n",
       "    </tr>\n",
       "    <tr>\n",
       "      <th>79</th>\n",
       "      <td>York Fishergate</td>\n",
       "      <td>60</td>\n",
       "      <td>2018-11-22</td>\n",
       "      <td>York</td>\n",
       "      <td>GB</td>\n",
       "      <td>22.958333</td>\n",
       "      <td>53.951889</td>\n",
       "      <td>-1.075861</td>\n",
       "    </tr>\n",
       "  </tbody>\n",
       "</table>\n",
       "<p>80 rows × 8 columns</p>\n",
       "</div>"
      ],
      "text/plain": [
       "                 location  Unnamed: 0        Date         city country  \\\n",
       "0                Aberdeen           0  2018-11-22     Aberdeen      GB   \n",
       "1    Aberdeen-Division St           1  2018-11-22     Aberdeen      US   \n",
       "2        Auchencorth Moss           2  2018-11-22  Auchencorth      GB   \n",
       "3          Barnstaple A39           3  2018-11-22   Barnstaple      GB   \n",
       "4          Belfast Centre           4  2018-11-22      Belfast      GB   \n",
       "..                    ...         ...         ...          ...     ...   \n",
       "75        Wirral Tranmere          56  2018-11-22    Liverpool      GB   \n",
       "76  Worthing A27 Roadside          57  2018-11-22   South East      GB   \n",
       "77                Wrexham          58  2018-11-22      Wrexham      GB   \n",
       "78           York Bootham          59  2018-11-22         York      GB   \n",
       "79        York Fishergate          60  2018-11-22         York      GB   \n",
       "\n",
       "         PM25        Lat        Long  \n",
       "0   11.739130  57.157360   -2.094278  \n",
       "1    7.627273  46.977200 -123.831700  \n",
       "2   10.125000  55.792160   -3.242900  \n",
       "3   16.333333  51.074793   -4.041924  \n",
       "4   14.958333  54.599650   -5.928833  \n",
       "..        ...        ...         ...  \n",
       "75  22.625000  53.372870   -3.022722  \n",
       "76  24.000000  50.832947   -0.379916  \n",
       "77  25.521739  53.042220   -3.002778  \n",
       "78  24.434783  53.967513   -1.086514  \n",
       "79  22.958333  53.951889   -1.075861  \n",
       "\n",
       "[80 rows x 8 columns]"
      ]
     },
     "execution_count": 8,
     "metadata": {},
     "output_type": "execute_result"
    }
   ],
   "source": [
    "locations = world.groupby('location').first().reset_index() # The locations to query\n",
    "locations"
   ]
  },
  {
   "cell_type": "code",
   "execution_count": 9,
   "id": "57d2f420",
   "metadata": {},
   "outputs": [
    {
     "name": "stderr",
     "output_type": "stream",
     "text": [
      "100%|████████████████████████████████████████████████████████████████████████████████████| 2/2 [00:03<00:00,  1.90s/it]\n"
     ]
    },
    {
     "data": {
      "text/html": [
       "<div>\n",
       "<style scoped>\n",
       "    .dataframe tbody tr th:only-of-type {\n",
       "        vertical-align: middle;\n",
       "    }\n",
       "\n",
       "    .dataframe tbody tr th {\n",
       "        vertical-align: top;\n",
       "    }\n",
       "\n",
       "    .dataframe thead th {\n",
       "        text-align: right;\n",
       "    }\n",
       "</style>\n",
       "<table border=\"1\" class=\"dataframe\">\n",
       "  <thead>\n",
       "    <tr style=\"text-align: right;\">\n",
       "      <th></th>\n",
       "      <th>location</th>\n",
       "      <th>Unnamed: 0</th>\n",
       "      <th>Date</th>\n",
       "      <th>city</th>\n",
       "      <th>country</th>\n",
       "      <th>PM25</th>\n",
       "      <th>Lat</th>\n",
       "      <th>Long</th>\n",
       "      <th>avg_vis_mean</th>\n",
       "      <th>cf_cvg_mean</th>\n",
       "      <th>avg_vis_min</th>\n",
       "      <th>cf_cvg_min</th>\n",
       "      <th>avg_vis_max</th>\n",
       "      <th>cf_cvg_max</th>\n",
       "      <th>pop_density2010_mean</th>\n",
       "      <th>pop_density2010_min</th>\n",
       "      <th>pop_density2010_max</th>\n",
       "    </tr>\n",
       "  </thead>\n",
       "  <tbody>\n",
       "    <tr>\n",
       "      <th>0</th>\n",
       "      <td>Aberdeen</td>\n",
       "      <td>0</td>\n",
       "      <td>2018-11-22</td>\n",
       "      <td>Aberdeen</td>\n",
       "      <td>GB</td>\n",
       "      <td>11.739130</td>\n",
       "      <td>57.157360</td>\n",
       "      <td>-2.094278</td>\n",
       "      <td>334.982815</td>\n",
       "      <td>13.0</td>\n",
       "      <td>332.663116</td>\n",
       "      <td>13</td>\n",
       "      <td>332.663116</td>\n",
       "      <td>13</td>\n",
       "      <td>8788.521484</td>\n",
       "      <td>8788.521484</td>\n",
       "      <td>8788.521484</td>\n",
       "    </tr>\n",
       "    <tr>\n",
       "      <th>1</th>\n",
       "      <td>Aberdeen-Division St</td>\n",
       "      <td>1</td>\n",
       "      <td>2018-11-22</td>\n",
       "      <td>Aberdeen</td>\n",
       "      <td>US</td>\n",
       "      <td>7.627273</td>\n",
       "      <td>46.977200</td>\n",
       "      <td>-123.831700</td>\n",
       "      <td>54.241188</td>\n",
       "      <td>9.0</td>\n",
       "      <td>54.241188</td>\n",
       "      <td>9</td>\n",
       "      <td>54.241188</td>\n",
       "      <td>9</td>\n",
       "      <td>1927.006348</td>\n",
       "      <td>1927.006348</td>\n",
       "      <td>1927.006348</td>\n",
       "    </tr>\n",
       "    <tr>\n",
       "      <th>2</th>\n",
       "      <td>Auchencorth Moss</td>\n",
       "      <td>2</td>\n",
       "      <td>2018-11-22</td>\n",
       "      <td>Auchencorth</td>\n",
       "      <td>GB</td>\n",
       "      <td>10.125000</td>\n",
       "      <td>55.792160</td>\n",
       "      <td>-3.242900</td>\n",
       "      <td>12.667045</td>\n",
       "      <td>48.0</td>\n",
       "      <td>12.667045</td>\n",
       "      <td>48</td>\n",
       "      <td>12.667045</td>\n",
       "      <td>48</td>\n",
       "      <td>7.703879</td>\n",
       "      <td>7.703878</td>\n",
       "      <td>7.703879</td>\n",
       "    </tr>\n",
       "    <tr>\n",
       "      <th>3</th>\n",
       "      <td>Barnstaple A39</td>\n",
       "      <td>3</td>\n",
       "      <td>2018-11-22</td>\n",
       "      <td>Barnstaple</td>\n",
       "      <td>GB</td>\n",
       "      <td>16.333333</td>\n",
       "      <td>51.074793</td>\n",
       "      <td>-4.041924</td>\n",
       "      <td>37.478218</td>\n",
       "      <td>62.0</td>\n",
       "      <td>37.478218</td>\n",
       "      <td>62</td>\n",
       "      <td>37.478218</td>\n",
       "      <td>62</td>\n",
       "      <td>3878.105249</td>\n",
       "      <td>3026.625244</td>\n",
       "      <td>4439.924805</td>\n",
       "    </tr>\n",
       "    <tr>\n",
       "      <th>4</th>\n",
       "      <td>Belfast Centre</td>\n",
       "      <td>4</td>\n",
       "      <td>2018-11-22</td>\n",
       "      <td>Belfast</td>\n",
       "      <td>GB</td>\n",
       "      <td>14.958333</td>\n",
       "      <td>54.599650</td>\n",
       "      <td>-5.928833</td>\n",
       "      <td>288.115729</td>\n",
       "      <td>15.0</td>\n",
       "      <td>284.262726</td>\n",
       "      <td>15</td>\n",
       "      <td>289.223877</td>\n",
       "      <td>15</td>\n",
       "      <td>2318.533691</td>\n",
       "      <td>2303.730713</td>\n",
       "      <td>2303.730713</td>\n",
       "    </tr>\n",
       "    <tr>\n",
       "      <th>...</th>\n",
       "      <td>...</td>\n",
       "      <td>...</td>\n",
       "      <td>...</td>\n",
       "      <td>...</td>\n",
       "      <td>...</td>\n",
       "      <td>...</td>\n",
       "      <td>...</td>\n",
       "      <td>...</td>\n",
       "      <td>...</td>\n",
       "      <td>...</td>\n",
       "      <td>...</td>\n",
       "      <td>...</td>\n",
       "      <td>...</td>\n",
       "      <td>...</td>\n",
       "      <td>...</td>\n",
       "      <td>...</td>\n",
       "      <td>...</td>\n",
       "    </tr>\n",
       "    <tr>\n",
       "      <th>75</th>\n",
       "      <td>Wirral Tranmere</td>\n",
       "      <td>56</td>\n",
       "      <td>2018-11-22</td>\n",
       "      <td>Liverpool</td>\n",
       "      <td>GB</td>\n",
       "      <td>22.625000</td>\n",
       "      <td>53.372870</td>\n",
       "      <td>-3.022722</td>\n",
       "      <td>128.883560</td>\n",
       "      <td>9.0</td>\n",
       "      <td>128.883560</td>\n",
       "      <td>9</td>\n",
       "      <td>128.883560</td>\n",
       "      <td>9</td>\n",
       "      <td>5830.232422</td>\n",
       "      <td>5830.232422</td>\n",
       "      <td>5830.232422</td>\n",
       "    </tr>\n",
       "    <tr>\n",
       "      <th>76</th>\n",
       "      <td>Worthing A27 Roadside</td>\n",
       "      <td>57</td>\n",
       "      <td>2018-11-22</td>\n",
       "      <td>South East</td>\n",
       "      <td>GB</td>\n",
       "      <td>24.000000</td>\n",
       "      <td>50.832947</td>\n",
       "      <td>-0.379916</td>\n",
       "      <td>102.193448</td>\n",
       "      <td>10.0</td>\n",
       "      <td>102.387161</td>\n",
       "      <td>10</td>\n",
       "      <td>102.387161</td>\n",
       "      <td>10</td>\n",
       "      <td>3768.843227</td>\n",
       "      <td>4320.272461</td>\n",
       "      <td>4320.272461</td>\n",
       "    </tr>\n",
       "    <tr>\n",
       "      <th>77</th>\n",
       "      <td>Wrexham</td>\n",
       "      <td>58</td>\n",
       "      <td>2018-11-22</td>\n",
       "      <td>Wrexham</td>\n",
       "      <td>GB</td>\n",
       "      <td>25.521739</td>\n",
       "      <td>53.042220</td>\n",
       "      <td>-3.002778</td>\n",
       "      <td>26.041843</td>\n",
       "      <td>11.0</td>\n",
       "      <td>26.041843</td>\n",
       "      <td>11</td>\n",
       "      <td>26.041843</td>\n",
       "      <td>11</td>\n",
       "      <td>2854.658698</td>\n",
       "      <td>2880.051514</td>\n",
       "      <td>2880.051514</td>\n",
       "    </tr>\n",
       "    <tr>\n",
       "      <th>78</th>\n",
       "      <td>York Bootham</td>\n",
       "      <td>59</td>\n",
       "      <td>2018-11-22</td>\n",
       "      <td>York</td>\n",
       "      <td>GB</td>\n",
       "      <td>24.434783</td>\n",
       "      <td>53.967513</td>\n",
       "      <td>-1.086514</td>\n",
       "      <td>173.781859</td>\n",
       "      <td>6.0</td>\n",
       "      <td>172.903290</td>\n",
       "      <td>6</td>\n",
       "      <td>172.903290</td>\n",
       "      <td>6</td>\n",
       "      <td>7206.880064</td>\n",
       "      <td>7372.168945</td>\n",
       "      <td>7372.168945</td>\n",
       "    </tr>\n",
       "    <tr>\n",
       "      <th>79</th>\n",
       "      <td>York Fishergate</td>\n",
       "      <td>60</td>\n",
       "      <td>2018-11-22</td>\n",
       "      <td>York</td>\n",
       "      <td>GB</td>\n",
       "      <td>22.958333</td>\n",
       "      <td>53.951889</td>\n",
       "      <td>-1.075861</td>\n",
       "      <td>83.231407</td>\n",
       "      <td>5.0</td>\n",
       "      <td>83.231407</td>\n",
       "      <td>5</td>\n",
       "      <td>83.231407</td>\n",
       "      <td>5</td>\n",
       "      <td>5315.453086</td>\n",
       "      <td>4550.532227</td>\n",
       "      <td>7131.174316</td>\n",
       "    </tr>\n",
       "  </tbody>\n",
       "</table>\n",
       "<p>80 rows × 17 columns</p>\n",
       "</div>"
      ],
      "text/plain": [
       "                 location  Unnamed: 0        Date         city country  \\\n",
       "0                Aberdeen           0  2018-11-22     Aberdeen      GB   \n",
       "1    Aberdeen-Division St           1  2018-11-22     Aberdeen      US   \n",
       "2        Auchencorth Moss           2  2018-11-22  Auchencorth      GB   \n",
       "3          Barnstaple A39           3  2018-11-22   Barnstaple      GB   \n",
       "4          Belfast Centre           4  2018-11-22      Belfast      GB   \n",
       "..                    ...         ...         ...          ...     ...   \n",
       "75        Wirral Tranmere          56  2018-11-22    Liverpool      GB   \n",
       "76  Worthing A27 Roadside          57  2018-11-22   South East      GB   \n",
       "77                Wrexham          58  2018-11-22      Wrexham      GB   \n",
       "78           York Bootham          59  2018-11-22         York      GB   \n",
       "79        York Fishergate          60  2018-11-22         York      GB   \n",
       "\n",
       "         PM25        Lat        Long  avg_vis_mean  cf_cvg_mean  avg_vis_min  \\\n",
       "0   11.739130  57.157360   -2.094278    334.982815         13.0   332.663116   \n",
       "1    7.627273  46.977200 -123.831700     54.241188          9.0    54.241188   \n",
       "2   10.125000  55.792160   -3.242900     12.667045         48.0    12.667045   \n",
       "3   16.333333  51.074793   -4.041924     37.478218         62.0    37.478218   \n",
       "4   14.958333  54.599650   -5.928833    288.115729         15.0   284.262726   \n",
       "..        ...        ...         ...           ...          ...          ...   \n",
       "75  22.625000  53.372870   -3.022722    128.883560          9.0   128.883560   \n",
       "76  24.000000  50.832947   -0.379916    102.193448         10.0   102.387161   \n",
       "77  25.521739  53.042220   -3.002778     26.041843         11.0    26.041843   \n",
       "78  24.434783  53.967513   -1.086514    173.781859          6.0   172.903290   \n",
       "79  22.958333  53.951889   -1.075861     83.231407          5.0    83.231407   \n",
       "\n",
       "    cf_cvg_min  avg_vis_max  cf_cvg_max  pop_density2010_mean  \\\n",
       "0           13   332.663116          13           8788.521484   \n",
       "1            9    54.241188           9           1927.006348   \n",
       "2           48    12.667045          48              7.703879   \n",
       "3           62    37.478218          62           3878.105249   \n",
       "4           15   289.223877          15           2318.533691   \n",
       "..         ...          ...         ...                   ...   \n",
       "75           9   128.883560           9           5830.232422   \n",
       "76          10   102.387161          10           3768.843227   \n",
       "77          11    26.041843          11           2854.658698   \n",
       "78           6   172.903290           6           7206.880064   \n",
       "79           5    83.231407           5           5315.453086   \n",
       "\n",
       "    pop_density2010_min  pop_density2010_max  \n",
       "0           8788.521484          8788.521484  \n",
       "1           1927.006348          1927.006348  \n",
       "2              7.703878             7.703879  \n",
       "3           3026.625244          4439.924805  \n",
       "4           2303.730713          2303.730713  \n",
       "..                  ...                  ...  \n",
       "75          5830.232422          5830.232422  \n",
       "76          4320.272461          4320.272461  \n",
       "77          2880.051514          2880.051514  \n",
       "78          7372.168945          7372.168945  \n",
       "79          4550.532227          7131.174316  \n",
       "\n",
       "[80 rows x 17 columns]"
      ]
     },
     "execution_count": 9,
     "metadata": {},
     "output_type": "execute_result"
    }
   ],
   "source": [
    "# Add static vars\n",
    "locations_w_static = add_static_vars(locations.copy())\n",
    "locations_w_static"
   ]
  },
  {
   "cell_type": "code",
   "execution_count": 10,
   "id": "eaa40efc",
   "metadata": {},
   "outputs": [],
   "source": [
    "try:\n",
    "    locations_w_static = locations_w_static.drop(columns=['Date', 'PM25', 'Lat', 'Long', 'city','country'], axis=1)\n",
    "except:\n",
    "    pass"
   ]
  },
  {
   "cell_type": "code",
   "execution_count": 11,
   "id": "1c49ca7b",
   "metadata": {},
   "outputs": [],
   "source": [
    "world_w_static = pd.merge(world, locations_w_static, on='location')"
   ]
  },
  {
   "cell_type": "code",
   "execution_count": 12,
   "id": "e1d9f5b5",
   "metadata": {},
   "outputs": [],
   "source": [
    "world_w_static = world_w_static.rename(columns = {'Date_x':'Date'})"
   ]
  },
  {
   "cell_type": "code",
   "execution_count": 32,
   "id": "ded2439a",
   "metadata": {},
   "outputs": [],
   "source": [
    "# Add vegetation index\n",
    "def add_static_vars2(df, scale = 8000):\n",
    "    vegs = ee.ImageCollection(\"NOAA/CDR/AVHRR/NDVI/V5\").filter(ee.Filter.date('2018-11-22', '2021-05-07')).first()\n",
    "    veg_list = [vegs]\n",
    "\n",
    "    for veg in tqdm(veg_list):\n",
    "        for i, reducer in enumerate([ee.Reducer.mean(), ee.Reducer.min(), ee.Reducer.max()]):\n",
    "            sampled_values = sample(veg, '', df['Lat'].values, df['Long'].values, reducer=reducer, scale=scale)\n",
    "            for k in sampled_values[0].keys():\n",
    "                arr = ['mean', 'min', 'max']\n",
    "                df[k+'_'+str(scale)+'_' + arr[i]] = [sv[k] if k in sv.keys() else None for sv in sampled_values]\n",
    "                if k == arr[i]:\n",
    "                    df = df.rename(columns={k+'_'+str(scale)+'_' + arr[i]:'veg_index'+'_'+str(scale)+'_' + arr[i]})\n",
    "    return df"
   ]
  },
  {
   "cell_type": "code",
   "execution_count": 33,
   "id": "cedaf7a3",
   "metadata": {
    "scrolled": true
   },
   "outputs": [
    {
     "name": "stderr",
     "output_type": "stream",
     "text": [
      "100%|████████████████████████████████████████████████████████████████████████████████████| 1/1 [00:02<00:00,  2.81s/it]\n"
     ]
    },
    {
     "data": {
      "text/html": [
       "<div>\n",
       "<style scoped>\n",
       "    .dataframe tbody tr th:only-of-type {\n",
       "        vertical-align: middle;\n",
       "    }\n",
       "\n",
       "    .dataframe tbody tr th {\n",
       "        vertical-align: top;\n",
       "    }\n",
       "\n",
       "    .dataframe thead th {\n",
       "        text-align: right;\n",
       "    }\n",
       "</style>\n",
       "<table border=\"1\" class=\"dataframe\">\n",
       "  <thead>\n",
       "    <tr style=\"text-align: right;\">\n",
       "      <th></th>\n",
       "      <th>location</th>\n",
       "      <th>Unnamed: 0</th>\n",
       "      <th>Date</th>\n",
       "      <th>city</th>\n",
       "      <th>country</th>\n",
       "      <th>PM25</th>\n",
       "      <th>Lat</th>\n",
       "      <th>Long</th>\n",
       "      <th>NDVI_8000_mean</th>\n",
       "      <th>QA_8000_mean</th>\n",
       "      <th>TIMEOFDAY_8000_mean</th>\n",
       "      <th>NDVI_8000_min</th>\n",
       "      <th>QA_8000_min</th>\n",
       "      <th>TIMEOFDAY_8000_min</th>\n",
       "      <th>NDVI_8000_max</th>\n",
       "      <th>QA_8000_max</th>\n",
       "      <th>TIMEOFDAY_8000_max</th>\n",
       "    </tr>\n",
       "  </thead>\n",
       "  <tbody>\n",
       "    <tr>\n",
       "      <th>0</th>\n",
       "      <td>Aberdeen</td>\n",
       "      <td>0</td>\n",
       "      <td>2018-11-22</td>\n",
       "      <td>Aberdeen</td>\n",
       "      <td>GB</td>\n",
       "      <td>11.739130</td>\n",
       "      <td>57.157360</td>\n",
       "      <td>-2.094278</td>\n",
       "      <td>NaN</td>\n",
       "      <td>8000.000000</td>\n",
       "      <td>NaN</td>\n",
       "      <td>NaN</td>\n",
       "      <td>8000</td>\n",
       "      <td>NaN</td>\n",
       "      <td>NaN</td>\n",
       "      <td>8000</td>\n",
       "      <td>NaN</td>\n",
       "    </tr>\n",
       "    <tr>\n",
       "      <th>1</th>\n",
       "      <td>Aberdeen-Division St</td>\n",
       "      <td>1</td>\n",
       "      <td>2018-11-22</td>\n",
       "      <td>Aberdeen</td>\n",
       "      <td>US</td>\n",
       "      <td>7.627273</td>\n",
       "      <td>46.977200</td>\n",
       "      <td>-123.831700</td>\n",
       "      <td>0.0</td>\n",
       "      <td>12349.320690</td>\n",
       "      <td>2364.0</td>\n",
       "      <td>0.0</td>\n",
       "      <td>8000</td>\n",
       "      <td>2364.0</td>\n",
       "      <td>0.0</td>\n",
       "      <td>24706</td>\n",
       "      <td>2364.0</td>\n",
       "    </tr>\n",
       "    <tr>\n",
       "      <th>2</th>\n",
       "      <td>Auchencorth Moss</td>\n",
       "      <td>2</td>\n",
       "      <td>2018-11-22</td>\n",
       "      <td>Auchencorth</td>\n",
       "      <td>GB</td>\n",
       "      <td>10.125000</td>\n",
       "      <td>55.792160</td>\n",
       "      <td>-3.242900</td>\n",
       "      <td>NaN</td>\n",
       "      <td>8000.000000</td>\n",
       "      <td>NaN</td>\n",
       "      <td>NaN</td>\n",
       "      <td>8000</td>\n",
       "      <td>NaN</td>\n",
       "      <td>NaN</td>\n",
       "      <td>8000</td>\n",
       "      <td>NaN</td>\n",
       "    </tr>\n",
       "    <tr>\n",
       "      <th>3</th>\n",
       "      <td>Barnstaple A39</td>\n",
       "      <td>3</td>\n",
       "      <td>2018-11-22</td>\n",
       "      <td>Barnstaple</td>\n",
       "      <td>GB</td>\n",
       "      <td>16.333333</td>\n",
       "      <td>51.074793</td>\n",
       "      <td>-4.041924</td>\n",
       "      <td>NaN</td>\n",
       "      <td>17326.047356</td>\n",
       "      <td>1516.0</td>\n",
       "      <td>NaN</td>\n",
       "      <td>16770</td>\n",
       "      <td>1516.0</td>\n",
       "      <td>NaN</td>\n",
       "      <td>16770</td>\n",
       "      <td>1516.0</td>\n",
       "    </tr>\n",
       "    <tr>\n",
       "      <th>4</th>\n",
       "      <td>Belfast Centre</td>\n",
       "      <td>4</td>\n",
       "      <td>2018-11-22</td>\n",
       "      <td>Belfast</td>\n",
       "      <td>GB</td>\n",
       "      <td>14.958333</td>\n",
       "      <td>54.599650</td>\n",
       "      <td>-5.928833</td>\n",
       "      <td>NaN</td>\n",
       "      <td>8000.000000</td>\n",
       "      <td>NaN</td>\n",
       "      <td>NaN</td>\n",
       "      <td>8000</td>\n",
       "      <td>NaN</td>\n",
       "      <td>NaN</td>\n",
       "      <td>8000</td>\n",
       "      <td>NaN</td>\n",
       "    </tr>\n",
       "    <tr>\n",
       "      <th>...</th>\n",
       "      <td>...</td>\n",
       "      <td>...</td>\n",
       "      <td>...</td>\n",
       "      <td>...</td>\n",
       "      <td>...</td>\n",
       "      <td>...</td>\n",
       "      <td>...</td>\n",
       "      <td>...</td>\n",
       "      <td>...</td>\n",
       "      <td>...</td>\n",
       "      <td>...</td>\n",
       "      <td>...</td>\n",
       "      <td>...</td>\n",
       "      <td>...</td>\n",
       "      <td>...</td>\n",
       "      <td>...</td>\n",
       "      <td>...</td>\n",
       "    </tr>\n",
       "    <tr>\n",
       "      <th>75</th>\n",
       "      <td>Wirral Tranmere</td>\n",
       "      <td>56</td>\n",
       "      <td>2018-11-22</td>\n",
       "      <td>Liverpool</td>\n",
       "      <td>GB</td>\n",
       "      <td>22.625000</td>\n",
       "      <td>53.372870</td>\n",
       "      <td>-3.022722</td>\n",
       "      <td>NaN</td>\n",
       "      <td>13520.259819</td>\n",
       "      <td>1517.0</td>\n",
       "      <td>NaN</td>\n",
       "      <td>8000</td>\n",
       "      <td>1517.0</td>\n",
       "      <td>NaN</td>\n",
       "      <td>24962</td>\n",
       "      <td>1517.0</td>\n",
       "    </tr>\n",
       "    <tr>\n",
       "      <th>76</th>\n",
       "      <td>Worthing A27 Roadside</td>\n",
       "      <td>57</td>\n",
       "      <td>2018-11-22</td>\n",
       "      <td>South East</td>\n",
       "      <td>GB</td>\n",
       "      <td>24.000000</td>\n",
       "      <td>50.832947</td>\n",
       "      <td>-0.379916</td>\n",
       "      <td>0.0</td>\n",
       "      <td>-8149.833861</td>\n",
       "      <td>1516.0</td>\n",
       "      <td>NaN</td>\n",
       "      <td>-24438</td>\n",
       "      <td>NaN</td>\n",
       "      <td>NaN</td>\n",
       "      <td>8000</td>\n",
       "      <td>NaN</td>\n",
       "    </tr>\n",
       "    <tr>\n",
       "      <th>77</th>\n",
       "      <td>Wrexham</td>\n",
       "      <td>58</td>\n",
       "      <td>2018-11-22</td>\n",
       "      <td>Wrexham</td>\n",
       "      <td>GB</td>\n",
       "      <td>25.521739</td>\n",
       "      <td>53.042220</td>\n",
       "      <td>-3.002778</td>\n",
       "      <td>-433.5</td>\n",
       "      <td>15327.619048</td>\n",
       "      <td>1517.0</td>\n",
       "      <td>-867.0</td>\n",
       "      <td>8000</td>\n",
       "      <td>1517.0</td>\n",
       "      <td>0.0</td>\n",
       "      <td>24706</td>\n",
       "      <td>1517.0</td>\n",
       "    </tr>\n",
       "    <tr>\n",
       "      <th>78</th>\n",
       "      <td>York Bootham</td>\n",
       "      <td>59</td>\n",
       "      <td>2018-11-22</td>\n",
       "      <td>York</td>\n",
       "      <td>GB</td>\n",
       "      <td>24.434783</td>\n",
       "      <td>53.967513</td>\n",
       "      <td>-1.086514</td>\n",
       "      <td>NaN</td>\n",
       "      <td>8000.000000</td>\n",
       "      <td>NaN</td>\n",
       "      <td>NaN</td>\n",
       "      <td>8000</td>\n",
       "      <td>NaN</td>\n",
       "      <td>NaN</td>\n",
       "      <td>8000</td>\n",
       "      <td>NaN</td>\n",
       "    </tr>\n",
       "    <tr>\n",
       "      <th>79</th>\n",
       "      <td>York Fishergate</td>\n",
       "      <td>60</td>\n",
       "      <td>2018-11-22</td>\n",
       "      <td>York</td>\n",
       "      <td>GB</td>\n",
       "      <td>22.958333</td>\n",
       "      <td>53.951889</td>\n",
       "      <td>-1.075861</td>\n",
       "      <td>NaN</td>\n",
       "      <td>8000.000000</td>\n",
       "      <td>NaN</td>\n",
       "      <td>NaN</td>\n",
       "      <td>8000</td>\n",
       "      <td>NaN</td>\n",
       "      <td>NaN</td>\n",
       "      <td>8000</td>\n",
       "      <td>NaN</td>\n",
       "    </tr>\n",
       "  </tbody>\n",
       "</table>\n",
       "<p>80 rows × 17 columns</p>\n",
       "</div>"
      ],
      "text/plain": [
       "                 location  Unnamed: 0        Date         city country  \\\n",
       "0                Aberdeen           0  2018-11-22     Aberdeen      GB   \n",
       "1    Aberdeen-Division St           1  2018-11-22     Aberdeen      US   \n",
       "2        Auchencorth Moss           2  2018-11-22  Auchencorth      GB   \n",
       "3          Barnstaple A39           3  2018-11-22   Barnstaple      GB   \n",
       "4          Belfast Centre           4  2018-11-22      Belfast      GB   \n",
       "..                    ...         ...         ...          ...     ...   \n",
       "75        Wirral Tranmere          56  2018-11-22    Liverpool      GB   \n",
       "76  Worthing A27 Roadside          57  2018-11-22   South East      GB   \n",
       "77                Wrexham          58  2018-11-22      Wrexham      GB   \n",
       "78           York Bootham          59  2018-11-22         York      GB   \n",
       "79        York Fishergate          60  2018-11-22         York      GB   \n",
       "\n",
       "         PM25        Lat        Long  NDVI_8000_mean  QA_8000_mean  \\\n",
       "0   11.739130  57.157360   -2.094278             NaN   8000.000000   \n",
       "1    7.627273  46.977200 -123.831700             0.0  12349.320690   \n",
       "2   10.125000  55.792160   -3.242900             NaN   8000.000000   \n",
       "3   16.333333  51.074793   -4.041924             NaN  17326.047356   \n",
       "4   14.958333  54.599650   -5.928833             NaN   8000.000000   \n",
       "..        ...        ...         ...             ...           ...   \n",
       "75  22.625000  53.372870   -3.022722             NaN  13520.259819   \n",
       "76  24.000000  50.832947   -0.379916             0.0  -8149.833861   \n",
       "77  25.521739  53.042220   -3.002778          -433.5  15327.619048   \n",
       "78  24.434783  53.967513   -1.086514             NaN   8000.000000   \n",
       "79  22.958333  53.951889   -1.075861             NaN   8000.000000   \n",
       "\n",
       "    TIMEOFDAY_8000_mean  NDVI_8000_min  QA_8000_min  TIMEOFDAY_8000_min  \\\n",
       "0                   NaN            NaN         8000                 NaN   \n",
       "1                2364.0            0.0         8000              2364.0   \n",
       "2                   NaN            NaN         8000                 NaN   \n",
       "3                1516.0            NaN        16770              1516.0   \n",
       "4                   NaN            NaN         8000                 NaN   \n",
       "..                  ...            ...          ...                 ...   \n",
       "75               1517.0            NaN         8000              1517.0   \n",
       "76               1516.0            NaN       -24438                 NaN   \n",
       "77               1517.0         -867.0         8000              1517.0   \n",
       "78                  NaN            NaN         8000                 NaN   \n",
       "79                  NaN            NaN         8000                 NaN   \n",
       "\n",
       "    NDVI_8000_max  QA_8000_max  TIMEOFDAY_8000_max  \n",
       "0             NaN         8000                 NaN  \n",
       "1             0.0        24706              2364.0  \n",
       "2             NaN         8000                 NaN  \n",
       "3             NaN        16770              1516.0  \n",
       "4             NaN         8000                 NaN  \n",
       "..            ...          ...                 ...  \n",
       "75            NaN        24962              1517.0  \n",
       "76            NaN         8000                 NaN  \n",
       "77            0.0        24706              1517.0  \n",
       "78            NaN         8000                 NaN  \n",
       "79            NaN         8000                 NaN  \n",
       "\n",
       "[80 rows x 17 columns]"
      ]
     },
     "execution_count": 33,
     "metadata": {},
     "output_type": "execute_result"
    }
   ],
   "source": [
    "# Add static vars\n",
    "locations_w_veg = add_static_vars2(locations.copy())\n",
    "locations_w_veg"
   ]
  },
  {
   "cell_type": "code",
   "execution_count": 15,
   "id": "6295a7e3",
   "metadata": {},
   "outputs": [],
   "source": [
    "locations_w_veg = locations_w_veg.drop(columns=['Date', 'PM25', 'Lat', 'Long', 'city','country'], axis=1)\n",
    "world_w_veg = pd.merge(world, locations_w_veg, on='location')"
   ]
  },
  {
   "cell_type": "code",
   "execution_count": 24,
   "id": "54a7b711",
   "metadata": {},
   "outputs": [
    {
     "data": {
      "text/html": [
       "<div>\n",
       "<style scoped>\n",
       "    .dataframe tbody tr th:only-of-type {\n",
       "        vertical-align: middle;\n",
       "    }\n",
       "\n",
       "    .dataframe tbody tr th {\n",
       "        vertical-align: top;\n",
       "    }\n",
       "\n",
       "    .dataframe thead th {\n",
       "        text-align: right;\n",
       "    }\n",
       "</style>\n",
       "<table border=\"1\" class=\"dataframe\">\n",
       "  <thead>\n",
       "    <tr style=\"text-align: right;\">\n",
       "      <th></th>\n",
       "      <th>Unnamed: 0_x</th>\n",
       "      <th>Date</th>\n",
       "      <th>location</th>\n",
       "      <th>city</th>\n",
       "      <th>country</th>\n",
       "      <th>PM25</th>\n",
       "      <th>Lat</th>\n",
       "      <th>Long</th>\n",
       "      <th>Unnamed: 0_y</th>\n",
       "      <th>NDVI_8000_mean</th>\n",
       "      <th>QA_8000_mean</th>\n",
       "      <th>TIMEOFDAY_8000_mean</th>\n",
       "      <th>NDVI_8000_min</th>\n",
       "      <th>QA_8000_min</th>\n",
       "      <th>TIMEOFDAY_8000_min</th>\n",
       "      <th>NDVI_8000_max</th>\n",
       "      <th>QA_8000_max</th>\n",
       "      <th>TIMEOFDAY_8000_max</th>\n",
       "    </tr>\n",
       "  </thead>\n",
       "  <tbody>\n",
       "    <tr>\n",
       "      <th>0</th>\n",
       "      <td>0</td>\n",
       "      <td>2018-11-22</td>\n",
       "      <td>Aberdeen</td>\n",
       "      <td>Aberdeen</td>\n",
       "      <td>GB</td>\n",
       "      <td>11.739130</td>\n",
       "      <td>57.157360</td>\n",
       "      <td>-2.094278</td>\n",
       "      <td>0</td>\n",
       "      <td>NaN</td>\n",
       "      <td>8000.0</td>\n",
       "      <td>NaN</td>\n",
       "      <td>NaN</td>\n",
       "      <td>8000</td>\n",
       "      <td>NaN</td>\n",
       "      <td>NaN</td>\n",
       "      <td>8000</td>\n",
       "      <td>NaN</td>\n",
       "    </tr>\n",
       "    <tr>\n",
       "      <th>1</th>\n",
       "      <td>61</td>\n",
       "      <td>2018-11-23</td>\n",
       "      <td>Aberdeen</td>\n",
       "      <td>Aberdeen</td>\n",
       "      <td>GB</td>\n",
       "      <td>5.086957</td>\n",
       "      <td>57.157360</td>\n",
       "      <td>-2.094278</td>\n",
       "      <td>0</td>\n",
       "      <td>NaN</td>\n",
       "      <td>8000.0</td>\n",
       "      <td>NaN</td>\n",
       "      <td>NaN</td>\n",
       "      <td>8000</td>\n",
       "      <td>NaN</td>\n",
       "      <td>NaN</td>\n",
       "      <td>8000</td>\n",
       "      <td>NaN</td>\n",
       "    </tr>\n",
       "    <tr>\n",
       "      <th>2</th>\n",
       "      <td>123</td>\n",
       "      <td>2018-11-24</td>\n",
       "      <td>Aberdeen</td>\n",
       "      <td>Aberdeen</td>\n",
       "      <td>GB</td>\n",
       "      <td>4.304348</td>\n",
       "      <td>57.157360</td>\n",
       "      <td>-2.094278</td>\n",
       "      <td>0</td>\n",
       "      <td>NaN</td>\n",
       "      <td>8000.0</td>\n",
       "      <td>NaN</td>\n",
       "      <td>NaN</td>\n",
       "      <td>8000</td>\n",
       "      <td>NaN</td>\n",
       "      <td>NaN</td>\n",
       "      <td>8000</td>\n",
       "      <td>NaN</td>\n",
       "    </tr>\n",
       "    <tr>\n",
       "      <th>3</th>\n",
       "      <td>185</td>\n",
       "      <td>2018-11-25</td>\n",
       "      <td>Aberdeen</td>\n",
       "      <td>Aberdeen</td>\n",
       "      <td>GB</td>\n",
       "      <td>4.000000</td>\n",
       "      <td>57.157360</td>\n",
       "      <td>-2.094278</td>\n",
       "      <td>0</td>\n",
       "      <td>NaN</td>\n",
       "      <td>8000.0</td>\n",
       "      <td>NaN</td>\n",
       "      <td>NaN</td>\n",
       "      <td>8000</td>\n",
       "      <td>NaN</td>\n",
       "      <td>NaN</td>\n",
       "      <td>8000</td>\n",
       "      <td>NaN</td>\n",
       "    </tr>\n",
       "    <tr>\n",
       "      <th>4</th>\n",
       "      <td>245</td>\n",
       "      <td>2018-11-26</td>\n",
       "      <td>Aberdeen</td>\n",
       "      <td>Aberdeen</td>\n",
       "      <td>GB</td>\n",
       "      <td>3.347826</td>\n",
       "      <td>57.157360</td>\n",
       "      <td>-2.094278</td>\n",
       "      <td>0</td>\n",
       "      <td>NaN</td>\n",
       "      <td>8000.0</td>\n",
       "      <td>NaN</td>\n",
       "      <td>NaN</td>\n",
       "      <td>8000</td>\n",
       "      <td>NaN</td>\n",
       "      <td>NaN</td>\n",
       "      <td>8000</td>\n",
       "      <td>NaN</td>\n",
       "    </tr>\n",
       "    <tr>\n",
       "      <th>...</th>\n",
       "      <td>...</td>\n",
       "      <td>...</td>\n",
       "      <td>...</td>\n",
       "      <td>...</td>\n",
       "      <td>...</td>\n",
       "      <td>...</td>\n",
       "      <td>...</td>\n",
       "      <td>...</td>\n",
       "      <td>...</td>\n",
       "      <td>...</td>\n",
       "      <td>...</td>\n",
       "      <td>...</td>\n",
       "      <td>...</td>\n",
       "      <td>...</td>\n",
       "      <td>...</td>\n",
       "      <td>...</td>\n",
       "      <td>...</td>\n",
       "      <td>...</td>\n",
       "    </tr>\n",
       "    <tr>\n",
       "      <th>62387</th>\n",
       "      <td>62083</td>\n",
       "      <td>2021-05-03</td>\n",
       "      <td>Southwark A2 Old Kent Road</td>\n",
       "      <td>London</td>\n",
       "      <td>GB</td>\n",
       "      <td>6.857895</td>\n",
       "      <td>51.480499</td>\n",
       "      <td>-0.059550</td>\n",
       "      <td>61856</td>\n",
       "      <td>NaN</td>\n",
       "      <td>8000.0</td>\n",
       "      <td>NaN</td>\n",
       "      <td>NaN</td>\n",
       "      <td>8000</td>\n",
       "      <td>NaN</td>\n",
       "      <td>NaN</td>\n",
       "      <td>8000</td>\n",
       "      <td>NaN</td>\n",
       "    </tr>\n",
       "    <tr>\n",
       "      <th>62388</th>\n",
       "      <td>62153</td>\n",
       "      <td>2021-05-04</td>\n",
       "      <td>Southwark A2 Old Kent Road</td>\n",
       "      <td>London</td>\n",
       "      <td>GB</td>\n",
       "      <td>3.050000</td>\n",
       "      <td>51.480499</td>\n",
       "      <td>-0.059550</td>\n",
       "      <td>61856</td>\n",
       "      <td>NaN</td>\n",
       "      <td>8000.0</td>\n",
       "      <td>NaN</td>\n",
       "      <td>NaN</td>\n",
       "      <td>8000</td>\n",
       "      <td>NaN</td>\n",
       "      <td>NaN</td>\n",
       "      <td>8000</td>\n",
       "      <td>NaN</td>\n",
       "    </tr>\n",
       "    <tr>\n",
       "      <th>62389</th>\n",
       "      <td>62227</td>\n",
       "      <td>2021-05-05</td>\n",
       "      <td>Southwark A2 Old Kent Road</td>\n",
       "      <td>London</td>\n",
       "      <td>GB</td>\n",
       "      <td>3.390909</td>\n",
       "      <td>51.480499</td>\n",
       "      <td>-0.059550</td>\n",
       "      <td>61856</td>\n",
       "      <td>NaN</td>\n",
       "      <td>8000.0</td>\n",
       "      <td>NaN</td>\n",
       "      <td>NaN</td>\n",
       "      <td>8000</td>\n",
       "      <td>NaN</td>\n",
       "      <td>NaN</td>\n",
       "      <td>8000</td>\n",
       "      <td>NaN</td>\n",
       "    </tr>\n",
       "    <tr>\n",
       "      <th>62390</th>\n",
       "      <td>62303</td>\n",
       "      <td>2021-05-06</td>\n",
       "      <td>Southwark A2 Old Kent Road</td>\n",
       "      <td>London</td>\n",
       "      <td>GB</td>\n",
       "      <td>5.176190</td>\n",
       "      <td>51.480499</td>\n",
       "      <td>-0.059550</td>\n",
       "      <td>61856</td>\n",
       "      <td>NaN</td>\n",
       "      <td>8000.0</td>\n",
       "      <td>NaN</td>\n",
       "      <td>NaN</td>\n",
       "      <td>8000</td>\n",
       "      <td>NaN</td>\n",
       "      <td>NaN</td>\n",
       "      <td>8000</td>\n",
       "      <td>NaN</td>\n",
       "    </tr>\n",
       "    <tr>\n",
       "      <th>62391</th>\n",
       "      <td>62377</td>\n",
       "      <td>2021-05-07</td>\n",
       "      <td>Southwark A2 Old Kent Road</td>\n",
       "      <td>London</td>\n",
       "      <td>GB</td>\n",
       "      <td>4.600000</td>\n",
       "      <td>51.480499</td>\n",
       "      <td>-0.059550</td>\n",
       "      <td>61856</td>\n",
       "      <td>NaN</td>\n",
       "      <td>8000.0</td>\n",
       "      <td>NaN</td>\n",
       "      <td>NaN</td>\n",
       "      <td>8000</td>\n",
       "      <td>NaN</td>\n",
       "      <td>NaN</td>\n",
       "      <td>8000</td>\n",
       "      <td>NaN</td>\n",
       "    </tr>\n",
       "  </tbody>\n",
       "</table>\n",
       "<p>62392 rows × 18 columns</p>\n",
       "</div>"
      ],
      "text/plain": [
       "       Unnamed: 0_x        Date                    location      city country  \\\n",
       "0                 0  2018-11-22                    Aberdeen  Aberdeen      GB   \n",
       "1                61  2018-11-23                    Aberdeen  Aberdeen      GB   \n",
       "2               123  2018-11-24                    Aberdeen  Aberdeen      GB   \n",
       "3               185  2018-11-25                    Aberdeen  Aberdeen      GB   \n",
       "4               245  2018-11-26                    Aberdeen  Aberdeen      GB   \n",
       "...             ...         ...                         ...       ...     ...   \n",
       "62387         62083  2021-05-03  Southwark A2 Old Kent Road    London      GB   \n",
       "62388         62153  2021-05-04  Southwark A2 Old Kent Road    London      GB   \n",
       "62389         62227  2021-05-05  Southwark A2 Old Kent Road    London      GB   \n",
       "62390         62303  2021-05-06  Southwark A2 Old Kent Road    London      GB   \n",
       "62391         62377  2021-05-07  Southwark A2 Old Kent Road    London      GB   \n",
       "\n",
       "            PM25        Lat      Long  Unnamed: 0_y  NDVI_8000_mean  \\\n",
       "0      11.739130  57.157360 -2.094278             0             NaN   \n",
       "1       5.086957  57.157360 -2.094278             0             NaN   \n",
       "2       4.304348  57.157360 -2.094278             0             NaN   \n",
       "3       4.000000  57.157360 -2.094278             0             NaN   \n",
       "4       3.347826  57.157360 -2.094278             0             NaN   \n",
       "...          ...        ...       ...           ...             ...   \n",
       "62387   6.857895  51.480499 -0.059550         61856             NaN   \n",
       "62388   3.050000  51.480499 -0.059550         61856             NaN   \n",
       "62389   3.390909  51.480499 -0.059550         61856             NaN   \n",
       "62390   5.176190  51.480499 -0.059550         61856             NaN   \n",
       "62391   4.600000  51.480499 -0.059550         61856             NaN   \n",
       "\n",
       "       QA_8000_mean  TIMEOFDAY_8000_mean  NDVI_8000_min  QA_8000_min  \\\n",
       "0            8000.0                  NaN            NaN         8000   \n",
       "1            8000.0                  NaN            NaN         8000   \n",
       "2            8000.0                  NaN            NaN         8000   \n",
       "3            8000.0                  NaN            NaN         8000   \n",
       "4            8000.0                  NaN            NaN         8000   \n",
       "...             ...                  ...            ...          ...   \n",
       "62387        8000.0                  NaN            NaN         8000   \n",
       "62388        8000.0                  NaN            NaN         8000   \n",
       "62389        8000.0                  NaN            NaN         8000   \n",
       "62390        8000.0                  NaN            NaN         8000   \n",
       "62391        8000.0                  NaN            NaN         8000   \n",
       "\n",
       "       TIMEOFDAY_8000_min  NDVI_8000_max  QA_8000_max  TIMEOFDAY_8000_max  \n",
       "0                     NaN            NaN         8000                 NaN  \n",
       "1                     NaN            NaN         8000                 NaN  \n",
       "2                     NaN            NaN         8000                 NaN  \n",
       "3                     NaN            NaN         8000                 NaN  \n",
       "4                     NaN            NaN         8000                 NaN  \n",
       "...                   ...            ...          ...                 ...  \n",
       "62387                 NaN            NaN         8000                 NaN  \n",
       "62388                 NaN            NaN         8000                 NaN  \n",
       "62389                 NaN            NaN         8000                 NaN  \n",
       "62390                 NaN            NaN         8000                 NaN  \n",
       "62391                 NaN            NaN         8000                 NaN  \n",
       "\n",
       "[62392 rows x 18 columns]"
      ]
     },
     "execution_count": 24,
     "metadata": {},
     "output_type": "execute_result"
    }
   ],
   "source": [
    "world_w_veg"
   ]
  },
  {
   "cell_type": "code",
   "execution_count": 16,
   "id": "cd21e07c",
   "metadata": {},
   "outputs": [],
   "source": [
    "def add_static_vars3(df, scale = 2000):\n",
    "    elevations = ee.Image('USGS/GMTED2010').select('be75')\n",
    "    elevation_list = [elevations]\n",
    "\n",
    "    for elevation in tqdm(elevation_list):\n",
    "        for i, reducer in enumerate([ee.Reducer.mean(), ee.Reducer.min(), ee.Reducer.max()]):\n",
    "            sampled_values = sample(elevation, '', df['Lat'].values, df['Long'].values, reducer=reducer, scale=scale)\n",
    "            for k in sampled_values[0].keys():\n",
    "                arr = ['mean', 'min', 'max']\n",
    "                df[k+'_'+str(scale)+'_' + arr[i]] = [sv[k] if k in sv.keys() else None for sv in sampled_values]\n",
    "                if k == arr[i]:\n",
    "                    df = df.rename(columns={k+'_'+str(scale)+'_' + arr[i]:'elevation'+'_'+str(scale)+'_' + arr[i]})\n",
    "    return df"
   ]
  },
  {
   "cell_type": "code",
   "execution_count": 18,
   "id": "a4754b8c",
   "metadata": {},
   "outputs": [
    {
     "name": "stderr",
     "output_type": "stream",
     "text": [
      "100%|████████████████████████████████████████████████████████████████████████████████████| 1/1 [00:01<00:00,  1.54s/it]\n"
     ]
    },
    {
     "data": {
      "text/html": [
       "<div>\n",
       "<style scoped>\n",
       "    .dataframe tbody tr th:only-of-type {\n",
       "        vertical-align: middle;\n",
       "    }\n",
       "\n",
       "    .dataframe tbody tr th {\n",
       "        vertical-align: top;\n",
       "    }\n",
       "\n",
       "    .dataframe thead th {\n",
       "        text-align: right;\n",
       "    }\n",
       "</style>\n",
       "<table border=\"1\" class=\"dataframe\">\n",
       "  <thead>\n",
       "    <tr style=\"text-align: right;\">\n",
       "      <th></th>\n",
       "      <th>location</th>\n",
       "      <th>Unnamed: 0</th>\n",
       "      <th>Date</th>\n",
       "      <th>city</th>\n",
       "      <th>country</th>\n",
       "      <th>PM25</th>\n",
       "      <th>Lat</th>\n",
       "      <th>Long</th>\n",
       "      <th>elevation_2000_mean</th>\n",
       "      <th>elevation_2000_min</th>\n",
       "      <th>elevation_2000_max</th>\n",
       "    </tr>\n",
       "  </thead>\n",
       "  <tbody>\n",
       "    <tr>\n",
       "      <th>0</th>\n",
       "      <td>Aberdeen</td>\n",
       "      <td>0</td>\n",
       "      <td>2018-11-22</td>\n",
       "      <td>Aberdeen</td>\n",
       "      <td>GB</td>\n",
       "      <td>11.739130</td>\n",
       "      <td>57.157360</td>\n",
       "      <td>-2.094278</td>\n",
       "      <td>21.609085</td>\n",
       "      <td>5</td>\n",
       "      <td>31</td>\n",
       "    </tr>\n",
       "    <tr>\n",
       "      <th>1</th>\n",
       "      <td>Aberdeen-Division St</td>\n",
       "      <td>1</td>\n",
       "      <td>2018-11-22</td>\n",
       "      <td>Aberdeen</td>\n",
       "      <td>US</td>\n",
       "      <td>7.627273</td>\n",
       "      <td>46.977200</td>\n",
       "      <td>-123.831700</td>\n",
       "      <td>19.976623</td>\n",
       "      <td>3</td>\n",
       "      <td>23</td>\n",
       "    </tr>\n",
       "    <tr>\n",
       "      <th>2</th>\n",
       "      <td>Auchencorth Moss</td>\n",
       "      <td>2</td>\n",
       "      <td>2018-11-22</td>\n",
       "      <td>Auchencorth</td>\n",
       "      <td>GB</td>\n",
       "      <td>10.125000</td>\n",
       "      <td>55.792160</td>\n",
       "      <td>-3.242900</td>\n",
       "      <td>255.626686</td>\n",
       "      <td>230</td>\n",
       "      <td>273</td>\n",
       "    </tr>\n",
       "    <tr>\n",
       "      <th>3</th>\n",
       "      <td>Barnstaple A39</td>\n",
       "      <td>3</td>\n",
       "      <td>2018-11-22</td>\n",
       "      <td>Barnstaple</td>\n",
       "      <td>GB</td>\n",
       "      <td>16.333333</td>\n",
       "      <td>51.074793</td>\n",
       "      <td>-4.041924</td>\n",
       "      <td>46.053755</td>\n",
       "      <td>13</td>\n",
       "      <td>50</td>\n",
       "    </tr>\n",
       "    <tr>\n",
       "      <th>4</th>\n",
       "      <td>Belfast Centre</td>\n",
       "      <td>4</td>\n",
       "      <td>2018-11-22</td>\n",
       "      <td>Belfast</td>\n",
       "      <td>GB</td>\n",
       "      <td>14.958333</td>\n",
       "      <td>54.599650</td>\n",
       "      <td>-5.928833</td>\n",
       "      <td>14.878744</td>\n",
       "      <td>8</td>\n",
       "      <td>26</td>\n",
       "    </tr>\n",
       "    <tr>\n",
       "      <th>...</th>\n",
       "      <td>...</td>\n",
       "      <td>...</td>\n",
       "      <td>...</td>\n",
       "      <td>...</td>\n",
       "      <td>...</td>\n",
       "      <td>...</td>\n",
       "      <td>...</td>\n",
       "      <td>...</td>\n",
       "      <td>...</td>\n",
       "      <td>...</td>\n",
       "      <td>...</td>\n",
       "    </tr>\n",
       "    <tr>\n",
       "      <th>75</th>\n",
       "      <td>Wirral Tranmere</td>\n",
       "      <td>56</td>\n",
       "      <td>2018-11-22</td>\n",
       "      <td>Liverpool</td>\n",
       "      <td>GB</td>\n",
       "      <td>22.625000</td>\n",
       "      <td>53.372870</td>\n",
       "      <td>-3.022722</td>\n",
       "      <td>36.274046</td>\n",
       "      <td>16</td>\n",
       "      <td>55</td>\n",
       "    </tr>\n",
       "    <tr>\n",
       "      <th>76</th>\n",
       "      <td>Worthing A27 Roadside</td>\n",
       "      <td>57</td>\n",
       "      <td>2018-11-22</td>\n",
       "      <td>South East</td>\n",
       "      <td>GB</td>\n",
       "      <td>24.000000</td>\n",
       "      <td>50.832947</td>\n",
       "      <td>-0.379916</td>\n",
       "      <td>26.852538</td>\n",
       "      <td>5</td>\n",
       "      <td>51</td>\n",
       "    </tr>\n",
       "    <tr>\n",
       "      <th>77</th>\n",
       "      <td>Wrexham</td>\n",
       "      <td>58</td>\n",
       "      <td>2018-11-22</td>\n",
       "      <td>Wrexham</td>\n",
       "      <td>GB</td>\n",
       "      <td>25.521739</td>\n",
       "      <td>53.042220</td>\n",
       "      <td>-3.002778</td>\n",
       "      <td>94.634091</td>\n",
       "      <td>87</td>\n",
       "      <td>114</td>\n",
       "    </tr>\n",
       "    <tr>\n",
       "      <th>78</th>\n",
       "      <td>York Bootham</td>\n",
       "      <td>59</td>\n",
       "      <td>2018-11-22</td>\n",
       "      <td>York</td>\n",
       "      <td>GB</td>\n",
       "      <td>24.434783</td>\n",
       "      <td>53.967513</td>\n",
       "      <td>-1.086514</td>\n",
       "      <td>15.889630</td>\n",
       "      <td>14</td>\n",
       "      <td>17</td>\n",
       "    </tr>\n",
       "    <tr>\n",
       "      <th>79</th>\n",
       "      <td>York Fishergate</td>\n",
       "      <td>60</td>\n",
       "      <td>2018-11-22</td>\n",
       "      <td>York</td>\n",
       "      <td>GB</td>\n",
       "      <td>22.958333</td>\n",
       "      <td>53.951889</td>\n",
       "      <td>-1.075861</td>\n",
       "      <td>16.921190</td>\n",
       "      <td>16</td>\n",
       "      <td>19</td>\n",
       "    </tr>\n",
       "  </tbody>\n",
       "</table>\n",
       "<p>80 rows × 11 columns</p>\n",
       "</div>"
      ],
      "text/plain": [
       "                 location  Unnamed: 0        Date         city country  \\\n",
       "0                Aberdeen           0  2018-11-22     Aberdeen      GB   \n",
       "1    Aberdeen-Division St           1  2018-11-22     Aberdeen      US   \n",
       "2        Auchencorth Moss           2  2018-11-22  Auchencorth      GB   \n",
       "3          Barnstaple A39           3  2018-11-22   Barnstaple      GB   \n",
       "4          Belfast Centre           4  2018-11-22      Belfast      GB   \n",
       "..                    ...         ...         ...          ...     ...   \n",
       "75        Wirral Tranmere          56  2018-11-22    Liverpool      GB   \n",
       "76  Worthing A27 Roadside          57  2018-11-22   South East      GB   \n",
       "77                Wrexham          58  2018-11-22      Wrexham      GB   \n",
       "78           York Bootham          59  2018-11-22         York      GB   \n",
       "79        York Fishergate          60  2018-11-22         York      GB   \n",
       "\n",
       "         PM25        Lat        Long  elevation_2000_mean  elevation_2000_min  \\\n",
       "0   11.739130  57.157360   -2.094278            21.609085                   5   \n",
       "1    7.627273  46.977200 -123.831700            19.976623                   3   \n",
       "2   10.125000  55.792160   -3.242900           255.626686                 230   \n",
       "3   16.333333  51.074793   -4.041924            46.053755                  13   \n",
       "4   14.958333  54.599650   -5.928833            14.878744                   8   \n",
       "..        ...        ...         ...                  ...                 ...   \n",
       "75  22.625000  53.372870   -3.022722            36.274046                  16   \n",
       "76  24.000000  50.832947   -0.379916            26.852538                   5   \n",
       "77  25.521739  53.042220   -3.002778            94.634091                  87   \n",
       "78  24.434783  53.967513   -1.086514            15.889630                  14   \n",
       "79  22.958333  53.951889   -1.075861            16.921190                  16   \n",
       "\n",
       "    elevation_2000_max  \n",
       "0                   31  \n",
       "1                   23  \n",
       "2                  273  \n",
       "3                   50  \n",
       "4                   26  \n",
       "..                 ...  \n",
       "75                  55  \n",
       "76                  51  \n",
       "77                 114  \n",
       "78                  17  \n",
       "79                  19  \n",
       "\n",
       "[80 rows x 11 columns]"
      ]
     },
     "execution_count": 18,
     "metadata": {},
     "output_type": "execute_result"
    }
   ],
   "source": [
    "locations_w_elevation = add_static_vars3(locations.copy())\n",
    "locations_w_elevation"
   ]
  },
  {
   "cell_type": "code",
   "execution_count": 19,
   "id": "d85a32dd",
   "metadata": {
    "scrolled": true
   },
   "outputs": [
    {
     "data": {
      "text/html": [
       "<div>\n",
       "<style scoped>\n",
       "    .dataframe tbody tr th:only-of-type {\n",
       "        vertical-align: middle;\n",
       "    }\n",
       "\n",
       "    .dataframe tbody tr th {\n",
       "        vertical-align: top;\n",
       "    }\n",
       "\n",
       "    .dataframe thead th {\n",
       "        text-align: right;\n",
       "    }\n",
       "</style>\n",
       "<table border=\"1\" class=\"dataframe\">\n",
       "  <thead>\n",
       "    <tr style=\"text-align: right;\">\n",
       "      <th></th>\n",
       "      <th>Unnamed: 0_x</th>\n",
       "      <th>Date</th>\n",
       "      <th>location</th>\n",
       "      <th>city</th>\n",
       "      <th>country</th>\n",
       "      <th>PM25</th>\n",
       "      <th>Lat</th>\n",
       "      <th>Long</th>\n",
       "      <th>Unnamed: 0_y</th>\n",
       "      <th>elevation_2000_mean</th>\n",
       "      <th>elevation_2000_min</th>\n",
       "      <th>elevation_2000_max</th>\n",
       "    </tr>\n",
       "  </thead>\n",
       "  <tbody>\n",
       "    <tr>\n",
       "      <th>0</th>\n",
       "      <td>0</td>\n",
       "      <td>2018-11-22</td>\n",
       "      <td>Aberdeen</td>\n",
       "      <td>Aberdeen</td>\n",
       "      <td>GB</td>\n",
       "      <td>11.739130</td>\n",
       "      <td>57.157360</td>\n",
       "      <td>-2.094278</td>\n",
       "      <td>0</td>\n",
       "      <td>21.609085</td>\n",
       "      <td>5</td>\n",
       "      <td>31</td>\n",
       "    </tr>\n",
       "    <tr>\n",
       "      <th>1</th>\n",
       "      <td>61</td>\n",
       "      <td>2018-11-23</td>\n",
       "      <td>Aberdeen</td>\n",
       "      <td>Aberdeen</td>\n",
       "      <td>GB</td>\n",
       "      <td>5.086957</td>\n",
       "      <td>57.157360</td>\n",
       "      <td>-2.094278</td>\n",
       "      <td>0</td>\n",
       "      <td>21.609085</td>\n",
       "      <td>5</td>\n",
       "      <td>31</td>\n",
       "    </tr>\n",
       "    <tr>\n",
       "      <th>2</th>\n",
       "      <td>123</td>\n",
       "      <td>2018-11-24</td>\n",
       "      <td>Aberdeen</td>\n",
       "      <td>Aberdeen</td>\n",
       "      <td>GB</td>\n",
       "      <td>4.304348</td>\n",
       "      <td>57.157360</td>\n",
       "      <td>-2.094278</td>\n",
       "      <td>0</td>\n",
       "      <td>21.609085</td>\n",
       "      <td>5</td>\n",
       "      <td>31</td>\n",
       "    </tr>\n",
       "    <tr>\n",
       "      <th>3</th>\n",
       "      <td>185</td>\n",
       "      <td>2018-11-25</td>\n",
       "      <td>Aberdeen</td>\n",
       "      <td>Aberdeen</td>\n",
       "      <td>GB</td>\n",
       "      <td>4.000000</td>\n",
       "      <td>57.157360</td>\n",
       "      <td>-2.094278</td>\n",
       "      <td>0</td>\n",
       "      <td>21.609085</td>\n",
       "      <td>5</td>\n",
       "      <td>31</td>\n",
       "    </tr>\n",
       "    <tr>\n",
       "      <th>4</th>\n",
       "      <td>245</td>\n",
       "      <td>2018-11-26</td>\n",
       "      <td>Aberdeen</td>\n",
       "      <td>Aberdeen</td>\n",
       "      <td>GB</td>\n",
       "      <td>3.347826</td>\n",
       "      <td>57.157360</td>\n",
       "      <td>-2.094278</td>\n",
       "      <td>0</td>\n",
       "      <td>21.609085</td>\n",
       "      <td>5</td>\n",
       "      <td>31</td>\n",
       "    </tr>\n",
       "    <tr>\n",
       "      <th>...</th>\n",
       "      <td>...</td>\n",
       "      <td>...</td>\n",
       "      <td>...</td>\n",
       "      <td>...</td>\n",
       "      <td>...</td>\n",
       "      <td>...</td>\n",
       "      <td>...</td>\n",
       "      <td>...</td>\n",
       "      <td>...</td>\n",
       "      <td>...</td>\n",
       "      <td>...</td>\n",
       "      <td>...</td>\n",
       "    </tr>\n",
       "    <tr>\n",
       "      <th>62387</th>\n",
       "      <td>62083</td>\n",
       "      <td>2021-05-03</td>\n",
       "      <td>Southwark A2 Old Kent Road</td>\n",
       "      <td>London</td>\n",
       "      <td>GB</td>\n",
       "      <td>6.857895</td>\n",
       "      <td>51.480499</td>\n",
       "      <td>-0.059550</td>\n",
       "      <td>61856</td>\n",
       "      <td>9.902191</td>\n",
       "      <td>6</td>\n",
       "      <td>19</td>\n",
       "    </tr>\n",
       "    <tr>\n",
       "      <th>62388</th>\n",
       "      <td>62153</td>\n",
       "      <td>2021-05-04</td>\n",
       "      <td>Southwark A2 Old Kent Road</td>\n",
       "      <td>London</td>\n",
       "      <td>GB</td>\n",
       "      <td>3.050000</td>\n",
       "      <td>51.480499</td>\n",
       "      <td>-0.059550</td>\n",
       "      <td>61856</td>\n",
       "      <td>9.902191</td>\n",
       "      <td>6</td>\n",
       "      <td>19</td>\n",
       "    </tr>\n",
       "    <tr>\n",
       "      <th>62389</th>\n",
       "      <td>62227</td>\n",
       "      <td>2021-05-05</td>\n",
       "      <td>Southwark A2 Old Kent Road</td>\n",
       "      <td>London</td>\n",
       "      <td>GB</td>\n",
       "      <td>3.390909</td>\n",
       "      <td>51.480499</td>\n",
       "      <td>-0.059550</td>\n",
       "      <td>61856</td>\n",
       "      <td>9.902191</td>\n",
       "      <td>6</td>\n",
       "      <td>19</td>\n",
       "    </tr>\n",
       "    <tr>\n",
       "      <th>62390</th>\n",
       "      <td>62303</td>\n",
       "      <td>2021-05-06</td>\n",
       "      <td>Southwark A2 Old Kent Road</td>\n",
       "      <td>London</td>\n",
       "      <td>GB</td>\n",
       "      <td>5.176190</td>\n",
       "      <td>51.480499</td>\n",
       "      <td>-0.059550</td>\n",
       "      <td>61856</td>\n",
       "      <td>9.902191</td>\n",
       "      <td>6</td>\n",
       "      <td>19</td>\n",
       "    </tr>\n",
       "    <tr>\n",
       "      <th>62391</th>\n",
       "      <td>62377</td>\n",
       "      <td>2021-05-07</td>\n",
       "      <td>Southwark A2 Old Kent Road</td>\n",
       "      <td>London</td>\n",
       "      <td>GB</td>\n",
       "      <td>4.600000</td>\n",
       "      <td>51.480499</td>\n",
       "      <td>-0.059550</td>\n",
       "      <td>61856</td>\n",
       "      <td>9.902191</td>\n",
       "      <td>6</td>\n",
       "      <td>19</td>\n",
       "    </tr>\n",
       "  </tbody>\n",
       "</table>\n",
       "<p>62392 rows × 12 columns</p>\n",
       "</div>"
      ],
      "text/plain": [
       "       Unnamed: 0_x        Date                    location      city country  \\\n",
       "0                 0  2018-11-22                    Aberdeen  Aberdeen      GB   \n",
       "1                61  2018-11-23                    Aberdeen  Aberdeen      GB   \n",
       "2               123  2018-11-24                    Aberdeen  Aberdeen      GB   \n",
       "3               185  2018-11-25                    Aberdeen  Aberdeen      GB   \n",
       "4               245  2018-11-26                    Aberdeen  Aberdeen      GB   \n",
       "...             ...         ...                         ...       ...     ...   \n",
       "62387         62083  2021-05-03  Southwark A2 Old Kent Road    London      GB   \n",
       "62388         62153  2021-05-04  Southwark A2 Old Kent Road    London      GB   \n",
       "62389         62227  2021-05-05  Southwark A2 Old Kent Road    London      GB   \n",
       "62390         62303  2021-05-06  Southwark A2 Old Kent Road    London      GB   \n",
       "62391         62377  2021-05-07  Southwark A2 Old Kent Road    London      GB   \n",
       "\n",
       "            PM25        Lat      Long  Unnamed: 0_y  elevation_2000_mean  \\\n",
       "0      11.739130  57.157360 -2.094278             0            21.609085   \n",
       "1       5.086957  57.157360 -2.094278             0            21.609085   \n",
       "2       4.304348  57.157360 -2.094278             0            21.609085   \n",
       "3       4.000000  57.157360 -2.094278             0            21.609085   \n",
       "4       3.347826  57.157360 -2.094278             0            21.609085   \n",
       "...          ...        ...       ...           ...                  ...   \n",
       "62387   6.857895  51.480499 -0.059550         61856             9.902191   \n",
       "62388   3.050000  51.480499 -0.059550         61856             9.902191   \n",
       "62389   3.390909  51.480499 -0.059550         61856             9.902191   \n",
       "62390   5.176190  51.480499 -0.059550         61856             9.902191   \n",
       "62391   4.600000  51.480499 -0.059550         61856             9.902191   \n",
       "\n",
       "       elevation_2000_min  elevation_2000_max  \n",
       "0                       5                  31  \n",
       "1                       5                  31  \n",
       "2                       5                  31  \n",
       "3                       5                  31  \n",
       "4                       5                  31  \n",
       "...                   ...                 ...  \n",
       "62387                   6                  19  \n",
       "62388                   6                  19  \n",
       "62389                   6                  19  \n",
       "62390                   6                  19  \n",
       "62391                   6                  19  \n",
       "\n",
       "[62392 rows x 12 columns]"
      ]
     },
     "execution_count": 19,
     "metadata": {},
     "output_type": "execute_result"
    }
   ],
   "source": [
    "locations_w_elevation = locations_w_elevation.drop(columns=['Date', 'PM25', 'Lat', 'Long', 'city','country'], axis=1)\n",
    "world_w_elevation = pd.merge(world, locations_w_elevation, on='location')\n",
    "world_w_elevation"
   ]
  },
  {
   "cell_type": "code",
   "execution_count": 8,
   "id": "e1b770c0",
   "metadata": {},
   "outputs": [],
   "source": [
    "#timeseries data\n",
    "# Image Collections\n",
    "gfs = ee.ImageCollection(\"NOAA/GFS0P25\") # Weather data\n",
    "\n",
    "S5p_collections = {} # Sentinel 5p data, which comes in multiple collections\n",
    "for COL in ['L3_NO2', 'L3_O3', 'L3_CO', 'L3_AER_AI']: # \n",
    "    S5p_collections[COL] = ee.ImageCollection('COPERNICUS/S5P/OFFL/'+COL).map(lambda image: image.addBands\\\n",
    "                                                                              (image.metadata('system:time_start')))\n",
    "# Properties for each image we want to keep\n",
    "s5p_props = {\n",
    "    'L3_NO2':['NO2_column_number_density', 'tropospheric_NO2_column_number_density', 'stratospheric_NO2_column_number_density',\\\n",
    "              'NO2_slant_column_number_density', 'tropopause_pressure'],\n",
    "    'L3_O3':['O3_column_number_density'],\n",
    "    'L3_CO':['CO_column_number_density', 'H2O_column_number_density', 'cloud_height'],\n",
    "    'L3_AER_AI':['absorbing_aerosol_index']\n",
    "}\n",
    "\n",
    "def add_timeseries(df, dates, reducer=ee.Reducer.first()):\n",
    "    # Prepare dataframe with date x city\n",
    "    date_col = []\n",
    "    location_col = []\n",
    "    for d in dates:\n",
    "        for c in df.location.unique():\n",
    "            date_col.append(d)\n",
    "            location_col.append(c)\n",
    "\n",
    "    data = pd.DataFrame({\n",
    "        'Date':date_col,\n",
    "        'location':location_col\n",
    "    })\n",
    "    data = pd.merge(data, df[['location', 'Lat', 'Long']], how='left', on='location')\n",
    "    \n",
    "    for d in tqdm(dates):\n",
    "        # Weather is easy - a single image from the right date\n",
    "        weather_image = gfs.filter(ee.Filter.date(str(d.date()), str((d+timedelta(days=1)).date()))).first() # Filter to get the relevant image\n",
    "        # For the sentinel data, we get images from each collection and merge them\n",
    "        s5p_images = []\n",
    "        for COL in ['L3_NO2', 'L3_O3', 'L3_CO', 'L3_AER_AI']:\n",
    "            collection = S5p_collections[COL].filter(ee.Filter.date(str((d-timedelta(days=5)).date()), str(d.date())))\n",
    "            image = collection.qualityMosaic('system:time_start') # The most recent image\n",
    "            image = image.select(s5p_props[COL])\n",
    "            s5p_images.append(image)\n",
    "        s5p_image = ee.ImageCollection(s5p_images).toBands() # Merge into one image\n",
    "    \n",
    "        # Sample the weather data\n",
    "        samples = sample(weather_image, '', df['Lat'].values, df['Long'].values, reducer=reducer)\n",
    "        for prop in samples[0].keys():\n",
    "            data.loc[data.Date==d, prop] = [p[prop] for p in samples]\n",
    "            \n",
    "        # Sample the sentinel data\n",
    "        samples = sample(s5p_image, '', df['Lat'].values, df['Long'].values)\n",
    "        for prop in samples[0].keys():\n",
    "            data.loc[data.Date==d, prop] = [p[prop] for p in samples]\n",
    "            \n",
    "    return data"
   ]
  },
  {
   "cell_type": "code",
   "execution_count": 108,
   "id": "b681daee",
   "metadata": {},
   "outputs": [],
   "source": [
    "#timeseries data\n",
    "# Image Collections\n",
    "gfs = ee.ImageCollection(\"NOAA/GFS0P25\") # Weather data\n",
    "\n",
    "s5p_collections = ee.ImageCollection('COPERNICUS/S5P/OFFL/L3_SO2').select('SO2_column_number_density').map(lambda image: image.addBands\\\n",
    "                                                                              (image.metadata('system:time_start')))\n",
    "# Properties for each image we want to keep\n",
    "s5p_props = {\n",
    "    'L3_SO2':['SO2_column_number_density']\n",
    "}\n",
    "\n",
    "def add_timeseries(df, dates, reducer=ee.Reducer.first()):\n",
    "    # Prepare dataframe with date x city\n",
    "    date_col = []\n",
    "    location_col = []\n",
    "    for d in dates:\n",
    "        for c in df.location.unique():\n",
    "            date_col.append(d)\n",
    "            location_col.append(c)\n",
    "\n",
    "    data = pd.DataFrame({\n",
    "        'Date':date_col,\n",
    "        'location':location_col\n",
    "    })\n",
    "    data = pd.merge(data, df[['location', 'Lat', 'Long']], how='left', on='location')\n",
    "    \n",
    "    for d in tqdm(dates):\n",
    "        # Weather is easy - a single image from the right date\n",
    "        weather_image = gfs.filter(ee.Filter.date(str(d.date()), str((d+timedelta(days=1)).date()))).first() # Filter to get the relevant image\n",
    "        # For the sentinel data, we get images from each collection and merge them\n",
    "        s5p_images = []\n",
    "        for COL in ['L3_SO2']:\n",
    "            collection = S5p_collections[COL].filter(ee.Filter.date(str((d-timedelta(days=5)).date()), str(d.date())))\n",
    "            image = collection.qualityMosaic('system:time_start') # The most recent image\n",
    "            image = image.select(s5p_props[COL])\n",
    "            s5p_images.append(image)\n",
    "        s5p_image = ee.ImageCollection(s5p_images).toBands() # Merge into one image\n",
    "    \n",
    "\n",
    "        # Sample the sentinel data\n",
    "        samples = sample(s5p_image, '', df['Lat'].values, df['Long'].values)\n",
    "        for prop in samples[0].keys():\n",
    "            data.loc[data.Date==d, prop] = [p[prop] for p in samples]\n",
    "            \n",
    "    return data"
   ]
  },
  {
   "cell_type": "code",
   "execution_count": 104,
   "id": "3f9ed4c1",
   "metadata": {},
   "outputs": [],
   "source": [
    "#weather data is until 2020-11-30\n",
    "dates_2018 = pd.date_range('2018-11-22', '2018-12-31', freq='1D')\n",
    "dates_2019 = pd.date_range('2019-01-01', '2019-12-31', freq='1D')\n",
    "dates_2020 = pd.date_range('2020-01-01', '2020-12-31', freq='1D')\n",
    "dates_2021 = pd.date_range('2021-01-01', '2021-05-07', freq='1D')"
   ]
  },
  {
   "cell_type": "code",
   "execution_count": 105,
   "id": "7b89498b",
   "metadata": {},
   "outputs": [],
   "source": [
    "# 2018\n",
    "world_1 = world.iloc[:2299]\n",
    "\n",
    "# 2019\n",
    "# 2019 = world.iloc[2299:26642]\n",
    "world_2 = world.iloc[2299:7299]\n",
    "world_3 = world.iloc[7299:12299]\n",
    "world_4 = world.iloc[12299:17299]\n",
    "world_5 = world.iloc[17299:22299]\n",
    "world_6 = world.iloc[22299:26642]\n",
    "\n",
    "# 2020\n",
    "# 2020 = world.iloc[26642:53449]\n",
    "world_7 = world.iloc[26642:31642]\n",
    "world_8 = world.iloc[31642:36642]\n",
    "world_9 = world.iloc[36642:41642]\n",
    "world_10 = world.iloc[41642:46642]\n",
    "world_11 = world.iloc[46642:51642]\n",
    "world_12 = world.iloc[51642:53449]\n",
    "\n",
    "# 2021\n",
    "world_13 = world.iloc[53449:58449]\n",
    "world_14 = world.iloc[58449:]"
   ]
  },
  {
   "cell_type": "code",
   "execution_count": 11,
   "id": "7ceb821b",
   "metadata": {},
   "outputs": [
    {
     "name": "stderr",
     "output_type": "stream",
     "text": [
      "100%|██████████████████████████████████████████████████████████████████████████████████| 40/40 [07:40<00:00, 11.51s/it]\n"
     ]
    }
   ],
   "source": [
    "ts_uk1 = add_timeseries(world_1.copy(), dates_2018)"
   ]
  },
  {
   "cell_type": "code",
   "execution_count": 12,
   "id": "0f9d4971",
   "metadata": {},
   "outputs": [
    {
     "name": "stderr",
     "output_type": "stream",
     "text": [
      "100%|██████████████████████████████████████████████████████████████████████████████| 365/365 [1:27:39<00:00, 14.41s/it]\n"
     ]
    }
   ],
   "source": [
    "ts_uk2 = add_timeseries(world_2.copy(), dates_2019)"
   ]
  },
  {
   "cell_type": "code",
   "execution_count": 13,
   "id": "8ea3f2fb",
   "metadata": {},
   "outputs": [
    {
     "name": "stderr",
     "output_type": "stream",
     "text": [
      "100%|██████████████████████████████████████████████████████████████████████████████| 365/365 [1:23:00<00:00, 13.64s/it]\n"
     ]
    }
   ],
   "source": [
    "ts_uk3 = add_timeseries(world_3.copy(), dates_2019)"
   ]
  },
  {
   "cell_type": "code",
   "execution_count": 14,
   "id": "16c80446",
   "metadata": {},
   "outputs": [
    {
     "name": "stderr",
     "output_type": "stream",
     "text": [
      "100%|██████████████████████████████████████████████████████████████████████████████| 365/365 [1:06:20<00:00, 10.91s/it]\n"
     ]
    }
   ],
   "source": [
    "ts_uk4 = add_timeseries(world_4.copy(), dates_2019)"
   ]
  },
  {
   "cell_type": "code",
   "execution_count": 15,
   "id": "940cbfd0",
   "metadata": {},
   "outputs": [
    {
     "name": "stderr",
     "output_type": "stream",
     "text": [
      "100%|████████████████████████████████████████████████████████████████████████████████| 365/365 [55:54<00:00,  9.19s/it]\n"
     ]
    }
   ],
   "source": [
    "ts_uk5 = add_timeseries(world_5.copy(), dates_2019)"
   ]
  },
  {
   "cell_type": "code",
   "execution_count": 16,
   "id": "e0bbb65b",
   "metadata": {},
   "outputs": [
    {
     "name": "stderr",
     "output_type": "stream",
     "text": [
      "100%|████████████████████████████████████████████████████████████████████████████████| 365/365 [49:45<00:00,  8.18s/it]\n"
     ]
    }
   ],
   "source": [
    "ts_uk6 = add_timeseries(world_6.copy(), dates_2019)"
   ]
  },
  {
   "cell_type": "code",
   "execution_count": 17,
   "id": "2002ff48",
   "metadata": {},
   "outputs": [
    {
     "name": "stderr",
     "output_type": "stream",
     "text": [
      "100%|██████████████████████████████████████████████████████████████████████████████| 366/366 [1:37:09<00:00, 15.93s/it]\n"
     ]
    }
   ],
   "source": [
    "ts_uk7 = add_timeseries(world_7.copy(), dates_2020)"
   ]
  },
  {
   "cell_type": "code",
   "execution_count": 18,
   "id": "8bec5229",
   "metadata": {},
   "outputs": [
    {
     "name": "stderr",
     "output_type": "stream",
     "text": [
      "100%|██████████████████████████████████████████████████████████████████████████████| 366/366 [1:39:43<00:00, 16.35s/it]\n"
     ]
    }
   ],
   "source": [
    "ts_uk8 = add_timeseries(world_8.copy(), dates_2020)"
   ]
  },
  {
   "cell_type": "code",
   "execution_count": 19,
   "id": "10bc6b16",
   "metadata": {},
   "outputs": [
    {
     "name": "stderr",
     "output_type": "stream",
     "text": [
      "100%|██████████████████████████████████████████████████████████████████████████████| 366/366 [1:15:45<00:00, 12.42s/it]\n"
     ]
    }
   ],
   "source": [
    "ts_uk9 = add_timeseries(world_9.copy(), dates_2020)"
   ]
  },
  {
   "cell_type": "code",
   "execution_count": 20,
   "id": "17b12535",
   "metadata": {},
   "outputs": [
    {
     "name": "stderr",
     "output_type": "stream",
     "text": [
      "100%|██████████████████████████████████████████████████████████████████████████████| 366/366 [1:02:11<00:00, 10.20s/it]\n"
     ]
    }
   ],
   "source": [
    "ts_uk10 = add_timeseries(world_10.copy(), dates_2020)"
   ]
  },
  {
   "cell_type": "code",
   "execution_count": 33,
   "id": "207404f2",
   "metadata": {},
   "outputs": [
    {
     "name": "stderr",
     "output_type": "stream",
     "text": [
      "100%|██████████████████████████████████████████████████████████████████████████████| 366/366 [1:02:00<00:00, 10.17s/it]\n"
     ]
    }
   ],
   "source": [
    "ts_uk11 = add_timeseries(world_11.copy(), dates_2020)"
   ]
  },
  {
   "cell_type": "code",
   "execution_count": 34,
   "id": "1494841d",
   "metadata": {},
   "outputs": [
    {
     "name": "stderr",
     "output_type": "stream",
     "text": [
      "100%|████████████████████████████████████████████████████████████████████████████████| 366/366 [32:11<00:00,  5.28s/it]\n"
     ]
    }
   ],
   "source": [
    "ts_uk12 = add_timeseries(world_12.copy(), dates_2020)"
   ]
  },
  {
   "cell_type": "code",
   "execution_count": 35,
   "id": "9d361d37",
   "metadata": {},
   "outputs": [
    {
     "name": "stderr",
     "output_type": "stream",
     "text": [
      "100%|████████████████████████████████████████████████████████████████████████████████| 127/127 [32:25<00:00, 15.32s/it]\n"
     ]
    }
   ],
   "source": [
    "ts_uk13 = add_timeseries(world_13.copy(), dates_2021)"
   ]
  },
  {
   "cell_type": "code",
   "execution_count": 36,
   "id": "6f6ec8d2",
   "metadata": {},
   "outputs": [
    {
     "name": "stderr",
     "output_type": "stream",
     "text": [
      "100%|████████████████████████████████████████████████████████████████████████████████| 127/127 [28:04<00:00, 13.26s/it]\n"
     ]
    }
   ],
   "source": [
    "ts_uk14 = add_timeseries(world_14.copy(), dates_2021)"
   ]
  },
  {
   "cell_type": "code",
   "execution_count": 23,
   "id": "38fe4da8",
   "metadata": {},
   "outputs": [],
   "source": [
    "ts_uk1.to_csv('ts_uk1.csv')"
   ]
  },
  {
   "cell_type": "code",
   "execution_count": 24,
   "id": "9a2d4a43",
   "metadata": {},
   "outputs": [],
   "source": [
    "ts_uk2.to_csv('ts_uk2.csv')"
   ]
  },
  {
   "cell_type": "code",
   "execution_count": 25,
   "id": "ccfeda29",
   "metadata": {},
   "outputs": [],
   "source": [
    "ts_uk3.to_csv('ts_uk3.csv')"
   ]
  },
  {
   "cell_type": "code",
   "execution_count": 26,
   "id": "cf1cbe4c",
   "metadata": {},
   "outputs": [],
   "source": [
    "ts_uk4.to_csv('ts_uk4.csv')"
   ]
  },
  {
   "cell_type": "code",
   "execution_count": 27,
   "id": "5952b221",
   "metadata": {},
   "outputs": [],
   "source": [
    "ts_uk5.to_csv('ts_uk5.csv')"
   ]
  },
  {
   "cell_type": "code",
   "execution_count": 28,
   "id": "0060c5c8",
   "metadata": {},
   "outputs": [],
   "source": [
    "ts_uk6.to_csv('ts_uk6.csv')"
   ]
  },
  {
   "cell_type": "code",
   "execution_count": 29,
   "id": "e355c790",
   "metadata": {},
   "outputs": [],
   "source": [
    "ts_uk7.to_csv('ts_uk7.csv')"
   ]
  },
  {
   "cell_type": "code",
   "execution_count": 30,
   "id": "bedc8b9f",
   "metadata": {},
   "outputs": [],
   "source": [
    "ts_uk8.to_csv('ts_uk8.csv')"
   ]
  },
  {
   "cell_type": "code",
   "execution_count": 31,
   "id": "ad033396",
   "metadata": {},
   "outputs": [],
   "source": [
    "ts_uk9.to_csv('ts_uk9.csv')"
   ]
  },
  {
   "cell_type": "code",
   "execution_count": 37,
   "id": "f0503e21",
   "metadata": {},
   "outputs": [],
   "source": [
    "ts_uk10.to_csv('ts_uk10.csv')"
   ]
  },
  {
   "cell_type": "code",
   "execution_count": 38,
   "id": "9b708d83",
   "metadata": {},
   "outputs": [],
   "source": [
    "ts_uk11.to_csv('ts_uk11.csv')"
   ]
  },
  {
   "cell_type": "code",
   "execution_count": 39,
   "id": "f73d44d9",
   "metadata": {},
   "outputs": [],
   "source": [
    "ts_uk12.to_csv('ts_uk12.csv')"
   ]
  },
  {
   "cell_type": "code",
   "execution_count": 40,
   "id": "d5d1ae45",
   "metadata": {},
   "outputs": [],
   "source": [
    "ts_uk13.to_csv('ts_uk13.csv')"
   ]
  },
  {
   "cell_type": "code",
   "execution_count": 41,
   "id": "511b7838",
   "metadata": {},
   "outputs": [],
   "source": [
    "ts_uk14.to_csv('ts_uk14.csv')"
   ]
  },
  {
   "cell_type": "code",
   "execution_count": 47,
   "id": "ed0c01ec",
   "metadata": {},
   "outputs": [
    {
     "data": {
      "text/plain": [
       "(2560, 19)"
      ]
     },
     "execution_count": 47,
     "metadata": {},
     "output_type": "execute_result"
    }
   ],
   "source": [
    "ts_uk1 = pd.read_csv('ts_uk1.csv')\n",
    "ts_uk1_groupby = ts_uk1.groupby(['Date', 'location']).mean()\n",
    "ts_uk1_groupby.to_csv('ts1_uk_groupby.csv')\n",
    "ts_uk1_groupby.shape"
   ]
  },
  {
   "cell_type": "code",
   "execution_count": 50,
   "id": "e522db02",
   "metadata": {},
   "outputs": [
    {
     "data": {
      "text/plain": [
       "(24820, 19)"
      ]
     },
     "execution_count": 50,
     "metadata": {},
     "output_type": "execute_result"
    }
   ],
   "source": [
    "ts_uk2 = pd.read_csv('ts_uk2.csv')\n",
    "ts_uk2_groupby = ts_uk2.groupby(['Date', 'location']).mean()\n",
    "ts_uk2_groupby.to_csv('ts2_uk_groupby.csv')\n",
    "ts_uk2_groupby.shape"
   ]
  },
  {
   "cell_type": "code",
   "execution_count": 51,
   "id": "9e08f299",
   "metadata": {},
   "outputs": [
    {
     "data": {
      "text/plain": [
       "(25185, 19)"
      ]
     },
     "execution_count": 51,
     "metadata": {},
     "output_type": "execute_result"
    }
   ],
   "source": [
    "ts_uk3 = pd.read_csv('ts_uk3.csv')\n",
    "ts_uk3_groupby = ts_uk3.groupby(['Date', 'location']).mean()\n",
    "ts_uk3_groupby.to_csv('ts3_uk_groupby.csv')\n",
    "ts_uk3_groupby.shape"
   ]
  },
  {
   "cell_type": "code",
   "execution_count": 52,
   "id": "089b8aae",
   "metadata": {},
   "outputs": [
    {
     "data": {
      "text/plain": [
       "(25185, 19)"
      ]
     },
     "execution_count": 52,
     "metadata": {},
     "output_type": "execute_result"
    }
   ],
   "source": [
    "ts_uk4 = pd.read_csv('ts_uk4.csv')\n",
    "ts_uk4_groupby = ts_uk4.groupby(['Date', 'location']).mean()\n",
    "ts_uk4_groupby.to_csv('ts4_uk_groupby.csv')\n",
    "ts_uk4_groupby.shape"
   ]
  },
  {
   "cell_type": "code",
   "execution_count": 53,
   "id": "326dc136",
   "metadata": {},
   "outputs": [
    {
     "data": {
      "text/plain": [
       "(28105, 19)"
      ]
     },
     "execution_count": 53,
     "metadata": {},
     "output_type": "execute_result"
    }
   ],
   "source": [
    "ts_uk5 = pd.read_csv('ts_uk5.csv')\n",
    "ts_uk5_groupby = ts_uk5.groupby(['Date', 'location']).mean()\n",
    "ts_uk5_groupby.to_csv('ts5_uk_groupby.csv')\n",
    "ts_uk5_groupby.shape"
   ]
  },
  {
   "cell_type": "code",
   "execution_count": 54,
   "id": "599421b5",
   "metadata": {},
   "outputs": [
    {
     "data": {
      "text/plain": [
       "(28105, 19)"
      ]
     },
     "execution_count": 54,
     "metadata": {},
     "output_type": "execute_result"
    }
   ],
   "source": [
    "ts_uk6 = pd.read_csv('ts_uk6.csv')\n",
    "ts_uk6_groupby = ts_uk6.groupby(['Date', 'location']).mean()\n",
    "ts_uk6_groupby.to_csv('ts6_uk_groupby.csv')\n",
    "ts_uk6_groupby.shape"
   ]
  },
  {
   "cell_type": "code",
   "execution_count": 55,
   "id": "8a5db816",
   "metadata": {},
   "outputs": [
    {
     "data": {
      "text/plain": [
       "(28548, 19)"
      ]
     },
     "execution_count": 55,
     "metadata": {},
     "output_type": "execute_result"
    }
   ],
   "source": [
    "ts_uk7 = pd.read_csv('ts_uk7.csv')\n",
    "ts_uk7_groupby = ts_uk7.groupby(['Date', 'location']).mean()\n",
    "ts_uk7_groupby.to_csv('ts7_uk_groupby.csv')\n",
    "ts_uk7_groupby.shape"
   ]
  },
  {
   "cell_type": "code",
   "execution_count": 56,
   "id": "5ffc9c62",
   "metadata": {},
   "outputs": [
    {
     "data": {
      "text/plain": [
       "(28182, 19)"
      ]
     },
     "execution_count": 56,
     "metadata": {},
     "output_type": "execute_result"
    }
   ],
   "source": [
    "ts_uk8 = pd.read_csv('ts_uk8.csv')\n",
    "ts_uk8_groupby = ts_uk8.groupby(['Date', 'location']).mean()\n",
    "ts_uk8_groupby.to_csv('ts8_uk_groupby.csv')\n",
    "ts_uk8_groupby.shape"
   ]
  },
  {
   "cell_type": "code",
   "execution_count": 57,
   "id": "5d5bf4b0",
   "metadata": {},
   "outputs": [
    {
     "data": {
      "text/plain": [
       "(28182, 19)"
      ]
     },
     "execution_count": 57,
     "metadata": {},
     "output_type": "execute_result"
    }
   ],
   "source": [
    "ts_uk9 = pd.read_csv('ts_uk9.csv')\n",
    "ts_uk9_groupby = ts_uk9.groupby(['Date', 'location']).mean()\n",
    "ts_uk9_groupby.to_csv('ts9_uk_groupby.csv')\n",
    "ts_uk9_groupby.shape"
   ]
  },
  {
   "cell_type": "code",
   "execution_count": 58,
   "id": "0da1ef46",
   "metadata": {},
   "outputs": [
    {
     "data": {
      "text/plain": [
       "(28182, 19)"
      ]
     },
     "execution_count": 58,
     "metadata": {},
     "output_type": "execute_result"
    }
   ],
   "source": [
    "ts_uk10 = pd.read_csv('ts_uk10.csv')\n",
    "ts_uk10_groupby = ts_uk10.groupby(['Date', 'location']).mean()\n",
    "ts_uk10_groupby.to_csv('ts10_uk_groupby.csv')\n",
    "ts_uk10_groupby.shape"
   ]
  },
  {
   "cell_type": "code",
   "execution_count": 59,
   "id": "932c3d95",
   "metadata": {},
   "outputs": [
    {
     "data": {
      "text/plain": [
       "(27816, 19)"
      ]
     },
     "execution_count": 59,
     "metadata": {},
     "output_type": "execute_result"
    }
   ],
   "source": [
    "ts_uk11 = pd.read_csv('ts_uk11.csv')\n",
    "ts_uk11_groupby = ts_uk11.groupby(['Date', 'location']).mean()\n",
    "ts_uk11_groupby.to_csv('ts11_uk_groupby.csv')\n",
    "ts_uk11_groupby.shape"
   ]
  },
  {
   "cell_type": "code",
   "execution_count": 60,
   "id": "86466fc0",
   "metadata": {},
   "outputs": [
    {
     "data": {
      "text/plain": [
       "(27816, 19)"
      ]
     },
     "execution_count": 60,
     "metadata": {},
     "output_type": "execute_result"
    }
   ],
   "source": [
    "ts_uk12 = pd.read_csv('ts_uk12.csv')\n",
    "ts_uk12_groupby = ts_uk12.groupby(['Date', 'location']).mean()\n",
    "ts_uk12_groupby.to_csv('ts12_uk_groupby.csv')\n",
    "ts_uk12_groupby.shape"
   ]
  },
  {
   "cell_type": "code",
   "execution_count": 61,
   "id": "ef6a2327",
   "metadata": {},
   "outputs": [
    {
     "data": {
      "text/plain": [
       "(9652, 19)"
      ]
     },
     "execution_count": 61,
     "metadata": {},
     "output_type": "execute_result"
    }
   ],
   "source": [
    "ts_uk13 = pd.read_csv('ts_uk13.csv')\n",
    "ts_uk13_groupby = ts_uk13.groupby(['Date', 'location']).mean()\n",
    "ts_uk13_groupby.to_csv('ts13_uk_groupby.csv')\n",
    "ts_uk13_groupby.shape"
   ]
  },
  {
   "cell_type": "code",
   "execution_count": 62,
   "id": "9737ea1d",
   "metadata": {},
   "outputs": [
    {
     "data": {
      "text/plain": [
       "(9906, 19)"
      ]
     },
     "execution_count": 62,
     "metadata": {},
     "output_type": "execute_result"
    }
   ],
   "source": [
    "ts_uk14 = pd.read_csv('ts_uk14.csv')\n",
    "ts_uk14_groupby = ts_uk14.groupby(['Date', 'location']).mean()\n",
    "ts_uk14_groupby.to_csv('ts14_uk_groupby.csv')\n",
    "ts_uk14_groupby.shape"
   ]
  },
  {
   "cell_type": "code",
   "execution_count": 64,
   "id": "424527a6",
   "metadata": {},
   "outputs": [],
   "source": [
    "ts1_data = pd.read_csv('ts1_uk_groupby.csv')\n",
    "ts2_data = pd.read_csv('ts2_uk_groupby.csv')\n",
    "ts3_data = pd.read_csv('ts3_uk_groupby.csv')\n",
    "ts4_data = pd.read_csv('ts4_uk_groupby.csv')\n",
    "ts5_data = pd.read_csv('ts5_uk_groupby.csv')\n",
    "ts6_data = pd.read_csv('ts6_uk_groupby.csv')\n",
    "ts7_data = pd.read_csv('ts7_uk_groupby.csv')\n",
    "ts8_data = pd.read_csv('ts8_uk_groupby.csv')\n",
    "ts9_data = pd.read_csv('ts9_uk_groupby.csv')\n",
    "ts10_data = pd.read_csv('ts10_uk_groupby.csv')\n",
    "ts11_data = pd.read_csv('ts11_uk_groupby.csv')\n",
    "ts12_data = pd.read_csv('ts12_uk_groupby.csv')\n",
    "ts13_data = pd.read_csv('ts13_uk_groupby.csv')\n",
    "ts14_data = pd.read_csv('ts14_uk_groupby.csv')"
   ]
  },
  {
   "cell_type": "code",
   "execution_count": 66,
   "id": "8325f22a",
   "metadata": {},
   "outputs": [],
   "source": [
    "group = [ts1_data,ts2_data,ts3_data,ts4_data,ts5_data,ts6_data,ts7_data,ts8_data,ts9_data,ts10_data,ts11_data,ts12_data,ts13_data,ts14_data]\n",
    "group_timeseries = pd.concat(group)\n",
    "group_timeseries.to_csv('group_timeseries.csv', index=False)"
   ]
  },
  {
   "cell_type": "code",
   "execution_count": 20,
   "id": "70fa7bf7",
   "metadata": {},
   "outputs": [],
   "source": [
    "grouped = pd.read_csv('group_timeseries.csv')"
   ]
  },
  {
   "cell_type": "code",
   "execution_count": 21,
   "id": "27cc7de8",
   "metadata": {},
   "outputs": [
    {
     "data": {
      "text/plain": [
       "Index(['Date', 'location', 'Unnamed: 0', 'Lat', 'Long',\n",
       "       'precipitable_water_entire_atmosphere',\n",
       "       'relative_humidity_2m_above_ground',\n",
       "       'specific_humidity_2m_above_ground', 'temperature_2m_above_ground',\n",
       "       'u_component_of_wind_10m_above_ground',\n",
       "       'v_component_of_wind_10m_above_ground', '0_NO2_column_number_density',\n",
       "       '0_NO2_slant_column_number_density',\n",
       "       '0_stratospheric_NO2_column_number_density', '0_tropopause_pressure',\n",
       "       '0_tropospheric_NO2_column_number_density',\n",
       "       '1_O3_column_number_density', '2_CO_column_number_density',\n",
       "       '2_H2O_column_number_density', '2_cloud_height',\n",
       "       '3_absorbing_aerosol_index'],\n",
       "      dtype='object')"
      ]
     },
     "execution_count": 21,
     "metadata": {},
     "output_type": "execute_result"
    }
   ],
   "source": [
    "grouped.columns "
   ]
  },
  {
   "cell_type": "code",
   "execution_count": 23,
   "id": "9931b465",
   "metadata": {},
   "outputs": [
    {
     "data": {
      "text/plain": [
       "Index(['Unnamed: 0_x', 'Date', 'location', 'city', 'country', 'PM25', 'Lat',\n",
       "       'Long', 'Unnamed: 0_y', 'avg_vis_mean', 'cf_cvg_mean', 'avg_vis_min',\n",
       "       'cf_cvg_min', 'avg_vis_max', 'cf_cvg_max', 'pop_density2010_mean',\n",
       "       'pop_density2010_min', 'pop_density2010_max'],\n",
       "      dtype='object')"
      ]
     },
     "execution_count": 23,
     "metadata": {},
     "output_type": "execute_result"
    }
   ],
   "source": [
    "world_w_static.columns"
   ]
  },
  {
   "cell_type": "code",
   "execution_count": 45,
   "id": "2ca4d50e",
   "metadata": {},
   "outputs": [],
   "source": [
    "veg_elev = pd.merge(world_w_veg, world_w_elevation, on = ['location', 'Date', 'Lat', 'Long'])"
   ]
  },
  {
   "cell_type": "code",
   "execution_count": 54,
   "id": "a22776fd",
   "metadata": {},
   "outputs": [],
   "source": [
    "veg_elev_pop = pd.merge(veg_elev, world_w_static, on = ['location', 'Date'])"
   ]
  },
  {
   "cell_type": "code",
   "execution_count": 55,
   "id": "019fbf44",
   "metadata": {},
   "outputs": [
    {
     "name": "stderr",
     "output_type": "stream",
     "text": [
      "C:\\Users\\Zenudeen\\AppData\\Local\\Temp/ipykernel_3888/2146659294.py:1: FutureWarning: Passing 'suffixes' which cause duplicate columns {'Lat_x', 'Long_x'} in the result is deprecated and will raise a MergeError in a future version.\n",
      "  veg_elev_pop_sat = pd.merge(veg_elev_pop, grouped, on = ['location', 'Date'])\n"
     ]
    }
   ],
   "source": [
    "veg_elev_pop_sat = pd.merge(veg_elev_pop, grouped, on = ['location', 'Date'])"
   ]
  },
  {
   "cell_type": "code",
   "execution_count": 56,
   "id": "ca2ad476",
   "metadata": {},
   "outputs": [],
   "source": [
    "all_of_it = veg_elev_pop_sat.groupby(['location', 'Date']).mean()"
   ]
  },
  {
   "cell_type": "code",
   "execution_count": 57,
   "id": "fd67137d",
   "metadata": {},
   "outputs": [
    {
     "data": {
      "text/plain": [
       "(62392, 56)"
      ]
     },
     "execution_count": 57,
     "metadata": {},
     "output_type": "execute_result"
    }
   ],
   "source": [
    "all_of_it.shape"
   ]
  },
  {
   "cell_type": "code",
   "execution_count": 58,
   "id": "0f6714d7",
   "metadata": {},
   "outputs": [
    {
     "data": {
      "text/plain": [
       "Index(['Unnamed: 0_x_x', 'PM25_x_x', 'Lat_x', 'Long_x', 'Unnamed: 0_y_x',\n",
       "       'NDVI_8000_mean', 'QA_8000_mean', 'TIMEOFDAY_8000_mean',\n",
       "       'NDVI_8000_min', 'QA_8000_min', 'TIMEOFDAY_8000_min', 'NDVI_8000_max',\n",
       "       'QA_8000_max', 'TIMEOFDAY_8000_max', 'Unnamed: 0_x_y', 'PM25_y_x',\n",
       "       'Unnamed: 0_y_y', 'elevation_2000_mean', 'elevation_2000_min',\n",
       "       'elevation_2000_max', 'Unnamed: 0_x', 'PM25_x_y', 'Lat_x', 'Long_x',\n",
       "       'Unnamed: 0_y', 'PM25_y_y', 'Lat_y', 'Long_y', 'avg_vis_mean',\n",
       "       'cf_cvg_mean', 'avg_vis_min', 'cf_cvg_min', 'avg_vis_max', 'cf_cvg_max',\n",
       "       'pop_density2010_mean', 'pop_density2010_min', 'pop_density2010_max',\n",
       "       'Unnamed: 0', 'Lat_y', 'Long_y', 'precipitable_water_entire_atmosphere',\n",
       "       'relative_humidity_2m_above_ground',\n",
       "       'specific_humidity_2m_above_ground', 'temperature_2m_above_ground',\n",
       "       'u_component_of_wind_10m_above_ground',\n",
       "       'v_component_of_wind_10m_above_ground', '0_NO2_column_number_density',\n",
       "       '0_NO2_slant_column_number_density',\n",
       "       '0_stratospheric_NO2_column_number_density', '0_tropopause_pressure',\n",
       "       '0_tropospheric_NO2_column_number_density',\n",
       "       '1_O3_column_number_density', '2_CO_column_number_density',\n",
       "       '2_H2O_column_number_density', '2_cloud_height',\n",
       "       '3_absorbing_aerosol_index'],\n",
       "      dtype='object')"
      ]
     },
     "execution_count": 58,
     "metadata": {},
     "output_type": "execute_result"
    }
   ],
   "source": [
    "all_of_it.columns"
   ]
  },
  {
   "cell_type": "code",
   "execution_count": 61,
   "id": "c98b3389",
   "metadata": {},
   "outputs": [],
   "source": [
    "all_of_it = all_of_it.drop(['Unnamed: 0_x_x', 'Unnamed: 0_y_x', \n",
    "                            'Unnamed: 0_x_y','Unnamed: 0_y_y', 'Unnamed: 0', 'Unnamed: 0_y','Unnamed: 0_x','PM25_y_x', 'PM25_x_y', 'PM25_y_y'], axis = 1)"
   ]
  },
  {
   "cell_type": "code",
   "execution_count": 62,
   "id": "a1e3e498",
   "metadata": {},
   "outputs": [],
   "source": [
    "all_of_it.to_csv('all_of_it.csv')"
   ]
  },
  {
   "cell_type": "code",
   "execution_count": 1,
   "id": "b8116240",
   "metadata": {},
   "outputs": [
    {
     "ename": "NameError",
     "evalue": "name 'pd' is not defined",
     "output_type": "error",
     "traceback": [
      "\u001b[1;31m---------------------------------------------------------------------------\u001b[0m",
      "\u001b[1;31mNameError\u001b[0m                                 Traceback (most recent call last)",
      "\u001b[1;32m~\\AppData\\Local\\Temp/ipykernel_692/721936614.py\u001b[0m in \u001b[0;36m<module>\u001b[1;34m\u001b[0m\n\u001b[1;32m----> 1\u001b[1;33m \u001b[0mall_of_it\u001b[0m \u001b[1;33m=\u001b[0m \u001b[0mpd\u001b[0m\u001b[1;33m.\u001b[0m\u001b[0mread_csv\u001b[0m\u001b[1;33m(\u001b[0m\u001b[1;34m'all_of_it.csv'\u001b[0m\u001b[1;33m)\u001b[0m\u001b[1;33m\u001b[0m\u001b[1;33m\u001b[0m\u001b[0m\n\u001b[0m",
      "\u001b[1;31mNameError\u001b[0m: name 'pd' is not defined"
     ]
    }
   ],
   "source": [
    "all_of_it = pd.read_csv('all_of_it.csv')"
   ]
  },
  {
   "cell_type": "code",
   "execution_count": 30,
   "id": "b6873023",
   "metadata": {},
   "outputs": [],
   "source": [
    "import seaborn as sns"
   ]
  },
  {
   "cell_type": "code",
   "execution_count": 100,
   "id": "98ea2f47",
   "metadata": {},
   "outputs": [
    {
     "data": {
      "text/html": [
       "<div>\n",
       "<style scoped>\n",
       "    .dataframe tbody tr th:only-of-type {\n",
       "        vertical-align: middle;\n",
       "    }\n",
       "\n",
       "    .dataframe tbody tr th {\n",
       "        vertical-align: top;\n",
       "    }\n",
       "\n",
       "    .dataframe thead th {\n",
       "        text-align: right;\n",
       "    }\n",
       "</style>\n",
       "<table border=\"1\" class=\"dataframe\">\n",
       "  <thead>\n",
       "    <tr style=\"text-align: right;\">\n",
       "      <th></th>\n",
       "      <th>location</th>\n",
       "      <th>Date</th>\n",
       "      <th>PM25_x_x</th>\n",
       "      <th>Lat_x</th>\n",
       "      <th>Long_x</th>\n",
       "      <th>NDVI_8000_mean</th>\n",
       "      <th>QA_8000_mean</th>\n",
       "      <th>TIMEOFDAY_8000_mean</th>\n",
       "      <th>NDVI_8000_min</th>\n",
       "      <th>QA_8000_min</th>\n",
       "      <th>...</th>\n",
       "      <th>0_NO2_column_number_density</th>\n",
       "      <th>0_NO2_slant_column_number_density</th>\n",
       "      <th>0_stratospheric_NO2_column_number_density</th>\n",
       "      <th>0_tropopause_pressure</th>\n",
       "      <th>0_tropospheric_NO2_column_number_density</th>\n",
       "      <th>1_O3_column_number_density</th>\n",
       "      <th>2_CO_column_number_density</th>\n",
       "      <th>2_H2O_column_number_density</th>\n",
       "      <th>2_cloud_height</th>\n",
       "      <th>3_absorbing_aerosol_index</th>\n",
       "    </tr>\n",
       "  </thead>\n",
       "  <tbody>\n",
       "    <tr>\n",
       "      <th>0</th>\n",
       "      <td>Aberdeen</td>\n",
       "      <td>2018-11-22</td>\n",
       "      <td>11.739130</td>\n",
       "      <td>57.157360</td>\n",
       "      <td>-2.094278</td>\n",
       "      <td>NaN</td>\n",
       "      <td>8000.0</td>\n",
       "      <td>NaN</td>\n",
       "      <td>NaN</td>\n",
       "      <td>8000.0</td>\n",
       "      <td>...</td>\n",
       "      <td>0.000165</td>\n",
       "      <td>0.000393</td>\n",
       "      <td>0.000033</td>\n",
       "      <td>23135.584735</td>\n",
       "      <td>0.000089</td>\n",
       "      <td>0.151051</td>\n",
       "      <td>0.033404</td>\n",
       "      <td>559.657057</td>\n",
       "      <td>244.943472</td>\n",
       "      <td>-0.319757</td>\n",
       "    </tr>\n",
       "    <tr>\n",
       "      <th>1</th>\n",
       "      <td>Aberdeen</td>\n",
       "      <td>2018-11-23</td>\n",
       "      <td>5.086957</td>\n",
       "      <td>57.157360</td>\n",
       "      <td>-2.094278</td>\n",
       "      <td>NaN</td>\n",
       "      <td>8000.0</td>\n",
       "      <td>NaN</td>\n",
       "      <td>NaN</td>\n",
       "      <td>8000.0</td>\n",
       "      <td>...</td>\n",
       "      <td>0.000203</td>\n",
       "      <td>0.000312</td>\n",
       "      <td>0.000029</td>\n",
       "      <td>22288.339382</td>\n",
       "      <td>0.000097</td>\n",
       "      <td>0.149551</td>\n",
       "      <td>0.033906</td>\n",
       "      <td>506.161145</td>\n",
       "      <td>424.288058</td>\n",
       "      <td>-0.328007</td>\n",
       "    </tr>\n",
       "    <tr>\n",
       "      <th>2</th>\n",
       "      <td>Aberdeen</td>\n",
       "      <td>2018-11-24</td>\n",
       "      <td>4.304348</td>\n",
       "      <td>57.157360</td>\n",
       "      <td>-2.094278</td>\n",
       "      <td>NaN</td>\n",
       "      <td>8000.0</td>\n",
       "      <td>NaN</td>\n",
       "      <td>NaN</td>\n",
       "      <td>8000.0</td>\n",
       "      <td>...</td>\n",
       "      <td>0.000126</td>\n",
       "      <td>0.000241</td>\n",
       "      <td>0.000029</td>\n",
       "      <td>23801.913466</td>\n",
       "      <td>0.000103</td>\n",
       "      <td>0.153602</td>\n",
       "      <td>0.032734</td>\n",
       "      <td>742.920846</td>\n",
       "      <td>451.423312</td>\n",
       "      <td>-0.637870</td>\n",
       "    </tr>\n",
       "    <tr>\n",
       "      <th>3</th>\n",
       "      <td>Aberdeen</td>\n",
       "      <td>2018-11-25</td>\n",
       "      <td>4.000000</td>\n",
       "      <td>57.157360</td>\n",
       "      <td>-2.094278</td>\n",
       "      <td>NaN</td>\n",
       "      <td>8000.0</td>\n",
       "      <td>NaN</td>\n",
       "      <td>NaN</td>\n",
       "      <td>8000.0</td>\n",
       "      <td>...</td>\n",
       "      <td>0.000199</td>\n",
       "      <td>0.000216</td>\n",
       "      <td>0.000030</td>\n",
       "      <td>22388.601553</td>\n",
       "      <td>0.000098</td>\n",
       "      <td>0.156868</td>\n",
       "      <td>0.032375</td>\n",
       "      <td>741.006204</td>\n",
       "      <td>578.075439</td>\n",
       "      <td>-1.182609</td>\n",
       "    </tr>\n",
       "    <tr>\n",
       "      <th>4</th>\n",
       "      <td>Aberdeen</td>\n",
       "      <td>2018-11-26</td>\n",
       "      <td>3.347826</td>\n",
       "      <td>57.157360</td>\n",
       "      <td>-2.094278</td>\n",
       "      <td>NaN</td>\n",
       "      <td>8000.0</td>\n",
       "      <td>NaN</td>\n",
       "      <td>NaN</td>\n",
       "      <td>8000.0</td>\n",
       "      <td>...</td>\n",
       "      <td>0.000089</td>\n",
       "      <td>0.000211</td>\n",
       "      <td>0.000028</td>\n",
       "      <td>22400.809307</td>\n",
       "      <td>0.000100</td>\n",
       "      <td>0.156201</td>\n",
       "      <td>0.031339</td>\n",
       "      <td>687.617275</td>\n",
       "      <td>276.618340</td>\n",
       "      <td>-1.000924</td>\n",
       "    </tr>\n",
       "    <tr>\n",
       "      <th>...</th>\n",
       "      <td>...</td>\n",
       "      <td>...</td>\n",
       "      <td>...</td>\n",
       "      <td>...</td>\n",
       "      <td>...</td>\n",
       "      <td>...</td>\n",
       "      <td>...</td>\n",
       "      <td>...</td>\n",
       "      <td>...</td>\n",
       "      <td>...</td>\n",
       "      <td>...</td>\n",
       "      <td>...</td>\n",
       "      <td>...</td>\n",
       "      <td>...</td>\n",
       "      <td>...</td>\n",
       "      <td>...</td>\n",
       "      <td>...</td>\n",
       "      <td>...</td>\n",
       "      <td>...</td>\n",
       "      <td>...</td>\n",
       "      <td>...</td>\n",
       "    </tr>\n",
       "    <tr>\n",
       "      <th>62387</th>\n",
       "      <td>York Fishergate</td>\n",
       "      <td>2021-05-03</td>\n",
       "      <td>5.900000</td>\n",
       "      <td>53.951889</td>\n",
       "      <td>-1.075861</td>\n",
       "      <td>NaN</td>\n",
       "      <td>8000.0</td>\n",
       "      <td>NaN</td>\n",
       "      <td>NaN</td>\n",
       "      <td>8000.0</td>\n",
       "      <td>...</td>\n",
       "      <td>0.000120</td>\n",
       "      <td>0.000181</td>\n",
       "      <td>0.000058</td>\n",
       "      <td>21527.920556</td>\n",
       "      <td>0.000043</td>\n",
       "      <td>0.171864</td>\n",
       "      <td>0.035553</td>\n",
       "      <td>650.434315</td>\n",
       "      <td>2271.625894</td>\n",
       "      <td>-1.472800</td>\n",
       "    </tr>\n",
       "    <tr>\n",
       "      <th>62388</th>\n",
       "      <td>York Fishergate</td>\n",
       "      <td>2021-05-04</td>\n",
       "      <td>1.000000</td>\n",
       "      <td>53.951889</td>\n",
       "      <td>-1.075861</td>\n",
       "      <td>NaN</td>\n",
       "      <td>8000.0</td>\n",
       "      <td>NaN</td>\n",
       "      <td>NaN</td>\n",
       "      <td>8000.0</td>\n",
       "      <td>...</td>\n",
       "      <td>0.000115</td>\n",
       "      <td>0.000164</td>\n",
       "      <td>0.000055</td>\n",
       "      <td>19994.449322</td>\n",
       "      <td>0.000043</td>\n",
       "      <td>0.170350</td>\n",
       "      <td>0.035032</td>\n",
       "      <td>755.791934</td>\n",
       "      <td>2406.136584</td>\n",
       "      <td>-1.220639</td>\n",
       "    </tr>\n",
       "    <tr>\n",
       "      <th>62389</th>\n",
       "      <td>York Fishergate</td>\n",
       "      <td>2021-05-05</td>\n",
       "      <td>1.000000</td>\n",
       "      <td>53.951889</td>\n",
       "      <td>-1.075861</td>\n",
       "      <td>NaN</td>\n",
       "      <td>8000.0</td>\n",
       "      <td>NaN</td>\n",
       "      <td>NaN</td>\n",
       "      <td>8000.0</td>\n",
       "      <td>...</td>\n",
       "      <td>0.000085</td>\n",
       "      <td>0.000161</td>\n",
       "      <td>0.000059</td>\n",
       "      <td>20991.549605</td>\n",
       "      <td>0.000037</td>\n",
       "      <td>0.171008</td>\n",
       "      <td>0.033779</td>\n",
       "      <td>728.122242</td>\n",
       "      <td>2306.977735</td>\n",
       "      <td>-1.825140</td>\n",
       "    </tr>\n",
       "    <tr>\n",
       "      <th>62390</th>\n",
       "      <td>York Fishergate</td>\n",
       "      <td>2021-05-06</td>\n",
       "      <td>0.956522</td>\n",
       "      <td>53.951889</td>\n",
       "      <td>-1.075861</td>\n",
       "      <td>NaN</td>\n",
       "      <td>8000.0</td>\n",
       "      <td>NaN</td>\n",
       "      <td>NaN</td>\n",
       "      <td>8000.0</td>\n",
       "      <td>...</td>\n",
       "      <td>0.000097</td>\n",
       "      <td>0.000228</td>\n",
       "      <td>0.000066</td>\n",
       "      <td>21165.726652</td>\n",
       "      <td>0.000037</td>\n",
       "      <td>0.179997</td>\n",
       "      <td>0.034395</td>\n",
       "      <td>671.980579</td>\n",
       "      <td>2617.436907</td>\n",
       "      <td>-1.265253</td>\n",
       "    </tr>\n",
       "    <tr>\n",
       "      <th>62391</th>\n",
       "      <td>York Fishergate</td>\n",
       "      <td>2021-05-07</td>\n",
       "      <td>1.000000</td>\n",
       "      <td>53.951889</td>\n",
       "      <td>-1.075861</td>\n",
       "      <td>NaN</td>\n",
       "      <td>8000.0</td>\n",
       "      <td>NaN</td>\n",
       "      <td>NaN</td>\n",
       "      <td>8000.0</td>\n",
       "      <td>...</td>\n",
       "      <td>0.000109</td>\n",
       "      <td>0.000238</td>\n",
       "      <td>0.000071</td>\n",
       "      <td>22905.289061</td>\n",
       "      <td>0.000037</td>\n",
       "      <td>0.182045</td>\n",
       "      <td>0.033867</td>\n",
       "      <td>582.901942</td>\n",
       "      <td>2542.326693</td>\n",
       "      <td>-1.168641</td>\n",
       "    </tr>\n",
       "  </tbody>\n",
       "</table>\n",
       "<p>62324 rows × 48 columns</p>\n",
       "</div>"
      ],
      "text/plain": [
       "              location        Date   PM25_x_x      Lat_x    Long_x  \\\n",
       "0             Aberdeen  2018-11-22  11.739130  57.157360 -2.094278   \n",
       "1             Aberdeen  2018-11-23   5.086957  57.157360 -2.094278   \n",
       "2             Aberdeen  2018-11-24   4.304348  57.157360 -2.094278   \n",
       "3             Aberdeen  2018-11-25   4.000000  57.157360 -2.094278   \n",
       "4             Aberdeen  2018-11-26   3.347826  57.157360 -2.094278   \n",
       "...                ...         ...        ...        ...       ...   \n",
       "62387  York Fishergate  2021-05-03   5.900000  53.951889 -1.075861   \n",
       "62388  York Fishergate  2021-05-04   1.000000  53.951889 -1.075861   \n",
       "62389  York Fishergate  2021-05-05   1.000000  53.951889 -1.075861   \n",
       "62390  York Fishergate  2021-05-06   0.956522  53.951889 -1.075861   \n",
       "62391  York Fishergate  2021-05-07   1.000000  53.951889 -1.075861   \n",
       "\n",
       "       NDVI_8000_mean  QA_8000_mean  TIMEOFDAY_8000_mean  NDVI_8000_min  \\\n",
       "0                 NaN        8000.0                  NaN            NaN   \n",
       "1                 NaN        8000.0                  NaN            NaN   \n",
       "2                 NaN        8000.0                  NaN            NaN   \n",
       "3                 NaN        8000.0                  NaN            NaN   \n",
       "4                 NaN        8000.0                  NaN            NaN   \n",
       "...               ...           ...                  ...            ...   \n",
       "62387             NaN        8000.0                  NaN            NaN   \n",
       "62388             NaN        8000.0                  NaN            NaN   \n",
       "62389             NaN        8000.0                  NaN            NaN   \n",
       "62390             NaN        8000.0                  NaN            NaN   \n",
       "62391             NaN        8000.0                  NaN            NaN   \n",
       "\n",
       "       QA_8000_min  ...  0_NO2_column_number_density  \\\n",
       "0           8000.0  ...                     0.000165   \n",
       "1           8000.0  ...                     0.000203   \n",
       "2           8000.0  ...                     0.000126   \n",
       "3           8000.0  ...                     0.000199   \n",
       "4           8000.0  ...                     0.000089   \n",
       "...            ...  ...                          ...   \n",
       "62387       8000.0  ...                     0.000120   \n",
       "62388       8000.0  ...                     0.000115   \n",
       "62389       8000.0  ...                     0.000085   \n",
       "62390       8000.0  ...                     0.000097   \n",
       "62391       8000.0  ...                     0.000109   \n",
       "\n",
       "       0_NO2_slant_column_number_density  \\\n",
       "0                               0.000393   \n",
       "1                               0.000312   \n",
       "2                               0.000241   \n",
       "3                               0.000216   \n",
       "4                               0.000211   \n",
       "...                                  ...   \n",
       "62387                           0.000181   \n",
       "62388                           0.000164   \n",
       "62389                           0.000161   \n",
       "62390                           0.000228   \n",
       "62391                           0.000238   \n",
       "\n",
       "       0_stratospheric_NO2_column_number_density  0_tropopause_pressure  \\\n",
       "0                                       0.000033           23135.584735   \n",
       "1                                       0.000029           22288.339382   \n",
       "2                                       0.000029           23801.913466   \n",
       "3                                       0.000030           22388.601553   \n",
       "4                                       0.000028           22400.809307   \n",
       "...                                          ...                    ...   \n",
       "62387                                   0.000058           21527.920556   \n",
       "62388                                   0.000055           19994.449322   \n",
       "62389                                   0.000059           20991.549605   \n",
       "62390                                   0.000066           21165.726652   \n",
       "62391                                   0.000071           22905.289061   \n",
       "\n",
       "       0_tropospheric_NO2_column_number_density  1_O3_column_number_density  \\\n",
       "0                                      0.000089                    0.151051   \n",
       "1                                      0.000097                    0.149551   \n",
       "2                                      0.000103                    0.153602   \n",
       "3                                      0.000098                    0.156868   \n",
       "4                                      0.000100                    0.156201   \n",
       "...                                         ...                         ...   \n",
       "62387                                  0.000043                    0.171864   \n",
       "62388                                  0.000043                    0.170350   \n",
       "62389                                  0.000037                    0.171008   \n",
       "62390                                  0.000037                    0.179997   \n",
       "62391                                  0.000037                    0.182045   \n",
       "\n",
       "       2_CO_column_number_density  2_H2O_column_number_density  \\\n",
       "0                        0.033404                   559.657057   \n",
       "1                        0.033906                   506.161145   \n",
       "2                        0.032734                   742.920846   \n",
       "3                        0.032375                   741.006204   \n",
       "4                        0.031339                   687.617275   \n",
       "...                           ...                          ...   \n",
       "62387                    0.035553                   650.434315   \n",
       "62388                    0.035032                   755.791934   \n",
       "62389                    0.033779                   728.122242   \n",
       "62390                    0.034395                   671.980579   \n",
       "62391                    0.033867                   582.901942   \n",
       "\n",
       "       2_cloud_height  3_absorbing_aerosol_index  \n",
       "0          244.943472                  -0.319757  \n",
       "1          424.288058                  -0.328007  \n",
       "2          451.423312                  -0.637870  \n",
       "3          578.075439                  -1.182609  \n",
       "4          276.618340                  -1.000924  \n",
       "...               ...                        ...  \n",
       "62387     2271.625894                  -1.472800  \n",
       "62388     2406.136584                  -1.220639  \n",
       "62389     2306.977735                  -1.825140  \n",
       "62390     2617.436907                  -1.265253  \n",
       "62391     2542.326693                  -1.168641  \n",
       "\n",
       "[62324 rows x 48 columns]"
      ]
     },
     "execution_count": 100,
     "metadata": {},
     "output_type": "execute_result"
    }
   ],
   "source": [
    "all_of_it"
   ]
  },
  {
   "cell_type": "code",
   "execution_count": 36,
   "id": "c852e0df",
   "metadata": {},
   "outputs": [
    {
     "ename": "KeyError",
     "evalue": "'city'",
     "output_type": "error",
     "traceback": [
      "\u001b[1;31m---------------------------------------------------------------------------\u001b[0m",
      "\u001b[1;31mKeyError\u001b[0m                                  Traceback (most recent call last)",
      "\u001b[1;32m~\\anaconda3\\lib\\site-packages\\pandas\\core\\indexes\\base.py\u001b[0m in \u001b[0;36mget_loc\u001b[1;34m(self, key, method, tolerance)\u001b[0m\n\u001b[0;32m   3360\u001b[0m             \u001b[1;32mtry\u001b[0m\u001b[1;33m:\u001b[0m\u001b[1;33m\u001b[0m\u001b[1;33m\u001b[0m\u001b[0m\n\u001b[1;32m-> 3361\u001b[1;33m                 \u001b[1;32mreturn\u001b[0m \u001b[0mself\u001b[0m\u001b[1;33m.\u001b[0m\u001b[0m_engine\u001b[0m\u001b[1;33m.\u001b[0m\u001b[0mget_loc\u001b[0m\u001b[1;33m(\u001b[0m\u001b[0mcasted_key\u001b[0m\u001b[1;33m)\u001b[0m\u001b[1;33m\u001b[0m\u001b[1;33m\u001b[0m\u001b[0m\n\u001b[0m\u001b[0;32m   3362\u001b[0m             \u001b[1;32mexcept\u001b[0m \u001b[0mKeyError\u001b[0m \u001b[1;32mas\u001b[0m \u001b[0merr\u001b[0m\u001b[1;33m:\u001b[0m\u001b[1;33m\u001b[0m\u001b[1;33m\u001b[0m\u001b[0m\n",
      "\u001b[1;32m~\\anaconda3\\lib\\site-packages\\pandas\\_libs\\index.pyx\u001b[0m in \u001b[0;36mpandas._libs.index.IndexEngine.get_loc\u001b[1;34m()\u001b[0m\n",
      "\u001b[1;32m~\\anaconda3\\lib\\site-packages\\pandas\\_libs\\index.pyx\u001b[0m in \u001b[0;36mpandas._libs.index.IndexEngine.get_loc\u001b[1;34m()\u001b[0m\n",
      "\u001b[1;32mpandas\\_libs\\hashtable_class_helper.pxi\u001b[0m in \u001b[0;36mpandas._libs.hashtable.PyObjectHashTable.get_item\u001b[1;34m()\u001b[0m\n",
      "\u001b[1;32mpandas\\_libs\\hashtable_class_helper.pxi\u001b[0m in \u001b[0;36mpandas._libs.hashtable.PyObjectHashTable.get_item\u001b[1;34m()\u001b[0m\n",
      "\u001b[1;31mKeyError\u001b[0m: 'city'",
      "\nThe above exception was the direct cause of the following exception:\n",
      "\u001b[1;31mKeyError\u001b[0m                                  Traceback (most recent call last)",
      "\u001b[1;32m~\\AppData\\Local\\Temp/ipykernel_3128/2971645483.py\u001b[0m in \u001b[0;36m<module>\u001b[1;34m\u001b[0m\n\u001b[1;32m----> 1\u001b[1;33m \u001b[0mall_of_it\u001b[0m\u001b[1;33m[\u001b[0m\u001b[1;34m'city'\u001b[0m\u001b[1;33m]\u001b[0m\u001b[1;33m\u001b[0m\u001b[1;33m\u001b[0m\u001b[0m\n\u001b[0m",
      "\u001b[1;32m~\\anaconda3\\lib\\site-packages\\pandas\\core\\frame.py\u001b[0m in \u001b[0;36m__getitem__\u001b[1;34m(self, key)\u001b[0m\n\u001b[0;32m   3456\u001b[0m             \u001b[1;32mif\u001b[0m \u001b[0mself\u001b[0m\u001b[1;33m.\u001b[0m\u001b[0mcolumns\u001b[0m\u001b[1;33m.\u001b[0m\u001b[0mnlevels\u001b[0m \u001b[1;33m>\u001b[0m \u001b[1;36m1\u001b[0m\u001b[1;33m:\u001b[0m\u001b[1;33m\u001b[0m\u001b[1;33m\u001b[0m\u001b[0m\n\u001b[0;32m   3457\u001b[0m                 \u001b[1;32mreturn\u001b[0m \u001b[0mself\u001b[0m\u001b[1;33m.\u001b[0m\u001b[0m_getitem_multilevel\u001b[0m\u001b[1;33m(\u001b[0m\u001b[0mkey\u001b[0m\u001b[1;33m)\u001b[0m\u001b[1;33m\u001b[0m\u001b[1;33m\u001b[0m\u001b[0m\n\u001b[1;32m-> 3458\u001b[1;33m             \u001b[0mindexer\u001b[0m \u001b[1;33m=\u001b[0m \u001b[0mself\u001b[0m\u001b[1;33m.\u001b[0m\u001b[0mcolumns\u001b[0m\u001b[1;33m.\u001b[0m\u001b[0mget_loc\u001b[0m\u001b[1;33m(\u001b[0m\u001b[0mkey\u001b[0m\u001b[1;33m)\u001b[0m\u001b[1;33m\u001b[0m\u001b[1;33m\u001b[0m\u001b[0m\n\u001b[0m\u001b[0;32m   3459\u001b[0m             \u001b[1;32mif\u001b[0m \u001b[0mis_integer\u001b[0m\u001b[1;33m(\u001b[0m\u001b[0mindexer\u001b[0m\u001b[1;33m)\u001b[0m\u001b[1;33m:\u001b[0m\u001b[1;33m\u001b[0m\u001b[1;33m\u001b[0m\u001b[0m\n\u001b[0;32m   3460\u001b[0m                 \u001b[0mindexer\u001b[0m \u001b[1;33m=\u001b[0m \u001b[1;33m[\u001b[0m\u001b[0mindexer\u001b[0m\u001b[1;33m]\u001b[0m\u001b[1;33m\u001b[0m\u001b[1;33m\u001b[0m\u001b[0m\n",
      "\u001b[1;32m~\\anaconda3\\lib\\site-packages\\pandas\\core\\indexes\\base.py\u001b[0m in \u001b[0;36mget_loc\u001b[1;34m(self, key, method, tolerance)\u001b[0m\n\u001b[0;32m   3361\u001b[0m                 \u001b[1;32mreturn\u001b[0m \u001b[0mself\u001b[0m\u001b[1;33m.\u001b[0m\u001b[0m_engine\u001b[0m\u001b[1;33m.\u001b[0m\u001b[0mget_loc\u001b[0m\u001b[1;33m(\u001b[0m\u001b[0mcasted_key\u001b[0m\u001b[1;33m)\u001b[0m\u001b[1;33m\u001b[0m\u001b[1;33m\u001b[0m\u001b[0m\n\u001b[0;32m   3362\u001b[0m             \u001b[1;32mexcept\u001b[0m \u001b[0mKeyError\u001b[0m \u001b[1;32mas\u001b[0m \u001b[0merr\u001b[0m\u001b[1;33m:\u001b[0m\u001b[1;33m\u001b[0m\u001b[1;33m\u001b[0m\u001b[0m\n\u001b[1;32m-> 3363\u001b[1;33m                 \u001b[1;32mraise\u001b[0m \u001b[0mKeyError\u001b[0m\u001b[1;33m(\u001b[0m\u001b[0mkey\u001b[0m\u001b[1;33m)\u001b[0m \u001b[1;32mfrom\u001b[0m \u001b[0merr\u001b[0m\u001b[1;33m\u001b[0m\u001b[1;33m\u001b[0m\u001b[0m\n\u001b[0m\u001b[0;32m   3364\u001b[0m \u001b[1;33m\u001b[0m\u001b[0m\n\u001b[0;32m   3365\u001b[0m         \u001b[1;32mif\u001b[0m \u001b[0mis_scalar\u001b[0m\u001b[1;33m(\u001b[0m\u001b[0mkey\u001b[0m\u001b[1;33m)\u001b[0m \u001b[1;32mand\u001b[0m \u001b[0misna\u001b[0m\u001b[1;33m(\u001b[0m\u001b[0mkey\u001b[0m\u001b[1;33m)\u001b[0m \u001b[1;32mand\u001b[0m \u001b[1;32mnot\u001b[0m \u001b[0mself\u001b[0m\u001b[1;33m.\u001b[0m\u001b[0mhasnans\u001b[0m\u001b[1;33m:\u001b[0m\u001b[1;33m\u001b[0m\u001b[1;33m\u001b[0m\u001b[0m\n",
      "\u001b[1;31mKeyError\u001b[0m: 'city'"
     ]
    }
   ],
   "source": []
  },
  {
   "cell_type": "code",
   "execution_count": 2,
   "id": "b3f534f0",
   "metadata": {},
   "outputs": [],
   "source": [
    "import csv\n",
    "import pandas as pd\n",
    "import numpy as np\n",
    "import matplotlib\n",
    "import matplotlib.pyplot as plt\n",
    "import seaborn as sns\n",
    "import glob\n",
    "import os\n",
    "from functools import reduce\n",
    "from sklearn import preprocessing\n",
    "from sklearn.model_selection import train_test_split\n",
    "from sklearn.model_selection import train_test_split,GridSearchCV,RandomizedSearchCV\n",
    "from sklearn.linear_model import LinearRegression,Lasso,Ridge\n",
    "from sklearn.metrics import r2_score,mean_squared_error\n",
    "from sklearn.ensemble import RandomForestRegressor,GradientBoostingRegressor\n",
    "from sklearn.tree import DecisionTreeRegressor\n",
    "from IPython.display import display\n",
    "from scipy.stats import uniform as sp_randFloat\n",
    "from scipy.stats import randint as sp_randInt \n",
    "from sklearn.model_selection import cross_val_score\n",
    "from sklearn.pipeline import Pipeline\n",
    "from sklearn.preprocessing import StandardScaler\n",
    "from xgboost import XGBRegressor\n",
    "from lightgbm import LGBMRegressor\n",
    "import datetime"
   ]
  },
  {
   "cell_type": "code",
   "execution_count": 65,
   "id": "b84c6a22",
   "metadata": {},
   "outputs": [],
   "source": [
    "all_of_it = all_of_it[all_of_it['PM25_x_x'] > 0]"
   ]
  },
  {
   "cell_type": "code",
   "execution_count": 66,
   "id": "4688051a",
   "metadata": {},
   "outputs": [],
   "source": [
    "all_of_it_2 = all_of_it.drop([\n",
    "       'TIMEOFDAY_8000_mean','QA_8000_min',\n",
    "       'TIMEOFDAY_8000_min', 'NDVI_8000_max', 'QA_8000_max',\n",
    "       'TIMEOFDAY_8000_max', 'QA_8000_min',\n",
    "       'TIMEOFDAY_8000_min', 'NDVI_8000_max', 'QA_8000_max',\n",
    "       'TIMEOFDAY_8000_max', 'elevation_2000_min', 'elevation_2000_max','NDVI_8000_min', 'avg_vis_min', 'cf_cvg_min', \n",
    "    'avg_vis_max', 'cf_cvg_max','pop_density2010_min', 'pop_density2010_max', 'Lat_x', 'Long_x','Lat_y.1', 'Long_y.1',\n",
    "'Lat_x.1', 'Long_x.1'], axis = 1)"
   ]
  },
  {
   "cell_type": "code",
   "execution_count": 68,
   "id": "5adc1109",
   "metadata": {},
   "outputs": [
    {
     "data": {
      "text/plain": [
       "Index(['location', 'Date', 'PM25_x_x', 'NDVI_8000_mean', 'QA_8000_mean',\n",
       "       'elevation_2000_mean', 'Lat_y', 'Long_y', 'avg_vis_mean', 'cf_cvg_mean',\n",
       "       'pop_density2010_mean', 'precipitable_water_entire_atmosphere',\n",
       "       'relative_humidity_2m_above_ground',\n",
       "       'specific_humidity_2m_above_ground', 'temperature_2m_above_ground',\n",
       "       'u_component_of_wind_10m_above_ground',\n",
       "       'v_component_of_wind_10m_above_ground', '0_NO2_column_number_density',\n",
       "       '0_NO2_slant_column_number_density',\n",
       "       '0_stratospheric_NO2_column_number_density', '0_tropopause_pressure',\n",
       "       '0_tropospheric_NO2_column_number_density',\n",
       "       '1_O3_column_number_density', '2_CO_column_number_density',\n",
       "       '2_H2O_column_number_density', '2_cloud_height',\n",
       "       '3_absorbing_aerosol_index'],\n",
       "      dtype='object')"
      ]
     },
     "execution_count": 68,
     "metadata": {},
     "output_type": "execute_result"
    }
   ],
   "source": [
    "all_of_it_2.columns"
   ]
  },
  {
   "cell_type": "code",
   "execution_count": 69,
   "id": "d8777178",
   "metadata": {},
   "outputs": [],
   "source": [
    "all_of_it_2.to_csv('all_of_it_2.csv')"
   ]
  },
  {
   "cell_type": "code",
   "execution_count": 3,
   "id": "ee1cd14e",
   "metadata": {},
   "outputs": [],
   "source": [
    "all_of_it_2 = pd.read_csv('all_of_it_2.csv')"
   ]
  },
  {
   "cell_type": "code",
   "execution_count": 4,
   "id": "c9de2135",
   "metadata": {},
   "outputs": [],
   "source": [
    "#remove outliers based on the PM2.5 values (less than z-score = 3) # within 3 standard deviations from the mean\n",
    "from scipy import stats\n",
    "all_of_it_2 = all_of_it_2[(np.abs(stats.zscore(all_of_it_2['PM25_x_x'])) < 3)]"
   ]
  },
  {
   "cell_type": "code",
   "execution_count": 5,
   "id": "9c133484",
   "metadata": {},
   "outputs": [
    {
     "data": {
      "text/plain": [
       "<AxesSubplot:xlabel='Lat_y', ylabel='PM25_x_x'>"
      ]
     },
     "execution_count": 5,
     "metadata": {},
     "output_type": "execute_result"
    },
    {
     "data": {
      "image/png": "[encoded data removed]",
      "text/plain": [
       "<Figure size 2880x1440 with 1 Axes>"
      ]
     },
     "metadata": {
      "needs_background": "light"
     },
     "output_type": "display_data"
    }
   ],
   "source": [
    "plt. figure(figsize=(40,20))\n",
    "sns.boxplot(x=\"Lat_y\", y=\"PM25_x_x\", data=all_of_it_2)"
   ]
  },
  {
   "cell_type": "code",
   "execution_count": 6,
   "id": "2061c9c1",
   "metadata": {},
   "outputs": [
    {
     "ename": "ValueError",
     "evalue": "Could not interpret input 'Lat'",
     "output_type": "error",
     "traceback": [
      "\u001b[1;31m---------------------------------------------------------------------------\u001b[0m",
      "\u001b[1;31mValueError\u001b[0m                                Traceback (most recent call last)",
      "\u001b[1;32m~\\AppData\\Local\\Temp/ipykernel_692/2368339934.py\u001b[0m in \u001b[0;36m<module>\u001b[1;34m\u001b[0m\n\u001b[0;32m      1\u001b[0m \u001b[0mplt\u001b[0m\u001b[1;33m.\u001b[0m \u001b[0mfigure\u001b[0m\u001b[1;33m(\u001b[0m\u001b[0mfigsize\u001b[0m\u001b[1;33m=\u001b[0m\u001b[1;33m(\u001b[0m\u001b[1;36m10\u001b[0m\u001b[1;33m,\u001b[0m\u001b[1;36m5\u001b[0m\u001b[1;33m)\u001b[0m\u001b[1;33m)\u001b[0m\u001b[1;33m\u001b[0m\u001b[1;33m\u001b[0m\u001b[0m\n\u001b[1;32m----> 2\u001b[1;33m \u001b[0msns\u001b[0m\u001b[1;33m.\u001b[0m\u001b[0mboxplot\u001b[0m\u001b[1;33m(\u001b[0m\u001b[0mx\u001b[0m\u001b[1;33m=\u001b[0m\u001b[1;34m\"Lat\"\u001b[0m\u001b[1;33m,\u001b[0m \u001b[0my\u001b[0m\u001b[1;33m=\u001b[0m\u001b[1;34m\"0_NO2_column_number_density\"\u001b[0m\u001b[1;33m,\u001b[0m \u001b[0mdata\u001b[0m\u001b[1;33m=\u001b[0m\u001b[0mall_of_it_2\u001b[0m\u001b[1;33m)\u001b[0m\u001b[1;33m\u001b[0m\u001b[1;33m\u001b[0m\u001b[0m\n\u001b[0m",
      "\u001b[1;32m~\\anaconda3\\lib\\site-packages\\seaborn\\_decorators.py\u001b[0m in \u001b[0;36minner_f\u001b[1;34m(*args, **kwargs)\u001b[0m\n\u001b[0;32m     44\u001b[0m             )\n\u001b[0;32m     45\u001b[0m         \u001b[0mkwargs\u001b[0m\u001b[1;33m.\u001b[0m\u001b[0mupdate\u001b[0m\u001b[1;33m(\u001b[0m\u001b[1;33m{\u001b[0m\u001b[0mk\u001b[0m\u001b[1;33m:\u001b[0m \u001b[0marg\u001b[0m \u001b[1;32mfor\u001b[0m \u001b[0mk\u001b[0m\u001b[1;33m,\u001b[0m \u001b[0marg\u001b[0m \u001b[1;32min\u001b[0m \u001b[0mzip\u001b[0m\u001b[1;33m(\u001b[0m\u001b[0msig\u001b[0m\u001b[1;33m.\u001b[0m\u001b[0mparameters\u001b[0m\u001b[1;33m,\u001b[0m \u001b[0margs\u001b[0m\u001b[1;33m)\u001b[0m\u001b[1;33m}\u001b[0m\u001b[1;33m)\u001b[0m\u001b[1;33m\u001b[0m\u001b[1;33m\u001b[0m\u001b[0m\n\u001b[1;32m---> 46\u001b[1;33m         \u001b[1;32mreturn\u001b[0m \u001b[0mf\u001b[0m\u001b[1;33m(\u001b[0m\u001b[1;33m**\u001b[0m\u001b[0mkwargs\u001b[0m\u001b[1;33m)\u001b[0m\u001b[1;33m\u001b[0m\u001b[1;33m\u001b[0m\u001b[0m\n\u001b[0m\u001b[0;32m     47\u001b[0m     \u001b[1;32mreturn\u001b[0m \u001b[0minner_f\u001b[0m\u001b[1;33m\u001b[0m\u001b[1;33m\u001b[0m\u001b[0m\n\u001b[0;32m     48\u001b[0m \u001b[1;33m\u001b[0m\u001b[0m\n",
      "\u001b[1;32m~\\anaconda3\\lib\\site-packages\\seaborn\\categorical.py\u001b[0m in \u001b[0;36mboxplot\u001b[1;34m(x, y, hue, data, order, hue_order, orient, color, palette, saturation, width, dodge, fliersize, linewidth, whis, ax, **kwargs)\u001b[0m\n\u001b[0;32m   2241\u001b[0m ):\n\u001b[0;32m   2242\u001b[0m \u001b[1;33m\u001b[0m\u001b[0m\n\u001b[1;32m-> 2243\u001b[1;33m     plotter = _BoxPlotter(x, y, hue, data, order, hue_order,\n\u001b[0m\u001b[0;32m   2244\u001b[0m                           \u001b[0morient\u001b[0m\u001b[1;33m,\u001b[0m \u001b[0mcolor\u001b[0m\u001b[1;33m,\u001b[0m \u001b[0mpalette\u001b[0m\u001b[1;33m,\u001b[0m \u001b[0msaturation\u001b[0m\u001b[1;33m,\u001b[0m\u001b[1;33m\u001b[0m\u001b[1;33m\u001b[0m\u001b[0m\n\u001b[0;32m   2245\u001b[0m                           width, dodge, fliersize, linewidth)\n",
      "\u001b[1;32m~\\anaconda3\\lib\\site-packages\\seaborn\\categorical.py\u001b[0m in \u001b[0;36m__init__\u001b[1;34m(self, x, y, hue, data, order, hue_order, orient, color, palette, saturation, width, dodge, fliersize, linewidth)\u001b[0m\n\u001b[0;32m    404\u001b[0m                  width, dodge, fliersize, linewidth):\n\u001b[0;32m    405\u001b[0m \u001b[1;33m\u001b[0m\u001b[0m\n\u001b[1;32m--> 406\u001b[1;33m         \u001b[0mself\u001b[0m\u001b[1;33m.\u001b[0m\u001b[0mestablish_variables\u001b[0m\u001b[1;33m(\u001b[0m\u001b[0mx\u001b[0m\u001b[1;33m,\u001b[0m \u001b[0my\u001b[0m\u001b[1;33m,\u001b[0m \u001b[0mhue\u001b[0m\u001b[1;33m,\u001b[0m \u001b[0mdata\u001b[0m\u001b[1;33m,\u001b[0m \u001b[0morient\u001b[0m\u001b[1;33m,\u001b[0m \u001b[0morder\u001b[0m\u001b[1;33m,\u001b[0m \u001b[0mhue_order\u001b[0m\u001b[1;33m)\u001b[0m\u001b[1;33m\u001b[0m\u001b[1;33m\u001b[0m\u001b[0m\n\u001b[0m\u001b[0;32m    407\u001b[0m         \u001b[0mself\u001b[0m\u001b[1;33m.\u001b[0m\u001b[0mestablish_colors\u001b[0m\u001b[1;33m(\u001b[0m\u001b[0mcolor\u001b[0m\u001b[1;33m,\u001b[0m \u001b[0mpalette\u001b[0m\u001b[1;33m,\u001b[0m \u001b[0msaturation\u001b[0m\u001b[1;33m)\u001b[0m\u001b[1;33m\u001b[0m\u001b[1;33m\u001b[0m\u001b[0m\n\u001b[0;32m    408\u001b[0m \u001b[1;33m\u001b[0m\u001b[0m\n",
      "\u001b[1;32m~\\anaconda3\\lib\\site-packages\\seaborn\\categorical.py\u001b[0m in \u001b[0;36mestablish_variables\u001b[1;34m(self, x, y, hue, data, orient, order, hue_order, units)\u001b[0m\n\u001b[0;32m    151\u001b[0m                 \u001b[1;32mif\u001b[0m \u001b[0misinstance\u001b[0m\u001b[1;33m(\u001b[0m\u001b[0mvar\u001b[0m\u001b[1;33m,\u001b[0m \u001b[0mstr\u001b[0m\u001b[1;33m)\u001b[0m\u001b[1;33m:\u001b[0m\u001b[1;33m\u001b[0m\u001b[1;33m\u001b[0m\u001b[0m\n\u001b[0;32m    152\u001b[0m                     \u001b[0merr\u001b[0m \u001b[1;33m=\u001b[0m \u001b[1;34m\"Could not interpret input '{}'\"\u001b[0m\u001b[1;33m.\u001b[0m\u001b[0mformat\u001b[0m\u001b[1;33m(\u001b[0m\u001b[0mvar\u001b[0m\u001b[1;33m)\u001b[0m\u001b[1;33m\u001b[0m\u001b[1;33m\u001b[0m\u001b[0m\n\u001b[1;32m--> 153\u001b[1;33m                     \u001b[1;32mraise\u001b[0m \u001b[0mValueError\u001b[0m\u001b[1;33m(\u001b[0m\u001b[0merr\u001b[0m\u001b[1;33m)\u001b[0m\u001b[1;33m\u001b[0m\u001b[1;33m\u001b[0m\u001b[0m\n\u001b[0m\u001b[0;32m    154\u001b[0m \u001b[1;33m\u001b[0m\u001b[0m\n\u001b[0;32m    155\u001b[0m             \u001b[1;31m# Figure out the plotting orientation\u001b[0m\u001b[1;33m\u001b[0m\u001b[1;33m\u001b[0m\u001b[0m\n",
      "\u001b[1;31mValueError\u001b[0m: Could not interpret input 'Lat'"
     ]
    },
    {
     "data": {
      "text/plain": [
       "<Figure size 720x360 with 0 Axes>"
      ]
     },
     "metadata": {},
     "output_type": "display_data"
    }
   ],
   "source": [
    "plt. figure(figsize=(10,5))\n",
    "# sns.boxplot(x=\"Lat\", y=\"0_NO2_column_number_density\", data=all_of_it_2)"
   ]
  },
  {
   "cell_type": "code",
   "execution_count": 7,
   "id": "78e83100",
   "metadata": {},
   "outputs": [],
   "source": [
    "#remove outliers\n",
    "all_of_it_2 = all_of_it_2[all_of_it_2['0_NO2_column_number_density'] > 0.0]"
   ]
  },
  {
   "cell_type": "code",
   "execution_count": 8,
   "id": "0b098187",
   "metadata": {},
   "outputs": [
    {
     "ename": "ValueError",
     "evalue": "Could not interpret input 'Lat'",
     "output_type": "error",
     "traceback": [
      "\u001b[1;31m---------------------------------------------------------------------------\u001b[0m",
      "\u001b[1;31mValueError\u001b[0m                                Traceback (most recent call last)",
      "\u001b[1;32m~\\AppData\\Local\\Temp/ipykernel_692/326519164.py\u001b[0m in \u001b[0;36m<module>\u001b[1;34m\u001b[0m\n\u001b[0;32m      1\u001b[0m \u001b[0mplt\u001b[0m\u001b[1;33m.\u001b[0m \u001b[0mfigure\u001b[0m\u001b[1;33m(\u001b[0m\u001b[0mfigsize\u001b[0m\u001b[1;33m=\u001b[0m\u001b[1;33m(\u001b[0m\u001b[1;36m10\u001b[0m\u001b[1;33m,\u001b[0m\u001b[1;36m5\u001b[0m\u001b[1;33m)\u001b[0m\u001b[1;33m)\u001b[0m\u001b[1;33m\u001b[0m\u001b[1;33m\u001b[0m\u001b[0m\n\u001b[1;32m----> 2\u001b[1;33m \u001b[0msns\u001b[0m\u001b[1;33m.\u001b[0m\u001b[0mboxplot\u001b[0m\u001b[1;33m(\u001b[0m\u001b[0mx\u001b[0m\u001b[1;33m=\u001b[0m\u001b[1;34m\"Lat\"\u001b[0m\u001b[1;33m,\u001b[0m \u001b[0my\u001b[0m\u001b[1;33m=\u001b[0m\u001b[1;34m'0_tropospheric_NO2_column_number_density'\u001b[0m\u001b[1;33m,\u001b[0m \u001b[0mdata\u001b[0m\u001b[1;33m=\u001b[0m\u001b[0mall_of_it_2\u001b[0m\u001b[1;33m)\u001b[0m\u001b[1;33m\u001b[0m\u001b[1;33m\u001b[0m\u001b[0m\n\u001b[0m",
      "\u001b[1;32m~\\anaconda3\\lib\\site-packages\\seaborn\\_decorators.py\u001b[0m in \u001b[0;36minner_f\u001b[1;34m(*args, **kwargs)\u001b[0m\n\u001b[0;32m     44\u001b[0m             )\n\u001b[0;32m     45\u001b[0m         \u001b[0mkwargs\u001b[0m\u001b[1;33m.\u001b[0m\u001b[0mupdate\u001b[0m\u001b[1;33m(\u001b[0m\u001b[1;33m{\u001b[0m\u001b[0mk\u001b[0m\u001b[1;33m:\u001b[0m \u001b[0marg\u001b[0m \u001b[1;32mfor\u001b[0m \u001b[0mk\u001b[0m\u001b[1;33m,\u001b[0m \u001b[0marg\u001b[0m \u001b[1;32min\u001b[0m \u001b[0mzip\u001b[0m\u001b[1;33m(\u001b[0m\u001b[0msig\u001b[0m\u001b[1;33m.\u001b[0m\u001b[0mparameters\u001b[0m\u001b[1;33m,\u001b[0m \u001b[0margs\u001b[0m\u001b[1;33m)\u001b[0m\u001b[1;33m}\u001b[0m\u001b[1;33m)\u001b[0m\u001b[1;33m\u001b[0m\u001b[1;33m\u001b[0m\u001b[0m\n\u001b[1;32m---> 46\u001b[1;33m         \u001b[1;32mreturn\u001b[0m \u001b[0mf\u001b[0m\u001b[1;33m(\u001b[0m\u001b[1;33m**\u001b[0m\u001b[0mkwargs\u001b[0m\u001b[1;33m)\u001b[0m\u001b[1;33m\u001b[0m\u001b[1;33m\u001b[0m\u001b[0m\n\u001b[0m\u001b[0;32m     47\u001b[0m     \u001b[1;32mreturn\u001b[0m \u001b[0minner_f\u001b[0m\u001b[1;33m\u001b[0m\u001b[1;33m\u001b[0m\u001b[0m\n\u001b[0;32m     48\u001b[0m \u001b[1;33m\u001b[0m\u001b[0m\n",
      "\u001b[1;32m~\\anaconda3\\lib\\site-packages\\seaborn\\categorical.py\u001b[0m in \u001b[0;36mboxplot\u001b[1;34m(x, y, hue, data, order, hue_order, orient, color, palette, saturation, width, dodge, fliersize, linewidth, whis, ax, **kwargs)\u001b[0m\n\u001b[0;32m   2241\u001b[0m ):\n\u001b[0;32m   2242\u001b[0m \u001b[1;33m\u001b[0m\u001b[0m\n\u001b[1;32m-> 2243\u001b[1;33m     plotter = _BoxPlotter(x, y, hue, data, order, hue_order,\n\u001b[0m\u001b[0;32m   2244\u001b[0m                           \u001b[0morient\u001b[0m\u001b[1;33m,\u001b[0m \u001b[0mcolor\u001b[0m\u001b[1;33m,\u001b[0m \u001b[0mpalette\u001b[0m\u001b[1;33m,\u001b[0m \u001b[0msaturation\u001b[0m\u001b[1;33m,\u001b[0m\u001b[1;33m\u001b[0m\u001b[1;33m\u001b[0m\u001b[0m\n\u001b[0;32m   2245\u001b[0m                           width, dodge, fliersize, linewidth)\n",
      "\u001b[1;32m~\\anaconda3\\lib\\site-packages\\seaborn\\categorical.py\u001b[0m in \u001b[0;36m__init__\u001b[1;34m(self, x, y, hue, data, order, hue_order, orient, color, palette, saturation, width, dodge, fliersize, linewidth)\u001b[0m\n\u001b[0;32m    404\u001b[0m                  width, dodge, fliersize, linewidth):\n\u001b[0;32m    405\u001b[0m \u001b[1;33m\u001b[0m\u001b[0m\n\u001b[1;32m--> 406\u001b[1;33m         \u001b[0mself\u001b[0m\u001b[1;33m.\u001b[0m\u001b[0mestablish_variables\u001b[0m\u001b[1;33m(\u001b[0m\u001b[0mx\u001b[0m\u001b[1;33m,\u001b[0m \u001b[0my\u001b[0m\u001b[1;33m,\u001b[0m \u001b[0mhue\u001b[0m\u001b[1;33m,\u001b[0m \u001b[0mdata\u001b[0m\u001b[1;33m,\u001b[0m \u001b[0morient\u001b[0m\u001b[1;33m,\u001b[0m \u001b[0morder\u001b[0m\u001b[1;33m,\u001b[0m \u001b[0mhue_order\u001b[0m\u001b[1;33m)\u001b[0m\u001b[1;33m\u001b[0m\u001b[1;33m\u001b[0m\u001b[0m\n\u001b[0m\u001b[0;32m    407\u001b[0m         \u001b[0mself\u001b[0m\u001b[1;33m.\u001b[0m\u001b[0mestablish_colors\u001b[0m\u001b[1;33m(\u001b[0m\u001b[0mcolor\u001b[0m\u001b[1;33m,\u001b[0m \u001b[0mpalette\u001b[0m\u001b[1;33m,\u001b[0m \u001b[0msaturation\u001b[0m\u001b[1;33m)\u001b[0m\u001b[1;33m\u001b[0m\u001b[1;33m\u001b[0m\u001b[0m\n\u001b[0;32m    408\u001b[0m \u001b[1;33m\u001b[0m\u001b[0m\n",
      "\u001b[1;32m~\\anaconda3\\lib\\site-packages\\seaborn\\categorical.py\u001b[0m in \u001b[0;36mestablish_variables\u001b[1;34m(self, x, y, hue, data, orient, order, hue_order, units)\u001b[0m\n\u001b[0;32m    151\u001b[0m                 \u001b[1;32mif\u001b[0m \u001b[0misinstance\u001b[0m\u001b[1;33m(\u001b[0m\u001b[0mvar\u001b[0m\u001b[1;33m,\u001b[0m \u001b[0mstr\u001b[0m\u001b[1;33m)\u001b[0m\u001b[1;33m:\u001b[0m\u001b[1;33m\u001b[0m\u001b[1;33m\u001b[0m\u001b[0m\n\u001b[0;32m    152\u001b[0m                     \u001b[0merr\u001b[0m \u001b[1;33m=\u001b[0m \u001b[1;34m\"Could not interpret input '{}'\"\u001b[0m\u001b[1;33m.\u001b[0m\u001b[0mformat\u001b[0m\u001b[1;33m(\u001b[0m\u001b[0mvar\u001b[0m\u001b[1;33m)\u001b[0m\u001b[1;33m\u001b[0m\u001b[1;33m\u001b[0m\u001b[0m\n\u001b[1;32m--> 153\u001b[1;33m                     \u001b[1;32mraise\u001b[0m \u001b[0mValueError\u001b[0m\u001b[1;33m(\u001b[0m\u001b[0merr\u001b[0m\u001b[1;33m)\u001b[0m\u001b[1;33m\u001b[0m\u001b[1;33m\u001b[0m\u001b[0m\n\u001b[0m\u001b[0;32m    154\u001b[0m \u001b[1;33m\u001b[0m\u001b[0m\n\u001b[0;32m    155\u001b[0m             \u001b[1;31m# Figure out the plotting orientation\u001b[0m\u001b[1;33m\u001b[0m\u001b[1;33m\u001b[0m\u001b[0m\n",
      "\u001b[1;31mValueError\u001b[0m: Could not interpret input 'Lat'"
     ]
    },
    {
     "data": {
      "text/plain": [
       "<Figure size 720x360 with 0 Axes>"
      ]
     },
     "metadata": {},
     "output_type": "display_data"
    }
   ],
   "source": [
    "plt. figure(figsize=(10,5))\n",
    "sns.boxplot(x=\"Lat\", y='0_tropospheric_NO2_column_number_density', data=all_of_it_2)"
   ]
  },
  {
   "cell_type": "code",
   "execution_count": 102,
   "id": "a8be3404",
   "metadata": {},
   "outputs": [],
   "source": [
    "#remove outliers\n",
    "all_of_it_2 = all_of_it_2[all_of_it_2['0_tropospheric_NO2_column_number_density'] < 0.000175]"
   ]
  },
  {
   "cell_type": "code",
   "execution_count": 104,
   "id": "b1252320",
   "metadata": {},
   "outputs": [
    {
     "data": {
      "text/plain": [
       "<AxesSubplot:xlabel='Lat', ylabel='0_stratospheric_NO2_column_number_density'>"
      ]
     },
     "execution_count": 104,
     "metadata": {},
     "output_type": "execute_result"
    },
    {
     "data": {
      "image/png": "[encoded data removed]",
      "text/plain": [
       "<Figure size 720x360 with 1 Axes>"
      ]
     },
     "metadata": {
      "needs_background": "light"
     },
     "output_type": "display_data"
    }
   ],
   "source": [
    "plt. figure(figsize=(10,5))\n",
    "sns.boxplot(x=\"Lat\", y='0_stratospheric_NO2_column_number_density', data=all_of_it_2)"
   ]
  },
  {
   "cell_type": "code",
   "execution_count": 72,
   "id": "84afb69d",
   "metadata": {},
   "outputs": [],
   "source": [
    "all_of_it_3 = all_of_it_2.drop(['Lat_y', 'Long_y','pop_density2010_mean'], axis = 1)"
   ]
  },
  {
   "cell_type": "code",
   "execution_count": 77,
   "id": "39453942",
   "metadata": {},
   "outputs": [
    {
     "data": {
      "text/plain": [
       "(61064, 24)"
      ]
     },
     "execution_count": 77,
     "metadata": {},
     "output_type": "execute_result"
    }
   ],
   "source": [
    "all_of_it_3.shape"
   ]
  },
  {
   "cell_type": "code",
   "execution_count": 74,
   "id": "1aad0dfa",
   "metadata": {},
   "outputs": [],
   "source": [
    "all_of_it_3 = all_of_it_3.rename(columns={'NDVI_8000_mean': 'NDVI', 'QA_8000_mean': 'QA', 'elevation_2000_mean': 'Elev',\n",
    "       'avg_vis_mean': 'Avg Vis', 'cf_cvg_mean': 'CF', 'precipitable_water_entire_atmosphere': 'Precipitable Water',\n",
    "       'relative_humidity_2m_above_ground': 'RH',\n",
    "       'specific_humidity_2m_above_ground': 'SH', 'temperature_2m_above_ground': 'Temp',\n",
    "       'u_component_of_wind_10m_above_ground': ' U Velocity',\n",
    "       'v_component_of_wind_10m_above_ground': 'V Velocity', '0_NO2_column_number_density': ' NO2_column',\n",
    "       '0_NO2_slant_column_number_density': 'NO2_slant',\n",
    "       '0_stratospheric_NO2_column_number_density': 'NO2_strat', '0_tropopause_pressure': 'Pressure',\n",
    "       '0_tropospheric_NO2_column_number_density': 'NO2_trop',\n",
    "       '1_O3_column_number_density': 'O3', '2_CO_column_number_density': 'CO',\n",
    "       '2_H2O_column_number_density': 'H2O', '2_cloud_height': 'Cloud_height',\n",
    "       '3_absorbing_aerosol_index': 'Aerosol', 'PM25_x_x':'PM25'})"
   ]
  },
  {
   "cell_type": "code",
   "execution_count": 81,
   "id": "d35a558c",
   "metadata": {},
   "outputs": [
    {
     "data": {
      "image/png": "[encoded data removed]",
      "text/plain": [
       "<Figure size 1080x720 with 2 Axes>"
      ]
     },
     "metadata": {
      "needs_background": "light"
     },
     "output_type": "display_data"
    }
   ],
   "source": [
    "#create a correlation matrix\n",
    "\n",
    "corr = all_of_it_4.corr()\n",
    "#mask = np.triu(np.ones_like(corr, dtype=bool))\n",
    "\n",
    "# Set up the matplotlib figure\n",
    "f, ax = plt.subplots(figsize=(15, 10))\n",
    "\n",
    "# Generate a custom diverging colormap\n",
    "cmap = sns.diverging_palette(230, 20, as_cmap=True)\n",
    "\n",
    "# Draw the heatmap with the mask and correct aspect ratio\n",
    "sns.heatmap(corr, cmap = cmap, vmax=.3, center=0,\n",
    "            square=True, linewidths=.5, cbar_kws={\"shrink\": .5}, annot = True)\n",
    "plt.title('Correlation Matrix of Features');\n",
    "plt.savefig('Correlation Matrix of Features.png',bbox_inches = 'tight')\n",
    "\n",
    "#annot=True"
   ]
  },
  {
   "cell_type": "code",
   "execution_count": 80,
   "id": "5090d5a2",
   "metadata": {},
   "outputs": [],
   "source": [
    "all_of_it_4 = all_of_it_3.drop(['Precipitable Water', 'H2O', 'SH'], axis = 1)"
   ]
  },
  {
   "cell_type": "code",
   "execution_count": 83,
   "id": "ea542fe1",
   "metadata": {},
   "outputs": [
    {
     "data": {
      "text/plain": [
       "Index(['location', 'Date', 'PM25', 'NDVI', 'QA', 'Elev', 'Avg Vis', 'CF', 'RH',\n",
       "       'Temp', ' U Velocity', 'V Velocity', ' NO2_column', 'NO2_slant',\n",
       "       'NO2_strat', 'Pressure', 'NO2_trop', 'O3', 'CO', 'Cloud_height',\n",
       "       'Aerosol'],\n",
       "      dtype='object')"
      ]
     },
     "execution_count": 83,
     "metadata": {},
     "output_type": "execute_result"
    }
   ],
   "source": [
    "all_of_it_5 = all_of_it_4.copy().dropna()\n",
    "all_of_it_5.columns"
   ]
  },
  {
   "cell_type": "code",
   "execution_count": 84,
   "id": "b59c2b8f",
   "metadata": {},
   "outputs": [],
   "source": [
    "frame = all_of_it_5.copy()"
   ]
  },
  {
   "cell_type": "code",
   "execution_count": 86,
   "id": "71862c3e",
   "metadata": {},
   "outputs": [],
   "source": [
    "y = frame.pop('PM25').to_frame()\n",
    "X = frame.drop(['location', 'Date'], axis = 1)"
   ]
  },
  {
   "cell_type": "code",
   "execution_count": 87,
   "id": "40256a8c",
   "metadata": {},
   "outputs": [],
   "source": [
    "X_train, X_test, y_train, y_test = train_test_split(X, y, test_size=0.2, random_state = 42)"
   ]
  },
  {
   "cell_type": "code",
   "execution_count": 88,
   "id": "11db7552",
   "metadata": {},
   "outputs": [
    {
     "data": {
      "text/plain": [
       "(32503, 18)"
      ]
     },
     "execution_count": 88,
     "metadata": {},
     "output_type": "execute_result"
    }
   ],
   "source": [
    "X_train.shape"
   ]
  },
  {
   "cell_type": "code",
   "execution_count": 89,
   "id": "182cf792",
   "metadata": {},
   "outputs": [
    {
     "data": {
      "text/plain": [
       "(8126, 18)"
      ]
     },
     "execution_count": 89,
     "metadata": {},
     "output_type": "execute_result"
    }
   ],
   "source": [
    "X_test.shape"
   ]
  },
  {
   "cell_type": "code",
   "execution_count": 90,
   "id": "63e5c97d",
   "metadata": {},
   "outputs": [
    {
     "name": "stderr",
     "output_type": "stream",
     "text": [
      "C:\\Users\\Zenudeen\\AppData\\Local\\Temp/ipykernel_3888/2721239124.py:2: DataConversionWarning: A column-vector y was passed when a 1d array was expected. Please change the shape of y to (n_samples,), for example using ravel().\n",
      "  rf.fit(X_train, y_train)\n"
     ]
    },
    {
     "data": {
      "text/plain": [
       "RandomForestRegressor(random_state=42)"
      ]
     },
     "execution_count": 90,
     "metadata": {},
     "output_type": "execute_result"
    }
   ],
   "source": [
    "rf = RandomForestRegressor(n_estimators = 100, random_state= 42)\n",
    "rf.fit(X_train, y_train)"
   ]
  },
  {
   "cell_type": "code",
   "execution_count": 91,
   "id": "9f5c4206",
   "metadata": {},
   "outputs": [],
   "source": [
    "rf_pred = rf.predict(X_test)"
   ]
  },
  {
   "cell_type": "code",
   "execution_count": 92,
   "id": "9594aee3",
   "metadata": {},
   "outputs": [
    {
     "data": {
      "text/plain": [
       "9.416379200631367"
      ]
     },
     "execution_count": 92,
     "metadata": {},
     "output_type": "execute_result"
    }
   ],
   "source": [
    "mse = mean_squared_error(y_test, rf_pred)\n",
    "mse"
   ]
  },
  {
   "cell_type": "code",
   "execution_count": 93,
   "id": "9a276296",
   "metadata": {},
   "outputs": [
    {
     "data": {
      "text/plain": [
       "3.0686119338605473"
      ]
     },
     "execution_count": 93,
     "metadata": {},
     "output_type": "execute_result"
    }
   ],
   "source": [
    "rmse = mse**(1/2)\n",
    "rmse"
   ]
  },
  {
   "cell_type": "code",
   "execution_count": 94,
   "id": "2b314220",
   "metadata": {},
   "outputs": [
    {
     "name": "stdout",
     "output_type": "stream",
     "text": [
      "Score on train data: 0.9531231632743086\n",
      "\n",
      "Best parameters found:\n"
     ]
    }
   ],
   "source": [
    "print('Score on train data: {}\\n'.format(rf.score(X_train, y_train.values.ravel())))\n",
    "print('Best parameters found:')"
   ]
  },
  {
   "cell_type": "code",
   "execution_count": 95,
   "id": "73918547",
   "metadata": {},
   "outputs": [
    {
     "data": {
      "image/png": "[encoded data removed]",
      "text/plain": [
       "<Figure size 432x288 with 1 Axes>"
      ]
     },
     "metadata": {
      "needs_background": "light"
     },
     "output_type": "display_data"
    }
   ],
   "source": [
    "# plot lines\n",
    "plt.scatter(rf_pred, y_test, label = \"Prediction\", alpha = 0.2)\n",
    "plt.scatter(y_test, y_test, label = \"y_test\")\n",
    "plt.legend()\n",
    "plt.show()"
   ]
  }
 ],
 "metadata": {
  "kernelspec": {
   "display_name": "Python 3 (ipykernel)",
   "language": "python",
   "name": "python3"
  },
  "language_info": {
   "codemirror_mode": {
    "name": "ipython",
    "version": 3
   },
   "file_extension": ".py",
   "mimetype": "text/x-python",
   "name": "python",
   "nbconvert_exporter": "python",
   "pygments_lexer": "ipython3",
   "version": "3.9.7"
  }
 },
 "nbformat": 4,
 "nbformat_minor": 5
}
